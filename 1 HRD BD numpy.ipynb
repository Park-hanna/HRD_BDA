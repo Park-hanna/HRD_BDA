{
 "cells": [
  {
   "cell_type": "code",
   "execution_count": 1,
   "id": "8dcf41f5",
   "metadata": {},
   "outputs": [
    {
     "name": "stdout",
     "output_type": "stream",
     "text": [
      "Requirement already satisfied: numpy in c:\\users\\parkhanna\\anaconda3\\lib\\site-packages (1.23.5)\n"
     ]
    },
    {
     "name": "stderr",
     "output_type": "stream",
     "text": [
      "Error processing line 3 of C:\\Users\\ParkHanna\\anaconda3\\lib\\site-packages\\googleapis_common_protos-1.56.4-py3.10-nspkg.pth:\n",
      "\n",
      "  Traceback (most recent call last):\n",
      "    File \"C:\\Users\\ParkHanna\\anaconda3\\lib\\site.py\", line 169, in addpackage\n",
      "      exec(line)\n",
      "    File \"<string>\", line 1, in <module>\n",
      "    File \"<frozen importlib._bootstrap>\", line 562, in module_from_spec\n",
      "  AttributeError: 'NoneType' object has no attribute 'loader'\n",
      "\n",
      "Remainder of file ignored\n"
     ]
    }
   ],
   "source": [
    "!pip install numpy"
   ]
  },
  {
   "cell_type": "code",
   "execution_count": 3,
   "id": "48250da0",
   "metadata": {},
   "outputs": [],
   "source": [
    "import numpy as np"
   ]
  },
  {
   "cell_type": "code",
   "execution_count": 4,
   "id": "c12bd5a1",
   "metadata": {},
   "outputs": [
    {
     "name": "stdout",
     "output_type": "stream",
     "text": [
      "[1, 2, 3]\n",
      "[1 2 3]\n"
     ]
    }
   ],
   "source": [
    "data = [1,2,3]\n",
    "arr = np.array(data)\n",
    "print(data)\n",
    "print(arr)"
   ]
  },
  {
   "cell_type": "code",
   "execution_count": 5,
   "id": "ef57c03f",
   "metadata": {},
   "outputs": [
    {
     "name": "stdout",
     "output_type": "stream",
     "text": [
      "<class 'numpy.ndarray'>\n"
     ]
    }
   ],
   "source": [
    "print(type(arr))"
   ]
  },
  {
   "cell_type": "code",
   "execution_count": 6,
   "id": "bc04b4ba",
   "metadata": {},
   "outputs": [
    {
     "name": "stdout",
     "output_type": "stream",
     "text": [
      "3\n"
     ]
    }
   ],
   "source": [
    "print(arr.size)"
   ]
  },
  {
   "cell_type": "code",
   "execution_count": 8,
   "id": "c692dff0",
   "metadata": {},
   "outputs": [
    {
     "data": {
      "text/plain": [
       "dtype('int32')"
      ]
     },
     "execution_count": 8,
     "metadata": {},
     "output_type": "execute_result"
    }
   ],
   "source": [
    "arr.dtype"
   ]
  },
  {
   "cell_type": "code",
   "execution_count": 15,
   "id": "4a96f98d",
   "metadata": {},
   "outputs": [
    {
     "name": "stdout",
     "output_type": "stream",
     "text": [
      "[0 1 2 3]\n",
      "[[0. 0. 0. 0.]\n",
      " [0. 0. 0. 0.]\n",
      " [0. 0. 0. 0.]\n",
      " [0. 0. 0. 0.]]\n",
      "[[1 1 1 1 1]\n",
      " [1 1 1 1 1]\n",
      " [1 1 1 1 1]\n",
      " [1 1 1 1 1]\n",
      " [1 1 1 1 1]]\n",
      "[[4 2 1]\n",
      " [7 5 9]\n",
      " [9 4 1]]\n",
      "[[ 1.42648895 -0.11399275  0.12522971]\n",
      " [ 1.82635139  0.17385824  0.33929996]\n",
      " [-0.45424437  1.45286017 -0.22919172]]\n",
      "[['1' '1' '1']\n",
      " ['1' '1' '1']\n",
      " ['1' '1' '1']]\n"
     ]
    }
   ],
   "source": [
    "array1 = np.arange(4)\n",
    "array2 = np.zeros((4,4), dtype = float)\n",
    "array3 = np.ones((5,5), dtype = int)\n",
    "array4 = np.random.randint(0,10,(3,3))\n",
    "array5 = np.random.normal(0,1,(3,3))\n",
    "array6 = np.ones((3,3),dtype = str)\n",
    "\n",
    "print(array1)\n",
    "print(array2)\n",
    "print(array3)\n",
    "print(array4)\n",
    "print(array5)\n",
    "print(array6)"
   ]
  },
  {
   "cell_type": "code",
   "execution_count": 16,
   "id": "c0f3dd06",
   "metadata": {},
   "outputs": [
    {
     "name": "stdout",
     "output_type": "stream",
     "text": [
      "[10, 20, 30]\n"
     ]
    }
   ],
   "source": [
    "data = [1,2,3]\n",
    "result_list = []\n",
    "for i in data:\n",
    "    result_list.append(i*10)\n",
    "    \n",
    "print(result_list)"
   ]
  },
  {
   "cell_type": "code",
   "execution_count": 17,
   "id": "445d926a",
   "metadata": {},
   "outputs": [
    {
     "name": "stdout",
     "output_type": "stream",
     "text": [
      "[1, 2, 3]\n"
     ]
    }
   ],
   "source": [
    "num2 = [\n",
    "    [1,2,3],\n",
    "    [4,5,6],\n",
    "    [7,8,9]\n",
    "]\n",
    "\n",
    "print(num2[0])"
   ]
  },
  {
   "cell_type": "code",
   "execution_count": 19,
   "id": "37f11f89",
   "metadata": {},
   "outputs": [
    {
     "name": "stdout",
     "output_type": "stream",
     "text": [
      "array num3 first element : \n",
      "[1 4 7]\n"
     ]
    }
   ],
   "source": [
    "num3 = [\n",
    "    [1,2,3],\n",
    "    [4,5,6],\n",
    "    [7,8,9]\n",
    "]\n",
    "\n",
    "arr = np.array(num3)\n",
    "\n",
    "print(\"array num3 first element : \")\n",
    "print(arr[:,0])\n"
   ]
  },
  {
   "cell_type": "code",
   "execution_count": 20,
   "id": "ec71ff92",
   "metadata": {},
   "outputs": [
    {
     "name": "stdout",
     "output_type": "stream",
     "text": [
      "array num3 first element list value in the first value : \n",
      "1\n"
     ]
    }
   ],
   "source": [
    "print(\"array num3 first element list value in the first value : \")\n",
    "print(arr[0,0])"
   ]
  },
  {
   "cell_type": "code",
   "execution_count": 21,
   "id": "4592707b",
   "metadata": {},
   "outputs": [
    {
     "name": "stdout",
     "output_type": "stream",
     "text": [
      "new shape array : \n",
      "(6,)\n",
      "new array element : \n",
      "[10 20 30 50 60 70]\n"
     ]
    }
   ],
   "source": [
    "array1 = np.array([10,20,30])\n",
    "array2 = np.array([50,60,70])\n",
    "\n",
    "array3 = np.concatenate([array1, array2])\n",
    "\n",
    "print(\"new shape array : \")\n",
    "print(array3.shape)\n",
    "print(\"new array element : \")\n",
    "print(array3)"
   ]
  },
  {
   "cell_type": "code",
   "execution_count": 22,
   "id": "48e44255",
   "metadata": {},
   "outputs": [
    {
     "name": "stdout",
     "output_type": "stream",
     "text": [
      "original array shape :\n",
      "(4,)\n",
      "original array element :\n",
      "[1 2 3 4]\n",
      "new array shape :\n",
      "(2, 2)\n",
      "new array element: \n",
      "[[1 2]\n",
      " [3 4]]\n"
     ]
    }
   ],
   "source": [
    "array1 = np.array([1,2,3,4])\n",
    "\n",
    "array2 = array1.reshape((2,2))\n",
    "\n",
    "print(\"original array shape :\")\n",
    "print(array1.shape)\n",
    "print(\"original array element :\")\n",
    "print(array1)\n",
    "print(\"new array shape :\")\n",
    "print(array2.shape)\n",
    "print(\"new array element: \")\n",
    "print(array2)"
   ]
  },
  {
   "cell_type": "code",
   "execution_count": 27,
   "id": "1af538b4",
   "metadata": {},
   "outputs": [
    {
     "name": "stdout",
     "output_type": "stream",
     "text": [
      "array1 structure and element\n",
      "(1, 4)\n",
      "[[0 1 2 3]]\n",
      "----------------------------------\n",
      "array2 structure and element\n",
      "(2, 4)\n",
      "[[0 1 2 3]\n",
      " [4 5 6 7]]\n",
      "----------------------------------\n",
      "array3 structure and element\n",
      "(3, 4)\n",
      "[[0 1 2 3]\n",
      " [0 1 2 3]\n",
      " [4 5 6 7]]\n"
     ]
    }
   ],
   "source": [
    "array1 = np.arange(4).reshape(1,4)\n",
    "\n",
    "print(\"array1 structure and element\")\n",
    "print(array1.shape)\n",
    "print(array1)\n",
    "print(\"----------------------------------\")\n",
    "\n",
    "array2 = np.arange(8).reshape(2,4)\n",
    "\n",
    "print(\"array2 structure and element\")\n",
    "print(array2.shape)\n",
    "print(array2)\n",
    "print(\"----------------------------------\")\n",
    "array3 = np.concatenate([array1, array2], axis=0)\n",
    "\n",
    "print(\"array3 structure and element\")\n",
    "print(array3.shape)\n",
    "print(array3)"
   ]
  },
  {
   "cell_type": "code",
   "execution_count": 28,
   "id": "3ab2200a",
   "metadata": {},
   "outputs": [
    {
     "name": "stdout",
     "output_type": "stream",
     "text": [
      "original array\n",
      "(2, 4)\n",
      "[[0 1 2 3]\n",
      " [4 5 6 7]]\n",
      "----------------------------------\n",
      "left array\n",
      "(2, 2)\n",
      "[[0 1]\n",
      " [4 5]]\n",
      "----------------------------------\n",
      "right array\n",
      "(2, 2)\n",
      "[[2 3]\n",
      " [6 7]]\n",
      "----------------------------------\n",
      "left array start and end element\n",
      "0\n",
      "5\n",
      "----------------------------------\n",
      "right array start and end element\n",
      "2\n",
      "7\n"
     ]
    }
   ],
   "source": [
    "array = np.arange(8).reshape(2,4)\n",
    "\n",
    "left, right = np.split(array,[2],axis=1)\n",
    "\n",
    "print(\"original array\")\n",
    "print(array.shape)\n",
    "print(array)\n",
    "print(\"----------------------------------\")\n",
    "\n",
    "print(\"left array\")\n",
    "print(left.shape)\n",
    "print(left)\n",
    "print(\"----------------------------------\")\n",
    "\n",
    "print(\"right array\")\n",
    "print(right.shape)\n",
    "print(right)\n",
    "print(\"----------------------------------\")\n",
    "\n",
    "print(\"left array start and end element\")\n",
    "print(left[0][0])\n",
    "print(left[1][1])\n",
    "print(\"----------------------------------\")\n",
    "\n",
    "print(\"right array start and end element\")\n",
    "print(right[0][0])\n",
    "print(right[1][1])"
   ]
  },
  {
   "cell_type": "code",
   "execution_count": 29,
   "id": "ae4a735f",
   "metadata": {},
   "outputs": [
    {
     "name": "stdout",
     "output_type": "stream",
     "text": [
      "original array\n",
      "[[5 4]\n",
      " [5 8]]\n",
      "----------------------------------\n",
      "plus result element array\n",
      "[[10  9]\n",
      " [10 13]]\n",
      "----------------------------------\n",
      "multiplication result element array\n",
      "[[25 20]\n",
      " [25 40]]\n"
     ]
    }
   ],
   "source": [
    "array = np.random.randint(1,10,size=4).reshape(2,2)\n",
    "print(\"original array\")\n",
    "print(array)\n",
    "print(\"----------------------------------\")\n",
    "\n",
    "result_arr_pls = array+5\n",
    "\n",
    "print(\"plus result element array\")\n",
    "print(result_arr_pls)\n",
    "print(\"----------------------------------\")\n",
    "\n",
    "result_arr_mlt = array*5\n",
    "\n",
    "print(\"multiplication result element array\")\n",
    "print(result_arr_mlt)"
   ]
  },
  {
   "cell_type": "code",
   "execution_count": 30,
   "id": "faa7e0b1",
   "metadata": {},
   "outputs": [
    {
     "name": "stdout",
     "output_type": "stream",
     "text": [
      "array1 shape and element\n",
      "(2, 2)\n",
      "[[0 1]\n",
      " [2 3]]\n",
      "----------------------------------\n",
      "array2 shape and element\n",
      "(2,)\n",
      "[0 1]\n",
      "----------------------------------\n",
      "array3 shape and element\n",
      "(2, 2)\n",
      "[[0 2]\n",
      " [2 4]]\n"
     ]
    }
   ],
   "source": [
    "array1 = np.arange(4).reshape(2,2)\n",
    "array2 = np.arange(2)\n",
    "\n",
    "array3 = array1 + array2\n",
    "\n",
    "print(\"array1 shape and element\")\n",
    "print(array1.shape)\n",
    "print(array1)\n",
    "print(\"----------------------------------\")\n",
    "\n",
    "print(\"array2 shape and element\")\n",
    "print(array2.shape)\n",
    "print(array2)\n",
    "print(\"----------------------------------\")\n",
    "\n",
    "print(\"array3 shape and element\")\n",
    "print(array3.shape)\n",
    "print(array3)"
   ]
  },
  {
   "cell_type": "code",
   "execution_count": 33,
   "id": "181d3529",
   "metadata": {},
   "outputs": [
    {
     "name": "stdout",
     "output_type": "stream",
     "text": [
      "array1 shape and element\n",
      "(2, 4)\n",
      "[[0 1 2 3]\n",
      " [4 5 6 7]]\n",
      "----------------------------------\n",
      "array2 shape and element\n",
      "(2, 4)\n",
      "[[0 1 2 3]\n",
      " [4 5 6 7]]\n",
      "----------------------------------\n",
      "array3 shape and element\n",
      "(4, 4)\n",
      "[[0 1 2 3]\n",
      " [4 5 6 7]\n",
      " [0 1 2 3]\n",
      " [4 5 6 7]]\n",
      "----------------------------------\n",
      "array4 shape and element\n",
      "(4, 1)\n",
      "[[0]\n",
      " [1]\n",
      " [2]\n",
      " [3]]\n",
      "----------------------------------\n",
      "array3 plus array4 result\n",
      "[[ 0  1  2  3]\n",
      " [ 5  6  7  8]\n",
      " [ 2  3  4  5]\n",
      " [ 7  8  9 10]]\n"
     ]
    }
   ],
   "source": [
    "array1 = np.arange(0,8).reshape(2,4)\n",
    "\n",
    "print(\"array1 shape and element\")\n",
    "print(array1.shape)\n",
    "print(array1)\n",
    "print(\"----------------------------------\")\n",
    "\n",
    "array2 = np.arange(0,8).reshape(2,4)\n",
    "\n",
    "print(\"array2 shape and element\")\n",
    "print(array2.shape)\n",
    "print(array2)\n",
    "print(\"----------------------------------\")\n",
    "\n",
    "array3 = np.concatenate([array1,array2],axis = 0)\n",
    "\n",
    "print(\"array3 shape and element\")\n",
    "print(array3.shape)\n",
    "print(array3)\n",
    "print(\"----------------------------------\")\n",
    "\n",
    "array4 = np.arange(0,4).reshape(4,1)\n",
    "\n",
    "print(\"array4 shape and element\")\n",
    "print(array4.shape)\n",
    "print(array4)\n",
    "print(\"----------------------------------\")\n",
    "\n",
    "print(\"array3 plus array4 result\")\n",
    "print(array3 + array4)"
   ]
  },
  {
   "cell_type": "code",
   "execution_count": 34,
   "id": "57cdcb05",
   "metadata": {},
   "outputs": [
    {
     "name": "stdout",
     "output_type": "stream",
     "text": [
      "array1 shape and element\n",
      "[[ 0  1  2  3]\n",
      " [ 4  5  6  7]\n",
      " [ 8  9 10 11]\n",
      " [12 13 14 15]]\n",
      "----------------------------------\n",
      "array2 shape and element\n",
      "[[ True  True  True  True]\n",
      " [ True  True  True  True]\n",
      " [False False False False]\n",
      " [False False False False]]\n",
      "----------------------------------\n",
      "element value change array1\n",
      "[[100 100 100 100]\n",
      " [100 100 100 100]\n",
      " [  8   9  10  11]\n",
      " [ 12  13  14  15]]\n"
     ]
    }
   ],
   "source": [
    "array1 = np.arange(16).reshape(4,4)\n",
    "\n",
    "print(\"array1 shape and element\")\n",
    "print(array1)\n",
    "print(\"----------------------------------\")\n",
    "\n",
    "array2 = array1 < 8\n",
    "print(\"array2 shape and element\")\n",
    "print(array2)\n",
    "print(\"----------------------------------\")\n",
    "\n",
    "array1[array2] = 100\n",
    "\n",
    "print(\"element value change array1\")\n",
    "print(array1)"
   ]
  },
  {
   "cell_type": "code",
   "execution_count": 36,
   "id": "de56d503",
   "metadata": {},
   "outputs": [
    {
     "name": "stdout",
     "output_type": "stream",
     "text": [
      "max :  15\n",
      "min :  0\n",
      "sum :  120\n",
      "avg :  7.5\n"
     ]
    }
   ],
   "source": [
    "array = np.arange(16).reshape(4,4)\n",
    "\n",
    "print(\"max : \",np.max(array))\n",
    "print(\"min : \",np.min(array))\n",
    "print(\"sum : \",np.sum(array))\n",
    "print(\"avg : \",np.mean(array))"
   ]
  },
  {
   "cell_type": "code",
   "execution_count": 37,
   "id": "ff104364",
   "metadata": {},
   "outputs": [
    {
     "name": "stdout",
     "output_type": "stream",
     "text": [
      "axis = 0 : vertical axis value sum\n",
      "[[ 0  1  2  3]\n",
      " [ 4  5  6  7]\n",
      " [ 8  9 10 11]\n",
      " [12 13 14 15]]\n",
      "----------------------------------\n",
      "sum :  [24 28 32 36]\n"
     ]
    }
   ],
   "source": [
    "array = np.arange(16).reshape(4,4)\n",
    "print('axis = 0 : vertical axis value sum')\n",
    "print(array)\n",
    "print(\"----------------------------------\")\n",
    "print('sum : ',np.sum(array, axis=0))"
   ]
  },
  {
   "cell_type": "code",
   "execution_count": 40,
   "id": "b22ebf83",
   "metadata": {},
   "outputs": [
    {
     "name": "stdout",
     "output_type": "stream",
     "text": [
      "array element\n",
      "[ 5  3  9 10  1]\n",
      "----------------------------------\n",
      "sort array \n",
      "[ 1  3  5  9 10]\n",
      "----------------------------------\n",
      "array desc sort\n",
      "[10  9  5  3  1]\n",
      "----------------------------------\n",
      "new array element\n",
      "[[ 5  3  9 10  1]\n",
      " [ 8  4  5  2  6]]\n",
      "----------------------------------\n",
      "sort array\n",
      "[[ 5  3  5  2  1]\n",
      " [ 8  4  9 10  6]]\n"
     ]
    }
   ],
   "source": [
    "array = np.array([5,3,9,10,1])\n",
    "print('array element')\n",
    "print(array)\n",
    "print(\"----------------------------------\")\n",
    "\n",
    "array.sort()\n",
    "print('sort array ')\n",
    "print(array)\n",
    "print(\"----------------------------------\")\n",
    "\n",
    "array.sort()\n",
    "print('array desc sort')\n",
    "print(array[::-1])\n",
    "print(\"----------------------------------\")\n",
    "\n",
    "array = np.array([[5,3,9,10,1],[8,4,5,2,6]])\n",
    "print('new array element')\n",
    "print(array)\n",
    "print(\"----------------------------------\")\n",
    "\n",
    "array.sort(axis=0)\n",
    "print('sort array')\n",
    "print(array)"
   ]
  },
  {
   "cell_type": "code",
   "execution_count": 41,
   "id": "893aace5",
   "metadata": {},
   "outputs": [
    {
     "name": "stdout",
     "output_type": "stream",
     "text": [
      "# equl range data made #\n",
      "[ 0.   2.5  5.   7.5 10. ]\n",
      "----------------------------------\n",
      "# reenact possible random int #\n",
      "[[4 9 6]\n",
      " [3 3 7]]\n",
      "----------------------------------\n",
      "# duplicate element delete #\n",
      "original array :  [1 1 2 3 3 3 1 1 4]\n",
      "duplicate element delete array :  [1 2 3 4]\n",
      "----------------------------------\n",
      "# copy array #\n",
      "original array :  [0 1 2 3 4 5 6 7 8 9]\n",
      "copy array :  [0 1 2 3 4 5 6 7 8 9]\n"
     ]
    }
   ],
   "source": [
    "array = np.linspace(0,10,5)\n",
    "print(\"# equl range data made #\")\n",
    "print(array)\n",
    "print(\"----------------------------------\")\n",
    "\n",
    "np.random.seed(7)\n",
    "print(\"# reenact possible random int #\")\n",
    "print(np.random.randint(0,10,(2,3)))\n",
    "print(\"----------------------------------\")\n",
    "\n",
    "print(\"# duplicate element delete #\")\n",
    "array = np.array([1,1,2,3,3,3,1,1,4])\n",
    "print('original array : ', array)\n",
    "print('duplicate element delete array : ',np.unique(array))\n",
    "print(\"----------------------------------\")\n",
    "\n",
    "print(\"# copy array #\")\n",
    "array1 = np.arange(0,10)\n",
    "array2 = array1.copy()\n",
    "\n",
    "print(\"original array : \" ,array1)\n",
    "print(\"copy array : \", array2)"
   ]
  }
 ],
 "metadata": {
  "kernelspec": {
   "display_name": "Python 3 (ipykernel)",
   "language": "python",
   "name": "python3"
  },
  "language_info": {
   "codemirror_mode": {
    "name": "ipython",
    "version": 3
   },
   "file_extension": ".py",
   "mimetype": "text/x-python",
   "name": "python",
   "nbconvert_exporter": "python",
   "pygments_lexer": "ipython3",
   "version": "3.9.16"
  }
 },
 "nbformat": 4,
 "nbformat_minor": 5
}
