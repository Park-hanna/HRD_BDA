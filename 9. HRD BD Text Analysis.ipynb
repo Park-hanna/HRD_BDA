{
 "cells": [
  {
   "cell_type": "code",
   "execution_count": 7,
   "id": "9c4ff2f1",
   "metadata": {},
   "outputs": [
    {
     "name": "stdout",
     "output_type": "stream",
     "text": [
      "Requirement already satisfied: nltk in c:\\users\\parkhanna\\anaconda3\\lib\\site-packages (3.7)\n",
      "Requirement already satisfied: tqdm in c:\\users\\parkhanna\\anaconda3\\lib\\site-packages (from nltk) (4.64.0)\n",
      "Requirement already satisfied: joblib in c:\\users\\parkhanna\\anaconda3\\lib\\site-packages (from nltk) (1.1.0)\n",
      "Requirement already satisfied: click in c:\\users\\parkhanna\\anaconda3\\lib\\site-packages (from nltk) (8.0.4)\n",
      "Requirement already satisfied: regex>=2021.8.3 in c:\\users\\parkhanna\\anaconda3\\lib\\site-packages (from nltk) (2022.3.15)\n",
      "Requirement already satisfied: colorama in c:\\users\\parkhanna\\anaconda3\\lib\\site-packages (from click->nltk) (0.4.4)\n"
     ]
    }
   ],
   "source": [
    "# 영어 분석 lib\n",
    "!pip install nltk "
   ]
  },
  {
   "cell_type": "code",
   "execution_count": 8,
   "id": "d5b02ce7",
   "metadata": {},
   "outputs": [
    {
     "name": "stdout",
     "output_type": "stream",
     "text": [
      "Requirement already satisfied: konlpy in c:\\users\\parkhanna\\anaconda3\\lib\\site-packages (0.6.0)\n",
      "Requirement already satisfied: numpy>=1.6 in c:\\users\\parkhanna\\anaconda3\\lib\\site-packages (from konlpy) (1.21.5)\n",
      "Requirement already satisfied: JPype1>=0.7.0 in c:\\users\\parkhanna\\anaconda3\\lib\\site-packages (from konlpy) (1.4.0)\n",
      "Requirement already satisfied: lxml>=4.1.0 in c:\\users\\parkhanna\\anaconda3\\lib\\site-packages (from konlpy) (4.8.0)\n"
     ]
    }
   ],
   "source": [
    "# 한글 형태소 분석 lib\n",
    "!pip install konlpy "
   ]
  },
  {
   "cell_type": "code",
   "execution_count": 42,
   "id": "6b1ae260",
   "metadata": {},
   "outputs": [],
   "source": [
    "import pandas as pd\n",
    "import numpy as np\n",
    "import matplotlib.pyplot as plt\n",
    "import seaborn as sns\n",
    "import nltk\n",
    "import konlpy"
   ]
  },
  {
   "cell_type": "code",
   "execution_count": 6,
   "id": "c0cfe920",
   "metadata": {},
   "outputs": [],
   "source": [
    "from konlpy.tag import Okt"
   ]
  },
  {
   "cell_type": "code",
   "execution_count": 9,
   "id": "39fe717e",
   "metadata": {},
   "outputs": [
    {
     "name": "stdout",
     "output_type": "stream",
     "text": [
      "showing info https://raw.githubusercontent.com/nltk/nltk_data/gh-pages/index.xml\n"
     ]
    },
    {
     "data": {
      "text/plain": [
       "True"
      ]
     },
     "execution_count": 9,
     "metadata": {},
     "output_type": "execute_result"
    }
   ],
   "source": [
    "nltk.download()"
   ]
  },
  {
   "cell_type": "code",
   "execution_count": 10,
   "id": "2e9eb1a9",
   "metadata": {},
   "outputs": [],
   "source": [
    "okt = Okt()"
   ]
  },
  {
   "cell_type": "markdown",
   "id": "2f54ae7c",
   "metadata": {},
   "source": [
    "# 데이터 수집"
   ]
  },
  {
   "cell_type": "markdown",
   "id": "a69b2351",
   "metadata": {},
   "source": [
    "한글 텍스트"
   ]
  },
  {
   "cell_type": "code",
   "execution_count": 9,
   "id": "da68075b",
   "metadata": {},
   "outputs": [
    {
     "name": "stdout",
     "output_type": "stream",
     "text": [
      "['일정한 시간을 거쳐 오면서 사회적인, 법적인, 종교적인, 그리고 다른 의식들을 위한 장소를 제공한 건물들은 우리가 나중에 인식하고 그러한 건물들의 기능과 결부시키게 된 형태로 발전해왔다. 이것은 양방향의 과정이다. 건물은 상징적인 장소뿐만 아니라 기차 여행을 한다거나 극장에 가는 것과 같은 특별한 사회적 의식을 위한 물리적인 환경과 장소를 제공한다. 건물의 의미는 경험에 의해서 발전하고 확립되며 그런 다음에 우리는 우리의 경험의 의미를 건물에 불어넣는다. 건물은 이러한 투사된 경험을 통해서 우리 마음속에 공감할 수 있는 반응을 불러일으키며, 이러한 반응의 강도는 우리의 문화, 믿음, 기대에 의해 결정된다. 그것들은 이야기를 들려준다. 왜냐하면 그것들의 형태와 공간 구성이 그것들이 어떻게 사용되어야 하는지에 대한 힌트를 우리에게 주기 때문이다. 그것들의 물리적 배치는 어떤 사용을 권장하고 다른 사용을 억제한다. 우리는 특별히 초대받지 않는다면 극장의 무대 뒤로 가지 않는다. 법정 안에서 법적 절차 과정에서 관련된 사람들의 정확한 위치는 설계의 필수적인 부분이며 법이 유지되는 것을 확실히 하는 꼭 필요한 부분이다.\\n', '사람들이 근본적으로 통제할 수 없는 상황을 통제하려 할 때 그들은 높은 수준의 스트레스를 경험하는 경향이 있다. 따라서 그러한 상황에서 적극적 통제를 취할 필요가 있다고 제안하는 것은 잘못된 충고이다. 그들이 할 필요가 있는 것은 어떤 일은 그들의 통제 밖에 있음을 인정하는 것이다. 마찬가지로 사람들에게 손쉽게 바뀔 수 있는 상황을 받아들이라고 가르치는 것은 잘못된 충고가 될 수 있는데, 때때로 원하는 것을 얻는 유일한 방법은 적극적인 통제를 하는 것이기 때문이다. 연구는 무력함을 느끼는 사람들이 통제하는 데 실패할 때 불안과 우울증과 같은 부정적인 감정 상태를 경험한다는 것을 보여 주었다. 이런 부정적인 감정은 스트레스처럼 면역 반응을 손상할 수 있다. 이것으로부터 우리는 건강이 통제와 곧장 연결되어 있지 않다는 것을 알수 있다. 최적의 건강을 위해, 사람들은 어느 정도까지 통제하지만, 더 이상의 통제가 불가능한 때를 인식하도록 권장되어야 한다.\\n', '토템은 한 집단이나 부족에서 존중되는 집단의 상징으로 동식물을 말하고, 토테미즘은 토템과 인간 관계가 제도화된 원시신앙으로 특정한 동식물을 신성하게 여기는 원시신앙을 의미한다.\\n', '토템이라는 말은 원래 북아메리카 인디언으로부터 유래되었는데 인디언들은 특정한 동식물을 신성시하여 자신의 부족과 특수한 관계가 있다고 믿고 그 동·식물을 토템이라 하여 집단의 표상으로 삼은 데서 유래되었다.\\n', '한 국가의 형성 과정에서 신화나 설화로 존재하고 사회 규범과도 밀접한 연관이 있다. 우리 나라의 고조선의 건국 신화에서도 곰과 호랑이를 믿는 부족과 환웅 부족이 결합하게 됨으로써 고조선이 건국되었다는 것은 잘 알려져 있다. 토테미즘은 원시 사회에서 부족신앙으로 역할을 해왔고, 그를 통하여 사회 질서를 유지하는 사회 규범으로 작용. 한 부족이 특정의 동식물과 연관시킴으로써 부족의 정신을 통일하고, 그 특정의 동식물을 숭상함으로써 통치자는 종교적 지배를 할 수 있었다.\\n', '영혼이나 하늘을 인간과 연결시켜 주는 존재인 무당(샤먼)이 직접 하늘과 교류하면서 예언을 하거나 질병을 치료할 수 있다고 믿는 신앙이다.\\n', '사람이 죽어도 영혼은 없어지지 않는다는 영혼 숭배와 조상숭배가 나타났고, 인간과 영혼 또는 인간과 하늘을 연결시켜주는 무당과 그 주술을 믿는것.\\n', '수렵의 풍요, 가족의 안전, 전쟁의 승리등을 기원하고 사회통합의 중심역할수행\\n', '애니미즘은 정령 숭배 사상. 애니미즘은 모든 동식물, 장소와 사물, 자연현상에 정령이 깃들어 있어 인간과 직접 소통할 수 있다는 믿음을 의미\\n', '농경과 정착 생활을 하게 되면서 인간은 자연의 섭리를 생각하게 되었고, 농사에 큰 영향을 끼치는 자연현상이나 자연물에도 정령이 있다는 믿음에서 유래.\\n', '풍요로운 생산을 기원하는 의미가 담겨있다. 조상 숭배의식으로 혈연에 입각한 집단화를 수반하게되고 그 때문에 씨족 또는 부족 단위의 사회가 형성되었다고 볼 수 있다. 단순하게 생각해 보면 씨족은 같은 조상을 모신 직계의 혈연집단이며, 부족은 혼인등을 통해 씨족과 씨족이 결합해 공통의 언어와 신앙을 지니며 나중에는 같은 조상을 숭배하게 되는 지연집단이 될수 있게 한 것이다.\\n']\n"
     ]
    }
   ],
   "source": [
    "f = open(\"C:/Users/ParkHanna/Desktop/HRD/BigData/data/hantest.txt\",\"rt\",encoding='utf-8')\n",
    "lines = f.readlines()\n",
    "line = []\n",
    "\n",
    "for i in range(len(lines)):\n",
    "    line.append(lines[i])\n",
    "f.close()\n",
    "print(line)"
   ]
  },
  {
   "cell_type": "markdown",
   "id": "964e79a8",
   "metadata": {},
   "source": [
    "영어 텍스트"
   ]
  },
  {
   "cell_type": "code",
   "execution_count": 32,
   "id": "74aec1c4",
   "metadata": {},
   "outputs": [
    {
     "name": "stdout",
     "output_type": "stream",
     "text": [
      "['My name is Donna Williams, a science teacher at Rogan \\n', 'High School. I am planning a special workshop for our science \\n', 'teachers. We are interested in learning how to teach online \\n', 'science classes. I have been impressed with your ideas about \\n', 'using internet platforms for science classes. Since you are an \\n', 'expert in online education, I would like to ask you to deliver \\n', 'a special lecture at the workshop scheduled for next month. \\n', 'I am sure the lecture will help our teachers manage successful \\n', 'online science classes, and I hope we can learn from your \\n', 'insights. I am looking forward to hearing from you\\n', 'It was Evelyn’s first time to explore the Badlands of \\n', 'Alberta, famous across Canada for its numerous dinosaur \\n', 'fossils. As a young amateur bone-hunter, she was overflowing \\n', 'with anticipation. She had not travelled this far for the bones\\n', 'of common dinosaur species. Her life-long dream to find rare \\n', 'fossils of dinosaurs was about to come true. She began eagerly \\n', 'searching for them. After many hours of wandering throughout \\n', 'the deserted lands, however, she was unsuccessful. Now, the \\n', 'sun was beginning to set, and her goal was still far beyond her\\n', 'reach. Looking at the slowly darkening ground before her, she \\n', 'sighed to herself\\n', 'One of the most common mistakes made by organizations \\n', 'when they first consider experimenting with social media is \\n', 'that they focus too much on social media tools and platforms \\n', 'and not enough on their business objectives. The reality of \\n', 'success in the social web for businesses is that creating a social \\n', 'media program begins not with insight into the latest social \\n', 'media tools and channels but with a thorough understanding of \\n', 'the organization’s own goals and objectives. A social media \\n', 'program is not merely the fulfillment of a vague need to manage\\n', 'a “presence” on popular social networks because “everyone \\n', 'else is doing it.” “Being in social media” serves no purpose \\n', 'in and of itself. In order to serve any purpose at all, a social \\n', 'media presence must either solve a problem for the organization\\n', 'and its customers or result in an improvement of some sort \\n', '(preferably a measurable one). In all things, purpose drives \\n', 'success. The world of social media is no different.\\n', 'Scientists have no special purchase on moral or ethical \\n', 'decisions; a climate scientist is no more qualified to comment \\n', 'on health care reform than a physicist is to judge the causes of \\n', 'bee colony collapse. The very features that create expertise in a \\n', 'specialized domain lead to ignorance in many others. In some \\n', 'cases lay people ― farmers, fishermen, patients, native peoples ―\\n', 'may have relevant experiences that scientists can learn from. \\n', 'Indeed, in recent years, scientists have begun to recognize this: \\n', 'the Arctic Climate Impact Assessment includes observations \\n', 'gathered from local native groups. So our trust needs to be \\n', 'limited, and focused. It needs to be very particular. Blind trust \\n', 'will get us into at least as much trouble as no trust at all. But \\n', 'without some degree of trust in our designated experts ― the \\n', 'men and women who have devoted their lives to sorting out \\n', 'tough questions about the natural world we live in ― we are \\n', 'paralyzed, in effect not knowing\\n', 'Scientists use paradigms rather than believing them. The use \\n', 'of a paradigm in research typically addresses related problems \\n', 'by employing shared concepts, symbolic expressions, \\n', 'experimental and mathematical tools and procedures, and even \\n', 'some of the same theoretical statements. Scientists need only \\n', 'understand how to use these various elements in ways that \\n', 'others would accept. These elements of shared practice thus \\n', 'need not presuppose any comparable unity in scientists’ beliefs\\n', 'about what they are doing when they use them. Indeed, one role \\n', 'of a paradigm is to enable scientists to work successfully \\n', 'without having to provide a detailed account of what they are \\n', 'doing or what they believe about it. Thomas Kuhn noted that \\n', 'scientists “can agree in their identification of a paradigm without \\n', 'agreeing on, or even attempting to produce, a full interpretation\\n', 'or rationalization of it. Lack of a standard interpretation or of \\n', 'an agreed reduction to rules will not prevent a paradigm from \\n', 'guiding research\\n', 'Environmental hazards include biological, physical, and \\n', 'chemical ones, along with the human behaviors that promote \\n', 'or allow exposure. Some environmental contaminants are \\n', 'difficult to avoid (the breathing of polluted air, the drinking of \\n', 'chemically contaminated public drinking water, noise in open \\n', 'public spaces); in these circumstances, exposure is largely \\n', 'involuntary. Reduction or elimination of these factors may require \\n', 'societal action, such as public awareness and public health \\n', 'measures. In many countries, the fact that some environmental \\n', 'hazards are difficult to avoid at the individual level is felt to be \\n', 'more morally egregious than those hazards that can be avoided. \\n', 'Having no choice but to drink water contaminated with very \\n', 'high levels of arsenic, or being forced to passively breathe in\\n', 'tobacco smoke in restaurants, outrages people more than the \\n', 'personal choice of whether an individual smokes tobacco. \\n', 'These factors are important when one considers how change \\n', '(risk reduction) happens\\n', 'Mending and restoring objects often require even more \\n', 'creativity than original production. The preindustrial blacksmith \\n', 'made things to order for people in his immediate community; \\n', 'customizing the product, modifying or transforming it according\\n', 'to the user, was routine. Customers would bring things back if \\n', 'something went wrong; repair was thus an extension of \\n', 'fabrication. With industrialization and eventually with mass \\n', 'production, making things became the province of machine \\n', 'tenders with limited knowledge. But repair continued to require\\n', 'a larger grasp of design and materials, an understanding of the\\n', 'whole and a comprehension of the designer’s intentions. \\n', '“Manufacturers all work by machinery or by vast subdivision \\n', 'of labour and not, so to speak, by hand,” an 1896 Manual of \\n', 'Mending and Repairing explained. “But all repairing must be \\n', 'done by hand. We can make every detail of a watch or of a \\n', 'gun by machinery, but the machine cannot mend it when \\n', 'Donato Bramante, born in Fermignano, Italy, began to paint \\n', 'early in his life. His father encouraged him to study painting.\\n', 'Later, he worked as an assistant of Piero della Francesca in \\n', 'Urbino. Around 1480, he built several churches in a new style \\n', 'in Milan. He had a close relationship with Leonardo da Vinci, \\n', 'and they worked together in that city. Architecture became his \\n', 'main interest, but he did not give up painting. Bramante \\n', 'moved to Rome in 1499 and participated in Pope Julius II’s \\n', 'plan for the renewal of Rome. He planned the new Basilica of \\n', 'St. Peter in Rome ― one of the most ambitious building projects \\n', 'in the history of humankind. Bramante died on April 11, 1514 \\n', 'and was buried in Rome. His buildings influenced other \\n', 'architects for centuries. For that reason, the people who monitor and control the \\n', 'behavior of users should also be users and/or have been given \\n', 'a mandate by all users. This is a significant insight, as it shows \\n', 'that prospects are poor for a centrally directed solution to the \\n', 'problem of the commons coming from a state power in \\n', 'comparison with a local solution for which users assume \\n', 'personal responsibility. Ostrom also emphasizes the importance \\n', 'of democratic decision processes and that all users must be \\n', 'given access to local forums for solving problems and conflicts\\n', 'among themselves. Political institutions at central, regional, \\n', 'and local levels must allow users to devise their own regulations \\n', 'and independently ensure observance.\\n']\n"
     ]
    }
   ],
   "source": [
    "f = open(\"C:/Users/ParkHanna/Desktop/HRD/BigData/data/engtest.txt\", 'rt',encoding='utf-8')\n",
    "lines2 = f.readlines()\n",
    "line2 = []\n",
    "\n",
    "for i in range(len(lines2)):\n",
    "    line2.append(lines2[i])\n",
    "f.close()\n",
    "\n",
    "print(line2)"
   ]
  },
  {
   "cell_type": "markdown",
   "id": "b49abacd",
   "metadata": {},
   "source": [
    "# 데이터 전처리 - 불필요한 글자 및 대소문자 처리"
   ]
  },
  {
   "cell_type": "code",
   "execution_count": 11,
   "id": "f16d11b7",
   "metadata": {},
   "outputs": [
    {
     "name": "stdout",
     "output_type": "stream",
     "text": [
      "['일정한 시간을 거쳐 오면서 사회적인, 법적인, 종교적인, 그리고 다른 의식들을 위한 장소를 제공한 건물들은 우리가 나중에 인식하고 그러한 건물들의 기능과 결부시키게 된 형태로 발전해왔다. 이것은 양방향의 과정이다. 건물은 상징적인 장소뿐만 아니라 기차 여행을 한다거나 극장에 가는 것과 같은 특별한 사회적 의식을 위한 물리적인 환경과 장소를 제공한다. 건물의 의미는 경험에 의해서 발전하고 확립되며 그런 다음에 우리는 우리의 경험의 의미를 건물에 불어넣는다. 건물은 이러한 투사된 경험을 통해서 우리 마음속에 공감할 수 있는 반응을 불러일으키며, 이러한 반응의 강도는 우리의 문화, 믿음, 기대에 의해 결정된다. 그것들은 이야기를 들려준다. 왜냐하면 그것들의 형태와 공간 구성이 그것들이 어떻게 사용되어야 하는지에 대한 힌트를 우리에게 주기 때문이다. 그것들의 물리적 배치는 어떤 사용을 권장하고 다른 사용을 억제한다. 우리는 특별히 초대받지 않는다면 극장의 무대 뒤로 가지 않는다. 법정 안에서 법적 절차 과정에서 관련된 사람들의 정확한 위치는 설계의 필수적인 부분이며 법이 유지되는 것을 확실히 하는 꼭 필요한 부분이다', '사람들이 근본적으로 통제할 수 없는 상황을 통제하려 할 때 그들은 높은 수준의 스트레스를 경험하는 경향이 있다. 따라서 그러한 상황에서 적극적 통제를 취할 필요가 있다고 제안하는 것은 잘못된 충고이다. 그들이 할 필요가 있는 것은 어떤 일은 그들의 통제 밖에 있음을 인정하는 것이다. 마찬가지로 사람들에게 손쉽게 바뀔 수 있는 상황을 받아들이라고 가르치는 것은 잘못된 충고가 될 수 있는데, 때때로 원하는 것을 얻는 유일한 방법은 적극적인 통제를 하는 것이기 때문이다. 연구는 무력함을 느끼는 사람들이 통제하는 데 실패할 때 불안과 우울증과 같은 부정적인 감정 상태를 경험한다는 것을 보여 주었다. 이런 부정적인 감정은 스트레스처럼 면역 반응을 손상할 수 있다. 이것으로부터 우리는 건강이 통제와 곧장 연결되어 있지 않다는 것을 알수 있다. 최적의 건강을 위해, 사람들은 어느 정도까지 통제하지만, 더 이상의 통제가 불가능한 때를 인식하도록 권장되어야 한다', '토템은 한 집단이나 부족에서 존중되는 집단의 상징으로 동식물을 말하고, 토테미즘은 토템과 인간 관계가 제도화된 원시신앙으로 특정한 동식물을 신성하게 여기는 원시신앙을 의미한다', '토템이라는 말은 원래 북아메리카 인디언으로부터 유래되었는데 인디언들은 특정한 동식물을 신성시하여 자신의 부족과 특수한 관계가 있다고 믿고 그 동·식물을 토템이라 하여 집단의 표상으로 삼은 데서 유래되었다', '한 국가의 형성 과정에서 신화나 설화로 존재하고 사회 규범과도 밀접한 연관이 있다. 우리 나라의 고조선의 건국 신화에서도 곰과 호랑이를 믿는 부족과 환웅 부족이 결합하게 됨으로써 고조선이 건국되었다는 것은 잘 알려져 있다. 토테미즘은 원시 사회에서 부족신앙으로 역할을 해왔고, 그를 통하여 사회 질서를 유지하는 사회 규범으로 작용. 한 부족이 특정의 동식물과 연관시킴으로써 부족의 정신을 통일하고, 그 특정의 동식물을 숭상함으로써 통치자는 종교적 지배를 할 수 있었다', '영혼이나 하늘을 인간과 연결시켜 주는 존재인 무당(샤먼)이 직접 하늘과 교류하면서 예언을 하거나 질병을 치료할 수 있다고 믿는 신앙이다', '사람이 죽어도 영혼은 없어지지 않는다는 영혼 숭배와 조상숭배가 나타났고, 인간과 영혼 또는 인간과 하늘을 연결시켜주는 무당과 그 주술을 믿는것', '수렵의 풍요, 가족의 안전, 전쟁의 승리등을 기원하고 사회통합의 중심역할수행\\n', '애니미즘은 정령 숭배 사상. 애니미즘은 모든 동식물, 장소와 사물, 자연현상에 정령이 깃들어 있어 인간과 직접 소통할 수 있다는 믿음을 의미\\n', '농경과 정착 생활을 하게 되면서 인간은 자연의 섭리를 생각하게 되었고, 농사에 큰 영향을 끼치는 자연현상이나 자연물에도 정령이 있다는 믿음에서 유래', '풍요로운 생산을 기원하는 의미가 담겨있다. 조상 숭배의식으로 혈연에 입각한 집단화를 수반하게되고 그 때문에 씨족 또는 부족 단위의 사회가 형성되었다고 볼 수 있다. 단순하게 생각해 보면 씨족은 같은 조상을 모신 직계의 혈연집단이며, 부족은 혼인등을 통해 씨족과 씨족이 결합해 공통의 언어와 신앙을 지니며 나중에는 같은 조상을 숭배하게 되는 지연집단이 될수 있게 한 것이다']\n"
     ]
    }
   ],
   "source": [
    "import re\n",
    "compile = re.compile(\"[^ㄱ-ㅣ가-힣]\\n\")\n",
    "\n",
    "for i in range(len(line)):\n",
    "    a = compile.sub(\"\", line[i])\n",
    "    line[i] = a\n",
    "print(line)"
   ]
  },
  {
   "cell_type": "code",
   "execution_count": 16,
   "id": "33179677",
   "metadata": {},
   "outputs": [
    {
     "name": "stdout",
     "output_type": "stream",
     "text": [
      "['일정한 시간을 거쳐 오면서 사회적인, 법적인, 종교적인, 그리고 다른 의식들을 위한 장소를 제공한 건물들은 우리가 나중에 인식하고 그러한 건물들의 기능과 결부시키게 된 형태로 발전해왔다. 이것은 양방향의 과정이다. 건물은 상징적인 장소뿐만 아니라 기차 여행을 한다거나 극장에 가는 것과 같은 특별한 사회적 의식을 위한 물리적인 환경과 장소를 제공한다. 건물의 의미는 경험에 의해서 발전하고 확립되며 그런 다음에 우리는 우리의 경험의 의미를 건물에 불어넣는다. 건물은 이러한 투사된 경험을 통해서 우리 마음속에 공감할 수 있는 반응을 불러일으키며, 이러한 반응의 강도는 우리의 문화, 믿음, 기대에 의해 결정된다. 그것들은 이야기를 들려준다. 왜냐하면 그것들의 형태와 공간 구성이 그것들이 어떻게 사용되어야 하는지에 대한 힌트를 우리에게 주기 때문이다. 그것들의 물리적 배치는 어떤 사용을 권장하고 다른 사용을 억제한다. 우리는 특별히 초대받지 않는다면 극장의 무대 뒤로 가지 않는다. 법정 안에서 법적 절차 과정에서 관련된 사람들의 정확한 위치는 설계의 필수적인 부분이며 법이 유지되는 것을 확실히 하는 꼭 필요한 부분이다', '사람들이 근본적으로 통제할 수 없는 상황을 통제하려 할 때 그들은 높은 수준의 스트레스를 경험하는 경향이 있다. 따라서 그러한 상황에서 적극적 통제를 취할 필요가 있다고 제안하는 것은 잘못된 충고이다. 그들이 할 필요가 있는 것은 어떤 일은 그들의 통제 밖에 있음을 인정하는 것이다. 마찬가지로 사람들에게 손쉽게 바뀔 수 있는 상황을 받아들이라고 가르치는 것은 잘못된 충고가 될 수 있는데, 때때로 원하는 것을 얻는 유일한 방법은 적극적인 통제를 하는 것이기 때문이다. 연구는 무력함을 느끼는 사람들이 통제하는 데 실패할 때 불안과 우울증과 같은 부정적인 감정 상태를 경험한다는 것을 보여 주었다. 이런 부정적인 감정은 스트레스처럼 면역 반응을 손상할 수 있다. 이것으로부터 우리는 건강이 통제와 곧장 연결되어 있지 않다는 것을 알수 있다. 최적의 건강을 위해, 사람들은 어느 정도까지 통제하지만, 더 이상의 통제가 불가능한 때를 인식하도록 권장되어야 한다', '토템은 한 집단이나 부족에서 존중되는 집단의 상징으로 동식물을 말하고, 토테미즘은 토템과 인간 관계가 제도화된 원시신앙으로 특정한 동식물을 신성하게 여기는 원시신앙을 의미한다', '토템이라는 말은 원래 북아메리카 인디언으로부터 유래되었는데 인디언들은 특정한 동식물을 신성시하여 자신의 부족과 특수한 관계가 있다고 믿고 그 동·식물을 토템이라 하여 집단의 표상으로 삼은 데서 유래되었다', '한 국가의 형성 과정에서 신화나 설화로 존재하고 사회 규범과도 밀접한 연관이 있다. 우리 나라의 고조선의 건국 신화에서도 곰과 호랑이를 믿는 부족과 환웅 부족이 결합하게 됨으로써 고조선이 건국되었다는 것은 잘 알려져 있다. 토테미즘은 원시 사회에서 부족신앙으로 역할을 해왔고, 그를 통하여 사회 질서를 유지하는 사회 규범으로 작용. 한 부족이 특정의 동식물과 연관시킴으로써 부족의 정신을 통일하고, 그 특정의 동식물을 숭상함으로써 통치자는 종교적 지배를 할 수 있었다', '영혼이나 하늘을 인간과 연결시켜 주는 존재인 무당(샤먼)이 직접 하늘과 교류하면서 예언을 하거나 질병을 치료할 수 있다고 믿는 신앙이다', '사람이 죽어도 영혼은 없어지지 않는다는 영혼 숭배와 조상숭배가 나타났고, 인간과 영혼 또는 인간과 하늘을 연결시켜주는 무당과 그 주술을 믿는것', '수렵의 풍요, 가족의 안전, 전쟁의 승리등을 기원하고 사회통합의 중심역할수행', '애니미즘은 정령 숭배 사상. 애니미즘은 모든 동식물, 장소와 사물, 자연현상에 정령이 깃들어 있어 인간과 직접 소통할 수 있다는 믿음을 의미', '농경과 정착 생활을 하게 되면서 인간은 자연의 섭리를 생각하게 되었고, 농사에 큰 영향을 끼치는 자연현상이나 자연물에도 정령이 있다는 믿음에서 유래', '풍요로운 생산을 기원하는 의미가 담겨있다. 조상 숭배의식으로 혈연에 입각한 집단화를 수반하게되고 그 때문에 씨족 또는 부족 단위의 사회가 형성되었다고 볼 수 있다. 단순하게 생각해 보면 씨족은 같은 조상을 모신 직계의 혈연집단이며, 부족은 혼인등을 통해 씨족과 씨족이 결합해 공통의 언어와 신앙을 지니며 나중에는 같은 조상을 숭배하게 되는 지연집단이 될수 있게 한 것이다']\n"
     ]
    }
   ],
   "source": [
    "compile = re.compile(\"\\n\")\n",
    "for i in range(len(line)):\n",
    "    a = compile.sub(\"\", line[i])\n",
    "    line[i] = a\n",
    "print(line)"
   ]
  },
  {
   "cell_type": "code",
   "execution_count": 33,
   "id": "0a98ecb4",
   "metadata": {},
   "outputs": [
    {
     "name": "stdout",
     "output_type": "stream",
     "text": [
      "['my name is donna williams, a science teacher at rogan  ', 'high school. i am planning a special workshop for our science  ', 'teachers. we are interested in learning how to teach online  ', 'science classes. i have been impressed with your ideas about  ', 'using internet platforms for science classes. since you are an  ', 'expert in online education, i would like to ask you to deliver  ', 'a special lecture at the workshop scheduled for next month.  ', 'i am sure the lecture will help our teachers manage successful  ', 'online science classes, and i hope we can learn from your  ', 'insights. i am looking forward to hearing from you ', 'it was evelyn’s first time to explore the badlands of  ', 'alberta, famous across canada for its numerous dinosaur  ', 'fossils. as a young amateur bone-hunter, she was overflowing  ', 'with anticipation. she had not travelled this far for the bones ', 'of common dinosaur species. her life-long dream to find rare  ', 'fossils of dinosaurs was about to come true. she began eagerly  ', 'searching for them. after many hours of wandering throughout  ', 'the deserted lands, however, she was unsuccessful. now, the  ', 'sun was beginning to set, and her goal was still far beyond her ', 'reach. looking at the slowly darkening ground before her, she  ', 'sighed to herself ', 'one of the most common mistakes made by organizations  ', 'when they first consider experimenting with social media is  ', 'that they focus too much on social media tools and platforms  ', 'and not enough on their business objectives. the reality of  ', 'success in the social web for businesses is that creating a social  ', 'media program begins not with insight into the latest social  ', 'media tools and channels but with a thorough understanding of  ', 'the organization’s own goals and objectives. a social media  ', 'program is not merely the fulfillment of a vague need to manage ', 'a “presence” on popular social networks because “everyone  ', 'else is doing it.” “being in social media” serves no purpose  ', 'in and of itself. in order to serve any purpose at all, a social  ', 'media presence must either solve a problem for the organization ', 'and its customers or result in an improvement of some sort  ', '(preferably a measurable one). in all things, purpose drives  ', 'success. the world of social media is no different. ', 'scientists have no special purchase on moral or ethical  ', 'decisions; a climate scientist is no more qualified to comment  ', 'on health care reform than a physicist is to judge the causes of  ', 'bee colony collapse. the very features that create expertise in a  ', 'specialized domain lead to ignorance in many others. in some  ', 'cases lay people ― farmers, fishermen, patients, native peoples ― ', 'may have relevant experiences that scientists can learn from.  ', 'indeed, in recent years, scientists have begun to recognize this:  ', 'the arctic climate impact assessment includes observations  ', 'gathered from local native groups. so our trust needs to be  ', 'limited, and focused. it needs to be very particular. blind trust  ', 'will get us into at least as much trouble as no trust at all. but  ', 'without some degree of trust in our designated experts ― the  ', 'men and women who have devoted their lives to sorting out  ', 'tough questions about the natural world we live in ― we are  ', 'paralyzed, in effect not knowing ', 'scientists use paradigms rather than believing them. the use  ', 'of a paradigm in research typically addresses related problems  ', 'by employing shared concepts, symbolic expressions,  ', 'experimental and mathematical tools and procedures, and even  ', 'some of the same theoretical statements. scientists need only  ', 'understand how to use these various elements in ways that  ', 'others would accept. these elements of shared practice thus  ', 'need not presuppose any comparable unity in scientists’ beliefs ', 'about what they are doing when they use them. indeed, one role  ', 'of a paradigm is to enable scientists to work successfully  ', 'without having to provide a detailed account of what they are  ', 'doing or what they believe about it. thomas kuhn noted that  ', 'scientists “can agree in their identification of a paradigm without  ', 'agreeing on, or even attempting to produce, a full interpretation ', 'or rationalization of it. lack of a standard interpretation or of  ', 'an agreed reduction to rules will not prevent a paradigm from  ', 'guiding research ', 'environmental hazards include biological, physical, and  ', 'chemical ones, along with the human behaviors that promote  ', 'or allow exposure. some environmental contaminants are  ', 'difficult to avoid (the breathing of polluted air, the drinking of  ', 'chemically contaminated public drinking water, noise in open  ', 'public spaces); in these circumstances, exposure is largely  ', 'involuntary. reduction or elimination of these factors may require  ', 'societal action, such as public awareness and public health  ', 'measures. in many countries, the fact that some environmental  ', 'hazards are difficult to avoid at the individual level is felt to be  ', 'more morally egregious than those hazards that can be avoided.  ', 'having no choice but to drink water contaminated with very  ', 'high levels of arsenic, or being forced to passively breathe in ', 'tobacco smoke in restaurants, outrages people more than the  ', 'personal choice of whether an individual smokes tobacco.  ', 'these factors are important when one considers how change  ', '(risk reduction) happens ', 'mending and restoring objects often require even more  ', 'creativity than original production. the preindustrial blacksmith  ', 'made things to order for people in his immediate community;  ', 'customizing the product, modifying or transforming it according ', 'to the user, was routine. customers would bring things back if  ', 'something went wrong; repair was thus an extension of  ', 'fabrication. with industrialization and eventually with mass  ', 'production, making things became the province of machine  ', 'tenders with limited knowledge. but repair continued to require ', 'a larger grasp of design and materials, an understanding of the ', 'whole and a comprehension of the designer’s intentions.  ', '“manufacturers all work by machinery or by vast subdivision  ', 'of labour and not, so to speak, by hand,” an 1896 manual of  ', 'mending and repairing explained. “but all repairing must be  ', 'done by hand. we can make every detail of a watch or of a  ', 'gun by machinery, but the machine cannot mend it when  ', 'donato bramante, born in fermignano, italy, began to paint  ', 'early in his life. his father encouraged him to study painting. ', 'later, he worked as an assistant of piero della francesca in  ', 'urbino. around 1480, he built several churches in a new style  ', 'in milan. he had a close relationship with leonardo da vinci,  ', 'and they worked together in that city. architecture became his  ', 'main interest, but he did not give up painting. bramante  ', 'moved to rome in 1499 and participated in pope julius ii’s  ', 'plan for the renewal of rome. he planned the new basilica of  ', 'st. peter in rome ― one of the most ambitious building projects  ', 'in the history of humankind. bramante died on april 11, 1514  ', 'and was buried in rome. his buildings influenced other  ', 'architects for centuries. for that reason, the people who monitor and control the  ', 'behavior of users should also be users and/or have been given  ', 'a mandate by all users. this is a significant insight, as it shows  ', 'that prospects are poor for a centrally directed solution to the  ', 'problem of the commons coming from a state power in  ', 'comparison with a local solution for which users assume  ', 'personal responsibility. ostrom also emphasizes the importance  ', 'of democratic decision processes and that all users must be  ', 'given access to local forums for solving problems and conflicts ', 'among themselves. political institutions at central, regional,  ', 'and local levels must allow users to devise their own regulations  ', 'and independently ensure observance. ']\n"
     ]
    }
   ],
   "source": [
    "compile = re.compile(\"\\n\")\n",
    "for i in range(len(line2)):\n",
    "    a = compile.sub(\" \", line2[i])\n",
    "    line2[i] = a.lower()\n",
    "print(line2)"
   ]
  },
  {
   "cell_type": "markdown",
   "id": "6edcbeb8",
   "metadata": {},
   "source": [
    "# 전처리 - 불용어 제거"
   ]
  },
  {
   "cell_type": "code",
   "execution_count": 17,
   "id": "b9628283",
   "metadata": {},
   "outputs": [],
   "source": [
    "stop_word = ['이건', '헐', '것이다']\n",
    "line = [i for i in line if i not in stop_word ]"
   ]
  },
  {
   "cell_type": "code",
   "execution_count": 18,
   "id": "8cdd001a",
   "metadata": {},
   "outputs": [
    {
     "name": "stdout",
     "output_type": "stream",
     "text": [
      "['일정한 시간을 거쳐 오면서 사회적인, 법적인, 종교적인, 그리고 다른 의식들을 위한 장소를 제공한 건물들은 우리가 나중에 인식하고 그러한 건물들의 기능과 결부시키게 된 형태로 발전해왔다. 이것은 양방향의 과정이다. 건물은 상징적인 장소뿐만 아니라 기차 여행을 한다거나 극장에 가는 것과 같은 특별한 사회적 의식을 위한 물리적인 환경과 장소를 제공한다. 건물의 의미는 경험에 의해서 발전하고 확립되며 그런 다음에 우리는 우리의 경험의 의미를 건물에 불어넣는다. 건물은 이러한 투사된 경험을 통해서 우리 마음속에 공감할 수 있는 반응을 불러일으키며, 이러한 반응의 강도는 우리의 문화, 믿음, 기대에 의해 결정된다. 그것들은 이야기를 들려준다. 왜냐하면 그것들의 형태와 공간 구성이 그것들이 어떻게 사용되어야 하는지에 대한 힌트를 우리에게 주기 때문이다. 그것들의 물리적 배치는 어떤 사용을 권장하고 다른 사용을 억제한다. 우리는 특별히 초대받지 않는다면 극장의 무대 뒤로 가지 않는다. 법정 안에서 법적 절차 과정에서 관련된 사람들의 정확한 위치는 설계의 필수적인 부분이며 법이 유지되는 것을 확실히 하는 꼭 필요한 부분이다', '사람들이 근본적으로 통제할 수 없는 상황을 통제하려 할 때 그들은 높은 수준의 스트레스를 경험하는 경향이 있다. 따라서 그러한 상황에서 적극적 통제를 취할 필요가 있다고 제안하는 것은 잘못된 충고이다. 그들이 할 필요가 있는 것은 어떤 일은 그들의 통제 밖에 있음을 인정하는 것이다. 마찬가지로 사람들에게 손쉽게 바뀔 수 있는 상황을 받아들이라고 가르치는 것은 잘못된 충고가 될 수 있는데, 때때로 원하는 것을 얻는 유일한 방법은 적극적인 통제를 하는 것이기 때문이다. 연구는 무력함을 느끼는 사람들이 통제하는 데 실패할 때 불안과 우울증과 같은 부정적인 감정 상태를 경험한다는 것을 보여 주었다. 이런 부정적인 감정은 스트레스처럼 면역 반응을 손상할 수 있다. 이것으로부터 우리는 건강이 통제와 곧장 연결되어 있지 않다는 것을 알수 있다. 최적의 건강을 위해, 사람들은 어느 정도까지 통제하지만, 더 이상의 통제가 불가능한 때를 인식하도록 권장되어야 한다', '토템은 한 집단이나 부족에서 존중되는 집단의 상징으로 동식물을 말하고, 토테미즘은 토템과 인간 관계가 제도화된 원시신앙으로 특정한 동식물을 신성하게 여기는 원시신앙을 의미한다', '토템이라는 말은 원래 북아메리카 인디언으로부터 유래되었는데 인디언들은 특정한 동식물을 신성시하여 자신의 부족과 특수한 관계가 있다고 믿고 그 동·식물을 토템이라 하여 집단의 표상으로 삼은 데서 유래되었다', '한 국가의 형성 과정에서 신화나 설화로 존재하고 사회 규범과도 밀접한 연관이 있다. 우리 나라의 고조선의 건국 신화에서도 곰과 호랑이를 믿는 부족과 환웅 부족이 결합하게 됨으로써 고조선이 건국되었다는 것은 잘 알려져 있다. 토테미즘은 원시 사회에서 부족신앙으로 역할을 해왔고, 그를 통하여 사회 질서를 유지하는 사회 규범으로 작용. 한 부족이 특정의 동식물과 연관시킴으로써 부족의 정신을 통일하고, 그 특정의 동식물을 숭상함으로써 통치자는 종교적 지배를 할 수 있었다', '영혼이나 하늘을 인간과 연결시켜 주는 존재인 무당(샤먼)이 직접 하늘과 교류하면서 예언을 하거나 질병을 치료할 수 있다고 믿는 신앙이다', '사람이 죽어도 영혼은 없어지지 않는다는 영혼 숭배와 조상숭배가 나타났고, 인간과 영혼 또는 인간과 하늘을 연결시켜주는 무당과 그 주술을 믿는것', '수렵의 풍요, 가족의 안전, 전쟁의 승리등을 기원하고 사회통합의 중심역할수행', '애니미즘은 정령 숭배 사상. 애니미즘은 모든 동식물, 장소와 사물, 자연현상에 정령이 깃들어 있어 인간과 직접 소통할 수 있다는 믿음을 의미', '농경과 정착 생활을 하게 되면서 인간은 자연의 섭리를 생각하게 되었고, 농사에 큰 영향을 끼치는 자연현상이나 자연물에도 정령이 있다는 믿음에서 유래', '풍요로운 생산을 기원하는 의미가 담겨있다. 조상 숭배의식으로 혈연에 입각한 집단화를 수반하게되고 그 때문에 씨족 또는 부족 단위의 사회가 형성되었다고 볼 수 있다. 단순하게 생각해 보면 씨족은 같은 조상을 모신 직계의 혈연집단이며, 부족은 혼인등을 통해 씨족과 씨족이 결합해 공통의 언어와 신앙을 지니며 나중에는 같은 조상을 숭배하게 되는 지연집단이 될수 있게 한 것이다']\n"
     ]
    }
   ],
   "source": [
    "print(line)"
   ]
  },
  {
   "cell_type": "code",
   "execution_count": 19,
   "id": "6b7eca3c",
   "metadata": {},
   "outputs": [],
   "source": [
    "import nltk"
   ]
  },
  {
   "cell_type": "code",
   "execution_count": 20,
   "id": "cd75c42a",
   "metadata": {},
   "outputs": [
    {
     "name": "stderr",
     "output_type": "stream",
     "text": [
      "[nltk_data] Downloading collection 'all'\n",
      "[nltk_data]    | \n",
      "[nltk_data]    | Downloading package abc to\n",
      "[nltk_data]    |     C:\\Users\\ParkHanna\\AppData\\Roaming\\nltk_data...\n",
      "[nltk_data]    |   Package abc is already up-to-date!\n",
      "[nltk_data]    | Downloading package alpino to\n",
      "[nltk_data]    |     C:\\Users\\ParkHanna\\AppData\\Roaming\\nltk_data...\n",
      "[nltk_data]    |   Package alpino is already up-to-date!\n",
      "[nltk_data]    | Downloading package averaged_perceptron_tagger to\n",
      "[nltk_data]    |     C:\\Users\\ParkHanna\\AppData\\Roaming\\nltk_data...\n",
      "[nltk_data]    |   Package averaged_perceptron_tagger is already up-\n",
      "[nltk_data]    |       to-date!\n",
      "[nltk_data]    | Downloading package averaged_perceptron_tagger_ru to\n",
      "[nltk_data]    |     C:\\Users\\ParkHanna\\AppData\\Roaming\\nltk_data...\n",
      "[nltk_data]    |   Package averaged_perceptron_tagger_ru is already\n",
      "[nltk_data]    |       up-to-date!\n",
      "[nltk_data]    | Downloading package basque_grammars to\n",
      "[nltk_data]    |     C:\\Users\\ParkHanna\\AppData\\Roaming\\nltk_data...\n",
      "[nltk_data]    |   Package basque_grammars is already up-to-date!\n",
      "[nltk_data]    | Downloading package biocreative_ppi to\n",
      "[nltk_data]    |     C:\\Users\\ParkHanna\\AppData\\Roaming\\nltk_data...\n",
      "[nltk_data]    |   Package biocreative_ppi is already up-to-date!\n",
      "[nltk_data]    | Downloading package bllip_wsj_no_aux to\n",
      "[nltk_data]    |     C:\\Users\\ParkHanna\\AppData\\Roaming\\nltk_data...\n",
      "[nltk_data]    |   Package bllip_wsj_no_aux is already up-to-date!\n",
      "[nltk_data]    | Downloading package book_grammars to\n",
      "[nltk_data]    |     C:\\Users\\ParkHanna\\AppData\\Roaming\\nltk_data...\n",
      "[nltk_data]    |   Package book_grammars is already up-to-date!\n",
      "[nltk_data]    | Downloading package brown to\n",
      "[nltk_data]    |     C:\\Users\\ParkHanna\\AppData\\Roaming\\nltk_data...\n",
      "[nltk_data]    |   Package brown is already up-to-date!\n",
      "[nltk_data]    | Downloading package brown_tei to\n",
      "[nltk_data]    |     C:\\Users\\ParkHanna\\AppData\\Roaming\\nltk_data...\n",
      "[nltk_data]    |   Package brown_tei is already up-to-date!\n",
      "[nltk_data]    | Downloading package cess_cat to\n",
      "[nltk_data]    |     C:\\Users\\ParkHanna\\AppData\\Roaming\\nltk_data...\n",
      "[nltk_data]    |   Package cess_cat is already up-to-date!\n",
      "[nltk_data]    | Downloading package cess_esp to\n",
      "[nltk_data]    |     C:\\Users\\ParkHanna\\AppData\\Roaming\\nltk_data...\n",
      "[nltk_data]    |   Package cess_esp is already up-to-date!\n",
      "[nltk_data]    | Downloading package chat80 to\n",
      "[nltk_data]    |     C:\\Users\\ParkHanna\\AppData\\Roaming\\nltk_data...\n",
      "[nltk_data]    |   Package chat80 is already up-to-date!\n",
      "[nltk_data]    | Downloading package city_database to\n",
      "[nltk_data]    |     C:\\Users\\ParkHanna\\AppData\\Roaming\\nltk_data...\n",
      "[nltk_data]    |   Package city_database is already up-to-date!\n",
      "[nltk_data]    | Downloading package cmudict to\n",
      "[nltk_data]    |     C:\\Users\\ParkHanna\\AppData\\Roaming\\nltk_data...\n",
      "[nltk_data]    |   Package cmudict is already up-to-date!\n",
      "[nltk_data]    | Downloading package comparative_sentences to\n",
      "[nltk_data]    |     C:\\Users\\ParkHanna\\AppData\\Roaming\\nltk_data...\n",
      "[nltk_data]    |   Package comparative_sentences is already up-to-\n",
      "[nltk_data]    |       date!\n",
      "[nltk_data]    | Downloading package comtrans to\n",
      "[nltk_data]    |     C:\\Users\\ParkHanna\\AppData\\Roaming\\nltk_data...\n",
      "[nltk_data]    |   Package comtrans is already up-to-date!\n",
      "[nltk_data]    | Downloading package conll2000 to\n",
      "[nltk_data]    |     C:\\Users\\ParkHanna\\AppData\\Roaming\\nltk_data...\n",
      "[nltk_data]    |   Package conll2000 is already up-to-date!\n",
      "[nltk_data]    | Downloading package conll2002 to\n",
      "[nltk_data]    |     C:\\Users\\ParkHanna\\AppData\\Roaming\\nltk_data...\n",
      "[nltk_data]    |   Package conll2002 is already up-to-date!\n",
      "[nltk_data]    | Downloading package conll2007 to\n",
      "[nltk_data]    |     C:\\Users\\ParkHanna\\AppData\\Roaming\\nltk_data...\n",
      "[nltk_data]    |   Package conll2007 is already up-to-date!\n",
      "[nltk_data]    | Downloading package crubadan to\n",
      "[nltk_data]    |     C:\\Users\\ParkHanna\\AppData\\Roaming\\nltk_data...\n",
      "[nltk_data]    |   Package crubadan is already up-to-date!\n",
      "[nltk_data]    | Downloading package dependency_treebank to\n",
      "[nltk_data]    |     C:\\Users\\ParkHanna\\AppData\\Roaming\\nltk_data...\n",
      "[nltk_data]    |   Package dependency_treebank is already up-to-date!\n",
      "[nltk_data]    | Downloading package dolch to\n",
      "[nltk_data]    |     C:\\Users\\ParkHanna\\AppData\\Roaming\\nltk_data...\n",
      "[nltk_data]    |   Package dolch is already up-to-date!\n",
      "[nltk_data]    | Downloading package europarl_raw to\n",
      "[nltk_data]    |     C:\\Users\\ParkHanna\\AppData\\Roaming\\nltk_data...\n",
      "[nltk_data]    |   Package europarl_raw is already up-to-date!\n",
      "[nltk_data]    | Downloading package extended_omw to\n",
      "[nltk_data]    |     C:\\Users\\ParkHanna\\AppData\\Roaming\\nltk_data...\n",
      "[nltk_data]    |   Package extended_omw is already up-to-date!\n",
      "[nltk_data]    | Downloading package floresta to\n",
      "[nltk_data]    |     C:\\Users\\ParkHanna\\AppData\\Roaming\\nltk_data...\n",
      "[nltk_data]    |   Package floresta is already up-to-date!\n",
      "[nltk_data]    | Downloading package framenet_v15 to\n",
      "[nltk_data]    |     C:\\Users\\ParkHanna\\AppData\\Roaming\\nltk_data...\n",
      "[nltk_data]    |   Package framenet_v15 is already up-to-date!\n",
      "[nltk_data]    | Downloading package framenet_v17 to\n",
      "[nltk_data]    |     C:\\Users\\ParkHanna\\AppData\\Roaming\\nltk_data...\n",
      "[nltk_data]    |   Package framenet_v17 is already up-to-date!\n",
      "[nltk_data]    | Downloading package gazetteers to\n",
      "[nltk_data]    |     C:\\Users\\ParkHanna\\AppData\\Roaming\\nltk_data...\n",
      "[nltk_data]    |   Package gazetteers is already up-to-date!\n",
      "[nltk_data]    | Downloading package genesis to\n",
      "[nltk_data]    |     C:\\Users\\ParkHanna\\AppData\\Roaming\\nltk_data...\n",
      "[nltk_data]    |   Package genesis is already up-to-date!\n",
      "[nltk_data]    | Downloading package gutenberg to\n",
      "[nltk_data]    |     C:\\Users\\ParkHanna\\AppData\\Roaming\\nltk_data...\n",
      "[nltk_data]    |   Package gutenberg is already up-to-date!\n",
      "[nltk_data]    | Downloading package ieer to\n",
      "[nltk_data]    |     C:\\Users\\ParkHanna\\AppData\\Roaming\\nltk_data...\n",
      "[nltk_data]    |   Package ieer is already up-to-date!\n",
      "[nltk_data]    | Downloading package inaugural to\n",
      "[nltk_data]    |     C:\\Users\\ParkHanna\\AppData\\Roaming\\nltk_data...\n",
      "[nltk_data]    |   Package inaugural is already up-to-date!\n",
      "[nltk_data]    | Downloading package indian to\n",
      "[nltk_data]    |     C:\\Users\\ParkHanna\\AppData\\Roaming\\nltk_data...\n",
      "[nltk_data]    |   Package indian is already up-to-date!\n",
      "[nltk_data]    | Downloading package jeita to\n",
      "[nltk_data]    |     C:\\Users\\ParkHanna\\AppData\\Roaming\\nltk_data...\n",
      "[nltk_data]    |   Package jeita is already up-to-date!\n",
      "[nltk_data]    | Downloading package kimmo to\n",
      "[nltk_data]    |     C:\\Users\\ParkHanna\\AppData\\Roaming\\nltk_data...\n",
      "[nltk_data]    |   Package kimmo is already up-to-date!\n",
      "[nltk_data]    | Downloading package knbc to\n",
      "[nltk_data]    |     C:\\Users\\ParkHanna\\AppData\\Roaming\\nltk_data...\n",
      "[nltk_data]    |   Package knbc is already up-to-date!\n",
      "[nltk_data]    | Downloading package large_grammars to\n",
      "[nltk_data]    |     C:\\Users\\ParkHanna\\AppData\\Roaming\\nltk_data...\n",
      "[nltk_data]    |   Package large_grammars is already up-to-date!\n",
      "[nltk_data]    | Downloading package lin_thesaurus to\n",
      "[nltk_data]    |     C:\\Users\\ParkHanna\\AppData\\Roaming\\nltk_data...\n",
      "[nltk_data]    |   Package lin_thesaurus is already up-to-date!\n",
      "[nltk_data]    | Downloading package mac_morpho to\n",
      "[nltk_data]    |     C:\\Users\\ParkHanna\\AppData\\Roaming\\nltk_data...\n",
      "[nltk_data]    |   Package mac_morpho is already up-to-date!\n",
      "[nltk_data]    | Downloading package machado to\n",
      "[nltk_data]    |     C:\\Users\\ParkHanna\\AppData\\Roaming\\nltk_data...\n",
      "[nltk_data]    |   Package machado is already up-to-date!\n",
      "[nltk_data]    | Downloading package masc_tagged to\n",
      "[nltk_data]    |     C:\\Users\\ParkHanna\\AppData\\Roaming\\nltk_data...\n",
      "[nltk_data]    |   Package masc_tagged is already up-to-date!\n",
      "[nltk_data]    | Downloading package maxent_ne_chunker to\n",
      "[nltk_data]    |     C:\\Users\\ParkHanna\\AppData\\Roaming\\nltk_data...\n",
      "[nltk_data]    |   Package maxent_ne_chunker is already up-to-date!\n",
      "[nltk_data]    | Downloading package maxent_treebank_pos_tagger to\n",
      "[nltk_data]    |     C:\\Users\\ParkHanna\\AppData\\Roaming\\nltk_data...\n",
      "[nltk_data]    |   Package maxent_treebank_pos_tagger is already up-\n",
      "[nltk_data]    |       to-date!\n",
      "[nltk_data]    | Downloading package moses_sample to\n",
      "[nltk_data]    |     C:\\Users\\ParkHanna\\AppData\\Roaming\\nltk_data...\n",
      "[nltk_data]    |   Package moses_sample is already up-to-date!\n",
      "[nltk_data]    | Downloading package movie_reviews to\n",
      "[nltk_data]    |     C:\\Users\\ParkHanna\\AppData\\Roaming\\nltk_data...\n",
      "[nltk_data]    |   Package movie_reviews is already up-to-date!\n",
      "[nltk_data]    | Downloading package mte_teip5 to\n",
      "[nltk_data]    |     C:\\Users\\ParkHanna\\AppData\\Roaming\\nltk_data...\n"
     ]
    },
    {
     "name": "stderr",
     "output_type": "stream",
     "text": [
      "[nltk_data]    |   Package mte_teip5 is already up-to-date!\n",
      "[nltk_data]    | Downloading package mwa_ppdb to\n",
      "[nltk_data]    |     C:\\Users\\ParkHanna\\AppData\\Roaming\\nltk_data...\n",
      "[nltk_data]    |   Package mwa_ppdb is already up-to-date!\n",
      "[nltk_data]    | Downloading package names to\n",
      "[nltk_data]    |     C:\\Users\\ParkHanna\\AppData\\Roaming\\nltk_data...\n",
      "[nltk_data]    |   Package names is already up-to-date!\n",
      "[nltk_data]    | Downloading package nombank.1.0 to\n",
      "[nltk_data]    |     C:\\Users\\ParkHanna\\AppData\\Roaming\\nltk_data...\n",
      "[nltk_data]    |   Package nombank.1.0 is already up-to-date!\n",
      "[nltk_data]    | Downloading package nonbreaking_prefixes to\n",
      "[nltk_data]    |     C:\\Users\\ParkHanna\\AppData\\Roaming\\nltk_data...\n",
      "[nltk_data]    |   Package nonbreaking_prefixes is already up-to-date!\n",
      "[nltk_data]    | Downloading package nps_chat to\n",
      "[nltk_data]    |     C:\\Users\\ParkHanna\\AppData\\Roaming\\nltk_data...\n",
      "[nltk_data]    |   Package nps_chat is already up-to-date!\n",
      "[nltk_data]    | Downloading package omw to\n",
      "[nltk_data]    |     C:\\Users\\ParkHanna\\AppData\\Roaming\\nltk_data...\n",
      "[nltk_data]    |   Package omw is already up-to-date!\n",
      "[nltk_data]    | Downloading package omw-1.4 to\n",
      "[nltk_data]    |     C:\\Users\\ParkHanna\\AppData\\Roaming\\nltk_data...\n",
      "[nltk_data]    |   Package omw-1.4 is already up-to-date!\n",
      "[nltk_data]    | Downloading package opinion_lexicon to\n",
      "[nltk_data]    |     C:\\Users\\ParkHanna\\AppData\\Roaming\\nltk_data...\n",
      "[nltk_data]    |   Package opinion_lexicon is already up-to-date!\n",
      "[nltk_data]    | Downloading package panlex_swadesh to\n",
      "[nltk_data]    |     C:\\Users\\ParkHanna\\AppData\\Roaming\\nltk_data...\n",
      "[nltk_data]    |   Package panlex_swadesh is already up-to-date!\n",
      "[nltk_data]    | Downloading package paradigms to\n",
      "[nltk_data]    |     C:\\Users\\ParkHanna\\AppData\\Roaming\\nltk_data...\n",
      "[nltk_data]    |   Package paradigms is already up-to-date!\n",
      "[nltk_data]    | Downloading package pe08 to\n",
      "[nltk_data]    |     C:\\Users\\ParkHanna\\AppData\\Roaming\\nltk_data...\n",
      "[nltk_data]    |   Package pe08 is already up-to-date!\n",
      "[nltk_data]    | Downloading package perluniprops to\n",
      "[nltk_data]    |     C:\\Users\\ParkHanna\\AppData\\Roaming\\nltk_data...\n",
      "[nltk_data]    |   Package perluniprops is already up-to-date!\n",
      "[nltk_data]    | Downloading package pil to\n",
      "[nltk_data]    |     C:\\Users\\ParkHanna\\AppData\\Roaming\\nltk_data...\n",
      "[nltk_data]    |   Package pil is already up-to-date!\n",
      "[nltk_data]    | Downloading package pl196x to\n",
      "[nltk_data]    |     C:\\Users\\ParkHanna\\AppData\\Roaming\\nltk_data...\n",
      "[nltk_data]    |   Package pl196x is already up-to-date!\n",
      "[nltk_data]    | Downloading package porter_test to\n",
      "[nltk_data]    |     C:\\Users\\ParkHanna\\AppData\\Roaming\\nltk_data...\n",
      "[nltk_data]    |   Package porter_test is already up-to-date!\n",
      "[nltk_data]    | Downloading package ppattach to\n",
      "[nltk_data]    |     C:\\Users\\ParkHanna\\AppData\\Roaming\\nltk_data...\n",
      "[nltk_data]    |   Package ppattach is already up-to-date!\n",
      "[nltk_data]    | Downloading package problem_reports to\n",
      "[nltk_data]    |     C:\\Users\\ParkHanna\\AppData\\Roaming\\nltk_data...\n",
      "[nltk_data]    |   Package problem_reports is already up-to-date!\n",
      "[nltk_data]    | Downloading package product_reviews_1 to\n",
      "[nltk_data]    |     C:\\Users\\ParkHanna\\AppData\\Roaming\\nltk_data...\n",
      "[nltk_data]    |   Package product_reviews_1 is already up-to-date!\n",
      "[nltk_data]    | Downloading package product_reviews_2 to\n",
      "[nltk_data]    |     C:\\Users\\ParkHanna\\AppData\\Roaming\\nltk_data...\n",
      "[nltk_data]    |   Package product_reviews_2 is already up-to-date!\n",
      "[nltk_data]    | Downloading package propbank to\n",
      "[nltk_data]    |     C:\\Users\\ParkHanna\\AppData\\Roaming\\nltk_data...\n",
      "[nltk_data]    |   Package propbank is already up-to-date!\n",
      "[nltk_data]    | Downloading package pros_cons to\n",
      "[nltk_data]    |     C:\\Users\\ParkHanna\\AppData\\Roaming\\nltk_data...\n",
      "[nltk_data]    |   Package pros_cons is already up-to-date!\n",
      "[nltk_data]    | Downloading package ptb to\n",
      "[nltk_data]    |     C:\\Users\\ParkHanna\\AppData\\Roaming\\nltk_data...\n",
      "[nltk_data]    |   Package ptb is already up-to-date!\n",
      "[nltk_data]    | Downloading package punkt to\n",
      "[nltk_data]    |     C:\\Users\\ParkHanna\\AppData\\Roaming\\nltk_data...\n",
      "[nltk_data]    |   Package punkt is already up-to-date!\n",
      "[nltk_data]    | Downloading package qc to\n",
      "[nltk_data]    |     C:\\Users\\ParkHanna\\AppData\\Roaming\\nltk_data...\n",
      "[nltk_data]    |   Package qc is already up-to-date!\n",
      "[nltk_data]    | Downloading package reuters to\n",
      "[nltk_data]    |     C:\\Users\\ParkHanna\\AppData\\Roaming\\nltk_data...\n",
      "[nltk_data]    |   Package reuters is already up-to-date!\n",
      "[nltk_data]    | Downloading package rslp to\n",
      "[nltk_data]    |     C:\\Users\\ParkHanna\\AppData\\Roaming\\nltk_data...\n",
      "[nltk_data]    |   Package rslp is already up-to-date!\n",
      "[nltk_data]    | Downloading package rte to\n",
      "[nltk_data]    |     C:\\Users\\ParkHanna\\AppData\\Roaming\\nltk_data...\n",
      "[nltk_data]    |   Package rte is already up-to-date!\n",
      "[nltk_data]    | Downloading package sample_grammars to\n",
      "[nltk_data]    |     C:\\Users\\ParkHanna\\AppData\\Roaming\\nltk_data...\n",
      "[nltk_data]    |   Package sample_grammars is already up-to-date!\n",
      "[nltk_data]    | Downloading package semcor to\n",
      "[nltk_data]    |     C:\\Users\\ParkHanna\\AppData\\Roaming\\nltk_data...\n",
      "[nltk_data]    |   Package semcor is already up-to-date!\n",
      "[nltk_data]    | Downloading package senseval to\n",
      "[nltk_data]    |     C:\\Users\\ParkHanna\\AppData\\Roaming\\nltk_data...\n",
      "[nltk_data]    |   Package senseval is already up-to-date!\n",
      "[nltk_data]    | Downloading package sentence_polarity to\n",
      "[nltk_data]    |     C:\\Users\\ParkHanna\\AppData\\Roaming\\nltk_data...\n",
      "[nltk_data]    |   Package sentence_polarity is already up-to-date!\n",
      "[nltk_data]    | Downloading package sentiwordnet to\n",
      "[nltk_data]    |     C:\\Users\\ParkHanna\\AppData\\Roaming\\nltk_data...\n",
      "[nltk_data]    |   Package sentiwordnet is already up-to-date!\n",
      "[nltk_data]    | Downloading package shakespeare to\n",
      "[nltk_data]    |     C:\\Users\\ParkHanna\\AppData\\Roaming\\nltk_data...\n",
      "[nltk_data]    |   Package shakespeare is already up-to-date!\n",
      "[nltk_data]    | Downloading package sinica_treebank to\n",
      "[nltk_data]    |     C:\\Users\\ParkHanna\\AppData\\Roaming\\nltk_data...\n",
      "[nltk_data]    |   Package sinica_treebank is already up-to-date!\n",
      "[nltk_data]    | Downloading package smultron to\n",
      "[nltk_data]    |     C:\\Users\\ParkHanna\\AppData\\Roaming\\nltk_data...\n",
      "[nltk_data]    |   Package smultron is already up-to-date!\n",
      "[nltk_data]    | Downloading package snowball_data to\n",
      "[nltk_data]    |     C:\\Users\\ParkHanna\\AppData\\Roaming\\nltk_data...\n",
      "[nltk_data]    |   Package snowball_data is already up-to-date!\n",
      "[nltk_data]    | Downloading package spanish_grammars to\n",
      "[nltk_data]    |     C:\\Users\\ParkHanna\\AppData\\Roaming\\nltk_data...\n",
      "[nltk_data]    |   Package spanish_grammars is already up-to-date!\n",
      "[nltk_data]    | Downloading package state_union to\n",
      "[nltk_data]    |     C:\\Users\\ParkHanna\\AppData\\Roaming\\nltk_data...\n",
      "[nltk_data]    |   Package state_union is already up-to-date!\n",
      "[nltk_data]    | Downloading package stopwords to\n",
      "[nltk_data]    |     C:\\Users\\ParkHanna\\AppData\\Roaming\\nltk_data...\n",
      "[nltk_data]    |   Package stopwords is already up-to-date!\n",
      "[nltk_data]    | Downloading package subjectivity to\n",
      "[nltk_data]    |     C:\\Users\\ParkHanna\\AppData\\Roaming\\nltk_data...\n",
      "[nltk_data]    |   Package subjectivity is already up-to-date!\n",
      "[nltk_data]    | Downloading package swadesh to\n",
      "[nltk_data]    |     C:\\Users\\ParkHanna\\AppData\\Roaming\\nltk_data...\n",
      "[nltk_data]    |   Package swadesh is already up-to-date!\n",
      "[nltk_data]    | Downloading package switchboard to\n",
      "[nltk_data]    |     C:\\Users\\ParkHanna\\AppData\\Roaming\\nltk_data...\n",
      "[nltk_data]    |   Package switchboard is already up-to-date!\n",
      "[nltk_data]    | Downloading package tagsets to\n",
      "[nltk_data]    |     C:\\Users\\ParkHanna\\AppData\\Roaming\\nltk_data...\n",
      "[nltk_data]    |   Package tagsets is already up-to-date!\n",
      "[nltk_data]    | Downloading package timit to\n",
      "[nltk_data]    |     C:\\Users\\ParkHanna\\AppData\\Roaming\\nltk_data...\n",
      "[nltk_data]    |   Package timit is already up-to-date!\n",
      "[nltk_data]    | Downloading package toolbox to\n",
      "[nltk_data]    |     C:\\Users\\ParkHanna\\AppData\\Roaming\\nltk_data...\n",
      "[nltk_data]    |   Package toolbox is already up-to-date!\n",
      "[nltk_data]    | Downloading package treebank to\n",
      "[nltk_data]    |     C:\\Users\\ParkHanna\\AppData\\Roaming\\nltk_data...\n",
      "[nltk_data]    |   Package treebank is already up-to-date!\n",
      "[nltk_data]    | Downloading package twitter_samples to\n",
      "[nltk_data]    |     C:\\Users\\ParkHanna\\AppData\\Roaming\\nltk_data...\n"
     ]
    },
    {
     "name": "stderr",
     "output_type": "stream",
     "text": [
      "[nltk_data]    |   Package twitter_samples is already up-to-date!\n",
      "[nltk_data]    | Downloading package udhr to\n",
      "[nltk_data]    |     C:\\Users\\ParkHanna\\AppData\\Roaming\\nltk_data...\n",
      "[nltk_data]    |   Package udhr is already up-to-date!\n",
      "[nltk_data]    | Downloading package udhr2 to\n",
      "[nltk_data]    |     C:\\Users\\ParkHanna\\AppData\\Roaming\\nltk_data...\n",
      "[nltk_data]    |   Package udhr2 is already up-to-date!\n",
      "[nltk_data]    | Downloading package unicode_samples to\n",
      "[nltk_data]    |     C:\\Users\\ParkHanna\\AppData\\Roaming\\nltk_data...\n",
      "[nltk_data]    |   Package unicode_samples is already up-to-date!\n",
      "[nltk_data]    | Downloading package universal_tagset to\n",
      "[nltk_data]    |     C:\\Users\\ParkHanna\\AppData\\Roaming\\nltk_data...\n",
      "[nltk_data]    |   Package universal_tagset is already up-to-date!\n",
      "[nltk_data]    | Downloading package universal_treebanks_v20 to\n",
      "[nltk_data]    |     C:\\Users\\ParkHanna\\AppData\\Roaming\\nltk_data...\n",
      "[nltk_data]    |   Package universal_treebanks_v20 is already up-to-\n",
      "[nltk_data]    |       date!\n",
      "[nltk_data]    | Downloading package vader_lexicon to\n",
      "[nltk_data]    |     C:\\Users\\ParkHanna\\AppData\\Roaming\\nltk_data...\n",
      "[nltk_data]    |   Package vader_lexicon is already up-to-date!\n",
      "[nltk_data]    | Downloading package verbnet to\n",
      "[nltk_data]    |     C:\\Users\\ParkHanna\\AppData\\Roaming\\nltk_data...\n",
      "[nltk_data]    |   Package verbnet is already up-to-date!\n",
      "[nltk_data]    | Downloading package verbnet3 to\n",
      "[nltk_data]    |     C:\\Users\\ParkHanna\\AppData\\Roaming\\nltk_data...\n",
      "[nltk_data]    |   Package verbnet3 is already up-to-date!\n",
      "[nltk_data]    | Downloading package webtext to\n",
      "[nltk_data]    |     C:\\Users\\ParkHanna\\AppData\\Roaming\\nltk_data...\n",
      "[nltk_data]    |   Package webtext is already up-to-date!\n",
      "[nltk_data]    | Downloading package wmt15_eval to\n",
      "[nltk_data]    |     C:\\Users\\ParkHanna\\AppData\\Roaming\\nltk_data...\n",
      "[nltk_data]    |   Package wmt15_eval is already up-to-date!\n",
      "[nltk_data]    | Downloading package word2vec_sample to\n",
      "[nltk_data]    |     C:\\Users\\ParkHanna\\AppData\\Roaming\\nltk_data...\n",
      "[nltk_data]    |   Package word2vec_sample is already up-to-date!\n",
      "[nltk_data]    | Downloading package wordnet to\n",
      "[nltk_data]    |     C:\\Users\\ParkHanna\\AppData\\Roaming\\nltk_data...\n",
      "[nltk_data]    |   Package wordnet is already up-to-date!\n",
      "[nltk_data]    | Downloading package wordnet2021 to\n",
      "[nltk_data]    |     C:\\Users\\ParkHanna\\AppData\\Roaming\\nltk_data...\n",
      "[nltk_data]    |   Package wordnet2021 is already up-to-date!\n",
      "[nltk_data]    | Downloading package wordnet31 to\n",
      "[nltk_data]    |     C:\\Users\\ParkHanna\\AppData\\Roaming\\nltk_data...\n",
      "[nltk_data]    |   Package wordnet31 is already up-to-date!\n",
      "[nltk_data]    | Downloading package wordnet_ic to\n",
      "[nltk_data]    |     C:\\Users\\ParkHanna\\AppData\\Roaming\\nltk_data...\n",
      "[nltk_data]    |   Package wordnet_ic is already up-to-date!\n",
      "[nltk_data]    | Downloading package words to\n",
      "[nltk_data]    |     C:\\Users\\ParkHanna\\AppData\\Roaming\\nltk_data...\n",
      "[nltk_data]    |   Package words is already up-to-date!\n",
      "[nltk_data]    | Downloading package ycoe to\n",
      "[nltk_data]    |     C:\\Users\\ParkHanna\\AppData\\Roaming\\nltk_data...\n",
      "[nltk_data]    |   Package ycoe is already up-to-date!\n",
      "[nltk_data]    | \n",
      "[nltk_data]  Done downloading collection all\n",
      "[nltk_data] Downloading package wordnet to\n",
      "[nltk_data]     C:\\Users\\ParkHanna\\AppData\\Roaming\\nltk_data...\n",
      "[nltk_data]   Package wordnet is already up-to-date!\n",
      "[nltk_data] Downloading package stopwords to\n",
      "[nltk_data]     C:\\Users\\ParkHanna\\AppData\\Roaming\\nltk_data...\n",
      "[nltk_data]   Package stopwords is already up-to-date!\n"
     ]
    },
    {
     "data": {
      "text/plain": [
       "True"
      ]
     },
     "execution_count": 20,
     "metadata": {},
     "output_type": "execute_result"
    }
   ],
   "source": [
    "# nltk.download('all')\n",
    "# nltk.download('wordnet')\n",
    "# nltk.download('stopwords')"
   ]
  },
  {
   "cell_type": "code",
   "execution_count": 34,
   "id": "aff662d8",
   "metadata": {},
   "outputs": [],
   "source": [
    "from nltk.corpus import stopwords\n",
    "stop_word_eng = set(stopwords.words('english'))\n",
    "line2 = [i for i in line2 if i not in stop_word_eng]"
   ]
  },
  {
   "cell_type": "code",
   "execution_count": 35,
   "id": "e2b72c78",
   "metadata": {},
   "outputs": [
    {
     "name": "stdout",
     "output_type": "stream",
     "text": [
      "['my name is donna williams, a science teacher at rogan  ', 'high school. i am planning a special workshop for our science  ', 'teachers. we are interested in learning how to teach online  ', 'science classes. i have been impressed with your ideas about  ', 'using internet platforms for science classes. since you are an  ', 'expert in online education, i would like to ask you to deliver  ', 'a special lecture at the workshop scheduled for next month.  ', 'i am sure the lecture will help our teachers manage successful  ', 'online science classes, and i hope we can learn from your  ', 'insights. i am looking forward to hearing from you ', 'it was evelyn’s first time to explore the badlands of  ', 'alberta, famous across canada for its numerous dinosaur  ', 'fossils. as a young amateur bone-hunter, she was overflowing  ', 'with anticipation. she had not travelled this far for the bones ', 'of common dinosaur species. her life-long dream to find rare  ', 'fossils of dinosaurs was about to come true. she began eagerly  ', 'searching for them. after many hours of wandering throughout  ', 'the deserted lands, however, she was unsuccessful. now, the  ', 'sun was beginning to set, and her goal was still far beyond her ', 'reach. looking at the slowly darkening ground before her, she  ', 'sighed to herself ', 'one of the most common mistakes made by organizations  ', 'when they first consider experimenting with social media is  ', 'that they focus too much on social media tools and platforms  ', 'and not enough on their business objectives. the reality of  ', 'success in the social web for businesses is that creating a social  ', 'media program begins not with insight into the latest social  ', 'media tools and channels but with a thorough understanding of  ', 'the organization’s own goals and objectives. a social media  ', 'program is not merely the fulfillment of a vague need to manage ', 'a “presence” on popular social networks because “everyone  ', 'else is doing it.” “being in social media” serves no purpose  ', 'in and of itself. in order to serve any purpose at all, a social  ', 'media presence must either solve a problem for the organization ', 'and its customers or result in an improvement of some sort  ', '(preferably a measurable one). in all things, purpose drives  ', 'success. the world of social media is no different. ', 'scientists have no special purchase on moral or ethical  ', 'decisions; a climate scientist is no more qualified to comment  ', 'on health care reform than a physicist is to judge the causes of  ', 'bee colony collapse. the very features that create expertise in a  ', 'specialized domain lead to ignorance in many others. in some  ', 'cases lay people ― farmers, fishermen, patients, native peoples ― ', 'may have relevant experiences that scientists can learn from.  ', 'indeed, in recent years, scientists have begun to recognize this:  ', 'the arctic climate impact assessment includes observations  ', 'gathered from local native groups. so our trust needs to be  ', 'limited, and focused. it needs to be very particular. blind trust  ', 'will get us into at least as much trouble as no trust at all. but  ', 'without some degree of trust in our designated experts ― the  ', 'men and women who have devoted their lives to sorting out  ', 'tough questions about the natural world we live in ― we are  ', 'paralyzed, in effect not knowing ', 'scientists use paradigms rather than believing them. the use  ', 'of a paradigm in research typically addresses related problems  ', 'by employing shared concepts, symbolic expressions,  ', 'experimental and mathematical tools and procedures, and even  ', 'some of the same theoretical statements. scientists need only  ', 'understand how to use these various elements in ways that  ', 'others would accept. these elements of shared practice thus  ', 'need not presuppose any comparable unity in scientists’ beliefs ', 'about what they are doing when they use them. indeed, one role  ', 'of a paradigm is to enable scientists to work successfully  ', 'without having to provide a detailed account of what they are  ', 'doing or what they believe about it. thomas kuhn noted that  ', 'scientists “can agree in their identification of a paradigm without  ', 'agreeing on, or even attempting to produce, a full interpretation ', 'or rationalization of it. lack of a standard interpretation or of  ', 'an agreed reduction to rules will not prevent a paradigm from  ', 'guiding research ', 'environmental hazards include biological, physical, and  ', 'chemical ones, along with the human behaviors that promote  ', 'or allow exposure. some environmental contaminants are  ', 'difficult to avoid (the breathing of polluted air, the drinking of  ', 'chemically contaminated public drinking water, noise in open  ', 'public spaces); in these circumstances, exposure is largely  ', 'involuntary. reduction or elimination of these factors may require  ', 'societal action, such as public awareness and public health  ', 'measures. in many countries, the fact that some environmental  ', 'hazards are difficult to avoid at the individual level is felt to be  ', 'more morally egregious than those hazards that can be avoided.  ', 'having no choice but to drink water contaminated with very  ', 'high levels of arsenic, or being forced to passively breathe in ', 'tobacco smoke in restaurants, outrages people more than the  ', 'personal choice of whether an individual smokes tobacco.  ', 'these factors are important when one considers how change  ', '(risk reduction) happens ', 'mending and restoring objects often require even more  ', 'creativity than original production. the preindustrial blacksmith  ', 'made things to order for people in his immediate community;  ', 'customizing the product, modifying or transforming it according ', 'to the user, was routine. customers would bring things back if  ', 'something went wrong; repair was thus an extension of  ', 'fabrication. with industrialization and eventually with mass  ', 'production, making things became the province of machine  ', 'tenders with limited knowledge. but repair continued to require ', 'a larger grasp of design and materials, an understanding of the ', 'whole and a comprehension of the designer’s intentions.  ', '“manufacturers all work by machinery or by vast subdivision  ', 'of labour and not, so to speak, by hand,” an 1896 manual of  ', 'mending and repairing explained. “but all repairing must be  ', 'done by hand. we can make every detail of a watch or of a  ', 'gun by machinery, but the machine cannot mend it when  ', 'donato bramante, born in fermignano, italy, began to paint  ', 'early in his life. his father encouraged him to study painting. ', 'later, he worked as an assistant of piero della francesca in  ', 'urbino. around 1480, he built several churches in a new style  ', 'in milan. he had a close relationship with leonardo da vinci,  ', 'and they worked together in that city. architecture became his  ', 'main interest, but he did not give up painting. bramante  ', 'moved to rome in 1499 and participated in pope julius ii’s  ', 'plan for the renewal of rome. he planned the new basilica of  ', 'st. peter in rome ― one of the most ambitious building projects  ', 'in the history of humankind. bramante died on april 11, 1514  ', 'and was buried in rome. his buildings influenced other  ', 'architects for centuries. for that reason, the people who monitor and control the  ', 'behavior of users should also be users and/or have been given  ', 'a mandate by all users. this is a significant insight, as it shows  ', 'that prospects are poor for a centrally directed solution to the  ', 'problem of the commons coming from a state power in  ', 'comparison with a local solution for which users assume  ', 'personal responsibility. ostrom also emphasizes the importance  ', 'of democratic decision processes and that all users must be  ', 'given access to local forums for solving problems and conflicts ', 'among themselves. political institutions at central, regional,  ', 'and local levels must allow users to devise their own regulations  ', 'and independently ensure observance. ']\n"
     ]
    }
   ],
   "source": [
    "print(line2)"
   ]
  },
  {
   "cell_type": "markdown",
   "id": "4b2258e3",
   "metadata": {},
   "source": [
    "# 전처리 - 문장에서 추출"
   ]
  },
  {
   "cell_type": "code",
   "execution_count": 23,
   "id": "3a7233e6",
   "metadata": {},
   "outputs": [
    {
     "name": "stdout",
     "output_type": "stream",
     "text": [
      "['시간', '사회', '법적', '종교', '다른', '의식', '위', '장소', '제공', '건물', '우리', '나중', '인식', '건물', '기능', '결부', '형태', '발전', '것', '방향', '과정', '건물', '상징', '장소', '기차', '여행', '극장', '것', '사회', '의식', '위', '물리', '환경', '장소', '제공', '건물', '의미', '경험', '발전', '확립', '다음', '우리', '우리', '경험', '의미', '건물', '불어', '건물', '투사', '경험', '통해', '우리', '마음속', '공감', '수', '반응', '반응', '강도', '우리', '문화', '믿음', '기대', '결정', '그것', '이야기', '그것', '형태', '공간', '구성', '그것', '사용', '대한', '힌트', '우리', '주기', '때문', '그것', '물리', '배치', '사용', '권장', '다른', '사용', '제한', '우리', '초대', '극장', '무대', '뒤', '가지', '법정', '안', '법적', '절차', '과정', '관련', '사람', '위치', '설계', '필수', '부분', '법', '유지', '것', '꼭', '부분', '사람', '근본', '통제', '수', '상황', '통제', '때', '그', '수준', '스트레스', '경험', '경향', '따라서', '상황', '적극', '통제', '취할', '필요', '제안', '것', '충고', '그', '필요', '것', '일', '그', '통제', '음', '인정', '것', '마찬가지', '사람', '수', '상황', '것', '충고', '수', '것', '방법', '적극', '통제', '것', '이기', '때문', '연구', '사람', '통제', '데', '때', '불안', '우울증', '부정', '감정', '상태', '경험', '것', '부정', '감정', '스트레스', '면역', '반응', '손상', '수', '것', '우리', '건강', '통제', '곧장', '연결', '것', '최적', '건강', '위해', '사람', '정도', '통제', '더', '이상', '통제', '때', '인식', '권장', '토템', '집단', '부족', '존중', '집단', '상징', '동식물', '말', '토테미즘', '토템', '인간', '관계', '제도', '신앙', '동식물', '신앙', '의미', '토템', '말', '원래', '북아메리카', '인디언', '유래', '인디언', '동식물', '시', '자신', '부족', '관계', '그', '식물', '토템', '집단', '표상', '삼은', '데', '유래', '국가', '형성', '과정', '신화', '설화', '존재', '사회', '규범', '연관', '우리', '나라', '고조선', '건국', '신화', '곰', '호랑이', '부족', '환웅', '부족', '결', '고조선', '건국', '것', '토테미즘', '원시', '사회', '부족', '신앙', '역할', '그', '통', '사회', '질서', '유지', '사회', '규범', '작용', '부족', '특정', '동식물', '연관', '시킴', '부족', '정신', '통일', '그', '특정', '동식물', '숭상', '함', '통치', '종교', '지배', '수', '영혼', '하늘', '인간', '연결', '존재', '무당', '샤먼', '이', '직접', '하늘', '교류', '예언', '거나', '질병', '치료', '수', '신앙', '사람', '영혼', '영혼', '숭배', '조상숭배', '인간', '영혼', '인간', '하늘', '연결', '무당', '그', '주술', '수렵', '풍요', '가족', '안전', '전쟁', '승리', '등', '기원', '사회', '통합', '중심', '역할', '수행', '애니미즘', '정령', '숭배', '사상', '애니미즘', '모든', '동식물', '장소', '사물', '자연현상', '정령', '깃', '인간', '직접', '소통', '수', '믿음', '의미', '농경', '정착', '생활', '인간', '자연', '섭리', '생각', '농사', '영향', '자연현상', '자연', '물', '정령', '믿음', '유래', '풍요', '생산', '기원', '의미', '조상', '숭배', '의식', '혈연', '입각', '집단', '수반', '고', '그', '때문', '씨족', '부족', '단위', '사회', '형성', '볼', '수', '생각', '씨족', '조상', '직계', '혈연', '집단', '부족', '혼인', '등', '통해', '씨족', '씨족', '결', '공통', '언어', '신앙', '지니', '나중', '조상', '숭배', '집단', '것']\n"
     ]
    }
   ],
   "source": [
    "#명사만 추출\n",
    "from konlpy.tag import Okt \n",
    "okt = Okt()\n",
    "selec = []\n",
    "selec=[okt.nouns(i) for i in line]\n",
    "final_selec = [r for i in selec for r in i]\n",
    "print(final_selec)"
   ]
  },
  {
   "cell_type": "markdown",
   "id": "831c3177",
   "metadata": {},
   "source": [
    "영어 전처리 - 품사 분석 및 어근이 같은  부분 동일화, 토큰화 하기 <br>\n",
    "텍스트 리스타가 문장으로 되어 형태소 분석으로 품사를 나누어야 한다.<br>\n",
    "영어는 문장을 토큰화 한 다음 어근 동일화 후에 불용어 처리한다. <br>\n",
    "어근 동일화란 take-took-taken 과 같이 동일한 의미이나 형태가 다른 단어들을 컴퓨터가 같은 단어로 인식할 수 있도록 한다. <br>\n",
    "영어는 RegexpTokenizer를 이용하여 토큰화 한다.<br>\n",
    "PorterStemmer을 이용하여 어근 동일화 수행한다. "
   ]
  },
  {
   "cell_type": "code",
   "execution_count": 36,
   "id": "51cb6f5d",
   "metadata": {},
   "outputs": [],
   "source": [
    "import nltk\n",
    "from nltk.tokenize import RegexpTokenizer\n",
    "from nltk.stem.porter import PorterStemmer"
   ]
  },
  {
   "cell_type": "code",
   "execution_count": 37,
   "id": "5394c7d5",
   "metadata": {},
   "outputs": [
    {
     "name": "stdout",
     "output_type": "stream",
     "text": [
      "['name', 'donna', 'william', 'scienc', 'teacher', 'rogan', 'high', 'school', 'plan', 'special', 'workshop', 'scienc', 'teacher', 'interest', 'learn', 'teach', 'onlin', 'scienc', 'class', 'impress', 'idea', 'use', 'internet', 'platform', 'scienc', 'class', 'sinc', 'expert', 'onlin', 'educ', 'would', 'like', 'ask', 'deliv', 'special', 'lectur', 'workshop', 'schedul', 'next', 'month', 'sure', 'lectur', 'help', 'teacher', 'manag', 'success', 'onlin', 'scienc', 'class', 'hope', 'learn', 'insight', 'look', 'forward', 'hear', 'evelyn', 'first', 'time', 'explor', 'badland', 'alberta', 'famou', 'across', 'canada', 'numer', 'dinosaur', 'fossil', 'young', 'amateur', 'bone', 'hunter', 'overflow', 'anticip', 'travel', 'far', 'bone', 'common', 'dinosaur', 'speci', 'life', 'long', 'dream', 'find', 'rare', 'fossil', 'dinosaur', 'come', 'true', 'began', 'eagerli', 'search', 'mani', 'hour', 'wander', 'throughout', 'desert', 'land', 'howev', 'unsuccess', 'sun', 'begin', 'set', 'goal', 'still', 'far', 'beyond', 'reach', 'look', 'slowli', 'darken', 'ground', 'sigh', 'one', 'common', 'mistak', 'made', 'organ', 'first', 'consid', 'experi', 'social', 'media', 'focu', 'much', 'social', 'media', 'tool', 'platform', 'enough', 'busi', 'object', 'realiti', 'success', 'social', 'web', 'busi', 'creat', 'social', 'media', 'program', 'begin', 'insight', 'latest', 'social', 'media', 'tool', 'channel', 'thorough', 'understand', 'organ', 'goal', 'object', 'social', 'media', 'program', 'mere', 'fulfil', 'vagu', 'need', 'manag', 'presenc', 'popular', 'social', 'network', 'everyon', 'els', 'social', 'media', 'serv', 'purpos', 'order', 'serv', 'purpos', 'social', 'media', 'presenc', 'must', 'either', 'solv', 'problem', 'organ', 'custom', 'result', 'improv', 'sort', 'prefer', 'measur', 'one', 'thing', 'purpos', 'drive', 'success', 'world', 'social', 'media', 'differ', 'scientist', 'special', 'purchas', 'moral', 'ethic', 'decis', 'climat', 'scientist', 'qualifi', 'comment', 'health', 'care', 'reform', 'physicist', 'judg', 'caus', 'bee', 'coloni', 'collaps', 'featur', 'creat', 'expertis', 'special', 'domain', 'lead', 'ignor', 'mani', 'other', 'case', 'lay', 'peopl', 'farmer', 'fishermen', 'patient', 'nativ', 'peopl', 'may', 'relev', 'experi', 'scientist', 'learn', 'inde', 'recent', 'year', 'scientist', 'begun', 'recogn', 'arctic', 'climat', 'impact', 'assess', 'includ', 'observ', 'gather', 'local', 'nativ', 'group', 'trust', 'need', 'limit', 'focus', 'need', 'particular', 'blind', 'trust', 'get', 'us', 'least', 'much', 'troubl', 'trust', 'without', 'degre', 'trust', 'design', 'expert', 'men', 'women', 'devot', 'live', 'sort', 'tough', 'question', 'natur', 'world', 'live', 'paralyz', 'effect', 'know', 'scientist', 'use', 'paradigm', 'rather', 'believ', 'use', 'paradigm', 'research', 'typic', 'address', 'relat', 'problem', 'employ', 'share', 'concept', 'symbol', 'express', 'experiment', 'mathemat', 'tool', 'procedur', 'even', 'theoret', 'statement', 'scientist', 'need', 'understand', 'use', 'variou', 'element', 'way', 'other', 'would', 'accept', 'element', 'share', 'practic', 'thu', 'need', 'presuppos', 'compar', 'uniti', 'scientist', 'belief', 'use', 'inde', 'one', 'role', 'paradigm', 'enabl', 'scientist', 'work', 'success', 'without', 'provid', 'detail', 'account', 'believ', 'thoma', 'kuhn', 'note', 'scientist', 'agre', 'identif', 'paradigm', 'without', 'agre', 'even', 'attempt', 'produc', 'full', 'interpret', 'ration', 'lack', 'standard', 'interpret', 'agre', 'reduct', 'rule', 'prevent', 'paradigm', 'guid', 'research', 'environment', 'hazard', 'includ', 'biolog', 'physic', 'chemic', 'one', 'along', 'human', 'behavior', 'promot', 'allow', 'exposur', 'environment', 'contamin', 'difficult', 'avoid', 'breath', 'pollut', 'air', 'drink', 'chemic', 'contamin', 'public', 'drink', 'water', 'nois', 'open', 'public', 'space', 'circumst', 'exposur', 'larg', 'involuntari', 'reduct', 'elimin', 'factor', 'may', 'requir', 'societ', 'action', 'public', 'awar', 'public', 'health', 'measur', 'mani', 'countri', 'fact', 'environment', 'hazard', 'difficult', 'avoid', 'individu', 'level', 'felt', 'moral', 'egregi', 'hazard', 'avoid', 'choic', 'drink', 'water', 'contamin', 'high', 'level', 'arsen', 'forc', 'passiv', 'breath', 'tobacco', 'smoke', 'restaur', 'outrag', 'peopl', 'person', 'choic', 'whether', 'individu', 'smoke', 'tobacco', 'factor', 'import', 'one', 'consid', 'chang', 'risk', 'reduct', 'happen', 'mend', 'restor', 'object', 'often', 'requir', 'even', 'creativ', 'origin', 'product', 'preindustri', 'blacksmith', 'made', 'thing', 'order', 'peopl', 'immedi', 'commun', 'custom', 'product', 'modifi', 'transform', 'accord', 'user', 'routin', 'custom', 'would', 'bring', 'thing', 'back', 'someth', 'went', 'wrong', 'repair', 'thu', 'extens', 'fabric', 'industri', 'eventu', 'mass', 'product', 'make', 'thing', 'becam', 'provinc', 'machin', 'tender', 'limit', 'knowledg', 'repair', 'continu', 'requir', 'larger', 'grasp', 'design', 'materi', 'understand', 'whole', 'comprehens', 'design', 'intent', 'manufactur', 'work', 'machineri', 'vast', 'subdivis', 'labour', 'speak', 'hand', '1896', 'manual', 'mend', 'repair', 'explain', 'repair', 'must', 'done', 'hand', 'make', 'everi', 'detail', 'watch', 'gun', 'machineri', 'machin', 'cannot', 'mend', 'donato', 'bramant', 'born', 'fermignano', 'itali', 'began', 'paint', 'earli', 'life', 'father', 'encourag', 'studi', 'paint', 'later', 'work', 'assist', 'piero', 'della', 'francesca', 'urbino', 'around', '1480', 'built', 'sever', 'church', 'new', 'style', 'milan', 'close', 'relationship', 'leonardo', 'da', 'vinci', 'work', 'togeth', 'citi', 'architectur', 'becam', 'main', 'interest', 'give', 'paint', 'bramant', 'move', 'rome', '1499', 'particip', 'pope', 'juliu', 'ii', 'plan', 'renew', 'rome', 'plan', 'new', 'basilica', 'st', 'peter', 'rome', 'one', 'ambiti', 'build', 'project', 'histori', 'humankind', 'bramant', 'die', 'april', '11', '1514', 'buri', 'rome', 'build', 'influenc', 'architect', 'centuri', 'reason', 'peopl', 'monitor', 'control', 'behavior', 'user', 'also', 'user', 'given', 'mandat', 'user', 'signific', 'insight', 'show', 'prospect', 'poor', 'central', 'direct', 'solut', 'problem', 'common', 'come', 'state', 'power', 'comparison', 'local', 'solut', 'user', 'assum', 'person', 'respons', 'ostrom', 'also', 'emphas', 'import', 'democrat', 'decis', 'process', 'user', 'must', 'given', 'access', 'local', 'forum', 'solv', 'problem', 'conflict', 'among', 'polit', 'institut', 'central', 'region', 'local', 'level', 'must', 'allow', 'user', 'devis', 'regul', 'independ', 'ensur', 'observ']\n"
     ]
    }
   ],
   "source": [
    "ps_stemmer = PorterStemmer()\n",
    "token = RegexpTokenizer('[\\w]+')\n",
    "result2 = [token.tokenize(i) for i in line2]\n",
    "middle_result2 = [r for i in result2 for r in i]\n",
    "final_result2 = [ps_stemmer.stem(i) for i in middle_result2 if not i in stop_word_eng]\n",
    "print(final_result2)"
   ]
  },
  {
   "cell_type": "markdown",
   "id": "12c6dce0",
   "metadata": {},
   "source": [
    "영어 표제어 추출 사용"
   ]
  },
  {
   "cell_type": "code",
   "execution_count": 38,
   "id": "88055ef3",
   "metadata": {},
   "outputs": [],
   "source": [
    "from nltk.stem import WordNetLemmatizer"
   ]
  },
  {
   "cell_type": "code",
   "execution_count": 39,
   "id": "b22b8013",
   "metadata": {},
   "outputs": [],
   "source": [
    "lemmatizer = WordNetLemmatizer()"
   ]
  },
  {
   "cell_type": "code",
   "execution_count": 40,
   "id": "3d4cf1fc",
   "metadata": {},
   "outputs": [
    {
     "name": "stdout",
     "output_type": "stream",
     "text": [
      "['name', 'donna', 'williams', 'science', 'teacher', 'rogan', 'high', 'school', 'planning', 'special', 'workshop', 'science', 'teacher', 'interested', 'learning', 'teach', 'online', 'science', 'class', 'impressed', 'idea', 'using', 'internet', 'platform', 'science', 'class', 'since', 'expert', 'online', 'education', 'would', 'like', 'ask', 'deliver', 'special', 'lecture', 'workshop', 'scheduled', 'next', 'month', 'sure', 'lecture', 'help', 'teacher', 'manage', 'successful', 'online', 'science', 'class', 'hope', 'learn', 'insight', 'looking', 'forward', 'hearing', 'evelyn', 'first', 'time', 'explore', 'badlands', 'alberta', 'famous', 'across', 'canada', 'numerous', 'dinosaur', 'fossil', 'young', 'amateur', 'bone', 'hunter', 'overflowing', 'anticipation', 'travelled', 'far', 'bone', 'common', 'dinosaur', 'specie', 'life', 'long', 'dream', 'find', 'rare', 'fossil', 'dinosaur', 'come', 'true', 'began', 'eagerly', 'searching', 'many', 'hour', 'wandering', 'throughout', 'deserted', 'land', 'however', 'unsuccessful', 'sun', 'beginning', 'set', 'goal', 'still', 'far', 'beyond', 'reach', 'looking', 'slowly', 'darkening', 'ground', 'sighed', 'one', 'common', 'mistake', 'made', 'organization', 'first', 'consider', 'experimenting', 'social', 'medium', 'focus', 'much', 'social', 'medium', 'tool', 'platform', 'enough', 'business', 'objective', 'reality', 'success', 'social', 'web', 'business', 'creating', 'social', 'medium', 'program', 'begin', 'insight', 'latest', 'social', 'medium', 'tool', 'channel', 'thorough', 'understanding', 'organization', 'goal', 'objective', 'social', 'medium', 'program', 'merely', 'fulfillment', 'vague', 'need', 'manage', 'presence', 'popular', 'social', 'network', 'everyone', 'else', 'social', 'medium', 'serf', 'purpose', 'order', 'serve', 'purpose', 'social', 'medium', 'presence', 'must', 'either', 'solve', 'problem', 'organization', 'customer', 'result', 'improvement', 'sort', 'preferably', 'measurable', 'one', 'thing', 'purpose', 'drive', 'success', 'world', 'social', 'medium', 'different', 'scientist', 'special', 'purchase', 'moral', 'ethical', 'decision', 'climate', 'scientist', 'qualified', 'comment', 'health', 'care', 'reform', 'physicist', 'judge', 'cause', 'bee', 'colony', 'collapse', 'feature', 'create', 'expertise', 'specialized', 'domain', 'lead', 'ignorance', 'many', 'others', 'case', 'lay', 'people', 'farmer', 'fisherman', 'patient', 'native', 'people', 'may', 'relevant', 'experience', 'scientist', 'learn', 'indeed', 'recent', 'year', 'scientist', 'begun', 'recognize', 'arctic', 'climate', 'impact', 'assessment', 'includes', 'observation', 'gathered', 'local', 'native', 'group', 'trust', 'need', 'limited', 'focused', 'need', 'particular', 'blind', 'trust', 'get', 'u', 'least', 'much', 'trouble', 'trust', 'without', 'degree', 'trust', 'designated', 'expert', 'men', 'woman', 'devoted', 'life', 'sorting', 'tough', 'question', 'natural', 'world', 'live', 'paralyzed', 'effect', 'knowing', 'scientist', 'use', 'paradigm', 'rather', 'believing', 'use', 'paradigm', 'research', 'typically', 'address', 'related', 'problem', 'employing', 'shared', 'concept', 'symbolic', 'expression', 'experimental', 'mathematical', 'tool', 'procedure', 'even', 'theoretical', 'statement', 'scientist', 'need', 'understand', 'use', 'various', 'element', 'way', 'others', 'would', 'accept', 'element', 'shared', 'practice', 'thus', 'need', 'presuppose', 'comparable', 'unity', 'scientist', 'belief', 'use', 'indeed', 'one', 'role', 'paradigm', 'enable', 'scientist', 'work', 'successfully', 'without', 'provide', 'detailed', 'account', 'believe', 'thomas', 'kuhn', 'noted', 'scientist', 'agree', 'identification', 'paradigm', 'without', 'agreeing', 'even', 'attempting', 'produce', 'full', 'interpretation', 'rationalization', 'lack', 'standard', 'interpretation', 'agreed', 'reduction', 'rule', 'prevent', 'paradigm', 'guiding', 'research', 'environmental', 'hazard', 'include', 'biological', 'physical', 'chemical', 'one', 'along', 'human', 'behavior', 'promote', 'allow', 'exposure', 'environmental', 'contaminant', 'difficult', 'avoid', 'breathing', 'polluted', 'air', 'drinking', 'chemically', 'contaminated', 'public', 'drinking', 'water', 'noise', 'open', 'public', 'space', 'circumstance', 'exposure', 'largely', 'involuntary', 'reduction', 'elimination', 'factor', 'may', 'require', 'societal', 'action', 'public', 'awareness', 'public', 'health', 'measure', 'many', 'country', 'fact', 'environmental', 'hazard', 'difficult', 'avoid', 'individual', 'level', 'felt', 'morally', 'egregious', 'hazard', 'avoided', 'choice', 'drink', 'water', 'contaminated', 'high', 'level', 'arsenic', 'forced', 'passively', 'breathe', 'tobacco', 'smoke', 'restaurant', 'outrage', 'people', 'personal', 'choice', 'whether', 'individual', 'smoke', 'tobacco', 'factor', 'important', 'one', 'considers', 'change', 'risk', 'reduction', 'happens', 'mending', 'restoring', 'object', 'often', 'require', 'even', 'creativity', 'original', 'production', 'preindustrial', 'blacksmith', 'made', 'thing', 'order', 'people', 'immediate', 'community', 'customizing', 'product', 'modifying', 'transforming', 'according', 'user', 'routine', 'customer', 'would', 'bring', 'thing', 'back', 'something', 'went', 'wrong', 'repair', 'thus', 'extension', 'fabrication', 'industrialization', 'eventually', 'mass', 'production', 'making', 'thing', 'became', 'province', 'machine', 'tender', 'limited', 'knowledge', 'repair', 'continued', 'require', 'larger', 'grasp', 'design', 'material', 'understanding', 'whole', 'comprehension', 'designer', 'intention', 'manufacturer', 'work', 'machinery', 'vast', 'subdivision', 'labour', 'speak', 'hand', '1896', 'manual', 'mending', 'repairing', 'explained', 'repairing', 'must', 'done', 'hand', 'make', 'every', 'detail', 'watch', 'gun', 'machinery', 'machine', 'cannot', 'mend', 'donato', 'bramante', 'born', 'fermignano', 'italy', 'began', 'paint', 'early', 'life', 'father', 'encouraged', 'study', 'painting', 'later', 'worked', 'assistant', 'piero', 'della', 'francesca', 'urbino', 'around', '1480', 'built', 'several', 'church', 'new', 'style', 'milan', 'close', 'relationship', 'leonardo', 'da', 'vinci', 'worked', 'together', 'city', 'architecture', 'became', 'main', 'interest', 'give', 'painting', 'bramante', 'moved', 'rome', '1499', 'participated', 'pope', 'julius', 'ii', 'plan', 'renewal', 'rome', 'planned', 'new', 'basilica', 'st', 'peter', 'rome', 'one', 'ambitious', 'building', 'project', 'history', 'humankind', 'bramante', 'died', 'april', '11', '1514', 'buried', 'rome', 'building', 'influenced', 'architect', 'century', 'reason', 'people', 'monitor', 'control', 'behavior', 'user', 'also', 'user', 'given', 'mandate', 'user', 'significant', 'insight', 'show', 'prospect', 'poor', 'centrally', 'directed', 'solution', 'problem', 'common', 'coming', 'state', 'power', 'comparison', 'local', 'solution', 'user', 'assume', 'personal', 'responsibility', 'ostrom', 'also', 'emphasizes', 'importance', 'democratic', 'decision', 'process', 'user', 'must', 'given', 'access', 'local', 'forum', 'solving', 'problem', 'conflict', 'among', 'political', 'institution', 'central', 'regional', 'local', 'level', 'must', 'allow', 'user', 'devise', 'regulation', 'independently', 'ensure', 'observance']\n"
     ]
    }
   ],
   "source": [
    "token = RegexpTokenizer('[\\w]+')\n",
    "result_pre_lem = [token.tokenize(i) for i in line2]\n",
    "middle_pre_lem = [r for i in result_pre_lem for r in i]\n",
    "final_lem = [lemmatizer.lemmatize(i) for i in middle_pre_lem if not i in stop_word_eng]\n",
    "print(final_lem)"
   ]
  },
  {
   "cell_type": "markdown",
   "id": "b077ee01",
   "metadata": {},
   "source": [
    "# 기술적 통계 분석"
   ]
  },
  {
   "cell_type": "code",
   "execution_count": 43,
   "id": "435f72ee",
   "metadata": {},
   "outputs": [],
   "source": [
    "kor = pd.Series(final_selec).value_counts()\n",
    "eng = pd.Series(final_result2).value_counts()"
   ]
  },
  {
   "cell_type": "code",
   "execution_count": 44,
   "id": "7ee83eef",
   "metadata": {},
   "outputs": [
    {
     "name": "stdout",
     "output_type": "stream",
     "text": [
      "한국어 1~10\n"
     ]
    },
    {
     "data": {
      "text/plain": [
       "것     14\n",
       "통제     9\n",
       "부족     9\n",
       "수      9\n",
       "우리     9\n",
       "그      8\n",
       "사회     8\n",
       "건물     6\n",
       "사람     6\n",
       "집단     6\n",
       "dtype: int64"
      ]
     },
     "execution_count": 44,
     "metadata": {},
     "output_type": "execute_result"
    }
   ],
   "source": [
    "print(\"한국어 1~10\")\n",
    "kor.head(10)"
   ]
  },
  {
   "cell_type": "code",
   "execution_count": 45,
   "id": "b6846105",
   "metadata": {},
   "outputs": [
    {
     "name": "stdout",
     "output_type": "stream",
     "text": [
      "영어 1~10\n"
     ]
    },
    {
     "data": {
      "text/plain": [
       "social       10\n",
       "scientist     9\n",
       "media         8\n",
       "user          7\n",
       "one           6\n",
       "use           5\n",
       "need          5\n",
       "peopl         5\n",
       "scienc        5\n",
       "paradigm      5\n",
       "dtype: int64"
      ]
     },
     "execution_count": 45,
     "metadata": {},
     "output_type": "execute_result"
    }
   ],
   "source": [
    "print(\"영어 1~10\")\n",
    "eng.head(10)"
   ]
  },
  {
   "cell_type": "code",
   "execution_count": null,
   "id": "bfcdc89a",
   "metadata": {},
   "outputs": [],
   "source": []
  }
 ],
 "metadata": {
  "kernelspec": {
   "display_name": "Python 3 (ipykernel)",
   "language": "python",
   "name": "python3"
  },
  "language_info": {
   "codemirror_mode": {
    "name": "ipython",
    "version": 3
   },
   "file_extension": ".py",
   "mimetype": "text/x-python",
   "name": "python",
   "nbconvert_exporter": "python",
   "pygments_lexer": "ipython3",
   "version": "3.9.12"
  }
 },
 "nbformat": 4,
 "nbformat_minor": 5
}
