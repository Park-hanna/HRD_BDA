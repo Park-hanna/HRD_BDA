{
 "cells": [
  {
   "cell_type": "code",
   "execution_count": 1,
   "id": "eb9cd78c",
   "metadata": {},
   "outputs": [
    {
     "name": "stdout",
     "output_type": "stream",
     "text": [
      "Requirement already satisfied: pandas in c:\\users\\parkhanna\\anaconda3\\lib\\site-packages (1.4.2)\n",
      "Requirement already satisfied: numpy>=1.18.5 in c:\\users\\parkhanna\\anaconda3\\lib\\site-packages (from pandas) (1.21.5)\n",
      "Requirement already satisfied: pytz>=2020.1 in c:\\users\\parkhanna\\anaconda3\\lib\\site-packages (from pandas) (2021.3)\n",
      "Requirement already satisfied: python-dateutil>=2.8.1 in c:\\users\\parkhanna\\anaconda3\\lib\\site-packages (from pandas) (2.8.2)\n",
      "Requirement already satisfied: six>=1.5 in c:\\users\\parkhanna\\anaconda3\\lib\\site-packages (from python-dateutil>=2.8.1->pandas) (1.16.0)\n"
     ]
    }
   ],
   "source": [
    "!pip install pandas"
   ]
  },
  {
   "cell_type": "code",
   "execution_count": 1,
   "id": "bb62cb72",
   "metadata": {},
   "outputs": [],
   "source": [
    "import pandas as pd\n",
    "import numpy as np"
   ]
  },
  {
   "cell_type": "code",
   "execution_count": 3,
   "id": "af5b7c10",
   "metadata": {},
   "outputs": [],
   "source": [
    "data = [1,2,3,4]"
   ]
  },
  {
   "cell_type": "code",
   "execution_count": 4,
   "id": "912a4494",
   "metadata": {},
   "outputs": [],
   "source": [
    "s = pd.Series(data)"
   ]
  },
  {
   "cell_type": "code",
   "execution_count": 5,
   "id": "3c095450",
   "metadata": {},
   "outputs": [
    {
     "name": "stdout",
     "output_type": "stream",
     "text": [
      "0    1\n",
      "1    2\n",
      "2    3\n",
      "3    4\n",
      "dtype: int64\n"
     ]
    }
   ],
   "source": [
    "print(s)"
   ]
  },
  {
   "cell_type": "code",
   "execution_count": 6,
   "id": "79f4ed9b",
   "metadata": {},
   "outputs": [],
   "source": [
    "from pandas import Series"
   ]
  },
  {
   "cell_type": "code",
   "execution_count": 7,
   "id": "35462f18",
   "metadata": {},
   "outputs": [
    {
     "name": "stdout",
     "output_type": "stream",
     "text": [
      "0    0\n",
      "1    1\n",
      "2    2\n",
      "3    3\n",
      "4    4\n",
      "dtype: int32\n"
     ]
    }
   ],
   "source": [
    "data = np.arange(5)\n",
    "s = Series(data)\n",
    "print(s)"
   ]
  },
  {
   "cell_type": "code",
   "execution_count": 9,
   "id": "d6c96719",
   "metadata": {},
   "outputs": [
    {
     "name": "stdout",
     "output_type": "stream",
     "text": [
      "       product  price  num  total_price\n",
      "pen     pencil    200   13         2600\n",
      "era    erasser    500    5         2500\n",
      "note  notebook   1500   10        15000\n"
     ]
    }
   ],
   "source": [
    "product_dic = {\n",
    "    'pen' : 'pencil',\n",
    "    'era' : 'erasser',\n",
    "    'note' : 'notebook'\n",
    "}\n",
    "\n",
    "price_dic = {\n",
    "    'pen' : 200,\n",
    "    'era' : 500,\n",
    "    'note' : 1500\n",
    "}\n",
    "\n",
    "num_dic = {\n",
    "    'pen' : 13,\n",
    "    'era' : 5,\n",
    "    'note' : 10\n",
    "}\n",
    "\n",
    "product = pd.Series(product_dic)\n",
    "price = pd.Series(price_dic)\n",
    "num = pd.Series(num_dic)\n",
    "\n",
    "sum = pd.DataFrame({\n",
    "    'product' : product,\n",
    "    'price' : price,\n",
    "    'num' : num\n",
    "})\n",
    "\n",
    "total_price = sum['price'] * sum['num']\n",
    "\n",
    "sum['total_price'] = total_price\n",
    "\n",
    "print(sum)"
   ]
  },
  {
   "cell_type": "code",
   "execution_count": 10,
   "id": "3b1f8159",
   "metadata": {},
   "outputs": [
    {
     "name": "stdout",
     "output_type": "stream",
     "text": [
      "RangeIndex(start=0, stop=3, step=1)\n",
      "[0, 1, 2]\n"
     ]
    }
   ],
   "source": [
    "data = [1000,2000,3000]\n",
    "s = Series(data)\n",
    "print(s.index)\n",
    "print(s.index.to_list())"
   ]
  },
  {
   "cell_type": "code",
   "execution_count": 11,
   "id": "38cc1416",
   "metadata": {},
   "outputs": [
    {
     "name": "stdout",
     "output_type": "stream",
     "text": [
      "merona       1000\n",
      "gugucorn     2000\n",
      "hagendarz    3000\n",
      "dtype: int64\n"
     ]
    }
   ],
   "source": [
    "data = [1000, 2000, 3000]\n",
    "s = Series(data)\n",
    "s.index = [\"merona\", \"gugucorn\", \"hagendarz\"]\n",
    "print(s)"
   ]
  },
  {
   "cell_type": "code",
   "execution_count": 12,
   "id": "9e8cd214",
   "metadata": {},
   "outputs": [
    {
     "name": "stdout",
     "output_type": "stream",
     "text": [
      "2022-05-02    35000\n",
      "2022-05-09    14000\n",
      "2022-05-16    23000\n",
      "2022-05-23    17000\n",
      "2022-05-30    34000\n",
      "dtype: int64\n"
     ]
    }
   ],
   "source": [
    "price = [35000, 14000, 23000, 17000, 34000]\n",
    "date = [\"2022-05-02\", \"2022-05-09\", \"2022-05-16\", \"2022-05-23\", \"2022-05-30\"]\n",
    "s = Series(price, date)\n",
    "print(s)"
   ]
  },
  {
   "cell_type": "code",
   "execution_count": 13,
   "id": "d2dc09f3",
   "metadata": {},
   "outputs": [
    {
     "name": "stdout",
     "output_type": "stream",
     "text": [
      "merona      1000\n",
      "gugucorn    2000\n",
      "dtype: int64\n"
     ]
    }
   ],
   "source": [
    "data = [1000, 2000, 3000]\n",
    "index = [\"merona\", \"gugucorn\", \"hargendarz\"]\n",
    "s = Series(data = data, index = index)\n",
    "print(s.iloc[0:2])"
   ]
  },
  {
   "cell_type": "code",
   "execution_count": 14,
   "id": "c8621623",
   "metadata": {},
   "outputs": [
    {
     "name": "stdout",
     "output_type": "stream",
     "text": [
      "merona        1000\n",
      "hargendarz    3000\n",
      "dtype: int64\n",
      "merona        1000\n",
      "hargendarz    3000\n",
      "dtype: int64\n"
     ]
    }
   ],
   "source": [
    "data = [1000, 2000, 3000]\n",
    "index = [\"merona\", \"gugucorn\", \"hargendarz\"]\n",
    "s = Series(data = data, index = index)\n",
    "\n",
    "indice = [\"merona\", \"hargendarz\"]\n",
    "print(s.loc[indice])\n",
    "print(s.loc[['merona','hargendarz']])"
   ]
  },
  {
   "cell_type": "code",
   "execution_count": 15,
   "id": "6ba8684b",
   "metadata": {},
   "outputs": [
    {
     "name": "stdout",
     "output_type": "stream",
     "text": [
      "merona        1000\n",
      "hargendarz    3000\n",
      "dtype: int64\n",
      "merona        1000\n",
      "hargendarz    3000\n",
      "dtype: int64\n"
     ]
    }
   ],
   "source": [
    "data = [1000, 2000, 3000]\n",
    "index = [\"merona\", \"gugucorn\", \"hargendarz\"]\n",
    "s = Series(data = data, index = index)\n",
    "\n",
    "indice = [0,2]\n",
    "print(s.iloc[indice])\n",
    "print(s.iloc[[0,2]])"
   ]
  },
  {
   "cell_type": "code",
   "execution_count": 17,
   "id": "8fc001c2",
   "metadata": {},
   "outputs": [
    {
     "name": "stdout",
     "output_type": "stream",
     "text": [
      "merona         500\n",
      "gugucorn      2000\n",
      "hargendarz    3000\n",
      "dtype: int64\n"
     ]
    }
   ],
   "source": [
    "data = [1000, 2000, 3000]\n",
    "index = [\"merona\", \"gugucorn\", \"hargendarz\"]\n",
    "s = Series(data = data, index = index)\n",
    "\n",
    "s.loc['merona'] = 500\n",
    "print(s)"
   ]
  },
  {
   "cell_type": "code",
   "execution_count": 18,
   "id": "7ab4bfe7",
   "metadata": {},
   "outputs": [
    {
     "name": "stdout",
     "output_type": "stream",
     "text": [
      "merona         500\n",
      "gugucorn      2000\n",
      "hargendarz    3000\n",
      "bibibig        500\n",
      "dtype: int64\n"
     ]
    }
   ],
   "source": [
    "s.loc['bibibig'] = 500\n",
    "print(s)"
   ]
  },
  {
   "cell_type": "code",
   "execution_count": 19,
   "id": "7243eb1c",
   "metadata": {},
   "outputs": [
    {
     "name": "stdout",
     "output_type": "stream",
     "text": [
      "gugucorn      2000\n",
      "hargendarz    3000\n",
      "bibibig        500\n",
      "dtype: int64\n"
     ]
    }
   ],
   "source": [
    "s = s.drop('merona')\n",
    "print(s)"
   ]
  },
  {
   "cell_type": "code",
   "execution_count": 20,
   "id": "a83f1132",
   "metadata": {},
   "outputs": [],
   "source": [
    "dates = pd.date_range('20130101', periods = 6)"
   ]
  },
  {
   "cell_type": "code",
   "execution_count": 21,
   "id": "3013f4b6",
   "metadata": {},
   "outputs": [
    {
     "data": {
      "text/plain": [
       "DatetimeIndex(['2013-01-01', '2013-01-02', '2013-01-03', '2013-01-04',\n",
       "               '2013-01-05', '2013-01-06'],\n",
       "              dtype='datetime64[ns]', freq='D')"
      ]
     },
     "execution_count": 21,
     "metadata": {},
     "output_type": "execute_result"
    }
   ],
   "source": [
    "dates"
   ]
  },
  {
   "cell_type": "code",
   "execution_count": 23,
   "id": "9f744709",
   "metadata": {},
   "outputs": [],
   "source": [
    "df = pd.DataFrame(np.random.randn(6,4), index=dates, columns = list('ABCD'))"
   ]
  },
  {
   "cell_type": "code",
   "execution_count": 24,
   "id": "b66b5fa7",
   "metadata": {},
   "outputs": [
    {
     "data": {
      "text/html": [
       "<div>\n",
       "<style scoped>\n",
       "    .dataframe tbody tr th:only-of-type {\n",
       "        vertical-align: middle;\n",
       "    }\n",
       "\n",
       "    .dataframe tbody tr th {\n",
       "        vertical-align: top;\n",
       "    }\n",
       "\n",
       "    .dataframe thead th {\n",
       "        text-align: right;\n",
       "    }\n",
       "</style>\n",
       "<table border=\"1\" class=\"dataframe\">\n",
       "  <thead>\n",
       "    <tr style=\"text-align: right;\">\n",
       "      <th></th>\n",
       "      <th>A</th>\n",
       "      <th>B</th>\n",
       "      <th>C</th>\n",
       "      <th>D</th>\n",
       "    </tr>\n",
       "  </thead>\n",
       "  <tbody>\n",
       "    <tr>\n",
       "      <th>2013-01-01</th>\n",
       "      <td>-0.180055</td>\n",
       "      <td>-0.184300</td>\n",
       "      <td>-0.489631</td>\n",
       "      <td>-0.294932</td>\n",
       "    </tr>\n",
       "    <tr>\n",
       "      <th>2013-01-02</th>\n",
       "      <td>-0.985149</td>\n",
       "      <td>1.643598</td>\n",
       "      <td>-1.319322</td>\n",
       "      <td>1.879614</td>\n",
       "    </tr>\n",
       "    <tr>\n",
       "      <th>2013-01-03</th>\n",
       "      <td>-0.095298</td>\n",
       "      <td>2.385948</td>\n",
       "      <td>-0.342735</td>\n",
       "      <td>0.572610</td>\n",
       "    </tr>\n",
       "    <tr>\n",
       "      <th>2013-01-04</th>\n",
       "      <td>-0.720945</td>\n",
       "      <td>-0.965473</td>\n",
       "      <td>-1.264741</td>\n",
       "      <td>0.109659</td>\n",
       "    </tr>\n",
       "    <tr>\n",
       "      <th>2013-01-05</th>\n",
       "      <td>-0.660726</td>\n",
       "      <td>0.894251</td>\n",
       "      <td>0.352209</td>\n",
       "      <td>-0.995835</td>\n",
       "    </tr>\n",
       "    <tr>\n",
       "      <th>2013-01-06</th>\n",
       "      <td>0.196834</td>\n",
       "      <td>-0.040456</td>\n",
       "      <td>-0.176135</td>\n",
       "      <td>-0.873157</td>\n",
       "    </tr>\n",
       "  </tbody>\n",
       "</table>\n",
       "</div>"
      ],
      "text/plain": [
       "                   A         B         C         D\n",
       "2013-01-01 -0.180055 -0.184300 -0.489631 -0.294932\n",
       "2013-01-02 -0.985149  1.643598 -1.319322  1.879614\n",
       "2013-01-03 -0.095298  2.385948 -0.342735  0.572610\n",
       "2013-01-04 -0.720945 -0.965473 -1.264741  0.109659\n",
       "2013-01-05 -0.660726  0.894251  0.352209 -0.995835\n",
       "2013-01-06  0.196834 -0.040456 -0.176135 -0.873157"
      ]
     },
     "execution_count": 24,
     "metadata": {},
     "output_type": "execute_result"
    }
   ],
   "source": [
    "df"
   ]
  },
  {
   "cell_type": "code",
   "execution_count": 27,
   "id": "d298246a",
   "metadata": {},
   "outputs": [],
   "source": [
    "df2 = pd.DataFrame({'A' : 1.,\n",
    "                    'B' : pd.Timestamp('20130102'),\n",
    "                    'C' : pd.Series(1, index = list(range(4)),dtype='float32'),\n",
    "                    'D' : np.array([3] * 4, dtype = 'int32'),\n",
    "                    'E' : pd.Categorical([\"test\", \"train\", \"test\", \"train\"]),\n",
    "                    'F' : 'foo'\n",
    "})"
   ]
  },
  {
   "cell_type": "code",
   "execution_count": 35,
   "id": "4a13681c",
   "metadata": {},
   "outputs": [
    {
     "data": {
      "text/html": [
       "<div>\n",
       "<style scoped>\n",
       "    .dataframe tbody tr th:only-of-type {\n",
       "        vertical-align: middle;\n",
       "    }\n",
       "\n",
       "    .dataframe tbody tr th {\n",
       "        vertical-align: top;\n",
       "    }\n",
       "\n",
       "    .dataframe thead th {\n",
       "        text-align: right;\n",
       "    }\n",
       "</style>\n",
       "<table border=\"1\" class=\"dataframe\">\n",
       "  <thead>\n",
       "    <tr style=\"text-align: right;\">\n",
       "      <th></th>\n",
       "      <th>A</th>\n",
       "      <th>B</th>\n",
       "      <th>C</th>\n",
       "      <th>D</th>\n",
       "      <th>E</th>\n",
       "      <th>F</th>\n",
       "    </tr>\n",
       "  </thead>\n",
       "  <tbody>\n",
       "    <tr>\n",
       "      <th>0</th>\n",
       "      <td>1.0</td>\n",
       "      <td>2013-01-02</td>\n",
       "      <td>1.0</td>\n",
       "      <td>3</td>\n",
       "      <td>test</td>\n",
       "      <td>foo</td>\n",
       "    </tr>\n",
       "    <tr>\n",
       "      <th>1</th>\n",
       "      <td>1.0</td>\n",
       "      <td>2013-01-02</td>\n",
       "      <td>1.0</td>\n",
       "      <td>3</td>\n",
       "      <td>train</td>\n",
       "      <td>foo</td>\n",
       "    </tr>\n",
       "    <tr>\n",
       "      <th>2</th>\n",
       "      <td>1.0</td>\n",
       "      <td>2013-01-02</td>\n",
       "      <td>1.0</td>\n",
       "      <td>3</td>\n",
       "      <td>test</td>\n",
       "      <td>foo</td>\n",
       "    </tr>\n",
       "    <tr>\n",
       "      <th>3</th>\n",
       "      <td>1.0</td>\n",
       "      <td>2013-01-02</td>\n",
       "      <td>1.0</td>\n",
       "      <td>3</td>\n",
       "      <td>train</td>\n",
       "      <td>foo</td>\n",
       "    </tr>\n",
       "  </tbody>\n",
       "</table>\n",
       "</div>"
      ],
      "text/plain": [
       "     A          B    C  D      E    F\n",
       "0  1.0 2013-01-02  1.0  3   test  foo\n",
       "1  1.0 2013-01-02  1.0  3  train  foo\n",
       "2  1.0 2013-01-02  1.0  3   test  foo\n",
       "3  1.0 2013-01-02  1.0  3  train  foo"
      ]
     },
     "execution_count": 35,
     "metadata": {},
     "output_type": "execute_result"
    }
   ],
   "source": [
    "df2"
   ]
  },
  {
   "cell_type": "code",
   "execution_count": 36,
   "id": "f5ef85d2",
   "metadata": {},
   "outputs": [
    {
     "data": {
      "text/plain": [
       "A           float64\n",
       "B    datetime64[ns]\n",
       "C           float32\n",
       "D             int32\n",
       "E          category\n",
       "F            object\n",
       "dtype: object"
      ]
     },
     "execution_count": 36,
     "metadata": {},
     "output_type": "execute_result"
    }
   ],
   "source": [
    "df2.dtypes"
   ]
  },
  {
   "cell_type": "code",
   "execution_count": 37,
   "id": "6ce1a2ba",
   "metadata": {},
   "outputs": [
    {
     "data": {
      "text/html": [
       "<div>\n",
       "<style scoped>\n",
       "    .dataframe tbody tr th:only-of-type {\n",
       "        vertical-align: middle;\n",
       "    }\n",
       "\n",
       "    .dataframe tbody tr th {\n",
       "        vertical-align: top;\n",
       "    }\n",
       "\n",
       "    .dataframe thead th {\n",
       "        text-align: right;\n",
       "    }\n",
       "</style>\n",
       "<table border=\"1\" class=\"dataframe\">\n",
       "  <thead>\n",
       "    <tr style=\"text-align: right;\">\n",
       "      <th></th>\n",
       "      <th>A</th>\n",
       "      <th>B</th>\n",
       "      <th>C</th>\n",
       "      <th>D</th>\n",
       "      <th>E</th>\n",
       "      <th>F</th>\n",
       "    </tr>\n",
       "  </thead>\n",
       "  <tbody>\n",
       "    <tr>\n",
       "      <th>0</th>\n",
       "      <td>1.0</td>\n",
       "      <td>2013-01-02</td>\n",
       "      <td>1.0</td>\n",
       "      <td>3</td>\n",
       "      <td>test</td>\n",
       "      <td>foo</td>\n",
       "    </tr>\n",
       "    <tr>\n",
       "      <th>1</th>\n",
       "      <td>1.0</td>\n",
       "      <td>2013-01-02</td>\n",
       "      <td>1.0</td>\n",
       "      <td>3</td>\n",
       "      <td>train</td>\n",
       "      <td>foo</td>\n",
       "    </tr>\n",
       "    <tr>\n",
       "      <th>2</th>\n",
       "      <td>1.0</td>\n",
       "      <td>2013-01-02</td>\n",
       "      <td>1.0</td>\n",
       "      <td>3</td>\n",
       "      <td>test</td>\n",
       "      <td>foo</td>\n",
       "    </tr>\n",
       "    <tr>\n",
       "      <th>3</th>\n",
       "      <td>1.0</td>\n",
       "      <td>2013-01-02</td>\n",
       "      <td>1.0</td>\n",
       "      <td>3</td>\n",
       "      <td>train</td>\n",
       "      <td>foo</td>\n",
       "    </tr>\n",
       "  </tbody>\n",
       "</table>\n",
       "</div>"
      ],
      "text/plain": [
       "     A          B    C  D      E    F\n",
       "0  1.0 2013-01-02  1.0  3   test  foo\n",
       "1  1.0 2013-01-02  1.0  3  train  foo\n",
       "2  1.0 2013-01-02  1.0  3   test  foo\n",
       "3  1.0 2013-01-02  1.0  3  train  foo"
      ]
     },
     "execution_count": 37,
     "metadata": {},
     "output_type": "execute_result"
    }
   ],
   "source": [
    "df2.tail()"
   ]
  },
  {
   "cell_type": "code",
   "execution_count": 38,
   "id": "5526b95e",
   "metadata": {},
   "outputs": [
    {
     "data": {
      "text/html": [
       "<div>\n",
       "<style scoped>\n",
       "    .dataframe tbody tr th:only-of-type {\n",
       "        vertical-align: middle;\n",
       "    }\n",
       "\n",
       "    .dataframe tbody tr th {\n",
       "        vertical-align: top;\n",
       "    }\n",
       "\n",
       "    .dataframe thead th {\n",
       "        text-align: right;\n",
       "    }\n",
       "</style>\n",
       "<table border=\"1\" class=\"dataframe\">\n",
       "  <thead>\n",
       "    <tr style=\"text-align: right;\">\n",
       "      <th></th>\n",
       "      <th>A</th>\n",
       "      <th>B</th>\n",
       "      <th>C</th>\n",
       "      <th>D</th>\n",
       "      <th>E</th>\n",
       "      <th>F</th>\n",
       "    </tr>\n",
       "  </thead>\n",
       "  <tbody>\n",
       "    <tr>\n",
       "      <th>2</th>\n",
       "      <td>1.0</td>\n",
       "      <td>2013-01-02</td>\n",
       "      <td>1.0</td>\n",
       "      <td>3</td>\n",
       "      <td>test</td>\n",
       "      <td>foo</td>\n",
       "    </tr>\n",
       "    <tr>\n",
       "      <th>3</th>\n",
       "      <td>1.0</td>\n",
       "      <td>2013-01-02</td>\n",
       "      <td>1.0</td>\n",
       "      <td>3</td>\n",
       "      <td>train</td>\n",
       "      <td>foo</td>\n",
       "    </tr>\n",
       "  </tbody>\n",
       "</table>\n",
       "</div>"
      ],
      "text/plain": [
       "     A          B    C  D      E    F\n",
       "2  1.0 2013-01-02  1.0  3   test  foo\n",
       "3  1.0 2013-01-02  1.0  3  train  foo"
      ]
     },
     "execution_count": 38,
     "metadata": {},
     "output_type": "execute_result"
    }
   ],
   "source": [
    "df2.tail(2)"
   ]
  },
  {
   "cell_type": "code",
   "execution_count": 39,
   "id": "6d83a791",
   "metadata": {},
   "outputs": [
    {
     "data": {
      "text/html": [
       "<div>\n",
       "<style scoped>\n",
       "    .dataframe tbody tr th:only-of-type {\n",
       "        vertical-align: middle;\n",
       "    }\n",
       "\n",
       "    .dataframe tbody tr th {\n",
       "        vertical-align: top;\n",
       "    }\n",
       "\n",
       "    .dataframe thead th {\n",
       "        text-align: right;\n",
       "    }\n",
       "</style>\n",
       "<table border=\"1\" class=\"dataframe\">\n",
       "  <thead>\n",
       "    <tr style=\"text-align: right;\">\n",
       "      <th></th>\n",
       "      <th>A</th>\n",
       "      <th>B</th>\n",
       "      <th>C</th>\n",
       "      <th>D</th>\n",
       "      <th>E</th>\n",
       "      <th>F</th>\n",
       "    </tr>\n",
       "  </thead>\n",
       "  <tbody>\n",
       "    <tr>\n",
       "      <th>0</th>\n",
       "      <td>1.0</td>\n",
       "      <td>2013-01-02</td>\n",
       "      <td>1.0</td>\n",
       "      <td>3</td>\n",
       "      <td>test</td>\n",
       "      <td>foo</td>\n",
       "    </tr>\n",
       "    <tr>\n",
       "      <th>1</th>\n",
       "      <td>1.0</td>\n",
       "      <td>2013-01-02</td>\n",
       "      <td>1.0</td>\n",
       "      <td>3</td>\n",
       "      <td>train</td>\n",
       "      <td>foo</td>\n",
       "    </tr>\n",
       "    <tr>\n",
       "      <th>2</th>\n",
       "      <td>1.0</td>\n",
       "      <td>2013-01-02</td>\n",
       "      <td>1.0</td>\n",
       "      <td>3</td>\n",
       "      <td>test</td>\n",
       "      <td>foo</td>\n",
       "    </tr>\n",
       "    <tr>\n",
       "      <th>3</th>\n",
       "      <td>1.0</td>\n",
       "      <td>2013-01-02</td>\n",
       "      <td>1.0</td>\n",
       "      <td>3</td>\n",
       "      <td>train</td>\n",
       "      <td>foo</td>\n",
       "    </tr>\n",
       "  </tbody>\n",
       "</table>\n",
       "</div>"
      ],
      "text/plain": [
       "     A          B    C  D      E    F\n",
       "0  1.0 2013-01-02  1.0  3   test  foo\n",
       "1  1.0 2013-01-02  1.0  3  train  foo\n",
       "2  1.0 2013-01-02  1.0  3   test  foo\n",
       "3  1.0 2013-01-02  1.0  3  train  foo"
      ]
     },
     "execution_count": 39,
     "metadata": {},
     "output_type": "execute_result"
    }
   ],
   "source": [
    "df2.head()"
   ]
  },
  {
   "cell_type": "code",
   "execution_count": 40,
   "id": "156c4131",
   "metadata": {},
   "outputs": [
    {
     "data": {
      "text/html": [
       "<div>\n",
       "<style scoped>\n",
       "    .dataframe tbody tr th:only-of-type {\n",
       "        vertical-align: middle;\n",
       "    }\n",
       "\n",
       "    .dataframe tbody tr th {\n",
       "        vertical-align: top;\n",
       "    }\n",
       "\n",
       "    .dataframe thead th {\n",
       "        text-align: right;\n",
       "    }\n",
       "</style>\n",
       "<table border=\"1\" class=\"dataframe\">\n",
       "  <thead>\n",
       "    <tr style=\"text-align: right;\">\n",
       "      <th></th>\n",
       "      <th>A</th>\n",
       "      <th>B</th>\n",
       "      <th>C</th>\n",
       "      <th>D</th>\n",
       "      <th>E</th>\n",
       "      <th>F</th>\n",
       "    </tr>\n",
       "  </thead>\n",
       "  <tbody>\n",
       "    <tr>\n",
       "      <th>0</th>\n",
       "      <td>1.0</td>\n",
       "      <td>2013-01-02</td>\n",
       "      <td>1.0</td>\n",
       "      <td>3</td>\n",
       "      <td>test</td>\n",
       "      <td>foo</td>\n",
       "    </tr>\n",
       "    <tr>\n",
       "      <th>1</th>\n",
       "      <td>1.0</td>\n",
       "      <td>2013-01-02</td>\n",
       "      <td>1.0</td>\n",
       "      <td>3</td>\n",
       "      <td>train</td>\n",
       "      <td>foo</td>\n",
       "    </tr>\n",
       "  </tbody>\n",
       "</table>\n",
       "</div>"
      ],
      "text/plain": [
       "     A          B    C  D      E    F\n",
       "0  1.0 2013-01-02  1.0  3   test  foo\n",
       "1  1.0 2013-01-02  1.0  3  train  foo"
      ]
     },
     "execution_count": 40,
     "metadata": {},
     "output_type": "execute_result"
    }
   ],
   "source": [
    "df2.head(2)"
   ]
  },
  {
   "cell_type": "code",
   "execution_count": 41,
   "id": "516722f3",
   "metadata": {},
   "outputs": [
    {
     "data": {
      "text/plain": [
       "Int64Index([0, 1, 2, 3], dtype='int64')"
      ]
     },
     "execution_count": 41,
     "metadata": {},
     "output_type": "execute_result"
    }
   ],
   "source": [
    "df2.index"
   ]
  },
  {
   "cell_type": "code",
   "execution_count": 42,
   "id": "65cca01b",
   "metadata": {},
   "outputs": [
    {
     "data": {
      "text/plain": [
       "DatetimeIndex(['2013-01-01', '2013-01-02', '2013-01-03', '2013-01-04',\n",
       "               '2013-01-05', '2013-01-06'],\n",
       "              dtype='datetime64[ns]', freq='D')"
      ]
     },
     "execution_count": 42,
     "metadata": {},
     "output_type": "execute_result"
    }
   ],
   "source": [
    "df.index"
   ]
  },
  {
   "cell_type": "code",
   "execution_count": 43,
   "id": "da58dce3",
   "metadata": {},
   "outputs": [
    {
     "data": {
      "text/plain": [
       "Index(['A', 'B', 'C', 'D'], dtype='object')"
      ]
     },
     "execution_count": 43,
     "metadata": {},
     "output_type": "execute_result"
    }
   ],
   "source": [
    "df.columns"
   ]
  },
  {
   "cell_type": "code",
   "execution_count": 44,
   "id": "58b3b0bf",
   "metadata": {},
   "outputs": [
    {
     "data": {
      "text/plain": [
       "Index(['A', 'B', 'C', 'D', 'E', 'F'], dtype='object')"
      ]
     },
     "execution_count": 44,
     "metadata": {},
     "output_type": "execute_result"
    }
   ],
   "source": [
    "df2.columns"
   ]
  },
  {
   "cell_type": "code",
   "execution_count": 45,
   "id": "b0a44091",
   "metadata": {},
   "outputs": [
    {
     "data": {
      "text/plain": [
       "array([[-0.18005533, -0.18429989, -0.4896306 , -0.29493186],\n",
       "       [-0.98514907,  1.6435983 , -1.31932207,  1.87961422],\n",
       "       [-0.09529815,  2.38594799, -0.34273547,  0.57260967],\n",
       "       [-0.7209447 , -0.96547329, -1.26474123,  0.10965946],\n",
       "       [-0.66072649,  0.8942513 ,  0.35220868, -0.99583546],\n",
       "       [ 0.19683405, -0.04045596, -0.17613534, -0.87315696]])"
      ]
     },
     "execution_count": 45,
     "metadata": {},
     "output_type": "execute_result"
    }
   ],
   "source": [
    "df.values"
   ]
  },
  {
   "cell_type": "code",
   "execution_count": 46,
   "id": "692ac582",
   "metadata": {},
   "outputs": [
    {
     "data": {
      "text/plain": [
       "array([[1.0, Timestamp('2013-01-02 00:00:00'), 1.0, 3, 'test', 'foo'],\n",
       "       [1.0, Timestamp('2013-01-02 00:00:00'), 1.0, 3, 'train', 'foo'],\n",
       "       [1.0, Timestamp('2013-01-02 00:00:00'), 1.0, 3, 'test', 'foo'],\n",
       "       [1.0, Timestamp('2013-01-02 00:00:00'), 1.0, 3, 'train', 'foo']],\n",
       "      dtype=object)"
      ]
     },
     "execution_count": 46,
     "metadata": {},
     "output_type": "execute_result"
    }
   ],
   "source": [
    "df2.values"
   ]
  },
  {
   "cell_type": "markdown",
   "id": "928166bc",
   "metadata": {},
   "source": [
    "# data stats summary info"
   ]
  },
  {
   "cell_type": "code",
   "execution_count": 47,
   "id": "af24e05e",
   "metadata": {},
   "outputs": [
    {
     "data": {
      "text/html": [
       "<div>\n",
       "<style scoped>\n",
       "    .dataframe tbody tr th:only-of-type {\n",
       "        vertical-align: middle;\n",
       "    }\n",
       "\n",
       "    .dataframe tbody tr th {\n",
       "        vertical-align: top;\n",
       "    }\n",
       "\n",
       "    .dataframe thead th {\n",
       "        text-align: right;\n",
       "    }\n",
       "</style>\n",
       "<table border=\"1\" class=\"dataframe\">\n",
       "  <thead>\n",
       "    <tr style=\"text-align: right;\">\n",
       "      <th></th>\n",
       "      <th>A</th>\n",
       "      <th>B</th>\n",
       "      <th>C</th>\n",
       "      <th>D</th>\n",
       "    </tr>\n",
       "  </thead>\n",
       "  <tbody>\n",
       "    <tr>\n",
       "      <th>count</th>\n",
       "      <td>6.000000</td>\n",
       "      <td>6.000000</td>\n",
       "      <td>6.000000</td>\n",
       "      <td>6.000000</td>\n",
       "    </tr>\n",
       "    <tr>\n",
       "      <th>mean</th>\n",
       "      <td>-0.407557</td>\n",
       "      <td>0.622261</td>\n",
       "      <td>-0.540059</td>\n",
       "      <td>0.066327</td>\n",
       "    </tr>\n",
       "    <tr>\n",
       "      <th>std</th>\n",
       "      <td>0.449549</td>\n",
       "      <td>1.252065</td>\n",
       "      <td>0.648456</td>\n",
       "      <td>1.066540</td>\n",
       "    </tr>\n",
       "    <tr>\n",
       "      <th>min</th>\n",
       "      <td>-0.985149</td>\n",
       "      <td>-0.965473</td>\n",
       "      <td>-1.319322</td>\n",
       "      <td>-0.995835</td>\n",
       "    </tr>\n",
       "    <tr>\n",
       "      <th>25%</th>\n",
       "      <td>-0.705890</td>\n",
       "      <td>-0.148339</td>\n",
       "      <td>-1.070964</td>\n",
       "      <td>-0.728601</td>\n",
       "    </tr>\n",
       "    <tr>\n",
       "      <th>50%</th>\n",
       "      <td>-0.420391</td>\n",
       "      <td>0.426898</td>\n",
       "      <td>-0.416183</td>\n",
       "      <td>-0.092636</td>\n",
       "    </tr>\n",
       "    <tr>\n",
       "      <th>75%</th>\n",
       "      <td>-0.116487</td>\n",
       "      <td>1.456262</td>\n",
       "      <td>-0.217785</td>\n",
       "      <td>0.456872</td>\n",
       "    </tr>\n",
       "    <tr>\n",
       "      <th>max</th>\n",
       "      <td>0.196834</td>\n",
       "      <td>2.385948</td>\n",
       "      <td>0.352209</td>\n",
       "      <td>1.879614</td>\n",
       "    </tr>\n",
       "  </tbody>\n",
       "</table>\n",
       "</div>"
      ],
      "text/plain": [
       "              A         B         C         D\n",
       "count  6.000000  6.000000  6.000000  6.000000\n",
       "mean  -0.407557  0.622261 -0.540059  0.066327\n",
       "std    0.449549  1.252065  0.648456  1.066540\n",
       "min   -0.985149 -0.965473 -1.319322 -0.995835\n",
       "25%   -0.705890 -0.148339 -1.070964 -0.728601\n",
       "50%   -0.420391  0.426898 -0.416183 -0.092636\n",
       "75%   -0.116487  1.456262 -0.217785  0.456872\n",
       "max    0.196834  2.385948  0.352209  1.879614"
      ]
     },
     "execution_count": 47,
     "metadata": {},
     "output_type": "execute_result"
    }
   ],
   "source": [
    "df.describe()"
   ]
  },
  {
   "cell_type": "code",
   "execution_count": 48,
   "id": "736bafd9",
   "metadata": {},
   "outputs": [
    {
     "data": {
      "text/html": [
       "<div>\n",
       "<style scoped>\n",
       "    .dataframe tbody tr th:only-of-type {\n",
       "        vertical-align: middle;\n",
       "    }\n",
       "\n",
       "    .dataframe tbody tr th {\n",
       "        vertical-align: top;\n",
       "    }\n",
       "\n",
       "    .dataframe thead th {\n",
       "        text-align: right;\n",
       "    }\n",
       "</style>\n",
       "<table border=\"1\" class=\"dataframe\">\n",
       "  <thead>\n",
       "    <tr style=\"text-align: right;\">\n",
       "      <th></th>\n",
       "      <th>A</th>\n",
       "      <th>C</th>\n",
       "      <th>D</th>\n",
       "    </tr>\n",
       "  </thead>\n",
       "  <tbody>\n",
       "    <tr>\n",
       "      <th>count</th>\n",
       "      <td>4.0</td>\n",
       "      <td>4.0</td>\n",
       "      <td>4.0</td>\n",
       "    </tr>\n",
       "    <tr>\n",
       "      <th>mean</th>\n",
       "      <td>1.0</td>\n",
       "      <td>1.0</td>\n",
       "      <td>3.0</td>\n",
       "    </tr>\n",
       "    <tr>\n",
       "      <th>std</th>\n",
       "      <td>0.0</td>\n",
       "      <td>0.0</td>\n",
       "      <td>0.0</td>\n",
       "    </tr>\n",
       "    <tr>\n",
       "      <th>min</th>\n",
       "      <td>1.0</td>\n",
       "      <td>1.0</td>\n",
       "      <td>3.0</td>\n",
       "    </tr>\n",
       "    <tr>\n",
       "      <th>25%</th>\n",
       "      <td>1.0</td>\n",
       "      <td>1.0</td>\n",
       "      <td>3.0</td>\n",
       "    </tr>\n",
       "    <tr>\n",
       "      <th>50%</th>\n",
       "      <td>1.0</td>\n",
       "      <td>1.0</td>\n",
       "      <td>3.0</td>\n",
       "    </tr>\n",
       "    <tr>\n",
       "      <th>75%</th>\n",
       "      <td>1.0</td>\n",
       "      <td>1.0</td>\n",
       "      <td>3.0</td>\n",
       "    </tr>\n",
       "    <tr>\n",
       "      <th>max</th>\n",
       "      <td>1.0</td>\n",
       "      <td>1.0</td>\n",
       "      <td>3.0</td>\n",
       "    </tr>\n",
       "  </tbody>\n",
       "</table>\n",
       "</div>"
      ],
      "text/plain": [
       "         A    C    D\n",
       "count  4.0  4.0  4.0\n",
       "mean   1.0  1.0  3.0\n",
       "std    0.0  0.0  0.0\n",
       "min    1.0  1.0  3.0\n",
       "25%    1.0  1.0  3.0\n",
       "50%    1.0  1.0  3.0\n",
       "75%    1.0  1.0  3.0\n",
       "max    1.0  1.0  3.0"
      ]
     },
     "execution_count": 48,
     "metadata": {},
     "output_type": "execute_result"
    }
   ],
   "source": [
    "df2.describe()"
   ]
  },
  {
   "cell_type": "markdown",
   "id": "2e288448",
   "metadata": {},
   "source": [
    "# data transform"
   ]
  },
  {
   "cell_type": "code",
   "execution_count": 49,
   "id": "ad1037a8",
   "metadata": {},
   "outputs": [
    {
     "data": {
      "text/html": [
       "<div>\n",
       "<style scoped>\n",
       "    .dataframe tbody tr th:only-of-type {\n",
       "        vertical-align: middle;\n",
       "    }\n",
       "\n",
       "    .dataframe tbody tr th {\n",
       "        vertical-align: top;\n",
       "    }\n",
       "\n",
       "    .dataframe thead th {\n",
       "        text-align: right;\n",
       "    }\n",
       "</style>\n",
       "<table border=\"1\" class=\"dataframe\">\n",
       "  <thead>\n",
       "    <tr style=\"text-align: right;\">\n",
       "      <th></th>\n",
       "      <th>2013-01-01</th>\n",
       "      <th>2013-01-02</th>\n",
       "      <th>2013-01-03</th>\n",
       "      <th>2013-01-04</th>\n",
       "      <th>2013-01-05</th>\n",
       "      <th>2013-01-06</th>\n",
       "    </tr>\n",
       "  </thead>\n",
       "  <tbody>\n",
       "    <tr>\n",
       "      <th>A</th>\n",
       "      <td>-0.180055</td>\n",
       "      <td>-0.985149</td>\n",
       "      <td>-0.095298</td>\n",
       "      <td>-0.720945</td>\n",
       "      <td>-0.660726</td>\n",
       "      <td>0.196834</td>\n",
       "    </tr>\n",
       "    <tr>\n",
       "      <th>B</th>\n",
       "      <td>-0.184300</td>\n",
       "      <td>1.643598</td>\n",
       "      <td>2.385948</td>\n",
       "      <td>-0.965473</td>\n",
       "      <td>0.894251</td>\n",
       "      <td>-0.040456</td>\n",
       "    </tr>\n",
       "    <tr>\n",
       "      <th>C</th>\n",
       "      <td>-0.489631</td>\n",
       "      <td>-1.319322</td>\n",
       "      <td>-0.342735</td>\n",
       "      <td>-1.264741</td>\n",
       "      <td>0.352209</td>\n",
       "      <td>-0.176135</td>\n",
       "    </tr>\n",
       "    <tr>\n",
       "      <th>D</th>\n",
       "      <td>-0.294932</td>\n",
       "      <td>1.879614</td>\n",
       "      <td>0.572610</td>\n",
       "      <td>0.109659</td>\n",
       "      <td>-0.995835</td>\n",
       "      <td>-0.873157</td>\n",
       "    </tr>\n",
       "  </tbody>\n",
       "</table>\n",
       "</div>"
      ],
      "text/plain": [
       "   2013-01-01  2013-01-02  2013-01-03  2013-01-04  2013-01-05  2013-01-06\n",
       "A   -0.180055   -0.985149   -0.095298   -0.720945   -0.660726    0.196834\n",
       "B   -0.184300    1.643598    2.385948   -0.965473    0.894251   -0.040456\n",
       "C   -0.489631   -1.319322   -0.342735   -1.264741    0.352209   -0.176135\n",
       "D   -0.294932    1.879614    0.572610    0.109659   -0.995835   -0.873157"
      ]
     },
     "execution_count": 49,
     "metadata": {},
     "output_type": "execute_result"
    }
   ],
   "source": [
    "df.T"
   ]
  },
  {
   "cell_type": "code",
   "execution_count": 50,
   "id": "0d05d398",
   "metadata": {},
   "outputs": [
    {
     "data": {
      "text/html": [
       "<div>\n",
       "<style scoped>\n",
       "    .dataframe tbody tr th:only-of-type {\n",
       "        vertical-align: middle;\n",
       "    }\n",
       "\n",
       "    .dataframe tbody tr th {\n",
       "        vertical-align: top;\n",
       "    }\n",
       "\n",
       "    .dataframe thead th {\n",
       "        text-align: right;\n",
       "    }\n",
       "</style>\n",
       "<table border=\"1\" class=\"dataframe\">\n",
       "  <thead>\n",
       "    <tr style=\"text-align: right;\">\n",
       "      <th></th>\n",
       "      <th>0</th>\n",
       "      <th>1</th>\n",
       "      <th>2</th>\n",
       "      <th>3</th>\n",
       "    </tr>\n",
       "  </thead>\n",
       "  <tbody>\n",
       "    <tr>\n",
       "      <th>A</th>\n",
       "      <td>1.0</td>\n",
       "      <td>1.0</td>\n",
       "      <td>1.0</td>\n",
       "      <td>1.0</td>\n",
       "    </tr>\n",
       "    <tr>\n",
       "      <th>B</th>\n",
       "      <td>2013-01-02 00:00:00</td>\n",
       "      <td>2013-01-02 00:00:00</td>\n",
       "      <td>2013-01-02 00:00:00</td>\n",
       "      <td>2013-01-02 00:00:00</td>\n",
       "    </tr>\n",
       "    <tr>\n",
       "      <th>C</th>\n",
       "      <td>1.0</td>\n",
       "      <td>1.0</td>\n",
       "      <td>1.0</td>\n",
       "      <td>1.0</td>\n",
       "    </tr>\n",
       "    <tr>\n",
       "      <th>D</th>\n",
       "      <td>3</td>\n",
       "      <td>3</td>\n",
       "      <td>3</td>\n",
       "      <td>3</td>\n",
       "    </tr>\n",
       "    <tr>\n",
       "      <th>E</th>\n",
       "      <td>test</td>\n",
       "      <td>train</td>\n",
       "      <td>test</td>\n",
       "      <td>train</td>\n",
       "    </tr>\n",
       "    <tr>\n",
       "      <th>F</th>\n",
       "      <td>foo</td>\n",
       "      <td>foo</td>\n",
       "      <td>foo</td>\n",
       "      <td>foo</td>\n",
       "    </tr>\n",
       "  </tbody>\n",
       "</table>\n",
       "</div>"
      ],
      "text/plain": [
       "                     0                    1                    2  \\\n",
       "A                  1.0                  1.0                  1.0   \n",
       "B  2013-01-02 00:00:00  2013-01-02 00:00:00  2013-01-02 00:00:00   \n",
       "C                  1.0                  1.0                  1.0   \n",
       "D                    3                    3                    3   \n",
       "E                 test                train                 test   \n",
       "F                  foo                  foo                  foo   \n",
       "\n",
       "                     3  \n",
       "A                  1.0  \n",
       "B  2013-01-02 00:00:00  \n",
       "C                  1.0  \n",
       "D                    3  \n",
       "E                train  \n",
       "F                  foo  "
      ]
     },
     "execution_count": 50,
     "metadata": {},
     "output_type": "execute_result"
    }
   ],
   "source": [
    "df2.T"
   ]
  },
  {
   "cell_type": "markdown",
   "id": "7e47a43a",
   "metadata": {},
   "source": [
    "# axis = 1 sort"
   ]
  },
  {
   "cell_type": "code",
   "execution_count": 51,
   "id": "8863330c",
   "metadata": {
    "scrolled": true
   },
   "outputs": [
    {
     "data": {
      "text/html": [
       "<div>\n",
       "<style scoped>\n",
       "    .dataframe tbody tr th:only-of-type {\n",
       "        vertical-align: middle;\n",
       "    }\n",
       "\n",
       "    .dataframe tbody tr th {\n",
       "        vertical-align: top;\n",
       "    }\n",
       "\n",
       "    .dataframe thead th {\n",
       "        text-align: right;\n",
       "    }\n",
       "</style>\n",
       "<table border=\"1\" class=\"dataframe\">\n",
       "  <thead>\n",
       "    <tr style=\"text-align: right;\">\n",
       "      <th></th>\n",
       "      <th>D</th>\n",
       "      <th>C</th>\n",
       "      <th>B</th>\n",
       "      <th>A</th>\n",
       "    </tr>\n",
       "  </thead>\n",
       "  <tbody>\n",
       "    <tr>\n",
       "      <th>2013-01-01</th>\n",
       "      <td>-0.294932</td>\n",
       "      <td>-0.489631</td>\n",
       "      <td>-0.184300</td>\n",
       "      <td>-0.180055</td>\n",
       "    </tr>\n",
       "    <tr>\n",
       "      <th>2013-01-02</th>\n",
       "      <td>1.879614</td>\n",
       "      <td>-1.319322</td>\n",
       "      <td>1.643598</td>\n",
       "      <td>-0.985149</td>\n",
       "    </tr>\n",
       "    <tr>\n",
       "      <th>2013-01-03</th>\n",
       "      <td>0.572610</td>\n",
       "      <td>-0.342735</td>\n",
       "      <td>2.385948</td>\n",
       "      <td>-0.095298</td>\n",
       "    </tr>\n",
       "    <tr>\n",
       "      <th>2013-01-04</th>\n",
       "      <td>0.109659</td>\n",
       "      <td>-1.264741</td>\n",
       "      <td>-0.965473</td>\n",
       "      <td>-0.720945</td>\n",
       "    </tr>\n",
       "    <tr>\n",
       "      <th>2013-01-05</th>\n",
       "      <td>-0.995835</td>\n",
       "      <td>0.352209</td>\n",
       "      <td>0.894251</td>\n",
       "      <td>-0.660726</td>\n",
       "    </tr>\n",
       "    <tr>\n",
       "      <th>2013-01-06</th>\n",
       "      <td>-0.873157</td>\n",
       "      <td>-0.176135</td>\n",
       "      <td>-0.040456</td>\n",
       "      <td>0.196834</td>\n",
       "    </tr>\n",
       "  </tbody>\n",
       "</table>\n",
       "</div>"
      ],
      "text/plain": [
       "                   D         C         B         A\n",
       "2013-01-01 -0.294932 -0.489631 -0.184300 -0.180055\n",
       "2013-01-02  1.879614 -1.319322  1.643598 -0.985149\n",
       "2013-01-03  0.572610 -0.342735  2.385948 -0.095298\n",
       "2013-01-04  0.109659 -1.264741 -0.965473 -0.720945\n",
       "2013-01-05 -0.995835  0.352209  0.894251 -0.660726\n",
       "2013-01-06 -0.873157 -0.176135 -0.040456  0.196834"
      ]
     },
     "execution_count": 51,
     "metadata": {},
     "output_type": "execute_result"
    }
   ],
   "source": [
    "df.sort_index(axis=1, ascending=False)"
   ]
  },
  {
   "cell_type": "code",
   "execution_count": 52,
   "id": "4ff3448d",
   "metadata": {
    "scrolled": true
   },
   "outputs": [
    {
     "data": {
      "text/html": [
       "<div>\n",
       "<style scoped>\n",
       "    .dataframe tbody tr th:only-of-type {\n",
       "        vertical-align: middle;\n",
       "    }\n",
       "\n",
       "    .dataframe tbody tr th {\n",
       "        vertical-align: top;\n",
       "    }\n",
       "\n",
       "    .dataframe thead th {\n",
       "        text-align: right;\n",
       "    }\n",
       "</style>\n",
       "<table border=\"1\" class=\"dataframe\">\n",
       "  <thead>\n",
       "    <tr style=\"text-align: right;\">\n",
       "      <th></th>\n",
       "      <th>F</th>\n",
       "      <th>E</th>\n",
       "      <th>D</th>\n",
       "      <th>C</th>\n",
       "      <th>B</th>\n",
       "      <th>A</th>\n",
       "    </tr>\n",
       "  </thead>\n",
       "  <tbody>\n",
       "    <tr>\n",
       "      <th>0</th>\n",
       "      <td>foo</td>\n",
       "      <td>test</td>\n",
       "      <td>3</td>\n",
       "      <td>1.0</td>\n",
       "      <td>2013-01-02</td>\n",
       "      <td>1.0</td>\n",
       "    </tr>\n",
       "    <tr>\n",
       "      <th>1</th>\n",
       "      <td>foo</td>\n",
       "      <td>train</td>\n",
       "      <td>3</td>\n",
       "      <td>1.0</td>\n",
       "      <td>2013-01-02</td>\n",
       "      <td>1.0</td>\n",
       "    </tr>\n",
       "    <tr>\n",
       "      <th>2</th>\n",
       "      <td>foo</td>\n",
       "      <td>test</td>\n",
       "      <td>3</td>\n",
       "      <td>1.0</td>\n",
       "      <td>2013-01-02</td>\n",
       "      <td>1.0</td>\n",
       "    </tr>\n",
       "    <tr>\n",
       "      <th>3</th>\n",
       "      <td>foo</td>\n",
       "      <td>train</td>\n",
       "      <td>3</td>\n",
       "      <td>1.0</td>\n",
       "      <td>2013-01-02</td>\n",
       "      <td>1.0</td>\n",
       "    </tr>\n",
       "  </tbody>\n",
       "</table>\n",
       "</div>"
      ],
      "text/plain": [
       "     F      E  D    C          B    A\n",
       "0  foo   test  3  1.0 2013-01-02  1.0\n",
       "1  foo  train  3  1.0 2013-01-02  1.0\n",
       "2  foo   test  3  1.0 2013-01-02  1.0\n",
       "3  foo  train  3  1.0 2013-01-02  1.0"
      ]
     },
     "execution_count": 52,
     "metadata": {},
     "output_type": "execute_result"
    }
   ],
   "source": [
    "df2.sort_index(axis=1, ascending=False)"
   ]
  },
  {
   "cell_type": "code",
   "execution_count": 53,
   "id": "ec4c1a00",
   "metadata": {},
   "outputs": [
    {
     "data": {
      "text/html": [
       "<div>\n",
       "<style scoped>\n",
       "    .dataframe tbody tr th:only-of-type {\n",
       "        vertical-align: middle;\n",
       "    }\n",
       "\n",
       "    .dataframe tbody tr th {\n",
       "        vertical-align: top;\n",
       "    }\n",
       "\n",
       "    .dataframe thead th {\n",
       "        text-align: right;\n",
       "    }\n",
       "</style>\n",
       "<table border=\"1\" class=\"dataframe\">\n",
       "  <thead>\n",
       "    <tr style=\"text-align: right;\">\n",
       "      <th></th>\n",
       "      <th>A</th>\n",
       "      <th>B</th>\n",
       "      <th>C</th>\n",
       "      <th>D</th>\n",
       "    </tr>\n",
       "  </thead>\n",
       "  <tbody>\n",
       "    <tr>\n",
       "      <th>2013-01-01</th>\n",
       "      <td>-0.180055</td>\n",
       "      <td>-0.184300</td>\n",
       "      <td>-0.489631</td>\n",
       "      <td>-0.294932</td>\n",
       "    </tr>\n",
       "    <tr>\n",
       "      <th>2013-01-02</th>\n",
       "      <td>-0.985149</td>\n",
       "      <td>1.643598</td>\n",
       "      <td>-1.319322</td>\n",
       "      <td>1.879614</td>\n",
       "    </tr>\n",
       "    <tr>\n",
       "      <th>2013-01-03</th>\n",
       "      <td>-0.095298</td>\n",
       "      <td>2.385948</td>\n",
       "      <td>-0.342735</td>\n",
       "      <td>0.572610</td>\n",
       "    </tr>\n",
       "    <tr>\n",
       "      <th>2013-01-04</th>\n",
       "      <td>-0.720945</td>\n",
       "      <td>-0.965473</td>\n",
       "      <td>-1.264741</td>\n",
       "      <td>0.109659</td>\n",
       "    </tr>\n",
       "    <tr>\n",
       "      <th>2013-01-05</th>\n",
       "      <td>-0.660726</td>\n",
       "      <td>0.894251</td>\n",
       "      <td>0.352209</td>\n",
       "      <td>-0.995835</td>\n",
       "    </tr>\n",
       "    <tr>\n",
       "      <th>2013-01-06</th>\n",
       "      <td>0.196834</td>\n",
       "      <td>-0.040456</td>\n",
       "      <td>-0.176135</td>\n",
       "      <td>-0.873157</td>\n",
       "    </tr>\n",
       "  </tbody>\n",
       "</table>\n",
       "</div>"
      ],
      "text/plain": [
       "                   A         B         C         D\n",
       "2013-01-01 -0.180055 -0.184300 -0.489631 -0.294932\n",
       "2013-01-02 -0.985149  1.643598 -1.319322  1.879614\n",
       "2013-01-03 -0.095298  2.385948 -0.342735  0.572610\n",
       "2013-01-04 -0.720945 -0.965473 -1.264741  0.109659\n",
       "2013-01-05 -0.660726  0.894251  0.352209 -0.995835\n",
       "2013-01-06  0.196834 -0.040456 -0.176135 -0.873157"
      ]
     },
     "execution_count": 53,
     "metadata": {},
     "output_type": "execute_result"
    }
   ],
   "source": [
    "df.sort_index(axis=1, ascending=True)"
   ]
  },
  {
   "cell_type": "code",
   "execution_count": 54,
   "id": "9ac930f4",
   "metadata": {
    "scrolled": true
   },
   "outputs": [
    {
     "data": {
      "text/html": [
       "<div>\n",
       "<style scoped>\n",
       "    .dataframe tbody tr th:only-of-type {\n",
       "        vertical-align: middle;\n",
       "    }\n",
       "\n",
       "    .dataframe tbody tr th {\n",
       "        vertical-align: top;\n",
       "    }\n",
       "\n",
       "    .dataframe thead th {\n",
       "        text-align: right;\n",
       "    }\n",
       "</style>\n",
       "<table border=\"1\" class=\"dataframe\">\n",
       "  <thead>\n",
       "    <tr style=\"text-align: right;\">\n",
       "      <th></th>\n",
       "      <th>A</th>\n",
       "      <th>B</th>\n",
       "      <th>C</th>\n",
       "      <th>D</th>\n",
       "      <th>E</th>\n",
       "      <th>F</th>\n",
       "    </tr>\n",
       "  </thead>\n",
       "  <tbody>\n",
       "    <tr>\n",
       "      <th>0</th>\n",
       "      <td>1.0</td>\n",
       "      <td>2013-01-02</td>\n",
       "      <td>1.0</td>\n",
       "      <td>3</td>\n",
       "      <td>test</td>\n",
       "      <td>foo</td>\n",
       "    </tr>\n",
       "    <tr>\n",
       "      <th>1</th>\n",
       "      <td>1.0</td>\n",
       "      <td>2013-01-02</td>\n",
       "      <td>1.0</td>\n",
       "      <td>3</td>\n",
       "      <td>train</td>\n",
       "      <td>foo</td>\n",
       "    </tr>\n",
       "    <tr>\n",
       "      <th>2</th>\n",
       "      <td>1.0</td>\n",
       "      <td>2013-01-02</td>\n",
       "      <td>1.0</td>\n",
       "      <td>3</td>\n",
       "      <td>test</td>\n",
       "      <td>foo</td>\n",
       "    </tr>\n",
       "    <tr>\n",
       "      <th>3</th>\n",
       "      <td>1.0</td>\n",
       "      <td>2013-01-02</td>\n",
       "      <td>1.0</td>\n",
       "      <td>3</td>\n",
       "      <td>train</td>\n",
       "      <td>foo</td>\n",
       "    </tr>\n",
       "  </tbody>\n",
       "</table>\n",
       "</div>"
      ],
      "text/plain": [
       "     A          B    C  D      E    F\n",
       "0  1.0 2013-01-02  1.0  3   test  foo\n",
       "1  1.0 2013-01-02  1.0  3  train  foo\n",
       "2  1.0 2013-01-02  1.0  3   test  foo\n",
       "3  1.0 2013-01-02  1.0  3  train  foo"
      ]
     },
     "execution_count": 54,
     "metadata": {},
     "output_type": "execute_result"
    }
   ],
   "source": [
    "df2.sort_index(axis=1, ascending=True)"
   ]
  },
  {
   "cell_type": "markdown",
   "id": "3e6b0eab",
   "metadata": {},
   "source": [
    "# axis = 0 sort"
   ]
  },
  {
   "cell_type": "code",
   "execution_count": 55,
   "id": "9c281038",
   "metadata": {
    "scrolled": true
   },
   "outputs": [
    {
     "data": {
      "text/html": [
       "<div>\n",
       "<style scoped>\n",
       "    .dataframe tbody tr th:only-of-type {\n",
       "        vertical-align: middle;\n",
       "    }\n",
       "\n",
       "    .dataframe tbody tr th {\n",
       "        vertical-align: top;\n",
       "    }\n",
       "\n",
       "    .dataframe thead th {\n",
       "        text-align: right;\n",
       "    }\n",
       "</style>\n",
       "<table border=\"1\" class=\"dataframe\">\n",
       "  <thead>\n",
       "    <tr style=\"text-align: right;\">\n",
       "      <th></th>\n",
       "      <th>A</th>\n",
       "      <th>B</th>\n",
       "      <th>C</th>\n",
       "      <th>D</th>\n",
       "    </tr>\n",
       "  </thead>\n",
       "  <tbody>\n",
       "    <tr>\n",
       "      <th>2013-01-06</th>\n",
       "      <td>0.196834</td>\n",
       "      <td>-0.040456</td>\n",
       "      <td>-0.176135</td>\n",
       "      <td>-0.873157</td>\n",
       "    </tr>\n",
       "    <tr>\n",
       "      <th>2013-01-05</th>\n",
       "      <td>-0.660726</td>\n",
       "      <td>0.894251</td>\n",
       "      <td>0.352209</td>\n",
       "      <td>-0.995835</td>\n",
       "    </tr>\n",
       "    <tr>\n",
       "      <th>2013-01-04</th>\n",
       "      <td>-0.720945</td>\n",
       "      <td>-0.965473</td>\n",
       "      <td>-1.264741</td>\n",
       "      <td>0.109659</td>\n",
       "    </tr>\n",
       "    <tr>\n",
       "      <th>2013-01-03</th>\n",
       "      <td>-0.095298</td>\n",
       "      <td>2.385948</td>\n",
       "      <td>-0.342735</td>\n",
       "      <td>0.572610</td>\n",
       "    </tr>\n",
       "    <tr>\n",
       "      <th>2013-01-02</th>\n",
       "      <td>-0.985149</td>\n",
       "      <td>1.643598</td>\n",
       "      <td>-1.319322</td>\n",
       "      <td>1.879614</td>\n",
       "    </tr>\n",
       "    <tr>\n",
       "      <th>2013-01-01</th>\n",
       "      <td>-0.180055</td>\n",
       "      <td>-0.184300</td>\n",
       "      <td>-0.489631</td>\n",
       "      <td>-0.294932</td>\n",
       "    </tr>\n",
       "  </tbody>\n",
       "</table>\n",
       "</div>"
      ],
      "text/plain": [
       "                   A         B         C         D\n",
       "2013-01-06  0.196834 -0.040456 -0.176135 -0.873157\n",
       "2013-01-05 -0.660726  0.894251  0.352209 -0.995835\n",
       "2013-01-04 -0.720945 -0.965473 -1.264741  0.109659\n",
       "2013-01-03 -0.095298  2.385948 -0.342735  0.572610\n",
       "2013-01-02 -0.985149  1.643598 -1.319322  1.879614\n",
       "2013-01-01 -0.180055 -0.184300 -0.489631 -0.294932"
      ]
     },
     "execution_count": 55,
     "metadata": {},
     "output_type": "execute_result"
    }
   ],
   "source": [
    "df.sort_index(axis=0, ascending=False)"
   ]
  },
  {
   "cell_type": "code",
   "execution_count": 56,
   "id": "3a0c0c57",
   "metadata": {
    "scrolled": true
   },
   "outputs": [
    {
     "data": {
      "text/html": [
       "<div>\n",
       "<style scoped>\n",
       "    .dataframe tbody tr th:only-of-type {\n",
       "        vertical-align: middle;\n",
       "    }\n",
       "\n",
       "    .dataframe tbody tr th {\n",
       "        vertical-align: top;\n",
       "    }\n",
       "\n",
       "    .dataframe thead th {\n",
       "        text-align: right;\n",
       "    }\n",
       "</style>\n",
       "<table border=\"1\" class=\"dataframe\">\n",
       "  <thead>\n",
       "    <tr style=\"text-align: right;\">\n",
       "      <th></th>\n",
       "      <th>A</th>\n",
       "      <th>B</th>\n",
       "      <th>C</th>\n",
       "      <th>D</th>\n",
       "      <th>E</th>\n",
       "      <th>F</th>\n",
       "    </tr>\n",
       "  </thead>\n",
       "  <tbody>\n",
       "    <tr>\n",
       "      <th>3</th>\n",
       "      <td>1.0</td>\n",
       "      <td>2013-01-02</td>\n",
       "      <td>1.0</td>\n",
       "      <td>3</td>\n",
       "      <td>train</td>\n",
       "      <td>foo</td>\n",
       "    </tr>\n",
       "    <tr>\n",
       "      <th>2</th>\n",
       "      <td>1.0</td>\n",
       "      <td>2013-01-02</td>\n",
       "      <td>1.0</td>\n",
       "      <td>3</td>\n",
       "      <td>test</td>\n",
       "      <td>foo</td>\n",
       "    </tr>\n",
       "    <tr>\n",
       "      <th>1</th>\n",
       "      <td>1.0</td>\n",
       "      <td>2013-01-02</td>\n",
       "      <td>1.0</td>\n",
       "      <td>3</td>\n",
       "      <td>train</td>\n",
       "      <td>foo</td>\n",
       "    </tr>\n",
       "    <tr>\n",
       "      <th>0</th>\n",
       "      <td>1.0</td>\n",
       "      <td>2013-01-02</td>\n",
       "      <td>1.0</td>\n",
       "      <td>3</td>\n",
       "      <td>test</td>\n",
       "      <td>foo</td>\n",
       "    </tr>\n",
       "  </tbody>\n",
       "</table>\n",
       "</div>"
      ],
      "text/plain": [
       "     A          B    C  D      E    F\n",
       "3  1.0 2013-01-02  1.0  3  train  foo\n",
       "2  1.0 2013-01-02  1.0  3   test  foo\n",
       "1  1.0 2013-01-02  1.0  3  train  foo\n",
       "0  1.0 2013-01-02  1.0  3   test  foo"
      ]
     },
     "execution_count": 56,
     "metadata": {},
     "output_type": "execute_result"
    }
   ],
   "source": [
    "df2.sort_index(axis=0, ascending=False)"
   ]
  },
  {
   "cell_type": "code",
   "execution_count": 57,
   "id": "0a578607",
   "metadata": {},
   "outputs": [
    {
     "data": {
      "text/html": [
       "<div>\n",
       "<style scoped>\n",
       "    .dataframe tbody tr th:only-of-type {\n",
       "        vertical-align: middle;\n",
       "    }\n",
       "\n",
       "    .dataframe tbody tr th {\n",
       "        vertical-align: top;\n",
       "    }\n",
       "\n",
       "    .dataframe thead th {\n",
       "        text-align: right;\n",
       "    }\n",
       "</style>\n",
       "<table border=\"1\" class=\"dataframe\">\n",
       "  <thead>\n",
       "    <tr style=\"text-align: right;\">\n",
       "      <th></th>\n",
       "      <th>A</th>\n",
       "      <th>B</th>\n",
       "      <th>C</th>\n",
       "      <th>D</th>\n",
       "    </tr>\n",
       "  </thead>\n",
       "  <tbody>\n",
       "    <tr>\n",
       "      <th>2013-01-01</th>\n",
       "      <td>-0.180055</td>\n",
       "      <td>-0.184300</td>\n",
       "      <td>-0.489631</td>\n",
       "      <td>-0.294932</td>\n",
       "    </tr>\n",
       "    <tr>\n",
       "      <th>2013-01-02</th>\n",
       "      <td>-0.985149</td>\n",
       "      <td>1.643598</td>\n",
       "      <td>-1.319322</td>\n",
       "      <td>1.879614</td>\n",
       "    </tr>\n",
       "    <tr>\n",
       "      <th>2013-01-03</th>\n",
       "      <td>-0.095298</td>\n",
       "      <td>2.385948</td>\n",
       "      <td>-0.342735</td>\n",
       "      <td>0.572610</td>\n",
       "    </tr>\n",
       "    <tr>\n",
       "      <th>2013-01-04</th>\n",
       "      <td>-0.720945</td>\n",
       "      <td>-0.965473</td>\n",
       "      <td>-1.264741</td>\n",
       "      <td>0.109659</td>\n",
       "    </tr>\n",
       "    <tr>\n",
       "      <th>2013-01-05</th>\n",
       "      <td>-0.660726</td>\n",
       "      <td>0.894251</td>\n",
       "      <td>0.352209</td>\n",
       "      <td>-0.995835</td>\n",
       "    </tr>\n",
       "    <tr>\n",
       "      <th>2013-01-06</th>\n",
       "      <td>0.196834</td>\n",
       "      <td>-0.040456</td>\n",
       "      <td>-0.176135</td>\n",
       "      <td>-0.873157</td>\n",
       "    </tr>\n",
       "  </tbody>\n",
       "</table>\n",
       "</div>"
      ],
      "text/plain": [
       "                   A         B         C         D\n",
       "2013-01-01 -0.180055 -0.184300 -0.489631 -0.294932\n",
       "2013-01-02 -0.985149  1.643598 -1.319322  1.879614\n",
       "2013-01-03 -0.095298  2.385948 -0.342735  0.572610\n",
       "2013-01-04 -0.720945 -0.965473 -1.264741  0.109659\n",
       "2013-01-05 -0.660726  0.894251  0.352209 -0.995835\n",
       "2013-01-06  0.196834 -0.040456 -0.176135 -0.873157"
      ]
     },
     "execution_count": 57,
     "metadata": {},
     "output_type": "execute_result"
    }
   ],
   "source": [
    "df.sort_index(axis=0, ascending=True)"
   ]
  },
  {
   "cell_type": "code",
   "execution_count": 58,
   "id": "59916aa9",
   "metadata": {
    "scrolled": true
   },
   "outputs": [
    {
     "data": {
      "text/html": [
       "<div>\n",
       "<style scoped>\n",
       "    .dataframe tbody tr th:only-of-type {\n",
       "        vertical-align: middle;\n",
       "    }\n",
       "\n",
       "    .dataframe tbody tr th {\n",
       "        vertical-align: top;\n",
       "    }\n",
       "\n",
       "    .dataframe thead th {\n",
       "        text-align: right;\n",
       "    }\n",
       "</style>\n",
       "<table border=\"1\" class=\"dataframe\">\n",
       "  <thead>\n",
       "    <tr style=\"text-align: right;\">\n",
       "      <th></th>\n",
       "      <th>A</th>\n",
       "      <th>B</th>\n",
       "      <th>C</th>\n",
       "      <th>D</th>\n",
       "      <th>E</th>\n",
       "      <th>F</th>\n",
       "    </tr>\n",
       "  </thead>\n",
       "  <tbody>\n",
       "    <tr>\n",
       "      <th>0</th>\n",
       "      <td>1.0</td>\n",
       "      <td>2013-01-02</td>\n",
       "      <td>1.0</td>\n",
       "      <td>3</td>\n",
       "      <td>test</td>\n",
       "      <td>foo</td>\n",
       "    </tr>\n",
       "    <tr>\n",
       "      <th>1</th>\n",
       "      <td>1.0</td>\n",
       "      <td>2013-01-02</td>\n",
       "      <td>1.0</td>\n",
       "      <td>3</td>\n",
       "      <td>train</td>\n",
       "      <td>foo</td>\n",
       "    </tr>\n",
       "    <tr>\n",
       "      <th>2</th>\n",
       "      <td>1.0</td>\n",
       "      <td>2013-01-02</td>\n",
       "      <td>1.0</td>\n",
       "      <td>3</td>\n",
       "      <td>test</td>\n",
       "      <td>foo</td>\n",
       "    </tr>\n",
       "    <tr>\n",
       "      <th>3</th>\n",
       "      <td>1.0</td>\n",
       "      <td>2013-01-02</td>\n",
       "      <td>1.0</td>\n",
       "      <td>3</td>\n",
       "      <td>train</td>\n",
       "      <td>foo</td>\n",
       "    </tr>\n",
       "  </tbody>\n",
       "</table>\n",
       "</div>"
      ],
      "text/plain": [
       "     A          B    C  D      E    F\n",
       "0  1.0 2013-01-02  1.0  3   test  foo\n",
       "1  1.0 2013-01-02  1.0  3  train  foo\n",
       "2  1.0 2013-01-02  1.0  3   test  foo\n",
       "3  1.0 2013-01-02  1.0  3  train  foo"
      ]
     },
     "execution_count": 58,
     "metadata": {},
     "output_type": "execute_result"
    }
   ],
   "source": [
    "df2.sort_index(axis=0, ascending=True)"
   ]
  },
  {
   "cell_type": "markdown",
   "id": "2e3d61dd",
   "metadata": {},
   "source": [
    "# data value sort"
   ]
  },
  {
   "cell_type": "code",
   "execution_count": 59,
   "id": "535f1ffa",
   "metadata": {},
   "outputs": [
    {
     "data": {
      "text/html": [
       "<div>\n",
       "<style scoped>\n",
       "    .dataframe tbody tr th:only-of-type {\n",
       "        vertical-align: middle;\n",
       "    }\n",
       "\n",
       "    .dataframe tbody tr th {\n",
       "        vertical-align: top;\n",
       "    }\n",
       "\n",
       "    .dataframe thead th {\n",
       "        text-align: right;\n",
       "    }\n",
       "</style>\n",
       "<table border=\"1\" class=\"dataframe\">\n",
       "  <thead>\n",
       "    <tr style=\"text-align: right;\">\n",
       "      <th></th>\n",
       "      <th>A</th>\n",
       "      <th>B</th>\n",
       "      <th>C</th>\n",
       "      <th>D</th>\n",
       "    </tr>\n",
       "  </thead>\n",
       "  <tbody>\n",
       "    <tr>\n",
       "      <th>2013-01-04</th>\n",
       "      <td>-0.720945</td>\n",
       "      <td>-0.965473</td>\n",
       "      <td>-1.264741</td>\n",
       "      <td>0.109659</td>\n",
       "    </tr>\n",
       "    <tr>\n",
       "      <th>2013-01-01</th>\n",
       "      <td>-0.180055</td>\n",
       "      <td>-0.184300</td>\n",
       "      <td>-0.489631</td>\n",
       "      <td>-0.294932</td>\n",
       "    </tr>\n",
       "    <tr>\n",
       "      <th>2013-01-06</th>\n",
       "      <td>0.196834</td>\n",
       "      <td>-0.040456</td>\n",
       "      <td>-0.176135</td>\n",
       "      <td>-0.873157</td>\n",
       "    </tr>\n",
       "    <tr>\n",
       "      <th>2013-01-05</th>\n",
       "      <td>-0.660726</td>\n",
       "      <td>0.894251</td>\n",
       "      <td>0.352209</td>\n",
       "      <td>-0.995835</td>\n",
       "    </tr>\n",
       "    <tr>\n",
       "      <th>2013-01-02</th>\n",
       "      <td>-0.985149</td>\n",
       "      <td>1.643598</td>\n",
       "      <td>-1.319322</td>\n",
       "      <td>1.879614</td>\n",
       "    </tr>\n",
       "    <tr>\n",
       "      <th>2013-01-03</th>\n",
       "      <td>-0.095298</td>\n",
       "      <td>2.385948</td>\n",
       "      <td>-0.342735</td>\n",
       "      <td>0.572610</td>\n",
       "    </tr>\n",
       "  </tbody>\n",
       "</table>\n",
       "</div>"
      ],
      "text/plain": [
       "                   A         B         C         D\n",
       "2013-01-04 -0.720945 -0.965473 -1.264741  0.109659\n",
       "2013-01-01 -0.180055 -0.184300 -0.489631 -0.294932\n",
       "2013-01-06  0.196834 -0.040456 -0.176135 -0.873157\n",
       "2013-01-05 -0.660726  0.894251  0.352209 -0.995835\n",
       "2013-01-02 -0.985149  1.643598 -1.319322  1.879614\n",
       "2013-01-03 -0.095298  2.385948 -0.342735  0.572610"
      ]
     },
     "execution_count": 59,
     "metadata": {},
     "output_type": "execute_result"
    }
   ],
   "source": [
    "df.sort_values(by = \"B\")"
   ]
  },
  {
   "cell_type": "code",
   "execution_count": 60,
   "id": "d1fdeef0",
   "metadata": {},
   "outputs": [
    {
     "data": {
      "text/html": [
       "<div>\n",
       "<style scoped>\n",
       "    .dataframe tbody tr th:only-of-type {\n",
       "        vertical-align: middle;\n",
       "    }\n",
       "\n",
       "    .dataframe tbody tr th {\n",
       "        vertical-align: top;\n",
       "    }\n",
       "\n",
       "    .dataframe thead th {\n",
       "        text-align: right;\n",
       "    }\n",
       "</style>\n",
       "<table border=\"1\" class=\"dataframe\">\n",
       "  <thead>\n",
       "    <tr style=\"text-align: right;\">\n",
       "      <th></th>\n",
       "      <th>A</th>\n",
       "      <th>B</th>\n",
       "      <th>C</th>\n",
       "      <th>D</th>\n",
       "      <th>E</th>\n",
       "      <th>F</th>\n",
       "    </tr>\n",
       "  </thead>\n",
       "  <tbody>\n",
       "    <tr>\n",
       "      <th>0</th>\n",
       "      <td>1.0</td>\n",
       "      <td>2013-01-02</td>\n",
       "      <td>1.0</td>\n",
       "      <td>3</td>\n",
       "      <td>test</td>\n",
       "      <td>foo</td>\n",
       "    </tr>\n",
       "    <tr>\n",
       "      <th>1</th>\n",
       "      <td>1.0</td>\n",
       "      <td>2013-01-02</td>\n",
       "      <td>1.0</td>\n",
       "      <td>3</td>\n",
       "      <td>train</td>\n",
       "      <td>foo</td>\n",
       "    </tr>\n",
       "    <tr>\n",
       "      <th>2</th>\n",
       "      <td>1.0</td>\n",
       "      <td>2013-01-02</td>\n",
       "      <td>1.0</td>\n",
       "      <td>3</td>\n",
       "      <td>test</td>\n",
       "      <td>foo</td>\n",
       "    </tr>\n",
       "    <tr>\n",
       "      <th>3</th>\n",
       "      <td>1.0</td>\n",
       "      <td>2013-01-02</td>\n",
       "      <td>1.0</td>\n",
       "      <td>3</td>\n",
       "      <td>train</td>\n",
       "      <td>foo</td>\n",
       "    </tr>\n",
       "  </tbody>\n",
       "</table>\n",
       "</div>"
      ],
      "text/plain": [
       "     A          B    C  D      E    F\n",
       "0  1.0 2013-01-02  1.0  3   test  foo\n",
       "1  1.0 2013-01-02  1.0  3  train  foo\n",
       "2  1.0 2013-01-02  1.0  3   test  foo\n",
       "3  1.0 2013-01-02  1.0  3  train  foo"
      ]
     },
     "execution_count": 60,
     "metadata": {},
     "output_type": "execute_result"
    }
   ],
   "source": [
    "df2.sort_values(by = \"A\")"
   ]
  },
  {
   "cell_type": "code",
   "execution_count": 61,
   "id": "2b5043fd",
   "metadata": {},
   "outputs": [
    {
     "data": {
      "text/plain": [
       "2013-01-01   -0.180055\n",
       "2013-01-02   -0.985149\n",
       "2013-01-03   -0.095298\n",
       "2013-01-04   -0.720945\n",
       "2013-01-05   -0.660726\n",
       "2013-01-06    0.196834\n",
       "Freq: D, Name: A, dtype: float64"
      ]
     },
     "execution_count": 61,
     "metadata": {},
     "output_type": "execute_result"
    }
   ],
   "source": [
    "df['A']"
   ]
  },
  {
   "cell_type": "code",
   "execution_count": 62,
   "id": "88338d9c",
   "metadata": {},
   "outputs": [
    {
     "data": {
      "text/plain": [
       "0   2013-01-02\n",
       "1   2013-01-02\n",
       "2   2013-01-02\n",
       "3   2013-01-02\n",
       "Name: B, dtype: datetime64[ns]"
      ]
     },
     "execution_count": 62,
     "metadata": {},
     "output_type": "execute_result"
    }
   ],
   "source": [
    "df2['B']"
   ]
  },
  {
   "cell_type": "markdown",
   "id": "e16ee1fc",
   "metadata": {},
   "source": [
    "# data division"
   ]
  },
  {
   "cell_type": "code",
   "execution_count": 63,
   "id": "b887448d",
   "metadata": {},
   "outputs": [
    {
     "data": {
      "text/html": [
       "<div>\n",
       "<style scoped>\n",
       "    .dataframe tbody tr th:only-of-type {\n",
       "        vertical-align: middle;\n",
       "    }\n",
       "\n",
       "    .dataframe tbody tr th {\n",
       "        vertical-align: top;\n",
       "    }\n",
       "\n",
       "    .dataframe thead th {\n",
       "        text-align: right;\n",
       "    }\n",
       "</style>\n",
       "<table border=\"1\" class=\"dataframe\">\n",
       "  <thead>\n",
       "    <tr style=\"text-align: right;\">\n",
       "      <th></th>\n",
       "      <th>A</th>\n",
       "      <th>B</th>\n",
       "      <th>C</th>\n",
       "      <th>D</th>\n",
       "    </tr>\n",
       "  </thead>\n",
       "  <tbody>\n",
       "    <tr>\n",
       "      <th>2013-01-01</th>\n",
       "      <td>-0.180055</td>\n",
       "      <td>-0.184300</td>\n",
       "      <td>-0.489631</td>\n",
       "      <td>-0.294932</td>\n",
       "    </tr>\n",
       "    <tr>\n",
       "      <th>2013-01-02</th>\n",
       "      <td>-0.985149</td>\n",
       "      <td>1.643598</td>\n",
       "      <td>-1.319322</td>\n",
       "      <td>1.879614</td>\n",
       "    </tr>\n",
       "    <tr>\n",
       "      <th>2013-01-03</th>\n",
       "      <td>-0.095298</td>\n",
       "      <td>2.385948</td>\n",
       "      <td>-0.342735</td>\n",
       "      <td>0.572610</td>\n",
       "    </tr>\n",
       "  </tbody>\n",
       "</table>\n",
       "</div>"
      ],
      "text/plain": [
       "                   A         B         C         D\n",
       "2013-01-01 -0.180055 -0.184300 -0.489631 -0.294932\n",
       "2013-01-02 -0.985149  1.643598 -1.319322  1.879614\n",
       "2013-01-03 -0.095298  2.385948 -0.342735  0.572610"
      ]
     },
     "execution_count": 63,
     "metadata": {},
     "output_type": "execute_result"
    }
   ],
   "source": [
    "df[0:3]"
   ]
  },
  {
   "cell_type": "code",
   "execution_count": 64,
   "id": "65019b30",
   "metadata": {},
   "outputs": [
    {
     "data": {
      "text/html": [
       "<div>\n",
       "<style scoped>\n",
       "    .dataframe tbody tr th:only-of-type {\n",
       "        vertical-align: middle;\n",
       "    }\n",
       "\n",
       "    .dataframe tbody tr th {\n",
       "        vertical-align: top;\n",
       "    }\n",
       "\n",
       "    .dataframe thead th {\n",
       "        text-align: right;\n",
       "    }\n",
       "</style>\n",
       "<table border=\"1\" class=\"dataframe\">\n",
       "  <thead>\n",
       "    <tr style=\"text-align: right;\">\n",
       "      <th></th>\n",
       "      <th>A</th>\n",
       "      <th>B</th>\n",
       "      <th>C</th>\n",
       "      <th>D</th>\n",
       "      <th>E</th>\n",
       "      <th>F</th>\n",
       "    </tr>\n",
       "  </thead>\n",
       "  <tbody>\n",
       "    <tr>\n",
       "      <th>0</th>\n",
       "      <td>1.0</td>\n",
       "      <td>2013-01-02</td>\n",
       "      <td>1.0</td>\n",
       "      <td>3</td>\n",
       "      <td>test</td>\n",
       "      <td>foo</td>\n",
       "    </tr>\n",
       "    <tr>\n",
       "      <th>1</th>\n",
       "      <td>1.0</td>\n",
       "      <td>2013-01-02</td>\n",
       "      <td>1.0</td>\n",
       "      <td>3</td>\n",
       "      <td>train</td>\n",
       "      <td>foo</td>\n",
       "    </tr>\n",
       "    <tr>\n",
       "      <th>2</th>\n",
       "      <td>1.0</td>\n",
       "      <td>2013-01-02</td>\n",
       "      <td>1.0</td>\n",
       "      <td>3</td>\n",
       "      <td>test</td>\n",
       "      <td>foo</td>\n",
       "    </tr>\n",
       "  </tbody>\n",
       "</table>\n",
       "</div>"
      ],
      "text/plain": [
       "     A          B    C  D      E    F\n",
       "0  1.0 2013-01-02  1.0  3   test  foo\n",
       "1  1.0 2013-01-02  1.0  3  train  foo\n",
       "2  1.0 2013-01-02  1.0  3   test  foo"
      ]
     },
     "execution_count": 64,
     "metadata": {},
     "output_type": "execute_result"
    }
   ],
   "source": [
    "df2[0:3]"
   ]
  },
  {
   "cell_type": "code",
   "execution_count": 65,
   "id": "e454bacf",
   "metadata": {},
   "outputs": [
    {
     "data": {
      "text/plain": [
       "A   -0.180055\n",
       "B   -0.184300\n",
       "C   -0.489631\n",
       "D   -0.294932\n",
       "Name: 2013-01-01 00:00:00, dtype: float64"
      ]
     },
     "execution_count": 65,
     "metadata": {},
     "output_type": "execute_result"
    }
   ],
   "source": [
    "df.loc[dates[0]]"
   ]
  },
  {
   "cell_type": "code",
   "execution_count": 66,
   "id": "4c22f24e",
   "metadata": {},
   "outputs": [
    {
     "data": {
      "text/html": [
       "<div>\n",
       "<style scoped>\n",
       "    .dataframe tbody tr th:only-of-type {\n",
       "        vertical-align: middle;\n",
       "    }\n",
       "\n",
       "    .dataframe tbody tr th {\n",
       "        vertical-align: top;\n",
       "    }\n",
       "\n",
       "    .dataframe thead th {\n",
       "        text-align: right;\n",
       "    }\n",
       "</style>\n",
       "<table border=\"1\" class=\"dataframe\">\n",
       "  <thead>\n",
       "    <tr style=\"text-align: right;\">\n",
       "      <th></th>\n",
       "      <th>A</th>\n",
       "      <th>B</th>\n",
       "    </tr>\n",
       "  </thead>\n",
       "  <tbody>\n",
       "    <tr>\n",
       "      <th>2013-01-01</th>\n",
       "      <td>-0.180055</td>\n",
       "      <td>-0.184300</td>\n",
       "    </tr>\n",
       "    <tr>\n",
       "      <th>2013-01-02</th>\n",
       "      <td>-0.985149</td>\n",
       "      <td>1.643598</td>\n",
       "    </tr>\n",
       "    <tr>\n",
       "      <th>2013-01-03</th>\n",
       "      <td>-0.095298</td>\n",
       "      <td>2.385948</td>\n",
       "    </tr>\n",
       "    <tr>\n",
       "      <th>2013-01-04</th>\n",
       "      <td>-0.720945</td>\n",
       "      <td>-0.965473</td>\n",
       "    </tr>\n",
       "    <tr>\n",
       "      <th>2013-01-05</th>\n",
       "      <td>-0.660726</td>\n",
       "      <td>0.894251</td>\n",
       "    </tr>\n",
       "    <tr>\n",
       "      <th>2013-01-06</th>\n",
       "      <td>0.196834</td>\n",
       "      <td>-0.040456</td>\n",
       "    </tr>\n",
       "  </tbody>\n",
       "</table>\n",
       "</div>"
      ],
      "text/plain": [
       "                   A         B\n",
       "2013-01-01 -0.180055 -0.184300\n",
       "2013-01-02 -0.985149  1.643598\n",
       "2013-01-03 -0.095298  2.385948\n",
       "2013-01-04 -0.720945 -0.965473\n",
       "2013-01-05 -0.660726  0.894251\n",
       "2013-01-06  0.196834 -0.040456"
      ]
     },
     "execution_count": 66,
     "metadata": {},
     "output_type": "execute_result"
    }
   ],
   "source": [
    "df.loc[:,['A','B']]"
   ]
  },
  {
   "cell_type": "code",
   "execution_count": 68,
   "id": "bd4e645b",
   "metadata": {},
   "outputs": [
    {
     "data": {
      "text/html": [
       "<div>\n",
       "<style scoped>\n",
       "    .dataframe tbody tr th:only-of-type {\n",
       "        vertical-align: middle;\n",
       "    }\n",
       "\n",
       "    .dataframe tbody tr th {\n",
       "        vertical-align: top;\n",
       "    }\n",
       "\n",
       "    .dataframe thead th {\n",
       "        text-align: right;\n",
       "    }\n",
       "</style>\n",
       "<table border=\"1\" class=\"dataframe\">\n",
       "  <thead>\n",
       "    <tr style=\"text-align: right;\">\n",
       "      <th></th>\n",
       "      <th>C</th>\n",
       "    </tr>\n",
       "  </thead>\n",
       "  <tbody>\n",
       "    <tr>\n",
       "      <th>0</th>\n",
       "      <td>1.0</td>\n",
       "    </tr>\n",
       "    <tr>\n",
       "      <th>1</th>\n",
       "      <td>1.0</td>\n",
       "    </tr>\n",
       "    <tr>\n",
       "      <th>2</th>\n",
       "      <td>1.0</td>\n",
       "    </tr>\n",
       "    <tr>\n",
       "      <th>3</th>\n",
       "      <td>1.0</td>\n",
       "    </tr>\n",
       "  </tbody>\n",
       "</table>\n",
       "</div>"
      ],
      "text/plain": [
       "     C\n",
       "0  1.0\n",
       "1  1.0\n",
       "2  1.0\n",
       "3  1.0"
      ]
     },
     "execution_count": 68,
     "metadata": {},
     "output_type": "execute_result"
    }
   ],
   "source": [
    "df2.loc[:,['C']]"
   ]
  },
  {
   "cell_type": "code",
   "execution_count": 70,
   "id": "ca623360",
   "metadata": {},
   "outputs": [
    {
     "data": {
      "text/html": [
       "<div>\n",
       "<style scoped>\n",
       "    .dataframe tbody tr th:only-of-type {\n",
       "        vertical-align: middle;\n",
       "    }\n",
       "\n",
       "    .dataframe tbody tr th {\n",
       "        vertical-align: top;\n",
       "    }\n",
       "\n",
       "    .dataframe thead th {\n",
       "        text-align: right;\n",
       "    }\n",
       "</style>\n",
       "<table border=\"1\" class=\"dataframe\">\n",
       "  <thead>\n",
       "    <tr style=\"text-align: right;\">\n",
       "      <th></th>\n",
       "      <th>A</th>\n",
       "      <th>B</th>\n",
       "      <th>C</th>\n",
       "      <th>D</th>\n",
       "    </tr>\n",
       "  </thead>\n",
       "  <tbody>\n",
       "    <tr>\n",
       "      <th>2013-01-02</th>\n",
       "      <td>-0.985149</td>\n",
       "      <td>1.643598</td>\n",
       "      <td>-1.319322</td>\n",
       "      <td>1.879614</td>\n",
       "    </tr>\n",
       "    <tr>\n",
       "      <th>2013-01-03</th>\n",
       "      <td>-0.095298</td>\n",
       "      <td>2.385948</td>\n",
       "      <td>-0.342735</td>\n",
       "      <td>0.572610</td>\n",
       "    </tr>\n",
       "    <tr>\n",
       "      <th>2013-01-04</th>\n",
       "      <td>-0.720945</td>\n",
       "      <td>-0.965473</td>\n",
       "      <td>-1.264741</td>\n",
       "      <td>0.109659</td>\n",
       "    </tr>\n",
       "    <tr>\n",
       "      <th>2013-01-05</th>\n",
       "      <td>-0.660726</td>\n",
       "      <td>0.894251</td>\n",
       "      <td>0.352209</td>\n",
       "      <td>-0.995835</td>\n",
       "    </tr>\n",
       "  </tbody>\n",
       "</table>\n",
       "</div>"
      ],
      "text/plain": [
       "                   A         B         C         D\n",
       "2013-01-02 -0.985149  1.643598 -1.319322  1.879614\n",
       "2013-01-03 -0.095298  2.385948 -0.342735  0.572610\n",
       "2013-01-04 -0.720945 -0.965473 -1.264741  0.109659\n",
       "2013-01-05 -0.660726  0.894251  0.352209 -0.995835"
      ]
     },
     "execution_count": 70,
     "metadata": {},
     "output_type": "execute_result"
    }
   ],
   "source": [
    "df['20130102':'20130105']"
   ]
  },
  {
   "cell_type": "markdown",
   "id": "f500dbff",
   "metadata": {},
   "source": [
    "# DataFrame Slicing <br> loc : value base slicing <br> iloc : index base slicing"
   ]
  },
  {
   "cell_type": "code",
   "execution_count": 72,
   "id": "c8361ed4",
   "metadata": {},
   "outputs": [
    {
     "name": "stdout",
     "output_type": "stream",
     "text": [
      "        product  price  num\n",
      "pen      pencil    500   12\n",
      "era     erasser    700    6\n",
      "note   notebook   1300   10\n",
      "color  colorpen   1600    7\n",
      "------------------------------\n",
      "      num\n",
      "pen    12\n",
      "era     6\n",
      "note   10\n",
      "------------------------------\n",
      "      num\n",
      "era     6\n",
      "note   10\n"
     ]
    }
   ],
   "source": [
    "product_dic = {\n",
    "    'pen' : 'pencil',\n",
    "    'era' : 'erasser',\n",
    "    'note' : 'notebook',\n",
    "    'color' : 'colorpen'\n",
    "}\n",
    "\n",
    "price_dic = {\n",
    "    'pen' : 500,\n",
    "    'era' : 700,\n",
    "    'note' : 1300,\n",
    "    'color' : 1600\n",
    "}\n",
    "\n",
    "num_dic = {\n",
    "    'pen' : 12,\n",
    "    'era' : 6,\n",
    "    'note' : 10,\n",
    "    'color' : 7\n",
    "}\n",
    "\n",
    "product = pd.Series(product_dic)\n",
    "price = pd.Series(price_dic)\n",
    "num = pd.Series(num_dic)\n",
    "\n",
    "sum = pd.DataFrame({\n",
    "    'product' : product,\n",
    "    'price' : price,\n",
    "    'num' : num\n",
    "})\n",
    "\n",
    "print(sum)\n",
    "print(\"------------------------------\")\n",
    "\n",
    "print(sum.loc['pen':'note', 'num':])\n",
    "print(\"------------------------------\")\n",
    "\n",
    "print(sum.iloc[1:3, 2:])"
   ]
  },
  {
   "cell_type": "markdown",
   "id": "d206f191",
   "metadata": {},
   "source": [
    "# DataFrame Data change and insert"
   ]
  },
  {
   "cell_type": "code",
   "execution_count": 74,
   "id": "18d4653f",
   "metadata": {},
   "outputs": [
    {
     "name": "stdout",
     "output_type": "stream",
     "text": [
      "        product  price  num\n",
      "pen      pencil    500   12\n",
      "era     erasser    700    6\n",
      "note   notebook   1300   10\n",
      "color  colorpen   1600    7\n",
      "------------------------------\n",
      "        product  price  num\n",
      "pen      pencil    500   10\n",
      "era     erasser    700    6\n",
      "note   notebook   1300   10\n",
      "color  colorpen   1600    7\n",
      "bpen    ballpen   1000    3\n"
     ]
    }
   ],
   "source": [
    "product_dic = {\n",
    "    'pen' : 'pencil',\n",
    "    'era' : 'erasser',\n",
    "    'note' : 'notebook',\n",
    "    'color' : 'colorpen'\n",
    "}\n",
    "\n",
    "price_dic = {\n",
    "    'pen' : 500,\n",
    "    'era' : 700,\n",
    "    'note' : 1300,\n",
    "    'color' : 1600\n",
    "}\n",
    "\n",
    "num_dic = {\n",
    "    'pen' : 12,\n",
    "    'era' : 6,\n",
    "    'note' : 10,\n",
    "    'color' : 7\n",
    "}\n",
    "\n",
    "product = pd.Series(product_dic)\n",
    "price = pd.Series(price_dic)\n",
    "num = pd.Series(num_dic)\n",
    "\n",
    "sum = pd.DataFrame({\n",
    "    'product' : product,\n",
    "    'price' : price,\n",
    "    'num' : num\n",
    "})\n",
    "\n",
    "print(sum)\n",
    "print(\"------------------------------\")\n",
    "\n",
    "sum.loc['pen','num'] = 10\n",
    "\n",
    "sum.loc['bpen'] = ['ballpen', 1000, 3]\n",
    "\n",
    "print(sum)"
   ]
  },
  {
   "cell_type": "code",
   "execution_count": 75,
   "id": "a206a886",
   "metadata": {},
   "outputs": [
    {
     "data": {
      "text/html": [
       "<div>\n",
       "<style scoped>\n",
       "    .dataframe tbody tr th:only-of-type {\n",
       "        vertical-align: middle;\n",
       "    }\n",
       "\n",
       "    .dataframe tbody tr th {\n",
       "        vertical-align: top;\n",
       "    }\n",
       "\n",
       "    .dataframe thead th {\n",
       "        text-align: right;\n",
       "    }\n",
       "</style>\n",
       "<table border=\"1\" class=\"dataframe\">\n",
       "  <thead>\n",
       "    <tr style=\"text-align: right;\">\n",
       "      <th></th>\n",
       "      <th>A</th>\n",
       "      <th>B</th>\n",
       "    </tr>\n",
       "  </thead>\n",
       "  <tbody>\n",
       "    <tr>\n",
       "      <th>2013-01-02</th>\n",
       "      <td>-0.985149</td>\n",
       "      <td>1.643598</td>\n",
       "    </tr>\n",
       "    <tr>\n",
       "      <th>2013-01-03</th>\n",
       "      <td>-0.095298</td>\n",
       "      <td>2.385948</td>\n",
       "    </tr>\n",
       "    <tr>\n",
       "      <th>2013-01-04</th>\n",
       "      <td>-0.720945</td>\n",
       "      <td>-0.965473</td>\n",
       "    </tr>\n",
       "    <tr>\n",
       "      <th>2013-01-05</th>\n",
       "      <td>-0.660726</td>\n",
       "      <td>0.894251</td>\n",
       "    </tr>\n",
       "  </tbody>\n",
       "</table>\n",
       "</div>"
      ],
      "text/plain": [
       "                   A         B\n",
       "2013-01-02 -0.985149  1.643598\n",
       "2013-01-03 -0.095298  2.385948\n",
       "2013-01-04 -0.720945 -0.965473\n",
       "2013-01-05 -0.660726  0.894251"
      ]
     },
     "execution_count": 75,
     "metadata": {},
     "output_type": "execute_result"
    }
   ],
   "source": [
    "df.loc['20130102':'20130105', ['A','B']] "
   ]
  },
  {
   "cell_type": "code",
   "execution_count": 76,
   "id": "840474d8",
   "metadata": {},
   "outputs": [
    {
     "data": {
      "text/plain": [
       "A   -0.985149\n",
       "B    1.643598\n",
       "Name: 2013-01-02 00:00:00, dtype: float64"
      ]
     },
     "execution_count": 76,
     "metadata": {},
     "output_type": "execute_result"
    }
   ],
   "source": [
    "df.loc['20130102',['A','B']]"
   ]
  },
  {
   "cell_type": "markdown",
   "id": "a676be73",
   "metadata": {},
   "source": [
    "# scala value"
   ]
  },
  {
   "cell_type": "code",
   "execution_count": 77,
   "id": "4bb8de58",
   "metadata": {},
   "outputs": [
    {
     "data": {
      "text/plain": [
       "-0.18005532859755596"
      ]
     },
     "execution_count": 77,
     "metadata": {},
     "output_type": "execute_result"
    }
   ],
   "source": [
    "df.loc[dates[0],'A']"
   ]
  },
  {
   "cell_type": "code",
   "execution_count": 79,
   "id": "f4fb9949",
   "metadata": {},
   "outputs": [
    {
     "data": {
      "text/plain": [
       "-0.18005532859755596"
      ]
     },
     "execution_count": 79,
     "metadata": {},
     "output_type": "execute_result"
    }
   ],
   "source": [
    "df.at[dates[0],'A'] # more fast value get "
   ]
  },
  {
   "cell_type": "markdown",
   "id": "3bcc536a",
   "metadata": {},
   "source": [
    "# input int loction base select"
   ]
  },
  {
   "cell_type": "code",
   "execution_count": 80,
   "id": "97f061bd",
   "metadata": {},
   "outputs": [
    {
     "data": {
      "text/plain": [
       "A   -0.095298\n",
       "B    2.385948\n",
       "C   -0.342735\n",
       "D    0.572610\n",
       "Name: 2013-01-03 00:00:00, dtype: float64"
      ]
     },
     "execution_count": 80,
     "metadata": {},
     "output_type": "execute_result"
    }
   ],
   "source": [
    "df.iloc[2]"
   ]
  },
  {
   "cell_type": "code",
   "execution_count": 81,
   "id": "c91e2966",
   "metadata": {},
   "outputs": [
    {
     "data": {
      "text/html": [
       "<div>\n",
       "<style scoped>\n",
       "    .dataframe tbody tr th:only-of-type {\n",
       "        vertical-align: middle;\n",
       "    }\n",
       "\n",
       "    .dataframe tbody tr th {\n",
       "        vertical-align: top;\n",
       "    }\n",
       "\n",
       "    .dataframe thead th {\n",
       "        text-align: right;\n",
       "    }\n",
       "</style>\n",
       "<table border=\"1\" class=\"dataframe\">\n",
       "  <thead>\n",
       "    <tr style=\"text-align: right;\">\n",
       "      <th></th>\n",
       "      <th>A</th>\n",
       "      <th>B</th>\n",
       "    </tr>\n",
       "  </thead>\n",
       "  <tbody>\n",
       "    <tr>\n",
       "      <th>2013-01-04</th>\n",
       "      <td>-0.720945</td>\n",
       "      <td>-0.965473</td>\n",
       "    </tr>\n",
       "    <tr>\n",
       "      <th>2013-01-05</th>\n",
       "      <td>-0.660726</td>\n",
       "      <td>0.894251</td>\n",
       "    </tr>\n",
       "  </tbody>\n",
       "</table>\n",
       "</div>"
      ],
      "text/plain": [
       "                   A         B\n",
       "2013-01-04 -0.720945 -0.965473\n",
       "2013-01-05 -0.660726  0.894251"
      ]
     },
     "execution_count": 81,
     "metadata": {},
     "output_type": "execute_result"
    }
   ],
   "source": [
    "df.iloc[3:5, 0:2] # 정수로 표기된 슬라이스 통해 numpy, python과 유사하게 작동"
   ]
  },
  {
   "cell_type": "code",
   "execution_count": 82,
   "id": "2b23974f",
   "metadata": {},
   "outputs": [
    {
     "data": {
      "text/html": [
       "<div>\n",
       "<style scoped>\n",
       "    .dataframe tbody tr th:only-of-type {\n",
       "        vertical-align: middle;\n",
       "    }\n",
       "\n",
       "    .dataframe tbody tr th {\n",
       "        vertical-align: top;\n",
       "    }\n",
       "\n",
       "    .dataframe thead th {\n",
       "        text-align: right;\n",
       "    }\n",
       "</style>\n",
       "<table border=\"1\" class=\"dataframe\">\n",
       "  <thead>\n",
       "    <tr style=\"text-align: right;\">\n",
       "      <th></th>\n",
       "      <th>A</th>\n",
       "      <th>C</th>\n",
       "    </tr>\n",
       "  </thead>\n",
       "  <tbody>\n",
       "    <tr>\n",
       "      <th>2013-01-02</th>\n",
       "      <td>-0.985149</td>\n",
       "      <td>-1.319322</td>\n",
       "    </tr>\n",
       "    <tr>\n",
       "      <th>2013-01-03</th>\n",
       "      <td>-0.095298</td>\n",
       "      <td>-0.342735</td>\n",
       "    </tr>\n",
       "    <tr>\n",
       "      <th>2013-01-05</th>\n",
       "      <td>-0.660726</td>\n",
       "      <td>0.352209</td>\n",
       "    </tr>\n",
       "  </tbody>\n",
       "</table>\n",
       "</div>"
      ],
      "text/plain": [
       "                   A         C\n",
       "2013-01-02 -0.985149 -1.319322\n",
       "2013-01-03 -0.095298 -0.342735\n",
       "2013-01-05 -0.660726  0.352209"
      ]
     },
     "execution_count": 82,
     "metadata": {},
     "output_type": "execute_result"
    }
   ],
   "source": [
    "df.iloc[[1,2,4],[0,2]] #정수로 표기된 위치값의 리스트를 통해 numpy, python style과 유사해짐"
   ]
  },
  {
   "cell_type": "code",
   "execution_count": 87,
   "id": "dc3d4c6c",
   "metadata": {},
   "outputs": [
    {
     "data": {
      "text/html": [
       "<div>\n",
       "<style scoped>\n",
       "    .dataframe tbody tr th:only-of-type {\n",
       "        vertical-align: middle;\n",
       "    }\n",
       "\n",
       "    .dataframe tbody tr th {\n",
       "        vertical-align: top;\n",
       "    }\n",
       "\n",
       "    .dataframe thead th {\n",
       "        text-align: right;\n",
       "    }\n",
       "</style>\n",
       "<table border=\"1\" class=\"dataframe\">\n",
       "  <thead>\n",
       "    <tr style=\"text-align: right;\">\n",
       "      <th></th>\n",
       "      <th>A</th>\n",
       "      <th>B</th>\n",
       "      <th>C</th>\n",
       "      <th>D</th>\n",
       "    </tr>\n",
       "  </thead>\n",
       "  <tbody>\n",
       "    <tr>\n",
       "      <th>2013-01-02</th>\n",
       "      <td>-0.985149</td>\n",
       "      <td>1.643598</td>\n",
       "      <td>-1.319322</td>\n",
       "      <td>1.879614</td>\n",
       "    </tr>\n",
       "    <tr>\n",
       "      <th>2013-01-03</th>\n",
       "      <td>-0.095298</td>\n",
       "      <td>2.385948</td>\n",
       "      <td>-0.342735</td>\n",
       "      <td>0.572610</td>\n",
       "    </tr>\n",
       "  </tbody>\n",
       "</table>\n",
       "</div>"
      ],
      "text/plain": [
       "                   A         B         C         D\n",
       "2013-01-02 -0.985149  1.643598 -1.319322  1.879614\n",
       "2013-01-03 -0.095298  2.385948 -0.342735  0.572610"
      ]
     },
     "execution_count": 87,
     "metadata": {},
     "output_type": "execute_result"
    }
   ],
   "source": [
    "df.iloc[1:3,:] # 명시적으로 row 나눔"
   ]
  },
  {
   "cell_type": "code",
   "execution_count": 86,
   "id": "b6f36b15",
   "metadata": {},
   "outputs": [
    {
     "data": {
      "text/html": [
       "<div>\n",
       "<style scoped>\n",
       "    .dataframe tbody tr th:only-of-type {\n",
       "        vertical-align: middle;\n",
       "    }\n",
       "\n",
       "    .dataframe tbody tr th {\n",
       "        vertical-align: top;\n",
       "    }\n",
       "\n",
       "    .dataframe thead th {\n",
       "        text-align: right;\n",
       "    }\n",
       "</style>\n",
       "<table border=\"1\" class=\"dataframe\">\n",
       "  <thead>\n",
       "    <tr style=\"text-align: right;\">\n",
       "      <th></th>\n",
       "      <th>B</th>\n",
       "      <th>C</th>\n",
       "    </tr>\n",
       "  </thead>\n",
       "  <tbody>\n",
       "    <tr>\n",
       "      <th>2013-01-01</th>\n",
       "      <td>-0.184300</td>\n",
       "      <td>-0.489631</td>\n",
       "    </tr>\n",
       "    <tr>\n",
       "      <th>2013-01-02</th>\n",
       "      <td>1.643598</td>\n",
       "      <td>-1.319322</td>\n",
       "    </tr>\n",
       "    <tr>\n",
       "      <th>2013-01-03</th>\n",
       "      <td>2.385948</td>\n",
       "      <td>-0.342735</td>\n",
       "    </tr>\n",
       "    <tr>\n",
       "      <th>2013-01-04</th>\n",
       "      <td>-0.965473</td>\n",
       "      <td>-1.264741</td>\n",
       "    </tr>\n",
       "    <tr>\n",
       "      <th>2013-01-05</th>\n",
       "      <td>0.894251</td>\n",
       "      <td>0.352209</td>\n",
       "    </tr>\n",
       "    <tr>\n",
       "      <th>2013-01-06</th>\n",
       "      <td>-0.040456</td>\n",
       "      <td>-0.176135</td>\n",
       "    </tr>\n",
       "  </tbody>\n",
       "</table>\n",
       "</div>"
      ],
      "text/plain": [
       "                   B         C\n",
       "2013-01-01 -0.184300 -0.489631\n",
       "2013-01-02  1.643598 -1.319322\n",
       "2013-01-03  2.385948 -0.342735\n",
       "2013-01-04 -0.965473 -1.264741\n",
       "2013-01-05  0.894251  0.352209\n",
       "2013-01-06 -0.040456 -0.176135"
      ]
     },
     "execution_count": 86,
     "metadata": {},
     "output_type": "execute_result"
    }
   ],
   "source": [
    "df.iloc[:, 1:3] #명시적으로 columns 나눔"
   ]
  },
  {
   "cell_type": "code",
   "execution_count": 88,
   "id": "863417c4",
   "metadata": {},
   "outputs": [
    {
     "data": {
      "text/plain": [
       "1.6435982960095799"
      ]
     },
     "execution_count": 88,
     "metadata": {},
     "output_type": "execute_result"
    }
   ],
   "source": [
    "df.iloc[1,1] # 명시적으로 특정 value get"
   ]
  },
  {
   "cell_type": "code",
   "execution_count": 91,
   "id": "0262f2e7",
   "metadata": {},
   "outputs": [
    {
     "data": {
      "text/plain": [
       "1.6435982960095799"
      ]
     },
     "execution_count": 91,
     "metadata": {},
     "output_type": "execute_result"
    }
   ],
   "source": [
    "df.iat[1,1] # scala value get more fast "
   ]
  },
  {
   "cell_type": "code",
   "execution_count": 92,
   "id": "fd121f63",
   "metadata": {},
   "outputs": [
    {
     "data": {
      "text/html": [
       "<div>\n",
       "<style scoped>\n",
       "    .dataframe tbody tr th:only-of-type {\n",
       "        vertical-align: middle;\n",
       "    }\n",
       "\n",
       "    .dataframe tbody tr th {\n",
       "        vertical-align: top;\n",
       "    }\n",
       "\n",
       "    .dataframe thead th {\n",
       "        text-align: right;\n",
       "    }\n",
       "</style>\n",
       "<table border=\"1\" class=\"dataframe\">\n",
       "  <thead>\n",
       "    <tr style=\"text-align: right;\">\n",
       "      <th></th>\n",
       "      <th>A</th>\n",
       "      <th>B</th>\n",
       "      <th>C</th>\n",
       "      <th>D</th>\n",
       "    </tr>\n",
       "  </thead>\n",
       "  <tbody>\n",
       "    <tr>\n",
       "      <th>2013-01-06</th>\n",
       "      <td>0.196834</td>\n",
       "      <td>-0.040456</td>\n",
       "      <td>-0.176135</td>\n",
       "      <td>-0.873157</td>\n",
       "    </tr>\n",
       "  </tbody>\n",
       "</table>\n",
       "</div>"
      ],
      "text/plain": [
       "                   A         B         C         D\n",
       "2013-01-06  0.196834 -0.040456 -0.176135 -0.873157"
      ]
     },
     "execution_count": 92,
     "metadata": {},
     "output_type": "execute_result"
    }
   ],
   "source": [
    "df[df.A > 0] # boolean index : data select want for use a column value "
   ]
  },
  {
   "cell_type": "code",
   "execution_count": 93,
   "id": "b809a700",
   "metadata": {},
   "outputs": [
    {
     "data": {
      "text/html": [
       "<div>\n",
       "<style scoped>\n",
       "    .dataframe tbody tr th:only-of-type {\n",
       "        vertical-align: middle;\n",
       "    }\n",
       "\n",
       "    .dataframe tbody tr th {\n",
       "        vertical-align: top;\n",
       "    }\n",
       "\n",
       "    .dataframe thead th {\n",
       "        text-align: right;\n",
       "    }\n",
       "</style>\n",
       "<table border=\"1\" class=\"dataframe\">\n",
       "  <thead>\n",
       "    <tr style=\"text-align: right;\">\n",
       "      <th></th>\n",
       "      <th>A</th>\n",
       "      <th>B</th>\n",
       "      <th>C</th>\n",
       "      <th>D</th>\n",
       "      <th>E</th>\n",
       "    </tr>\n",
       "  </thead>\n",
       "  <tbody>\n",
       "    <tr>\n",
       "      <th>2013-01-01</th>\n",
       "      <td>-0.180055</td>\n",
       "      <td>-0.184300</td>\n",
       "      <td>-0.489631</td>\n",
       "      <td>-0.294932</td>\n",
       "      <td>one</td>\n",
       "    </tr>\n",
       "    <tr>\n",
       "      <th>2013-01-02</th>\n",
       "      <td>-0.985149</td>\n",
       "      <td>1.643598</td>\n",
       "      <td>-1.319322</td>\n",
       "      <td>1.879614</td>\n",
       "      <td>one</td>\n",
       "    </tr>\n",
       "    <tr>\n",
       "      <th>2013-01-03</th>\n",
       "      <td>-0.095298</td>\n",
       "      <td>2.385948</td>\n",
       "      <td>-0.342735</td>\n",
       "      <td>0.572610</td>\n",
       "      <td>two</td>\n",
       "    </tr>\n",
       "    <tr>\n",
       "      <th>2013-01-04</th>\n",
       "      <td>-0.720945</td>\n",
       "      <td>-0.965473</td>\n",
       "      <td>-1.264741</td>\n",
       "      <td>0.109659</td>\n",
       "      <td>three</td>\n",
       "    </tr>\n",
       "    <tr>\n",
       "      <th>2013-01-05</th>\n",
       "      <td>-0.660726</td>\n",
       "      <td>0.894251</td>\n",
       "      <td>0.352209</td>\n",
       "      <td>-0.995835</td>\n",
       "      <td>four</td>\n",
       "    </tr>\n",
       "    <tr>\n",
       "      <th>2013-01-06</th>\n",
       "      <td>0.196834</td>\n",
       "      <td>-0.040456</td>\n",
       "      <td>-0.176135</td>\n",
       "      <td>-0.873157</td>\n",
       "      <td>three</td>\n",
       "    </tr>\n",
       "  </tbody>\n",
       "</table>\n",
       "</div>"
      ],
      "text/plain": [
       "                   A         B         C         D      E\n",
       "2013-01-01 -0.180055 -0.184300 -0.489631 -0.294932    one\n",
       "2013-01-02 -0.985149  1.643598 -1.319322  1.879614    one\n",
       "2013-01-03 -0.095298  2.385948 -0.342735  0.572610    two\n",
       "2013-01-04 -0.720945 -0.965473 -1.264741  0.109659  three\n",
       "2013-01-05 -0.660726  0.894251  0.352209 -0.995835   four\n",
       "2013-01-06  0.196834 -0.040456 -0.176135 -0.873157  three"
      ]
     },
     "execution_count": 93,
     "metadata": {},
     "output_type": "execute_result"
    }
   ],
   "source": [
    "df2 = df.copy()\n",
    "df2['E'] = ['one','one', 'two', 'three', 'four', 'three']\n",
    "df2"
   ]
  },
  {
   "cell_type": "markdown",
   "id": "b3efb30a",
   "metadata": {},
   "source": [
    "filtering there for use isin() method"
   ]
  },
  {
   "cell_type": "code",
   "execution_count": 96,
   "id": "220e1a25",
   "metadata": {},
   "outputs": [
    {
     "data": {
      "text/html": [
       "<div>\n",
       "<style scoped>\n",
       "    .dataframe tbody tr th:only-of-type {\n",
       "        vertical-align: middle;\n",
       "    }\n",
       "\n",
       "    .dataframe tbody tr th {\n",
       "        vertical-align: top;\n",
       "    }\n",
       "\n",
       "    .dataframe thead th {\n",
       "        text-align: right;\n",
       "    }\n",
       "</style>\n",
       "<table border=\"1\" class=\"dataframe\">\n",
       "  <thead>\n",
       "    <tr style=\"text-align: right;\">\n",
       "      <th></th>\n",
       "      <th>A</th>\n",
       "      <th>B</th>\n",
       "      <th>C</th>\n",
       "      <th>D</th>\n",
       "      <th>E</th>\n",
       "    </tr>\n",
       "  </thead>\n",
       "  <tbody>\n",
       "    <tr>\n",
       "      <th>2013-01-03</th>\n",
       "      <td>-0.095298</td>\n",
       "      <td>2.385948</td>\n",
       "      <td>-0.342735</td>\n",
       "      <td>0.572610</td>\n",
       "      <td>two</td>\n",
       "    </tr>\n",
       "    <tr>\n",
       "      <th>2013-01-05</th>\n",
       "      <td>-0.660726</td>\n",
       "      <td>0.894251</td>\n",
       "      <td>0.352209</td>\n",
       "      <td>-0.995835</td>\n",
       "      <td>four</td>\n",
       "    </tr>\n",
       "  </tbody>\n",
       "</table>\n",
       "</div>"
      ],
      "text/plain": [
       "                   A         B         C         D     E\n",
       "2013-01-03 -0.095298  2.385948 -0.342735  0.572610   two\n",
       "2013-01-05 -0.660726  0.894251  0.352209 -0.995835  four"
      ]
     },
     "execution_count": 96,
     "metadata": {},
     "output_type": "execute_result"
    }
   ],
   "source": [
    "df2[df2['E'].isin(['two','four'])]"
   ]
  },
  {
   "cell_type": "code",
   "execution_count": 97,
   "id": "c222b292",
   "metadata": {},
   "outputs": [
    {
     "data": {
      "text/html": [
       "<div>\n",
       "<style scoped>\n",
       "    .dataframe tbody tr th:only-of-type {\n",
       "        vertical-align: middle;\n",
       "    }\n",
       "\n",
       "    .dataframe tbody tr th {\n",
       "        vertical-align: top;\n",
       "    }\n",
       "\n",
       "    .dataframe thead th {\n",
       "        text-align: right;\n",
       "    }\n",
       "</style>\n",
       "<table border=\"1\" class=\"dataframe\">\n",
       "  <thead>\n",
       "    <tr style=\"text-align: right;\">\n",
       "      <th></th>\n",
       "      <th>A</th>\n",
       "      <th>B</th>\n",
       "      <th>C</th>\n",
       "      <th>D</th>\n",
       "    </tr>\n",
       "  </thead>\n",
       "  <tbody>\n",
       "    <tr>\n",
       "      <th>2013-01-01</th>\n",
       "      <td>NaN</td>\n",
       "      <td>NaN</td>\n",
       "      <td>NaN</td>\n",
       "      <td>NaN</td>\n",
       "    </tr>\n",
       "    <tr>\n",
       "      <th>2013-01-02</th>\n",
       "      <td>NaN</td>\n",
       "      <td>1.643598</td>\n",
       "      <td>NaN</td>\n",
       "      <td>1.879614</td>\n",
       "    </tr>\n",
       "    <tr>\n",
       "      <th>2013-01-03</th>\n",
       "      <td>NaN</td>\n",
       "      <td>2.385948</td>\n",
       "      <td>NaN</td>\n",
       "      <td>0.572610</td>\n",
       "    </tr>\n",
       "    <tr>\n",
       "      <th>2013-01-04</th>\n",
       "      <td>NaN</td>\n",
       "      <td>NaN</td>\n",
       "      <td>NaN</td>\n",
       "      <td>0.109659</td>\n",
       "    </tr>\n",
       "    <tr>\n",
       "      <th>2013-01-05</th>\n",
       "      <td>NaN</td>\n",
       "      <td>0.894251</td>\n",
       "      <td>0.352209</td>\n",
       "      <td>NaN</td>\n",
       "    </tr>\n",
       "    <tr>\n",
       "      <th>2013-01-06</th>\n",
       "      <td>0.196834</td>\n",
       "      <td>NaN</td>\n",
       "      <td>NaN</td>\n",
       "      <td>NaN</td>\n",
       "    </tr>\n",
       "  </tbody>\n",
       "</table>\n",
       "</div>"
      ],
      "text/plain": [
       "                   A         B         C         D\n",
       "2013-01-01       NaN       NaN       NaN       NaN\n",
       "2013-01-02       NaN  1.643598       NaN  1.879614\n",
       "2013-01-03       NaN  2.385948       NaN  0.572610\n",
       "2013-01-04       NaN       NaN       NaN  0.109659\n",
       "2013-01-05       NaN  0.894251  0.352209       NaN\n",
       "2013-01-06  0.196834       NaN       NaN       NaN"
      ]
     },
     "execution_count": 97,
     "metadata": {},
     "output_type": "execute_result"
    }
   ],
   "source": [
    "df[df > 0]"
   ]
  },
  {
   "cell_type": "code",
   "execution_count": 107,
   "id": "ef6cdb2c",
   "metadata": {},
   "outputs": [],
   "source": [
    "s1 = pd.Series([1,2,3,4,5,6], index = pd.date_range('20130102',periods = 6))"
   ]
  },
  {
   "cell_type": "code",
   "execution_count": 108,
   "id": "f1bfd342",
   "metadata": {},
   "outputs": [
    {
     "data": {
      "text/plain": [
       "2013-01-02    1\n",
       "2013-01-03    2\n",
       "2013-01-04    3\n",
       "2013-01-05    4\n",
       "2013-01-06    5\n",
       "2013-01-07    6\n",
       "Freq: D, dtype: int64"
      ]
     },
     "execution_count": 108,
     "metadata": {},
     "output_type": "execute_result"
    }
   ],
   "source": [
    "s1 "
   ]
  },
  {
   "cell_type": "code",
   "execution_count": 112,
   "id": "9fd0bd9d",
   "metadata": {},
   "outputs": [],
   "source": [
    "df['F'] =  s1"
   ]
  },
  {
   "cell_type": "code",
   "execution_count": 113,
   "id": "d63d8eb1",
   "metadata": {},
   "outputs": [],
   "source": [
    "df.at[dates[0],'A'] = 0"
   ]
  },
  {
   "cell_type": "code",
   "execution_count": 114,
   "id": "05e22501",
   "metadata": {},
   "outputs": [],
   "source": [
    "df.iat[0,1] = 0 "
   ]
  },
  {
   "cell_type": "code",
   "execution_count": 115,
   "id": "e08d608c",
   "metadata": {},
   "outputs": [],
   "source": [
    "df.loc[:,'D'] = np.array([5] * len(df))"
   ]
  },
  {
   "cell_type": "code",
   "execution_count": 116,
   "id": "f86c9c71",
   "metadata": {},
   "outputs": [
    {
     "data": {
      "text/html": [
       "<div>\n",
       "<style scoped>\n",
       "    .dataframe tbody tr th:only-of-type {\n",
       "        vertical-align: middle;\n",
       "    }\n",
       "\n",
       "    .dataframe tbody tr th {\n",
       "        vertical-align: top;\n",
       "    }\n",
       "\n",
       "    .dataframe thead th {\n",
       "        text-align: right;\n",
       "    }\n",
       "</style>\n",
       "<table border=\"1\" class=\"dataframe\">\n",
       "  <thead>\n",
       "    <tr style=\"text-align: right;\">\n",
       "      <th></th>\n",
       "      <th>A</th>\n",
       "      <th>B</th>\n",
       "      <th>C</th>\n",
       "      <th>D</th>\n",
       "      <th>F</th>\n",
       "    </tr>\n",
       "  </thead>\n",
       "  <tbody>\n",
       "    <tr>\n",
       "      <th>2013-01-01</th>\n",
       "      <td>0.000000</td>\n",
       "      <td>0.000000</td>\n",
       "      <td>-0.489631</td>\n",
       "      <td>-5</td>\n",
       "      <td>NaN</td>\n",
       "    </tr>\n",
       "    <tr>\n",
       "      <th>2013-01-02</th>\n",
       "      <td>-0.985149</td>\n",
       "      <td>-1.643598</td>\n",
       "      <td>-1.319322</td>\n",
       "      <td>-5</td>\n",
       "      <td>-1.0</td>\n",
       "    </tr>\n",
       "    <tr>\n",
       "      <th>2013-01-03</th>\n",
       "      <td>-0.095298</td>\n",
       "      <td>-2.385948</td>\n",
       "      <td>-0.342735</td>\n",
       "      <td>-5</td>\n",
       "      <td>-2.0</td>\n",
       "    </tr>\n",
       "    <tr>\n",
       "      <th>2013-01-04</th>\n",
       "      <td>-0.720945</td>\n",
       "      <td>-0.965473</td>\n",
       "      <td>-1.264741</td>\n",
       "      <td>-5</td>\n",
       "      <td>-3.0</td>\n",
       "    </tr>\n",
       "    <tr>\n",
       "      <th>2013-01-05</th>\n",
       "      <td>-0.660726</td>\n",
       "      <td>-0.894251</td>\n",
       "      <td>-0.352209</td>\n",
       "      <td>-5</td>\n",
       "      <td>-4.0</td>\n",
       "    </tr>\n",
       "    <tr>\n",
       "      <th>2013-01-06</th>\n",
       "      <td>-0.196834</td>\n",
       "      <td>-0.040456</td>\n",
       "      <td>-0.176135</td>\n",
       "      <td>-5</td>\n",
       "      <td>-5.0</td>\n",
       "    </tr>\n",
       "  </tbody>\n",
       "</table>\n",
       "</div>"
      ],
      "text/plain": [
       "                   A         B         C  D    F\n",
       "2013-01-01  0.000000  0.000000 -0.489631 -5  NaN\n",
       "2013-01-02 -0.985149 -1.643598 -1.319322 -5 -1.0\n",
       "2013-01-03 -0.095298 -2.385948 -0.342735 -5 -2.0\n",
       "2013-01-04 -0.720945 -0.965473 -1.264741 -5 -3.0\n",
       "2013-01-05 -0.660726 -0.894251 -0.352209 -5 -4.0\n",
       "2013-01-06 -0.196834 -0.040456 -0.176135 -5 -5.0"
      ]
     },
     "execution_count": 116,
     "metadata": {},
     "output_type": "execute_result"
    }
   ],
   "source": [
    "df2 = df.copy()\n",
    "df2[df2 > 0] = -df2\n",
    "df2"
   ]
  },
  {
   "cell_type": "markdown",
   "id": "7017746c",
   "metadata": {},
   "source": [
    "# Missing Value"
   ]
  },
  {
   "cell_type": "code",
   "execution_count": 117,
   "id": "47a16b59",
   "metadata": {},
   "outputs": [],
   "source": [
    "df1 = df.reindex(index = dates[0:4], columns = list(df.columns) + ['E'])\n",
    "df1.loc[dates[0]:dates[1],'E'] = 1"
   ]
  },
  {
   "cell_type": "code",
   "execution_count": 118,
   "id": "d20d8d0e",
   "metadata": {},
   "outputs": [
    {
     "data": {
      "text/html": [
       "<div>\n",
       "<style scoped>\n",
       "    .dataframe tbody tr th:only-of-type {\n",
       "        vertical-align: middle;\n",
       "    }\n",
       "\n",
       "    .dataframe tbody tr th {\n",
       "        vertical-align: top;\n",
       "    }\n",
       "\n",
       "    .dataframe thead th {\n",
       "        text-align: right;\n",
       "    }\n",
       "</style>\n",
       "<table border=\"1\" class=\"dataframe\">\n",
       "  <thead>\n",
       "    <tr style=\"text-align: right;\">\n",
       "      <th></th>\n",
       "      <th>A</th>\n",
       "      <th>B</th>\n",
       "      <th>C</th>\n",
       "      <th>D</th>\n",
       "      <th>F</th>\n",
       "      <th>E</th>\n",
       "    </tr>\n",
       "  </thead>\n",
       "  <tbody>\n",
       "    <tr>\n",
       "      <th>2013-01-01</th>\n",
       "      <td>0.000000</td>\n",
       "      <td>0.000000</td>\n",
       "      <td>-0.489631</td>\n",
       "      <td>5</td>\n",
       "      <td>NaN</td>\n",
       "      <td>1.0</td>\n",
       "    </tr>\n",
       "    <tr>\n",
       "      <th>2013-01-02</th>\n",
       "      <td>-0.985149</td>\n",
       "      <td>1.643598</td>\n",
       "      <td>-1.319322</td>\n",
       "      <td>5</td>\n",
       "      <td>1.0</td>\n",
       "      <td>1.0</td>\n",
       "    </tr>\n",
       "    <tr>\n",
       "      <th>2013-01-03</th>\n",
       "      <td>-0.095298</td>\n",
       "      <td>2.385948</td>\n",
       "      <td>-0.342735</td>\n",
       "      <td>5</td>\n",
       "      <td>2.0</td>\n",
       "      <td>NaN</td>\n",
       "    </tr>\n",
       "    <tr>\n",
       "      <th>2013-01-04</th>\n",
       "      <td>-0.720945</td>\n",
       "      <td>-0.965473</td>\n",
       "      <td>-1.264741</td>\n",
       "      <td>5</td>\n",
       "      <td>3.0</td>\n",
       "      <td>NaN</td>\n",
       "    </tr>\n",
       "  </tbody>\n",
       "</table>\n",
       "</div>"
      ],
      "text/plain": [
       "                   A         B         C  D    F    E\n",
       "2013-01-01  0.000000  0.000000 -0.489631  5  NaN  1.0\n",
       "2013-01-02 -0.985149  1.643598 -1.319322  5  1.0  1.0\n",
       "2013-01-03 -0.095298  2.385948 -0.342735  5  2.0  NaN\n",
       "2013-01-04 -0.720945 -0.965473 -1.264741  5  3.0  NaN"
      ]
     },
     "execution_count": 118,
     "metadata": {},
     "output_type": "execute_result"
    }
   ],
   "source": [
    "df1"
   ]
  },
  {
   "cell_type": "markdown",
   "id": "7246de89",
   "metadata": {},
   "source": [
    "# delete missing value"
   ]
  },
  {
   "cell_type": "code",
   "execution_count": 121,
   "id": "d4d8b2f4",
   "metadata": {},
   "outputs": [
    {
     "data": {
      "text/html": [
       "<div>\n",
       "<style scoped>\n",
       "    .dataframe tbody tr th:only-of-type {\n",
       "        vertical-align: middle;\n",
       "    }\n",
       "\n",
       "    .dataframe tbody tr th {\n",
       "        vertical-align: top;\n",
       "    }\n",
       "\n",
       "    .dataframe thead th {\n",
       "        text-align: right;\n",
       "    }\n",
       "</style>\n",
       "<table border=\"1\" class=\"dataframe\">\n",
       "  <thead>\n",
       "    <tr style=\"text-align: right;\">\n",
       "      <th></th>\n",
       "      <th>A</th>\n",
       "      <th>B</th>\n",
       "      <th>C</th>\n",
       "      <th>D</th>\n",
       "      <th>F</th>\n",
       "      <th>E</th>\n",
       "    </tr>\n",
       "  </thead>\n",
       "  <tbody>\n",
       "    <tr>\n",
       "      <th>2013-01-02</th>\n",
       "      <td>-0.985149</td>\n",
       "      <td>1.643598</td>\n",
       "      <td>-1.319322</td>\n",
       "      <td>5</td>\n",
       "      <td>1.0</td>\n",
       "      <td>1.0</td>\n",
       "    </tr>\n",
       "  </tbody>\n",
       "</table>\n",
       "</div>"
      ],
      "text/plain": [
       "                   A         B         C  D    F    E\n",
       "2013-01-02 -0.985149  1.643598 -1.319322  5  1.0  1.0"
      ]
     },
     "execution_count": 121,
     "metadata": {},
     "output_type": "execute_result"
    }
   ],
   "source": [
    "df1.dropna(how = 'any')"
   ]
  },
  {
   "cell_type": "markdown",
   "id": "4453226b",
   "metadata": {},
   "source": [
    "# fill mising value"
   ]
  },
  {
   "cell_type": "code",
   "execution_count": 122,
   "id": "2fafaceb",
   "metadata": {},
   "outputs": [
    {
     "data": {
      "text/html": [
       "<div>\n",
       "<style scoped>\n",
       "    .dataframe tbody tr th:only-of-type {\n",
       "        vertical-align: middle;\n",
       "    }\n",
       "\n",
       "    .dataframe tbody tr th {\n",
       "        vertical-align: top;\n",
       "    }\n",
       "\n",
       "    .dataframe thead th {\n",
       "        text-align: right;\n",
       "    }\n",
       "</style>\n",
       "<table border=\"1\" class=\"dataframe\">\n",
       "  <thead>\n",
       "    <tr style=\"text-align: right;\">\n",
       "      <th></th>\n",
       "      <th>A</th>\n",
       "      <th>B</th>\n",
       "      <th>C</th>\n",
       "      <th>D</th>\n",
       "      <th>F</th>\n",
       "      <th>E</th>\n",
       "    </tr>\n",
       "  </thead>\n",
       "  <tbody>\n",
       "    <tr>\n",
       "      <th>2013-01-01</th>\n",
       "      <td>0.000000</td>\n",
       "      <td>0.000000</td>\n",
       "      <td>-0.489631</td>\n",
       "      <td>5</td>\n",
       "      <td>5.0</td>\n",
       "      <td>1.0</td>\n",
       "    </tr>\n",
       "    <tr>\n",
       "      <th>2013-01-02</th>\n",
       "      <td>-0.985149</td>\n",
       "      <td>1.643598</td>\n",
       "      <td>-1.319322</td>\n",
       "      <td>5</td>\n",
       "      <td>1.0</td>\n",
       "      <td>1.0</td>\n",
       "    </tr>\n",
       "    <tr>\n",
       "      <th>2013-01-03</th>\n",
       "      <td>-0.095298</td>\n",
       "      <td>2.385948</td>\n",
       "      <td>-0.342735</td>\n",
       "      <td>5</td>\n",
       "      <td>2.0</td>\n",
       "      <td>5.0</td>\n",
       "    </tr>\n",
       "    <tr>\n",
       "      <th>2013-01-04</th>\n",
       "      <td>-0.720945</td>\n",
       "      <td>-0.965473</td>\n",
       "      <td>-1.264741</td>\n",
       "      <td>5</td>\n",
       "      <td>3.0</td>\n",
       "      <td>5.0</td>\n",
       "    </tr>\n",
       "  </tbody>\n",
       "</table>\n",
       "</div>"
      ],
      "text/plain": [
       "                   A         B         C  D    F    E\n",
       "2013-01-01  0.000000  0.000000 -0.489631  5  5.0  1.0\n",
       "2013-01-02 -0.985149  1.643598 -1.319322  5  1.0  1.0\n",
       "2013-01-03 -0.095298  2.385948 -0.342735  5  2.0  5.0\n",
       "2013-01-04 -0.720945 -0.965473 -1.264741  5  3.0  5.0"
      ]
     },
     "execution_count": 122,
     "metadata": {},
     "output_type": "execute_result"
    }
   ],
   "source": [
    "df1.fillna(value = 5)"
   ]
  },
  {
   "cell_type": "code",
   "execution_count": 123,
   "id": "061fd5be",
   "metadata": {},
   "outputs": [
    {
     "data": {
      "text/plain": [
       "A   -0.377547\n",
       "B    0.652978\n",
       "C   -0.540059\n",
       "D    5.000000\n",
       "F    3.000000\n",
       "dtype: float64"
      ]
     },
     "execution_count": 123,
     "metadata": {},
     "output_type": "execute_result"
    }
   ],
   "source": [
    "df.mean()"
   ]
  },
  {
   "cell_type": "code",
   "execution_count": 124,
   "id": "30efeaff",
   "metadata": {},
   "outputs": [],
   "source": [
    "s = pd.Series([1,3,5, np.nan,6,8], index = dates).shift(2)"
   ]
  },
  {
   "cell_type": "code",
   "execution_count": 125,
   "id": "3d81a8af",
   "metadata": {},
   "outputs": [
    {
     "data": {
      "text/plain": [
       "2013-01-01    NaN\n",
       "2013-01-02    NaN\n",
       "2013-01-03    1.0\n",
       "2013-01-04    3.0\n",
       "2013-01-05    5.0\n",
       "2013-01-06    NaN\n",
       "Freq: D, dtype: float64"
      ]
     },
     "execution_count": 125,
     "metadata": {},
     "output_type": "execute_result"
    }
   ],
   "source": [
    "s"
   ]
  },
  {
   "cell_type": "code",
   "execution_count": 126,
   "id": "238f847a",
   "metadata": {},
   "outputs": [
    {
     "data": {
      "text/plain": [
       "2013-01-01    1.127592\n",
       "2013-01-02    1.067825\n",
       "2013-01-03    1.789583\n",
       "2013-01-04    1.009768\n",
       "2013-01-05    1.917147\n",
       "2013-01-06    1.996049\n",
       "Freq: D, dtype: float64"
      ]
     },
     "execution_count": 126,
     "metadata": {},
     "output_type": "execute_result"
    }
   ],
   "source": [
    "df.mean(1)"
   ]
  },
  {
   "cell_type": "code",
   "execution_count": 127,
   "id": "0152f2b1",
   "metadata": {},
   "outputs": [
    {
     "data": {
      "text/html": [
       "<div>\n",
       "<style scoped>\n",
       "    .dataframe tbody tr th:only-of-type {\n",
       "        vertical-align: middle;\n",
       "    }\n",
       "\n",
       "    .dataframe tbody tr th {\n",
       "        vertical-align: top;\n",
       "    }\n",
       "\n",
       "    .dataframe thead th {\n",
       "        text-align: right;\n",
       "    }\n",
       "</style>\n",
       "<table border=\"1\" class=\"dataframe\">\n",
       "  <thead>\n",
       "    <tr style=\"text-align: right;\">\n",
       "      <th></th>\n",
       "      <th>A</th>\n",
       "      <th>B</th>\n",
       "      <th>C</th>\n",
       "      <th>D</th>\n",
       "      <th>F</th>\n",
       "    </tr>\n",
       "  </thead>\n",
       "  <tbody>\n",
       "    <tr>\n",
       "      <th>2013-01-01</th>\n",
       "      <td>NaN</td>\n",
       "      <td>NaN</td>\n",
       "      <td>NaN</td>\n",
       "      <td>NaN</td>\n",
       "      <td>NaN</td>\n",
       "    </tr>\n",
       "    <tr>\n",
       "      <th>2013-01-02</th>\n",
       "      <td>NaN</td>\n",
       "      <td>NaN</td>\n",
       "      <td>NaN</td>\n",
       "      <td>NaN</td>\n",
       "      <td>NaN</td>\n",
       "    </tr>\n",
       "    <tr>\n",
       "      <th>2013-01-03</th>\n",
       "      <td>-1.095298</td>\n",
       "      <td>1.385948</td>\n",
       "      <td>-1.342735</td>\n",
       "      <td>4.0</td>\n",
       "      <td>1.0</td>\n",
       "    </tr>\n",
       "    <tr>\n",
       "      <th>2013-01-04</th>\n",
       "      <td>-3.720945</td>\n",
       "      <td>-3.965473</td>\n",
       "      <td>-4.264741</td>\n",
       "      <td>2.0</td>\n",
       "      <td>0.0</td>\n",
       "    </tr>\n",
       "    <tr>\n",
       "      <th>2013-01-05</th>\n",
       "      <td>-5.660726</td>\n",
       "      <td>-4.105749</td>\n",
       "      <td>-4.647791</td>\n",
       "      <td>0.0</td>\n",
       "      <td>-1.0</td>\n",
       "    </tr>\n",
       "    <tr>\n",
       "      <th>2013-01-06</th>\n",
       "      <td>NaN</td>\n",
       "      <td>NaN</td>\n",
       "      <td>NaN</td>\n",
       "      <td>NaN</td>\n",
       "      <td>NaN</td>\n",
       "    </tr>\n",
       "  </tbody>\n",
       "</table>\n",
       "</div>"
      ],
      "text/plain": [
       "                   A         B         C    D    F\n",
       "2013-01-01       NaN       NaN       NaN  NaN  NaN\n",
       "2013-01-02       NaN       NaN       NaN  NaN  NaN\n",
       "2013-01-03 -1.095298  1.385948 -1.342735  4.0  1.0\n",
       "2013-01-04 -3.720945 -3.965473 -4.264741  2.0  0.0\n",
       "2013-01-05 -5.660726 -4.105749 -4.647791  0.0 -1.0\n",
       "2013-01-06       NaN       NaN       NaN  NaN  NaN"
      ]
     },
     "execution_count": 127,
     "metadata": {},
     "output_type": "execute_result"
    }
   ],
   "source": [
    "df.sub(s, axis = 'index')"
   ]
  },
  {
   "cell_type": "markdown",
   "id": "361ee6ab",
   "metadata": {},
   "source": [
    "# import/ export excel"
   ]
  },
  {
   "cell_type": "code",
   "execution_count": 131,
   "id": "223f8cad",
   "metadata": {},
   "outputs": [
    {
     "name": "stdout",
     "output_type": "stream",
     "text": [
      "        product  price  num\n",
      "pen      pencil    500   12\n",
      "era     erasser    700    6\n",
      "note   notebook   1300   10\n",
      "color  colorpen   1600    7\n"
     ]
    }
   ],
   "source": [
    "product_dic = {\n",
    "    'pen' : 'pencil',\n",
    "    'era' : 'erasser',\n",
    "    'note' : 'notebook',\n",
    "    'color' : 'colorpen'\n",
    "}\n",
    "\n",
    "price_dic = {\n",
    "    'pen' : 500,\n",
    "    'era' : 700,\n",
    "    'note' : 1300,\n",
    "    'color' : 1600\n",
    "}\n",
    "\n",
    "num_dic = {\n",
    "    'pen' : 12,\n",
    "    'era' : 6,\n",
    "    'note' : 10,\n",
    "    'color' : 7\n",
    "}\n",
    "\n",
    "product = pd.Series(product_dic)\n",
    "price = pd.Series(price_dic)\n",
    "num = pd.Series(num_dic)\n",
    "\n",
    "sum = pd.DataFrame({\n",
    "    'product' : product,\n",
    "    'price' : price,\n",
    "    'num' : num\n",
    "})\n",
    "\n",
    "sum.to_csv(\"C:/Users/ParkHanna/HRD BD/sum.csv\" , encoding = \"utf-8-sig\")\n",
    "\n",
    "saved = pd.read_csv(\"C:/Users/ParkHanna/HRD BD/sum.csv\", index_col = 0)\n",
    "print(saved)"
   ]
  },
  {
   "cell_type": "code",
   "execution_count": 133,
   "id": "b250810d",
   "metadata": {},
   "outputs": [
    {
     "name": "stdout",
     "output_type": "stream",
     "text": [
      "        product   price  num\n",
      "pen      pencil   500.0   12\n",
      "era     erasser   700.0    6\n",
      "note   notebook     NaN   10\n",
      "color  colorpen  1600.0    7\n",
      "------------------------\n",
      "------------------------\n",
      "       product  price   num\n",
      "pen       True   True  True\n",
      "era       True   True  True\n",
      "note      True  False  True\n",
      "color     True   True  True\n",
      "------------------------\n",
      "       product  price    num\n",
      "pen      False  False  False\n",
      "era      False  False  False\n",
      "note     False   True  False\n",
      "color    False  False  False\n",
      "------------------------\n",
      "        product         price  num\n",
      "pen      pencil         500.0   12\n",
      "era     erasser         700.0    6\n",
      "note   notebook  data nothing   10\n",
      "color  colorpen        1600.0    7\n"
     ]
    }
   ],
   "source": [
    "product_dic = {\n",
    "    'pen' : 'pencil',\n",
    "    'era' : 'erasser',\n",
    "    'note' : 'notebook',\n",
    "    'color' : 'colorpen'\n",
    "}\n",
    "\n",
    "price_dic = {\n",
    "    'pen' : 500,\n",
    "    'era' : 700,\n",
    "    'note' : np.nan,\n",
    "    'color' : 1600\n",
    "}\n",
    "\n",
    "num_dic = {\n",
    "    'pen' : 12,\n",
    "    'era' : 6,\n",
    "    'note' : 10,\n",
    "    'color' : 7\n",
    "}\n",
    "\n",
    "product = pd.Series(product_dic)\n",
    "price = pd.Series(price_dic)\n",
    "num = pd.Series(num_dic)\n",
    "\n",
    "sum = pd.DataFrame({\n",
    "    'product' : product,\n",
    "    'price' : price,\n",
    "    'num' : num\n",
    "})\n",
    "print(sum)\n",
    "print(\"------------------------\")\n",
    "print(\"------------------------\")\n",
    "print(sum.notnull())\n",
    "print(\"------------------------\")\n",
    "print(sum.isnull())\n",
    "print(\"------------------------\")\n",
    "sum['price'] = sum['price'].fillna('data nothing')\n",
    "print(sum)"
   ]
  },
  {
   "cell_type": "code",
   "execution_count": 134,
   "id": "27e67754",
   "metadata": {},
   "outputs": [
    {
     "name": "stdout",
     "output_type": "stream",
     "text": [
      "A    1.0\n",
      "B    6.0\n",
      "C    8.0\n",
      "D    6.0\n",
      "dtype: float64\n"
     ]
    }
   ],
   "source": [
    "array1 = pd.Series([1,2,3], index=['A','B','C'])\n",
    "array2 = pd.Series([4,5,6], index=['B','C','D'])\n",
    "\n",
    "array1 = array1.add(array2, fill_value = 0)\n",
    "print(array1)"
   ]
  },
  {
   "cell_type": "code",
   "execution_count": 135,
   "id": "fa31c377",
   "metadata": {},
   "outputs": [
    {
     "name": "stdout",
     "output_type": "stream",
     "text": [
      "# first dataframe\n",
      "    0   1\n",
      "A  11  12\n",
      "B  31  41\n",
      "# second dataframe\n",
      "    0   1   2\n",
      "B  10  12  33\n",
      "C  70  55  16\n",
      "D  70  81  19\n",
      "# result dataframe\n",
      "      0     1     2\n",
      "A  11.0  12.0   NaN\n",
      "B  41.0  53.0  33.0\n",
      "C  70.0  55.0  16.0\n",
      "D  70.0  81.0  19.0\n"
     ]
    }
   ],
   "source": [
    "array1 = pd.DataFrame([[11,12],[31,41]], index = ['A','B'])\n",
    "array2 = pd.DataFrame([[10,12,33],[70,55,16],[70,81,19]], index=['B','C','D'])\n",
    "\n",
    "print('# first dataframe')\n",
    "print(array1)\n",
    "print('# second dataframe')\n",
    "print(array2)\n",
    "\n",
    "array1 = array1.add(array2, fill_value=0)\n",
    "print('# result dataframe')\n",
    "print(array1)"
   ]
  },
  {
   "cell_type": "code",
   "execution_count": 138,
   "id": "e8d759f7",
   "metadata": {},
   "outputs": [
    {
     "name": "stdout",
     "output_type": "stream",
     "text": [
      "# first dataframe\n",
      "   0  1\n",
      "A  1  2\n",
      "B  3  4\n",
      "----------------------------\n",
      "# second dataframe\n",
      "   0  1  2\n",
      "B  1  2  3\n",
      "C  4  5  6\n",
      "D  7  8  9\n",
      "----------------------------\n",
      "# result dataframe\n",
      "     0    1    2\n",
      "A  1.0  2.0  NaN\n",
      "B  4.0  6.0  3.0\n",
      "C  4.0  5.0  6.0\n",
      "D  7.0  8.0  9.0\n",
      "----------------------------\n",
      "# column 1 sum result\n",
      "column 1 sum :  21.0\n",
      "----------------------------\n",
      "# each columns sum result\n",
      "0    16.0\n",
      "1    21.0\n",
      "2    18.0\n",
      "dtype: float64\n",
      "----------------------------\n",
      "# each rows sum result\n",
      "A     3.0\n",
      "B    13.0\n",
      "C    15.0\n",
      "D    24.0\n",
      "dtype: float64\n"
     ]
    }
   ],
   "source": [
    "array1 = pd.DataFrame([[1,2],[3,4]], index = ['A','B'])\n",
    "array2 = pd.DataFrame([[1,2,3],[4,5,6],[7,8,9]], index = ['B','C','D'])\n",
    "\n",
    "print('# first dataframe')\n",
    "print(array1)\n",
    "print('----------------------------')\n",
    "\n",
    "print('# second dataframe')\n",
    "print(array2)\n",
    "print('----------------------------')\n",
    "\n",
    "array1 = array1.add(array2, fill_value=0)\n",
    "print('# result dataframe')\n",
    "print(array1)\n",
    "\n",
    "print('----------------------------')\n",
    "\n",
    "print('# column 1 sum result')\n",
    "print('column 1 sum : ', array1[1].sum())\n",
    "\n",
    "print('----------------------------')\n",
    "print('# each columns sum result')\n",
    "print(array1.sum())\n",
    "print('----------------------------')\n",
    "print('# each rows sum result')\n",
    "print(array1.sum(axis=1))"
   ]
  },
  {
   "cell_type": "code",
   "execution_count": 4,
   "id": "e745133d",
   "metadata": {},
   "outputs": [
    {
     "name": "stdout",
     "output_type": "stream",
     "text": [
      "=== original data ===\n",
      "        product  price  num\n",
      "pen      pencil    500   12\n",
      "era     erasser    700    6\n",
      "note   notebook   1000   10\n",
      "color  colorpen   1600    7\n",
      "=== sort data ===\n",
      "        product  price  num\n",
      "color  colorpen   1600    7\n",
      "note   notebook   1000   10\n",
      "era     erasser    700    6\n",
      "pen      pencil    500   12\n"
     ]
    }
   ],
   "source": [
    "product_dic = {\n",
    "    'pen' : 'pencil',\n",
    "    'era' : 'erasser',\n",
    "    'note' : 'notebook',\n",
    "    'color' : 'colorpen'\n",
    "}\n",
    "\n",
    "price_dic = {\n",
    "    'pen' : 500,\n",
    "    'era' : 700,\n",
    "    'note' : 1000,\n",
    "    'color' : 1600\n",
    "}\n",
    "\n",
    "num_dic = {\n",
    "    'pen' : 12,\n",
    "    'era' : 6,\n",
    "    'note' : 10,\n",
    "    'color' : 7\n",
    "}\n",
    "\n",
    "product = pd.Series(product_dic)\n",
    "price = pd.Series(price_dic)\n",
    "num = pd.Series(num_dic)\n",
    "\n",
    "sum = pd.DataFrame({\n",
    "    'product' : product,\n",
    "    'price' : price,\n",
    "    'num' : num\n",
    "})\n",
    "\n",
    "print('=== original data ===')\n",
    "print(sum)\n",
    "\n",
    "sum = sum.sort_values('price', ascending = False)\n",
    "print('=== sort data ===')\n",
    "print(sum)"
   ]
  },
  {
   "cell_type": "code",
   "execution_count": 7,
   "id": "0639e72b",
   "metadata": {},
   "outputs": [
    {
     "name": "stdout",
     "output_type": "stream",
     "text": [
      "== original data ==\n",
      "   A  B\n",
      "0  4  8\n",
      "1  7  1\n",
      "                                 \n",
      "== A is less than 5 ==\n",
      "0     True\n",
      "1    False\n",
      "Name: A, dtype: bool\n",
      "                                 \n",
      "== A is less than 5 and B is greater than 8 Data ==\n",
      "   A  B\n",
      "0  4  8\n",
      "                                 \n",
      "== A is less than 5 and B is less than 3 Data ==\n",
      "Empty DataFrame\n",
      "Columns: [A, B]\n",
      "Index: []\n"
     ]
    }
   ],
   "source": [
    "df = pd.DataFrame(np.random.randint(1,10,(2,2)), index = [0,1], columns = ['A','B'])\n",
    "\n",
    "\n",
    "print('== original data ==')\n",
    "print(df)\n",
    "print('                                 ')\n",
    "\n",
    "print('== A is less than 5 ==')\n",
    "print(df['A'] <= 5)\n",
    "print('                                 ')\n",
    "\n",
    "print('== A is less than 5 and B is greater than 8 Data ==')\n",
    "print(df.query(\"A <= 5 and B >= 8\"))\n",
    "print('                                 ')\n",
    "\n",
    "print('== A is less than 5 and B is less than 3 Data ==')\n",
    "print(df.query(\"A <= 5 and B <= 3\"))"
   ]
  },
  {
   "cell_type": "code",
   "execution_count": 8,
   "id": "316f583e",
   "metadata": {},
   "outputs": [
    {
     "name": "stdout",
     "output_type": "stream",
     "text": [
      "== generated DataFrame ==\n",
      "   A  B  C  D\n",
      "0  1  2  3  4\n",
      "1  1  2  3  4\n",
      "                                 \n",
      "== changed DataFrame\n",
      "   A  B  C  D\n",
      "0  2  3  4  5\n",
      "1  2  3  4  5\n",
      "                                 \n",
      "== method applied DataFrame\n",
      "   A  B  C  D\n",
      "0  3  4  5  6\n",
      "1  3  4  5  6\n"
     ]
    }
   ],
   "source": [
    "df = pd.DataFrame([[1,2,3,4], [1,2,3,4]], index = [0,1], columns = [\"A\",\"B\",\"C\",\"D\"])\n",
    "\n",
    "print(\"== generated DataFrame ==\")\n",
    "print(df)\n",
    "print('                                 ')\n",
    "\n",
    "df = df.apply(lambda x : x+1)\n",
    "print(\"== changed DataFrame\")\n",
    "print(df)\n",
    "print('                                 ')\n",
    "\n",
    "def addOne(x):\n",
    "    return x + 1\n",
    "\n",
    "df = df.apply(addOne)\n",
    "\n",
    "print(\"== method applied DataFrame\")\n",
    "print(df)\n"
   ]
  },
  {
   "cell_type": "code",
   "execution_count": 9,
   "id": "1ba8d2dc",
   "metadata": {},
   "outputs": [
    {
     "name": "stdout",
     "output_type": "stream",
     "text": [
      "== generated original data ==\n",
      "      A      B    C      D\n",
      "0   pen    pen  era  color\n",
      "1  note  color  pen    era\n",
      "                                 \n",
      "== changed data ==\n",
      "        A       B       C      D\n",
      "0  pencil  pencil     era  color\n",
      "1    note   color  pencil    era\n"
     ]
    }
   ],
   "source": [
    "df = pd.DataFrame([\n",
    "    ['pen', 'pen', 'era', 'color'],\n",
    "    ['note', 'color', 'pen', 'era']],\n",
    "    index = [0,1],\n",
    "    columns = ['A', 'B', 'C', 'D'])\n",
    "\n",
    "print(\"== generated original data ==\")\n",
    "print(df)\n",
    "print('                                 ')\n",
    "\n",
    "print(\"== changed data ==\")\n",
    "df = df.replace({'pen' : 'pencil'})\n",
    "print(df)"
   ]
  },
  {
   "cell_type": "code",
   "execution_count": 11,
   "id": "0fb75dc8",
   "metadata": {},
   "outputs": [
    {
     "name": "stdout",
     "output_type": "stream",
     "text": [
      "== generated original data ==\n",
      "         Name  Frequency   Type\n",
      "0       Apple          7  Fruit\n",
      "1      Banana          3  Fruit\n",
      "2  WaterMelon          6  Fruit\n",
      "3        Beef          5   Meal\n",
      "4      Kimchi          4   Meal\n",
      "                  \n",
      "== total frequency by type data ==\n",
      "       Frequency\n",
      "Type            \n",
      "Fruit         16\n",
      "Meal           9\n",
      "                 \n",
      "== minimun, maximun and average data of groups by type ==\n",
      "      Frequency              \n",
      "            min max   average\n",
      "Type                         \n",
      "Fruit         3   7  5.333333\n",
      "Meal          4   5  4.500000\n"
     ]
    },
    {
     "name": "stderr",
     "output_type": "stream",
     "text": [
      "C:\\Users\\ParkHanna\\AppData\\Local\\Temp\\ipykernel_10388\\2979369174.py:18: FutureWarning: ['Name'] did not aggregate successfully. If any error is raised this will raise in a future version of pandas. Drop these columns/ops to avoid this warning.\n",
      "  print(df.groupby(['Type']).aggregate([min,max,np.average]))\n"
     ]
    }
   ],
   "source": [
    "df = pd.DataFrame([\n",
    "    ['Apple', 7, 'Fruit'],\n",
    "    ['Banana', 3, 'Fruit'],\n",
    "    ['WaterMelon', 6, 'Fruit'],\n",
    "    ['Beef', 5, 'Meal'],\n",
    "    ['Kimchi',4,'Meal']],\n",
    "    columns = [\"Name\", \"Frequency\", \"Type\"])\n",
    "\n",
    "print('== generated original data ==')\n",
    "print(df)\n",
    "print('                  ')\n",
    "\n",
    "print('== total frequency by type data ==')\n",
    "print(df.groupby(['Type']).sum())\n",
    "print('                 ')\n",
    "\n",
    "print('== minimun, maximun and average data of groups by type ==')\n",
    "print(df.groupby(['Type']).aggregate([min,max,np.average]))"
   ]
  },
  {
   "cell_type": "code",
   "execution_count": 17,
   "id": "cf446203",
   "metadata": {},
   "outputs": [
    {
     "name": "stdout",
     "output_type": "stream",
     "text": [
      "== generated original data ==\n",
      "         Name  Frequency  Importance   Type\n",
      "0       Apple          7           5  Fruit\n",
      "1      Banana          3           6  Fruit\n",
      "2  WaterMelon          6           2  Fruit\n",
      "3        Beef          5           3   Meal\n",
      "4      Kimchi          4           4   Meal\n",
      "                  \n",
      "== Frequency of 5 or more data ==\n",
      "         Name  Frequency  Importance   Type\n",
      "0       Apple          7           5  Fruit\n",
      "1      Banana          3           6  Fruit\n",
      "2  WaterMelon          6           2  Fruit\n",
      "                  \n",
      "== Type of Fruit data ==\n",
      "         Name  Frequency  Importance   Type\n",
      "0       Apple          7           5  Fruit\n",
      "1      Banana          3           6  Fruit\n",
      "2  WaterMelon          6           2  Fruit\n",
      "                  \n",
      "== Frequency of average and difference data by type ==\n",
      "         Name  Frequency  Importance   Type       Gap\n",
      "0       Apple          7           5  Fruit  1.666667\n",
      "1      Banana          3           6  Fruit -2.333333\n",
      "2  WaterMelon          6           2  Fruit  0.666667\n"
     ]
    }
   ],
   "source": [
    "df = pd.DataFrame([\n",
    "    ['Apple', 7, 5, 'Fruit'],\n",
    "    ['Banana', 3, 6, 'Fruit'],\n",
    "    ['WaterMelon', 6, 2, 'Fruit'],\n",
    "    ['Beef', 5, 3, 'Meal'],\n",
    "    ['Kimchi',4, 4, 'Meal']],\n",
    "    columns = [\"Name\", \"Frequency\", \"Importance\", \"Type\"])\n",
    "\n",
    "print('== generated original data ==')\n",
    "print(df)\n",
    "print('                  ')\n",
    "\n",
    "def my_filter(data):\n",
    "    return data[\"Frequency\"].mean() >= 5\n",
    "\n",
    "print('== Frequency of 5 or more data ==')\n",
    "df = df.groupby(\"Type\").filter(my_filter)\n",
    "print(df)\n",
    "print('                  ')\n",
    "\n",
    "print('== Type of Fruit data ==')\n",
    "df = df.groupby(\"Type\").get_group(\"Fruit\")\n",
    "print(df)\n",
    "\n",
    "print('                  ')\n",
    "print('== Frequency of average and difference data by type ==')\n",
    "df[\"Gap\"] = df.groupby(\"Type\")[\"Frequency\"].apply(lambda x : x - x.mean())\n",
    "print(df)"
   ]
  },
  {
   "cell_type": "code",
   "execution_count": 18,
   "id": "61559acc",
   "metadata": {},
   "outputs": [
    {
     "name": "stdout",
     "output_type": "stream",
     "text": [
      "== generated original data ==\n",
      "             round 1  round 2  round 3  round 4\n",
      "1st attack         6        1        7        2\n",
      "    defence        6        3        5        8\n",
      "2nd attack         4        9        2        3\n",
      "    defence        9        4        2        8\n",
      " \n",
      "== secondary data for round 1 and 2 ==\n",
      "         round 1  round 2\n",
      "attack         4        9\n",
      "defence        9        4\n"
     ]
    }
   ],
   "source": [
    "df = pd.DataFrame(\n",
    "    np.random.randint(1, 10, (4,4)),\n",
    "    index = [['1st', '1st', '2nd', '2nd'], ['attack', 'defence', 'attack', 'defence']],\n",
    "    columns = ['round 1','round 2','round 3','round 4']\n",
    ")\n",
    "\n",
    "print('== generated original data ==')\n",
    "print(df)\n",
    "print(' ')\n",
    "\n",
    "print('== secondary data for round 1 and 2 ==')\n",
    "print(df[['round 1','round 2']].loc['2nd'])"
   ]
  },
  {
   "cell_type": "code",
   "execution_count": 19,
   "id": "07904e0d",
   "metadata": {},
   "outputs": [
    {
     "name": "stdout",
     "output_type": "stream",
     "text": [
      "== generated original data ==\n",
      "         Name  Frequency  Importance   Type\n",
      "0       Apple          7           5  Fruit\n",
      "1      Banana          3           6  Fruit\n",
      "2  WaterMelon          6           2  Fruit\n",
      "3        Beef          5           3   Meal\n",
      "4      Kimchi          4           4   Meal\n",
      "                  \n",
      "== pivot table data ==\n",
      "Type        Fruit  Meal\n",
      "Importance             \n",
      "2             6.0   NaN\n",
      "3             NaN   5.0\n",
      "4             NaN   4.0\n",
      "5             7.0   NaN\n",
      "6             3.0   NaN\n"
     ]
    }
   ],
   "source": [
    "df = pd.DataFrame([\n",
    "    ['Apple', 7, 5, 'Fruit'],\n",
    "    ['Banana', 3, 6, 'Fruit'],\n",
    "    ['WaterMelon', 6, 2, 'Fruit'],\n",
    "    ['Beef', 5, 3, 'Meal'],\n",
    "    ['Kimchi',4, 4, 'Meal']],\n",
    "    columns = [\"Name\", \"Frequency\", \"Importance\", \"Type\"])\n",
    "\n",
    "print('== generated original data ==')\n",
    "print(df)\n",
    "print('                  ')\n",
    "\n",
    "df = df.pivot_table(\n",
    "    index = \"Importance\", columns = \"Type\", values = \"Frequency\",\n",
    "    aggfunc = np.max\n",
    ")\n",
    "\n",
    "print('== pivot table data ==')\n",
    "print(df)"
   ]
  },
  {
   "cell_type": "code",
   "execution_count": null,
   "id": "538f8266",
   "metadata": {},
   "outputs": [],
   "source": []
  }
 ],
 "metadata": {
  "kernelspec": {
   "display_name": "Python 3 (ipykernel)",
   "language": "python",
   "name": "python3"
  },
  "language_info": {
   "codemirror_mode": {
    "name": "ipython",
    "version": 3
   },
   "file_extension": ".py",
   "mimetype": "text/x-python",
   "name": "python",
   "nbconvert_exporter": "python",
   "pygments_lexer": "ipython3",
   "version": "3.9.12"
  }
 },
 "nbformat": 4,
 "nbformat_minor": 5
}
