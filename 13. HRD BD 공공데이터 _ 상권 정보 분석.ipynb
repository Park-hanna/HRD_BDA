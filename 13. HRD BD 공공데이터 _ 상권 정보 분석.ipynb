{
 "cells": [
  {
   "cell_type": "markdown",
   "id": "f3d5c2be",
   "metadata": {},
   "source": [
    "# 공공데이터 활용 상권 분석"
   ]
  },
  {
   "cell_type": "markdown",
   "id": "21cccbeb",
   "metadata": {},
   "source": [
    "# <MS 엑셀에서 UTF-8로된 CSV파일 불러오기>"
   ]
  },
  {
   "cell_type": "markdown",
   "id": "eac523dd",
   "metadata": {},
   "source": [
    "기존 euc-kr 데이터 추출형식으로 인해 업소명 오류가 발견되었으며 이를 개선하고자 utf-8 형식으로 추출했다"
   ]
  },
  {
   "cell_type": "markdown",
   "id": "d69ecb0b",
   "metadata": {},
   "source": [
    "개발자가 아닌 일반사용자의 경우 euc-kr(utf-8, utf-16)이 아닌 csv파일을 엑셀에서 바로 로드하면 한글이 모두 깨지게 된다."
   ]
  },
  {
   "cell_type": "markdown",
   "id": "767a956d",
   "metadata": {},
   "source": [
    "따라서 바로 열지 않고 다음 절차를 거친다"
   ]
  },
  {
   "cell_type": "markdown",
   "id": "45ef7406",
   "metadata": {},
   "source": [
    "- 엑셀을 실행하고 데이터 => 텍스트를 선택한다.\n",
    "- 가져올 파일을 선택하고 확인을 클릭한다.\n",
    "- 콤보 박스에서 적절한 코드 타입이 선택됐는지 확인한다.\n",
    " => utf-8의 코드 페이지 넘버는 65001 이다.\n",
    "- 구분 기호는 쉼표를 선택한다\n",
    " => 기본이 쉼표로 설정되어있음\n",
    "** 업종(대분류) :  관광/여가/오락, 부동산, 생활서비스, 소매, 숙박, 스포츠, 음식, 학문/교육"
   ]
  },
  {
   "cell_type": "markdown",
   "id": "b5ee5a84",
   "metadata": {},
   "source": [
    "# 데이터 셋 분류 정보 : 지역을 기준으로 분류 되어있음"
   ]
  },
  {
   "cell_type": "markdown",
   "id": "1b2df1a4",
   "metadata": {},
   "source": [
    "각 파일명에 지역 : 강원,경기,경남,경북,광주,대구,대전,부산,서울,세종,울산,인천,전남,전북,제주,충남,충북 으로 구성됨"
   ]
  },
  {
   "cell_type": "code",
   "execution_count": 1,
   "id": "c2039f50",
   "metadata": {},
   "outputs": [],
   "source": [
    "import pandas as pd\n",
    "import numpy as np\n",
    "import matplotlib.pyplot as plt\n",
    "import seaborn as sns"
   ]
  },
  {
   "cell_type": "markdown",
   "id": "df1fdcb5",
   "metadata": {},
   "source": [
    "한글 폰트 설정 방법 <br>\n",
    "폰트 설정이 잘 안될 경우 아래 셀의 마지막 줄 주석을 풀고 실행해 본다"
   ]
  },
  {
   "cell_type": "code",
   "execution_count": 2,
   "id": "2cd4d161",
   "metadata": {},
   "outputs": [],
   "source": [
    "def get_font_family():\n",
    "    import platform\n",
    "    system_name = platform.system()\n",
    "    \n",
    "    if system_name == \"Darwin\":\n",
    "        font_family = \"AppleGothic\"\n",
    "    elif system_name == \"Windows\":\n",
    "        font_family = \"Malgun Gothic\"\n",
    "    else:\n",
    "        #Linux(colab)\n",
    "        !apt-get install fonts-nanum -qq > /dev/null\n",
    "        !fc-cache -fv\n",
    "        \n",
    "        import matplotlib as mpl\n",
    "        mpl.font_manager._rebuild()\n",
    "        findfont = mpl.font_manager.fontManager.findfont\n",
    "        mpl.font_manager.findfont = findfont\n",
    "        mpl.backends.backend_agg.findfont = findfont\n",
    "        \n",
    "        font_family = \"NanumBarunGothic\"\n",
    "    return font_family\n",
    "\n",
    "#plt.rc(\"font\", family=get_font_family())\n",
    "    "
   ]
  },
  {
   "cell_type": "code",
   "execution_count": 3,
   "id": "336046fe",
   "metadata": {},
   "outputs": [],
   "source": [
    "#한글 폰트 설정"
   ]
  },
  {
   "cell_type": "code",
   "execution_count": 4,
   "id": "fa8df128",
   "metadata": {},
   "outputs": [],
   "source": [
    "plt.rc(\"font\", family=\"Malgun Gothic\")"
   ]
  },
  {
   "cell_type": "code",
   "execution_count": 5,
   "id": "09546c95",
   "metadata": {},
   "outputs": [],
   "source": [
    "#특수 기호 설정"
   ]
  },
  {
   "cell_type": "code",
   "execution_count": 6,
   "id": "cdd9ae78",
   "metadata": {},
   "outputs": [],
   "source": [
    "plt.rc(\"axes\", unicode_minus=False)"
   ]
  },
  {
   "cell_type": "code",
   "execution_count": 7,
   "id": "70a0e6f7",
   "metadata": {},
   "outputs": [
    {
     "data": {
      "text/plain": [
       "<Axes: title={'center': '한글 데이터 그래프'}>"
      ]
     },
     "execution_count": 7,
     "metadata": {},
     "output_type": "execute_result"
    },
    {
     "data": {
      "image/png": "[encoded data removed]",
      "text/plain": [
       "<Figure size 640x480 with 1 Axes>"
      ]
     },
     "metadata": {},
     "output_type": "display_data"
    }
   ],
   "source": [
    "pd.Series([-1,-5,-3, 2,5,6,7,9,-11]).plot(title=\"한글 데이터 그래프\")"
   ]
  },
  {
   "cell_type": "code",
   "execution_count": 8,
   "id": "192c6df5",
   "metadata": {},
   "outputs": [
    {
     "name": "stdout",
     "output_type": "stream",
     "text": [
      " C 드라이브의 볼륨에는 이름이 없습니다.\n",
      " 볼륨 일련 번호: 982A-46F8\n",
      "\n",
      " C:\\Users\\ParkHanna\\Desktop\\HRD\\BigData 디렉터리\n",
      "\n",
      "2023-07-01  오후 10:47    <DIR>          .\n",
      "2023-07-01  오후 10:47    <DIR>          ..\n",
      "2023-07-01  오후 10:46    <DIR>          .ipynb_checkpoints\n",
      "2023-07-01  오후 10:40            19,687 1 HRD BD numpy.ipynb\n",
      "2023-07-01  오후 10:42           252,297 10 HRD BD  Word Cloud.ipynb\n",
      "2023-07-01  오후 10:45         3,023,813 11 HRD BD 공공데이터_부동산.ipynb\n",
      "2023-07-01  오후 10:46           251,257 12 HRD BD 공공데이터_부동산 2.ipynb\n",
      "2023-07-01  오후 10:47            97,990 13 HRD BD 공공데이터 _ 상권 정보 분석.ipynb\n",
      "2022-08-12  오후 02:03             9,867 1stplotpic.png\n",
      "2022-08-12  오후 01:59           142,914 2 HRD BD pandas.ipynb\n",
      "2022-08-12  오후 02:05            33,201 2ndplotpic.png\n",
      "2022-08-12  오후 02:15           134,627 3 HRD BD Matplotlib .ipynb\n",
      "2022-08-17  오후 01:34            56,289 4 HRD BD BigData 1.ipynb\n",
      "2022-08-23  오후 03:04           502,177 5 HRD BD Big Data use Open API.ipynb\n",
      "2022-08-23  오후 03:19            11,000 6 HRD BD Naver Open API .ipynb\n",
      "2022-08-23  오후 04:25            91,407 7 HRD BD Crawler.ipynb\n",
      "2022-08-26  오후 01:38           961,414 8 HRD BD Wine DataSet.ipynb\n",
      "2022-08-26  오후 02:29           102,204 9 HRD BD Text Analysis.ipynb\n",
      "2023-07-01  오후 10:37    <DIR>          data\n",
      "2022-08-17  오후 01:31               293 data1.csv\n",
      "2022-08-26  오후 01:52            45,624 hs_err_pid11128.log\n",
      "2023-07-01  오후 09:55                 9 README.md\n",
      "2022-08-11  오후 03:20               107 sum.csv\n",
      "2022-08-27  오후 01:28                72 Untitled.ipynb\n",
      "              20개 파일           5,736,249 바이트\n",
      "               4개 디렉터리  706,158,882,816 바이트 남음\n"
     ]
    }
   ],
   "source": [
    "%ls"
   ]
  },
  {
   "cell_type": "code",
   "execution_count": 9,
   "id": "12878099",
   "metadata": {},
   "outputs": [],
   "source": [
    "df2 = pd.read_csv(\"C:/Users/ParkHanna/Desktop/HRD/BigData/data/소상공인서울_202206.csv\")"
   ]
  },
  {
   "cell_type": "code",
   "execution_count": 10,
   "id": "42e38cf6",
   "metadata": {},
   "outputs": [
    {
     "data": {
      "text/html": [
       "<div>\n",
       "<style scoped>\n",
       "    .dataframe tbody tr th:only-of-type {\n",
       "        vertical-align: middle;\n",
       "    }\n",
       "\n",
       "    .dataframe tbody tr th {\n",
       "        vertical-align: top;\n",
       "    }\n",
       "\n",
       "    .dataframe thead th {\n",
       "        text-align: right;\n",
       "    }\n",
       "</style>\n",
       "<table border=\"1\" class=\"dataframe\">\n",
       "  <thead>\n",
       "    <tr style=\"text-align: right;\">\n",
       "      <th></th>\n",
       "      <th>상가업소번호</th>\n",
       "      <th>상호명</th>\n",
       "      <th>지점명</th>\n",
       "      <th>상권업종대분류코드</th>\n",
       "      <th>상권업종대분류명</th>\n",
       "      <th>상권업종중분류코드</th>\n",
       "      <th>상권업종중분류명</th>\n",
       "      <th>상권업종소분류코드</th>\n",
       "      <th>상권업종소분류명</th>\n",
       "      <th>표준산업분류코드</th>\n",
       "      <th>...</th>\n",
       "      <th>건물관리번호</th>\n",
       "      <th>건물명</th>\n",
       "      <th>도로명주소</th>\n",
       "      <th>구우편번호</th>\n",
       "      <th>신우편번호</th>\n",
       "      <th>동정보</th>\n",
       "      <th>층정보</th>\n",
       "      <th>호정보</th>\n",
       "      <th>경도</th>\n",
       "      <th>위도</th>\n",
       "    </tr>\n",
       "  </thead>\n",
       "  <tbody>\n",
       "    <tr>\n",
       "      <th>0</th>\n",
       "      <td>23324279</td>\n",
       "      <td>제중건강원</td>\n",
       "      <td>NaN</td>\n",
       "      <td>D</td>\n",
       "      <td>소매</td>\n",
       "      <td>D10</td>\n",
       "      <td>건강/미용식품</td>\n",
       "      <td>D10A07</td>\n",
       "      <td>건강원</td>\n",
       "      <td>G47216</td>\n",
       "      <td>...</td>\n",
       "      <td>1156010600100410002034626</td>\n",
       "      <td>NaN</td>\n",
       "      <td>서울특별시 영등포구 영중로14길 11-17</td>\n",
       "      <td>150035</td>\n",
       "      <td>7250.0</td>\n",
       "      <td>NaN</td>\n",
       "      <td>1</td>\n",
       "      <td>NaN</td>\n",
       "      <td>126.907168</td>\n",
       "      <td>37.520613</td>\n",
       "    </tr>\n",
       "    <tr>\n",
       "      <th>1</th>\n",
       "      <td>24525909</td>\n",
       "      <td>민속악기사</td>\n",
       "      <td>NaN</td>\n",
       "      <td>D</td>\n",
       "      <td>소매</td>\n",
       "      <td>D04</td>\n",
       "      <td>취미/오락관련소매</td>\n",
       "      <td>D04A09</td>\n",
       "      <td>악기판매</td>\n",
       "      <td>G47593</td>\n",
       "      <td>...</td>\n",
       "      <td>1120012200101420011000227</td>\n",
       "      <td>NaN</td>\n",
       "      <td>서울특별시 성동구 용답5길 2</td>\n",
       "      <td>133849</td>\n",
       "      <td>4803.0</td>\n",
       "      <td>NaN</td>\n",
       "      <td>NaN</td>\n",
       "      <td>NaN</td>\n",
       "      <td>127.049018</td>\n",
       "      <td>37.566857</td>\n",
       "    </tr>\n",
       "    <tr>\n",
       "      <th>2</th>\n",
       "      <td>24715368</td>\n",
       "      <td>태평양진주</td>\n",
       "      <td>NaN</td>\n",
       "      <td>D</td>\n",
       "      <td>소매</td>\n",
       "      <td>D26</td>\n",
       "      <td>시계/귀금속소매</td>\n",
       "      <td>D26A01</td>\n",
       "      <td>시계/귀금속</td>\n",
       "      <td>G47830</td>\n",
       "      <td>...</td>\n",
       "      <td>1111015200100440000000001</td>\n",
       "      <td>금사랑투빌딩</td>\n",
       "      <td>서울특별시 종로구 서순라길 17-10</td>\n",
       "      <td>110390</td>\n",
       "      <td>3138.0</td>\n",
       "      <td>NaN</td>\n",
       "      <td>NaN</td>\n",
       "      <td>NaN</td>\n",
       "      <td>126.993530</td>\n",
       "      <td>37.571848</td>\n",
       "    </tr>\n",
       "    <tr>\n",
       "      <th>3</th>\n",
       "      <td>15554136</td>\n",
       "      <td>김선희꼼꼼국어교습소</td>\n",
       "      <td>NaN</td>\n",
       "      <td>R</td>\n",
       "      <td>학문/교육</td>\n",
       "      <td>R01</td>\n",
       "      <td>학원-보습교습입시</td>\n",
       "      <td>R01A01</td>\n",
       "      <td>학원-입시</td>\n",
       "      <td>P85501</td>\n",
       "      <td>...</td>\n",
       "      <td>1171011100101970003017195</td>\n",
       "      <td>NaN</td>\n",
       "      <td>서울특별시 송파구 위례성대로12길 31</td>\n",
       "      <td>138834</td>\n",
       "      <td>5640.0</td>\n",
       "      <td>NaN</td>\n",
       "      <td>2</td>\n",
       "      <td>NaN</td>\n",
       "      <td>127.121520</td>\n",
       "      <td>37.510967</td>\n",
       "    </tr>\n",
       "    <tr>\n",
       "      <th>4</th>\n",
       "      <td>17174175</td>\n",
       "      <td>비지트</td>\n",
       "      <td>NaN</td>\n",
       "      <td>Q</td>\n",
       "      <td>음식</td>\n",
       "      <td>Q01</td>\n",
       "      <td>한식</td>\n",
       "      <td>Q01A01</td>\n",
       "      <td>한식/백반/한정식</td>\n",
       "      <td>I56111</td>\n",
       "      <td>...</td>\n",
       "      <td>1165010100108540018009586</td>\n",
       "      <td>상랑의빌딩</td>\n",
       "      <td>서울특별시 서초구 동광로18길 82</td>\n",
       "      <td>137837</td>\n",
       "      <td>6572.0</td>\n",
       "      <td>NaN</td>\n",
       "      <td>1</td>\n",
       "      <td>NaN</td>\n",
       "      <td>126.991394</td>\n",
       "      <td>37.488375</td>\n",
       "    </tr>\n",
       "    <tr>\n",
       "      <th>...</th>\n",
       "      <td>...</td>\n",
       "      <td>...</td>\n",
       "      <td>...</td>\n",
       "      <td>...</td>\n",
       "      <td>...</td>\n",
       "      <td>...</td>\n",
       "      <td>...</td>\n",
       "      <td>...</td>\n",
       "      <td>...</td>\n",
       "      <td>...</td>\n",
       "      <td>...</td>\n",
       "      <td>...</td>\n",
       "      <td>...</td>\n",
       "      <td>...</td>\n",
       "      <td>...</td>\n",
       "      <td>...</td>\n",
       "      <td>...</td>\n",
       "      <td>...</td>\n",
       "      <td>...</td>\n",
       "      <td>...</td>\n",
       "      <td>...</td>\n",
       "    </tr>\n",
       "    <tr>\n",
       "      <th>346224</th>\n",
       "      <td>18466695</td>\n",
       "      <td>신내역시티부동산공인중개사사무소</td>\n",
       "      <td>NaN</td>\n",
       "      <td>L</td>\n",
       "      <td>부동산</td>\n",
       "      <td>L01</td>\n",
       "      <td>부동산중개</td>\n",
       "      <td>L01A01</td>\n",
       "      <td>부동산중개</td>\n",
       "      <td>L68221</td>\n",
       "      <td>...</td>\n",
       "      <td>1126010500103150000000004</td>\n",
       "      <td>NaN</td>\n",
       "      <td>서울특별시 중랑구 봉화산로59길 25</td>\n",
       "      <td>131800</td>\n",
       "      <td>2057.0</td>\n",
       "      <td>NaN</td>\n",
       "      <td>NaN</td>\n",
       "      <td>NaN</td>\n",
       "      <td>127.103704</td>\n",
       "      <td>37.611201</td>\n",
       "    </tr>\n",
       "    <tr>\n",
       "      <th>346225</th>\n",
       "      <td>18455989</td>\n",
       "      <td>석정칼국수</td>\n",
       "      <td>NaN</td>\n",
       "      <td>Q</td>\n",
       "      <td>음식</td>\n",
       "      <td>Q04</td>\n",
       "      <td>분식</td>\n",
       "      <td>Q04A02</td>\n",
       "      <td>국수/만두/칼국수</td>\n",
       "      <td>I56194</td>\n",
       "      <td>...</td>\n",
       "      <td>1126010100102260010031461</td>\n",
       "      <td>NaN</td>\n",
       "      <td>서울특별시 중랑구 면목로 446</td>\n",
       "      <td>131817</td>\n",
       "      <td>2160.0</td>\n",
       "      <td>NaN</td>\n",
       "      <td>1</td>\n",
       "      <td>NaN</td>\n",
       "      <td>127.086895</td>\n",
       "      <td>37.591754</td>\n",
       "    </tr>\n",
       "    <tr>\n",
       "      <th>346226</th>\n",
       "      <td>18454507</td>\n",
       "      <td>서울왕도숯불갈비</td>\n",
       "      <td>NaN</td>\n",
       "      <td>Q</td>\n",
       "      <td>음식</td>\n",
       "      <td>Q01</td>\n",
       "      <td>한식</td>\n",
       "      <td>Q01A01</td>\n",
       "      <td>한식/백반/한정식</td>\n",
       "      <td>I56111</td>\n",
       "      <td>...</td>\n",
       "      <td>1123010300104380010033192</td>\n",
       "      <td>NaN</td>\n",
       "      <td>서울특별시 동대문구 약령시로 122-3</td>\n",
       "      <td>130862</td>\n",
       "      <td>2573.0</td>\n",
       "      <td>NaN</td>\n",
       "      <td>NaN</td>\n",
       "      <td>NaN</td>\n",
       "      <td>127.043357</td>\n",
       "      <td>37.582867</td>\n",
       "    </tr>\n",
       "    <tr>\n",
       "      <th>346227</th>\n",
       "      <td>18447435</td>\n",
       "      <td>칠교</td>\n",
       "      <td>NaN</td>\n",
       "      <td>F</td>\n",
       "      <td>생활서비스</td>\n",
       "      <td>F13</td>\n",
       "      <td>기타서비스업</td>\n",
       "      <td>F13A01</td>\n",
       "      <td>사업경영상담</td>\n",
       "      <td>M71531</td>\n",
       "      <td>...</td>\n",
       "      <td>1154510100106870000000003</td>\n",
       "      <td>대륭21차</td>\n",
       "      <td>서울특별시 금천구 범안로 1126</td>\n",
       "      <td>153803</td>\n",
       "      <td>8595.0</td>\n",
       "      <td>NaN</td>\n",
       "      <td>NaN</td>\n",
       "      <td>NaN</td>\n",
       "      <td>126.887062</td>\n",
       "      <td>37.465200</td>\n",
       "    </tr>\n",
       "    <tr>\n",
       "      <th>346228</th>\n",
       "      <td>18467074</td>\n",
       "      <td>마음공감심리상담센터</td>\n",
       "      <td>NaN</td>\n",
       "      <td>D</td>\n",
       "      <td>소매</td>\n",
       "      <td>D02</td>\n",
       "      <td>선물/팬시/기념품</td>\n",
       "      <td>D02A02</td>\n",
       "      <td>꽃집/꽃배달</td>\n",
       "      <td>G47851</td>\n",
       "      <td>...</td>\n",
       "      <td>1156012400100160000037446</td>\n",
       "      <td>문래파라곤</td>\n",
       "      <td>서울특별시 영등포구 선유로13길 11</td>\n",
       "      <td>150096</td>\n",
       "      <td>7281.0</td>\n",
       "      <td>201</td>\n",
       "      <td>NaN</td>\n",
       "      <td>NaN</td>\n",
       "      <td>126.887486</td>\n",
       "      <td>37.518960</td>\n",
       "    </tr>\n",
       "  </tbody>\n",
       "</table>\n",
       "<p>346229 rows × 39 columns</p>\n",
       "</div>"
      ],
      "text/plain": [
       "          상가업소번호               상호명  지점명 상권업종대분류코드 상권업종대분류명 상권업종중분류코드  \\\n",
       "0       23324279             제중건강원  NaN         D       소매       D10   \n",
       "1       24525909             민속악기사  NaN         D       소매       D04   \n",
       "2       24715368             태평양진주  NaN         D       소매       D26   \n",
       "3       15554136        김선희꼼꼼국어교습소  NaN         R    학문/교육       R01   \n",
       "4       17174175               비지트  NaN         Q       음식       Q01   \n",
       "...          ...               ...  ...       ...      ...       ...   \n",
       "346224  18466695  신내역시티부동산공인중개사사무소  NaN         L      부동산       L01   \n",
       "346225  18455989             석정칼국수  NaN         Q       음식       Q04   \n",
       "346226  18454507          서울왕도숯불갈비  NaN         Q       음식       Q01   \n",
       "346227  18447435                칠교  NaN         F    생활서비스       F13   \n",
       "346228  18467074        마음공감심리상담센터  NaN         D       소매       D02   \n",
       "\n",
       "         상권업종중분류명 상권업종소분류코드   상권업종소분류명 표준산업분류코드  ...  \\\n",
       "0         건강/미용식품    D10A07        건강원   G47216  ...   \n",
       "1       취미/오락관련소매    D04A09       악기판매   G47593  ...   \n",
       "2        시계/귀금속소매    D26A01     시계/귀금속   G47830  ...   \n",
       "3       학원-보습교습입시    R01A01      학원-입시   P85501  ...   \n",
       "4              한식    Q01A01  한식/백반/한정식   I56111  ...   \n",
       "...           ...       ...        ...      ...  ...   \n",
       "346224      부동산중개    L01A01      부동산중개   L68221  ...   \n",
       "346225         분식    Q04A02  국수/만두/칼국수   I56194  ...   \n",
       "346226         한식    Q01A01  한식/백반/한정식   I56111  ...   \n",
       "346227     기타서비스업    F13A01     사업경영상담   M71531  ...   \n",
       "346228  선물/팬시/기념품    D02A02     꽃집/꽃배달   G47851  ...   \n",
       "\n",
       "                           건물관리번호     건물명                    도로명주소   구우편번호  \\\n",
       "0       1156010600100410002034626     NaN  서울특별시 영등포구 영중로14길 11-17  150035   \n",
       "1       1120012200101420011000227     NaN         서울특별시 성동구 용답5길 2  133849   \n",
       "2       1111015200100440000000001  금사랑투빌딩     서울특별시 종로구 서순라길 17-10  110390   \n",
       "3       1171011100101970003017195     NaN    서울특별시 송파구 위례성대로12길 31  138834   \n",
       "4       1165010100108540018009586   상랑의빌딩      서울특별시 서초구 동광로18길 82  137837   \n",
       "...                           ...     ...                      ...     ...   \n",
       "346224  1126010500103150000000004     NaN     서울특별시 중랑구 봉화산로59길 25  131800   \n",
       "346225  1126010100102260010031461     NaN        서울특별시 중랑구 면목로 446  131817   \n",
       "346226  1123010300104380010033192     NaN    서울특별시 동대문구 약령시로 122-3  130862   \n",
       "346227  1154510100106870000000003   대륭21차       서울특별시 금천구 범안로 1126  153803   \n",
       "346228  1156012400100160000037446   문래파라곤     서울특별시 영등포구 선유로13길 11  150096   \n",
       "\n",
       "         신우편번호  동정보  층정보  호정보          경도         위도  \n",
       "0       7250.0  NaN    1  NaN  126.907168  37.520613  \n",
       "1       4803.0  NaN  NaN  NaN  127.049018  37.566857  \n",
       "2       3138.0  NaN  NaN  NaN  126.993530  37.571848  \n",
       "3       5640.0  NaN    2  NaN  127.121520  37.510967  \n",
       "4       6572.0  NaN    1  NaN  126.991394  37.488375  \n",
       "...        ...  ...  ...  ...         ...        ...  \n",
       "346224  2057.0  NaN  NaN  NaN  127.103704  37.611201  \n",
       "346225  2160.0  NaN    1  NaN  127.086895  37.591754  \n",
       "346226  2573.0  NaN  NaN  NaN  127.043357  37.582867  \n",
       "346227  8595.0  NaN  NaN  NaN  126.887062  37.465200  \n",
       "346228  7281.0  201  NaN  NaN  126.887486  37.518960  \n",
       "\n",
       "[346229 rows x 39 columns]"
      ]
     },
     "execution_count": 10,
     "metadata": {},
     "output_type": "execute_result"
    }
   ],
   "source": [
    "df2"
   ]
  },
  {
   "cell_type": "code",
   "execution_count": 11,
   "id": "07fc8efc",
   "metadata": {},
   "outputs": [],
   "source": [
    "df3 = pd.read_csv(\"C:/Users/ParkHanna/Desktop/HRD/BigData/data/소상공인부산_202206.csv\")"
   ]
  },
  {
   "cell_type": "code",
   "execution_count": 12,
   "id": "156f83d4",
   "metadata": {},
   "outputs": [
    {
     "data": {
      "text/html": [
       "<div>\n",
       "<style scoped>\n",
       "    .dataframe tbody tr th:only-of-type {\n",
       "        vertical-align: middle;\n",
       "    }\n",
       "\n",
       "    .dataframe tbody tr th {\n",
       "        vertical-align: top;\n",
       "    }\n",
       "\n",
       "    .dataframe thead th {\n",
       "        text-align: right;\n",
       "    }\n",
       "</style>\n",
       "<table border=\"1\" class=\"dataframe\">\n",
       "  <thead>\n",
       "    <tr style=\"text-align: right;\">\n",
       "      <th></th>\n",
       "      <th>상가업소번호</th>\n",
       "      <th>상호명</th>\n",
       "      <th>지점명</th>\n",
       "      <th>상권업종대분류코드</th>\n",
       "      <th>상권업종대분류명</th>\n",
       "      <th>상권업종중분류코드</th>\n",
       "      <th>상권업종중분류명</th>\n",
       "      <th>상권업종소분류코드</th>\n",
       "      <th>상권업종소분류명</th>\n",
       "      <th>표준산업분류코드</th>\n",
       "      <th>...</th>\n",
       "      <th>건물관리번호</th>\n",
       "      <th>건물명</th>\n",
       "      <th>도로명주소</th>\n",
       "      <th>구우편번호</th>\n",
       "      <th>신우편번호</th>\n",
       "      <th>동정보</th>\n",
       "      <th>층정보</th>\n",
       "      <th>호정보</th>\n",
       "      <th>경도</th>\n",
       "      <th>위도</th>\n",
       "    </tr>\n",
       "  </thead>\n",
       "  <tbody>\n",
       "    <tr>\n",
       "      <th>0</th>\n",
       "      <td>23206623</td>\n",
       "      <td>미광장</td>\n",
       "      <td>NaN</td>\n",
       "      <td>O</td>\n",
       "      <td>숙박</td>\n",
       "      <td>O02</td>\n",
       "      <td>모텔/여관/여인숙</td>\n",
       "      <td>O02A01</td>\n",
       "      <td>모텔/여관/여인숙</td>\n",
       "      <td>I55112</td>\n",
       "      <td>...</td>\n",
       "      <td>2611012600100250001004473</td>\n",
       "      <td>NaN</td>\n",
       "      <td>부산광역시 중구 보수대로44번길 5</td>\n",
       "      <td>600074</td>\n",
       "      <td>48974.0</td>\n",
       "      <td>NaN</td>\n",
       "      <td>NaN</td>\n",
       "      <td>NaN</td>\n",
       "      <td>129.023668</td>\n",
       "      <td>35.100979</td>\n",
       "    </tr>\n",
       "    <tr>\n",
       "      <th>1</th>\n",
       "      <td>20418637</td>\n",
       "      <td>BHC치킨</td>\n",
       "      <td>동래점</td>\n",
       "      <td>Q</td>\n",
       "      <td>음식</td>\n",
       "      <td>Q05</td>\n",
       "      <td>닭/오리요리</td>\n",
       "      <td>Q05A08</td>\n",
       "      <td>후라이드/양념치킨</td>\n",
       "      <td>I56193</td>\n",
       "      <td>...</td>\n",
       "      <td>2626010500101850000016529</td>\n",
       "      <td>NaN</td>\n",
       "      <td>부산광역시 동래구 동래로147번길 18</td>\n",
       "      <td>607020</td>\n",
       "      <td>47802.0</td>\n",
       "      <td>NaN</td>\n",
       "      <td>NaN</td>\n",
       "      <td>NaN</td>\n",
       "      <td>129.087156</td>\n",
       "      <td>35.205267</td>\n",
       "    </tr>\n",
       "    <tr>\n",
       "      <th>2</th>\n",
       "      <td>24659633</td>\n",
       "      <td>스텔라</td>\n",
       "      <td>NaN</td>\n",
       "      <td>D</td>\n",
       "      <td>소매</td>\n",
       "      <td>D05</td>\n",
       "      <td>의복의류</td>\n",
       "      <td>D05A01</td>\n",
       "      <td>일반의류</td>\n",
       "      <td>G47416</td>\n",
       "      <td>...</td>\n",
       "      <td>2650010500101480004001694</td>\n",
       "      <td>비치아파트</td>\n",
       "      <td>부산광역시 수영구 광안해변로 100</td>\n",
       "      <td>613751</td>\n",
       "      <td>48305.0</td>\n",
       "      <td>NaN</td>\n",
       "      <td>NaN</td>\n",
       "      <td>NaN</td>\n",
       "      <td>129.115397</td>\n",
       "      <td>35.143770</td>\n",
       "    </tr>\n",
       "    <tr>\n",
       "      <th>3</th>\n",
       "      <td>17174094</td>\n",
       "      <td>도란도란</td>\n",
       "      <td>NaN</td>\n",
       "      <td>Q</td>\n",
       "      <td>음식</td>\n",
       "      <td>Q01</td>\n",
       "      <td>한식</td>\n",
       "      <td>Q01A01</td>\n",
       "      <td>한식/백반/한정식</td>\n",
       "      <td>I56111</td>\n",
       "      <td>...</td>\n",
       "      <td>2623011100101740004050547</td>\n",
       "      <td>NaN</td>\n",
       "      <td>부산광역시 부산진구 가야대로482번길 29-3</td>\n",
       "      <td>614813</td>\n",
       "      <td>47327.0</td>\n",
       "      <td>NaN</td>\n",
       "      <td>NaN</td>\n",
       "      <td>NaN</td>\n",
       "      <td>129.024938</td>\n",
       "      <td>35.151645</td>\n",
       "    </tr>\n",
       "    <tr>\n",
       "      <th>4</th>\n",
       "      <td>21683903</td>\n",
       "      <td>럭키사진관</td>\n",
       "      <td>NaN</td>\n",
       "      <td>F</td>\n",
       "      <td>생활서비스</td>\n",
       "      <td>F06</td>\n",
       "      <td>사진</td>\n",
       "      <td>F06A01</td>\n",
       "      <td>사진관</td>\n",
       "      <td>M73301</td>\n",
       "      <td>...</td>\n",
       "      <td>2638010200103250030010858</td>\n",
       "      <td>NaN</td>\n",
       "      <td>부산광역시 사하구 낙동대로 395</td>\n",
       "      <td>604830</td>\n",
       "      <td>49411.0</td>\n",
       "      <td>NaN</td>\n",
       "      <td>1</td>\n",
       "      <td>NaN</td>\n",
       "      <td>128.974794</td>\n",
       "      <td>35.102905</td>\n",
       "    </tr>\n",
       "    <tr>\n",
       "      <th>...</th>\n",
       "      <td>...</td>\n",
       "      <td>...</td>\n",
       "      <td>...</td>\n",
       "      <td>...</td>\n",
       "      <td>...</td>\n",
       "      <td>...</td>\n",
       "      <td>...</td>\n",
       "      <td>...</td>\n",
       "      <td>...</td>\n",
       "      <td>...</td>\n",
       "      <td>...</td>\n",
       "      <td>...</td>\n",
       "      <td>...</td>\n",
       "      <td>...</td>\n",
       "      <td>...</td>\n",
       "      <td>...</td>\n",
       "      <td>...</td>\n",
       "      <td>...</td>\n",
       "      <td>...</td>\n",
       "      <td>...</td>\n",
       "      <td>...</td>\n",
       "    </tr>\n",
       "    <tr>\n",
       "      <th>152896</th>\n",
       "      <td>18465196</td>\n",
       "      <td>천화일화</td>\n",
       "      <td>NaN</td>\n",
       "      <td>F</td>\n",
       "      <td>생활서비스</td>\n",
       "      <td>F08</td>\n",
       "      <td>대행업</td>\n",
       "      <td>F08A03</td>\n",
       "      <td>고객관리대행</td>\n",
       "      <td>N75919</td>\n",
       "      <td>...</td>\n",
       "      <td>2629011000101892172031935</td>\n",
       "      <td>광이골드힐</td>\n",
       "      <td>부산광역시 남구 동항로 53-6</td>\n",
       "      <td>608845</td>\n",
       "      <td>48478.0</td>\n",
       "      <td>A</td>\n",
       "      <td>NaN</td>\n",
       "      <td>NaN</td>\n",
       "      <td>129.068730</td>\n",
       "      <td>35.127425</td>\n",
       "    </tr>\n",
       "    <tr>\n",
       "      <th>152897</th>\n",
       "      <td>18457565</td>\n",
       "      <td>옹헤야</td>\n",
       "      <td>디에이롯데동부산아울렛점</td>\n",
       "      <td>D</td>\n",
       "      <td>소매</td>\n",
       "      <td>D05</td>\n",
       "      <td>의복의류</td>\n",
       "      <td>D05A02</td>\n",
       "      <td>캐쥬얼/스포츠의류</td>\n",
       "      <td>G47416</td>\n",
       "      <td>...</td>\n",
       "      <td>2671025032100640000000001</td>\n",
       "      <td>롯데몰동부산점</td>\n",
       "      <td>부산광역시 기장군 기장읍 기장해안로 147</td>\n",
       "      <td>619902</td>\n",
       "      <td>46084.0</td>\n",
       "      <td>NaN</td>\n",
       "      <td>2</td>\n",
       "      <td>NaN</td>\n",
       "      <td>129.212806</td>\n",
       "      <td>35.192230</td>\n",
       "    </tr>\n",
       "    <tr>\n",
       "      <th>152898</th>\n",
       "      <td>18453880</td>\n",
       "      <td>더벤티</td>\n",
       "      <td>사하역점</td>\n",
       "      <td>Q</td>\n",
       "      <td>음식</td>\n",
       "      <td>Q12</td>\n",
       "      <td>커피점/카페</td>\n",
       "      <td>Q12A01</td>\n",
       "      <td>커피전문점/카페/다방</td>\n",
       "      <td>I56220</td>\n",
       "      <td>...</td>\n",
       "      <td>2638010100110820055039168</td>\n",
       "      <td>사하역비스타동원</td>\n",
       "      <td>부산광역시 사하구 낙동대로 280</td>\n",
       "      <td>604084</td>\n",
       "      <td>49343.0</td>\n",
       "      <td>302</td>\n",
       "      <td>2</td>\n",
       "      <td>NaN</td>\n",
       "      <td>128.984281</td>\n",
       "      <td>35.100133</td>\n",
       "    </tr>\n",
       "    <tr>\n",
       "      <th>152899</th>\n",
       "      <td>18458741</td>\n",
       "      <td>북구이웃사촌협동조합</td>\n",
       "      <td>NaN</td>\n",
       "      <td>F</td>\n",
       "      <td>생활서비스</td>\n",
       "      <td>F15</td>\n",
       "      <td>주택수리</td>\n",
       "      <td>F15A07</td>\n",
       "      <td>조립칸막이/파티션</td>\n",
       "      <td>F42499</td>\n",
       "      <td>...</td>\n",
       "      <td>2632010300104420001000001</td>\n",
       "      <td>NaN</td>\n",
       "      <td>부산광역시 북구 구만덕로60번길 66</td>\n",
       "      <td>616111</td>\n",
       "      <td>46607.0</td>\n",
       "      <td>가</td>\n",
       "      <td>3</td>\n",
       "      <td>NaN</td>\n",
       "      <td>129.041703</td>\n",
       "      <td>35.214022</td>\n",
       "    </tr>\n",
       "    <tr>\n",
       "      <th>152900</th>\n",
       "      <td>18435694</td>\n",
       "      <td>에드뷰</td>\n",
       "      <td>NaN</td>\n",
       "      <td>F</td>\n",
       "      <td>생활서비스</td>\n",
       "      <td>F08</td>\n",
       "      <td>대행업</td>\n",
       "      <td>F08A05</td>\n",
       "      <td>사무대리서비스</td>\n",
       "      <td>N75919</td>\n",
       "      <td>...</td>\n",
       "      <td>2635010500114710000000001</td>\n",
       "      <td>에이스하이테크21</td>\n",
       "      <td>부산광역시 해운대구 센텀중앙로 48</td>\n",
       "      <td>612022</td>\n",
       "      <td>48059.0</td>\n",
       "      <td>NaN</td>\n",
       "      <td>NaN</td>\n",
       "      <td>NaN</td>\n",
       "      <td>129.129881</td>\n",
       "      <td>35.173039</td>\n",
       "    </tr>\n",
       "  </tbody>\n",
       "</table>\n",
       "<p>152901 rows × 39 columns</p>\n",
       "</div>"
      ],
      "text/plain": [
       "          상가업소번호         상호명           지점명 상권업종대분류코드 상권업종대분류명 상권업종중분류코드  \\\n",
       "0       23206623         미광장           NaN         O       숙박       O02   \n",
       "1       20418637       BHC치킨           동래점         Q       음식       Q05   \n",
       "2       24659633         스텔라           NaN         D       소매       D05   \n",
       "3       17174094        도란도란           NaN         Q       음식       Q01   \n",
       "4       21683903       럭키사진관           NaN         F    생활서비스       F06   \n",
       "...          ...         ...           ...       ...      ...       ...   \n",
       "152896  18465196        천화일화           NaN         F    생활서비스       F08   \n",
       "152897  18457565         옹헤야  디에이롯데동부산아울렛점         D       소매       D05   \n",
       "152898  18453880         더벤티          사하역점         Q       음식       Q12   \n",
       "152899  18458741  북구이웃사촌협동조합           NaN         F    생활서비스       F15   \n",
       "152900  18435694         에드뷰           NaN         F    생활서비스       F08   \n",
       "\n",
       "         상권업종중분류명 상권업종소분류코드     상권업종소분류명 표준산업분류코드  ...  \\\n",
       "0       모텔/여관/여인숙    O02A01    모텔/여관/여인숙   I55112  ...   \n",
       "1          닭/오리요리    Q05A08    후라이드/양념치킨   I56193  ...   \n",
       "2            의복의류    D05A01         일반의류   G47416  ...   \n",
       "3              한식    Q01A01    한식/백반/한정식   I56111  ...   \n",
       "4              사진    F06A01          사진관   M73301  ...   \n",
       "...           ...       ...          ...      ...  ...   \n",
       "152896        대행업    F08A03       고객관리대행   N75919  ...   \n",
       "152897       의복의류    D05A02    캐쥬얼/스포츠의류   G47416  ...   \n",
       "152898     커피점/카페    Q12A01  커피전문점/카페/다방   I56220  ...   \n",
       "152899       주택수리    F15A07    조립칸막이/파티션   F42499  ...   \n",
       "152900        대행업    F08A05      사무대리서비스   N75919  ...   \n",
       "\n",
       "                           건물관리번호        건물명                      도로명주소  \\\n",
       "0       2611012600100250001004473        NaN        부산광역시 중구 보수대로44번길 5   \n",
       "1       2626010500101850000016529        NaN      부산광역시 동래구 동래로147번길 18   \n",
       "2       2650010500101480004001694      비치아파트        부산광역시 수영구 광안해변로 100   \n",
       "3       2623011100101740004050547        NaN  부산광역시 부산진구 가야대로482번길 29-3   \n",
       "4       2638010200103250030010858        NaN         부산광역시 사하구 낙동대로 395   \n",
       "...                           ...        ...                        ...   \n",
       "152896  2629011000101892172031935      광이골드힐          부산광역시 남구 동항로 53-6   \n",
       "152897  2671025032100640000000001    롯데몰동부산점    부산광역시 기장군 기장읍 기장해안로 147   \n",
       "152898  2638010100110820055039168   사하역비스타동원         부산광역시 사하구 낙동대로 280   \n",
       "152899  2632010300104420001000001        NaN       부산광역시 북구 구만덕로60번길 66   \n",
       "152900  2635010500114710000000001  에이스하이테크21        부산광역시 해운대구 센텀중앙로 48   \n",
       "\n",
       "         구우편번호    신우편번호  동정보  층정보  호정보          경도         위도  \n",
       "0       600074  48974.0  NaN  NaN  NaN  129.023668  35.100979  \n",
       "1       607020  47802.0  NaN  NaN  NaN  129.087156  35.205267  \n",
       "2       613751  48305.0  NaN  NaN  NaN  129.115397  35.143770  \n",
       "3       614813  47327.0  NaN  NaN  NaN  129.024938  35.151645  \n",
       "4       604830  49411.0  NaN    1  NaN  128.974794  35.102905  \n",
       "...        ...      ...  ...  ...  ...         ...        ...  \n",
       "152896  608845  48478.0    A  NaN  NaN  129.068730  35.127425  \n",
       "152897  619902  46084.0  NaN    2  NaN  129.212806  35.192230  \n",
       "152898  604084  49343.0  302    2  NaN  128.984281  35.100133  \n",
       "152899  616111  46607.0    가    3  NaN  129.041703  35.214022  \n",
       "152900  612022  48059.0  NaN  NaN  NaN  129.129881  35.173039  \n",
       "\n",
       "[152901 rows x 39 columns]"
      ]
     },
     "execution_count": 12,
     "metadata": {},
     "output_type": "execute_result"
    }
   ],
   "source": [
    "df3"
   ]
  },
  {
   "cell_type": "code",
   "execution_count": 13,
   "id": "9e257e9d",
   "metadata": {},
   "outputs": [
    {
     "data": {
      "text/plain": [
       "Index(['상가업소번호', '상호명', '지점명', '상권업종대분류코드', '상권업종대분류명', '상권업종중분류코드',\n",
       "       '상권업종중분류명', '상권업종소분류코드', '상권업종소분류명', '표준산업분류코드', '표준산업분류명', '시도코드',\n",
       "       '시도명', '시군구코드', '시군구명', '행정동코드', '행정동명', '법정동코드', '법정동명', '지번코드',\n",
       "       '대지구분코드', '대지구분명', '지번본번지', '지번부번지', '지번주소', '도로명코드', '도로명', '건물본번지',\n",
       "       '건물부번지', '건물관리번호', '건물명', '도로명주소', '구우편번호', '신우편번호', '동정보', '층정보',\n",
       "       '호정보', '경도', '위도'],\n",
       "      dtype='object')"
      ]
     },
     "execution_count": 13,
     "metadata": {},
     "output_type": "execute_result"
    }
   ],
   "source": [
    "df2.columns"
   ]
  },
  {
   "cell_type": "code",
   "execution_count": 14,
   "id": "4b314cf3",
   "metadata": {},
   "outputs": [
    {
     "data": {
      "text/plain": [
       "Index(['상가업소번호', '상호명', '지점명', '상권업종대분류코드', '상권업종대분류명', '상권업종중분류코드',\n",
       "       '상권업종중분류명', '상권업종소분류코드', '상권업종소분류명', '표준산업분류코드', '표준산업분류명', '시도코드',\n",
       "       '시도명', '시군구코드', '시군구명', '행정동코드', '행정동명', '법정동코드', '법정동명', '지번코드',\n",
       "       '대지구분코드', '대지구분명', '지번본번지', '지번부번지', '지번주소', '도로명코드', '도로명', '건물본번지',\n",
       "       '건물부번지', '건물관리번호', '건물명', '도로명주소', '구우편번호', '신우편번호', '동정보', '층정보',\n",
       "       '호정보', '경도', '위도'],\n",
       "      dtype='object')"
      ]
     },
     "execution_count": 14,
     "metadata": {},
     "output_type": "execute_result"
    }
   ],
   "source": [
    "df3.columns"
   ]
  },
  {
   "cell_type": "code",
   "execution_count": 15,
   "id": "e33fbd4a",
   "metadata": {},
   "outputs": [],
   "source": [
    "sanf = pd.concat([df2,df3])"
   ]
  },
  {
   "cell_type": "code",
   "execution_count": 16,
   "id": "04595403",
   "metadata": {},
   "outputs": [],
   "source": [
    "sang = sanf"
   ]
  },
  {
   "cell_type": "code",
   "execution_count": 17,
   "id": "c4915e88",
   "metadata": {},
   "outputs": [
    {
     "data": {
      "text/html": [
       "<div>\n",
       "<style scoped>\n",
       "    .dataframe tbody tr th:only-of-type {\n",
       "        vertical-align: middle;\n",
       "    }\n",
       "\n",
       "    .dataframe tbody tr th {\n",
       "        vertical-align: top;\n",
       "    }\n",
       "\n",
       "    .dataframe thead th {\n",
       "        text-align: right;\n",
       "    }\n",
       "</style>\n",
       "<table border=\"1\" class=\"dataframe\">\n",
       "  <thead>\n",
       "    <tr style=\"text-align: right;\">\n",
       "      <th></th>\n",
       "      <th>상가업소번호</th>\n",
       "      <th>상호명</th>\n",
       "      <th>지점명</th>\n",
       "      <th>상권업종대분류코드</th>\n",
       "      <th>상권업종대분류명</th>\n",
       "      <th>상권업종중분류코드</th>\n",
       "      <th>상권업종중분류명</th>\n",
       "      <th>상권업종소분류코드</th>\n",
       "      <th>상권업종소분류명</th>\n",
       "      <th>표준산업분류코드</th>\n",
       "      <th>...</th>\n",
       "      <th>건물관리번호</th>\n",
       "      <th>건물명</th>\n",
       "      <th>도로명주소</th>\n",
       "      <th>구우편번호</th>\n",
       "      <th>신우편번호</th>\n",
       "      <th>동정보</th>\n",
       "      <th>층정보</th>\n",
       "      <th>호정보</th>\n",
       "      <th>경도</th>\n",
       "      <th>위도</th>\n",
       "    </tr>\n",
       "  </thead>\n",
       "  <tbody>\n",
       "    <tr>\n",
       "      <th>0</th>\n",
       "      <td>23324279</td>\n",
       "      <td>제중건강원</td>\n",
       "      <td>NaN</td>\n",
       "      <td>D</td>\n",
       "      <td>소매</td>\n",
       "      <td>D10</td>\n",
       "      <td>건강/미용식품</td>\n",
       "      <td>D10A07</td>\n",
       "      <td>건강원</td>\n",
       "      <td>G47216</td>\n",
       "      <td>...</td>\n",
       "      <td>1156010600100410002034626</td>\n",
       "      <td>NaN</td>\n",
       "      <td>서울특별시 영등포구 영중로14길 11-17</td>\n",
       "      <td>150035</td>\n",
       "      <td>7250.0</td>\n",
       "      <td>NaN</td>\n",
       "      <td>1</td>\n",
       "      <td>NaN</td>\n",
       "      <td>126.907168</td>\n",
       "      <td>37.520613</td>\n",
       "    </tr>\n",
       "    <tr>\n",
       "      <th>1</th>\n",
       "      <td>24525909</td>\n",
       "      <td>민속악기사</td>\n",
       "      <td>NaN</td>\n",
       "      <td>D</td>\n",
       "      <td>소매</td>\n",
       "      <td>D04</td>\n",
       "      <td>취미/오락관련소매</td>\n",
       "      <td>D04A09</td>\n",
       "      <td>악기판매</td>\n",
       "      <td>G47593</td>\n",
       "      <td>...</td>\n",
       "      <td>1120012200101420011000227</td>\n",
       "      <td>NaN</td>\n",
       "      <td>서울특별시 성동구 용답5길 2</td>\n",
       "      <td>133849</td>\n",
       "      <td>4803.0</td>\n",
       "      <td>NaN</td>\n",
       "      <td>NaN</td>\n",
       "      <td>NaN</td>\n",
       "      <td>127.049018</td>\n",
       "      <td>37.566857</td>\n",
       "    </tr>\n",
       "    <tr>\n",
       "      <th>2</th>\n",
       "      <td>24715368</td>\n",
       "      <td>태평양진주</td>\n",
       "      <td>NaN</td>\n",
       "      <td>D</td>\n",
       "      <td>소매</td>\n",
       "      <td>D26</td>\n",
       "      <td>시계/귀금속소매</td>\n",
       "      <td>D26A01</td>\n",
       "      <td>시계/귀금속</td>\n",
       "      <td>G47830</td>\n",
       "      <td>...</td>\n",
       "      <td>1111015200100440000000001</td>\n",
       "      <td>금사랑투빌딩</td>\n",
       "      <td>서울특별시 종로구 서순라길 17-10</td>\n",
       "      <td>110390</td>\n",
       "      <td>3138.0</td>\n",
       "      <td>NaN</td>\n",
       "      <td>NaN</td>\n",
       "      <td>NaN</td>\n",
       "      <td>126.993530</td>\n",
       "      <td>37.571848</td>\n",
       "    </tr>\n",
       "    <tr>\n",
       "      <th>3</th>\n",
       "      <td>15554136</td>\n",
       "      <td>김선희꼼꼼국어교습소</td>\n",
       "      <td>NaN</td>\n",
       "      <td>R</td>\n",
       "      <td>학문/교육</td>\n",
       "      <td>R01</td>\n",
       "      <td>학원-보습교습입시</td>\n",
       "      <td>R01A01</td>\n",
       "      <td>학원-입시</td>\n",
       "      <td>P85501</td>\n",
       "      <td>...</td>\n",
       "      <td>1171011100101970003017195</td>\n",
       "      <td>NaN</td>\n",
       "      <td>서울특별시 송파구 위례성대로12길 31</td>\n",
       "      <td>138834</td>\n",
       "      <td>5640.0</td>\n",
       "      <td>NaN</td>\n",
       "      <td>2</td>\n",
       "      <td>NaN</td>\n",
       "      <td>127.121520</td>\n",
       "      <td>37.510967</td>\n",
       "    </tr>\n",
       "    <tr>\n",
       "      <th>4</th>\n",
       "      <td>17174175</td>\n",
       "      <td>비지트</td>\n",
       "      <td>NaN</td>\n",
       "      <td>Q</td>\n",
       "      <td>음식</td>\n",
       "      <td>Q01</td>\n",
       "      <td>한식</td>\n",
       "      <td>Q01A01</td>\n",
       "      <td>한식/백반/한정식</td>\n",
       "      <td>I56111</td>\n",
       "      <td>...</td>\n",
       "      <td>1165010100108540018009586</td>\n",
       "      <td>상랑의빌딩</td>\n",
       "      <td>서울특별시 서초구 동광로18길 82</td>\n",
       "      <td>137837</td>\n",
       "      <td>6572.0</td>\n",
       "      <td>NaN</td>\n",
       "      <td>1</td>\n",
       "      <td>NaN</td>\n",
       "      <td>126.991394</td>\n",
       "      <td>37.488375</td>\n",
       "    </tr>\n",
       "    <tr>\n",
       "      <th>...</th>\n",
       "      <td>...</td>\n",
       "      <td>...</td>\n",
       "      <td>...</td>\n",
       "      <td>...</td>\n",
       "      <td>...</td>\n",
       "      <td>...</td>\n",
       "      <td>...</td>\n",
       "      <td>...</td>\n",
       "      <td>...</td>\n",
       "      <td>...</td>\n",
       "      <td>...</td>\n",
       "      <td>...</td>\n",
       "      <td>...</td>\n",
       "      <td>...</td>\n",
       "      <td>...</td>\n",
       "      <td>...</td>\n",
       "      <td>...</td>\n",
       "      <td>...</td>\n",
       "      <td>...</td>\n",
       "      <td>...</td>\n",
       "      <td>...</td>\n",
       "    </tr>\n",
       "    <tr>\n",
       "      <th>152896</th>\n",
       "      <td>18465196</td>\n",
       "      <td>천화일화</td>\n",
       "      <td>NaN</td>\n",
       "      <td>F</td>\n",
       "      <td>생활서비스</td>\n",
       "      <td>F08</td>\n",
       "      <td>대행업</td>\n",
       "      <td>F08A03</td>\n",
       "      <td>고객관리대행</td>\n",
       "      <td>N75919</td>\n",
       "      <td>...</td>\n",
       "      <td>2629011000101892172031935</td>\n",
       "      <td>광이골드힐</td>\n",
       "      <td>부산광역시 남구 동항로 53-6</td>\n",
       "      <td>608845</td>\n",
       "      <td>48478.0</td>\n",
       "      <td>A</td>\n",
       "      <td>NaN</td>\n",
       "      <td>NaN</td>\n",
       "      <td>129.068730</td>\n",
       "      <td>35.127425</td>\n",
       "    </tr>\n",
       "    <tr>\n",
       "      <th>152897</th>\n",
       "      <td>18457565</td>\n",
       "      <td>옹헤야</td>\n",
       "      <td>디에이롯데동부산아울렛점</td>\n",
       "      <td>D</td>\n",
       "      <td>소매</td>\n",
       "      <td>D05</td>\n",
       "      <td>의복의류</td>\n",
       "      <td>D05A02</td>\n",
       "      <td>캐쥬얼/스포츠의류</td>\n",
       "      <td>G47416</td>\n",
       "      <td>...</td>\n",
       "      <td>2671025032100640000000001</td>\n",
       "      <td>롯데몰동부산점</td>\n",
       "      <td>부산광역시 기장군 기장읍 기장해안로 147</td>\n",
       "      <td>619902</td>\n",
       "      <td>46084.0</td>\n",
       "      <td>NaN</td>\n",
       "      <td>2</td>\n",
       "      <td>NaN</td>\n",
       "      <td>129.212806</td>\n",
       "      <td>35.192230</td>\n",
       "    </tr>\n",
       "    <tr>\n",
       "      <th>152898</th>\n",
       "      <td>18453880</td>\n",
       "      <td>더벤티</td>\n",
       "      <td>사하역점</td>\n",
       "      <td>Q</td>\n",
       "      <td>음식</td>\n",
       "      <td>Q12</td>\n",
       "      <td>커피점/카페</td>\n",
       "      <td>Q12A01</td>\n",
       "      <td>커피전문점/카페/다방</td>\n",
       "      <td>I56220</td>\n",
       "      <td>...</td>\n",
       "      <td>2638010100110820055039168</td>\n",
       "      <td>사하역비스타동원</td>\n",
       "      <td>부산광역시 사하구 낙동대로 280</td>\n",
       "      <td>604084</td>\n",
       "      <td>49343.0</td>\n",
       "      <td>302</td>\n",
       "      <td>2</td>\n",
       "      <td>NaN</td>\n",
       "      <td>128.984281</td>\n",
       "      <td>35.100133</td>\n",
       "    </tr>\n",
       "    <tr>\n",
       "      <th>152899</th>\n",
       "      <td>18458741</td>\n",
       "      <td>북구이웃사촌협동조합</td>\n",
       "      <td>NaN</td>\n",
       "      <td>F</td>\n",
       "      <td>생활서비스</td>\n",
       "      <td>F15</td>\n",
       "      <td>주택수리</td>\n",
       "      <td>F15A07</td>\n",
       "      <td>조립칸막이/파티션</td>\n",
       "      <td>F42499</td>\n",
       "      <td>...</td>\n",
       "      <td>2632010300104420001000001</td>\n",
       "      <td>NaN</td>\n",
       "      <td>부산광역시 북구 구만덕로60번길 66</td>\n",
       "      <td>616111</td>\n",
       "      <td>46607.0</td>\n",
       "      <td>가</td>\n",
       "      <td>3</td>\n",
       "      <td>NaN</td>\n",
       "      <td>129.041703</td>\n",
       "      <td>35.214022</td>\n",
       "    </tr>\n",
       "    <tr>\n",
       "      <th>152900</th>\n",
       "      <td>18435694</td>\n",
       "      <td>에드뷰</td>\n",
       "      <td>NaN</td>\n",
       "      <td>F</td>\n",
       "      <td>생활서비스</td>\n",
       "      <td>F08</td>\n",
       "      <td>대행업</td>\n",
       "      <td>F08A05</td>\n",
       "      <td>사무대리서비스</td>\n",
       "      <td>N75919</td>\n",
       "      <td>...</td>\n",
       "      <td>2635010500114710000000001</td>\n",
       "      <td>에이스하이테크21</td>\n",
       "      <td>부산광역시 해운대구 센텀중앙로 48</td>\n",
       "      <td>612022</td>\n",
       "      <td>48059.0</td>\n",
       "      <td>NaN</td>\n",
       "      <td>NaN</td>\n",
       "      <td>NaN</td>\n",
       "      <td>129.129881</td>\n",
       "      <td>35.173039</td>\n",
       "    </tr>\n",
       "  </tbody>\n",
       "</table>\n",
       "<p>499130 rows × 39 columns</p>\n",
       "</div>"
      ],
      "text/plain": [
       "          상가업소번호         상호명           지점명 상권업종대분류코드 상권업종대분류명 상권업종중분류코드  \\\n",
       "0       23324279       제중건강원           NaN         D       소매       D10   \n",
       "1       24525909       민속악기사           NaN         D       소매       D04   \n",
       "2       24715368       태평양진주           NaN         D       소매       D26   \n",
       "3       15554136  김선희꼼꼼국어교습소           NaN         R    학문/교육       R01   \n",
       "4       17174175         비지트           NaN         Q       음식       Q01   \n",
       "...          ...         ...           ...       ...      ...       ...   \n",
       "152896  18465196        천화일화           NaN         F    생활서비스       F08   \n",
       "152897  18457565         옹헤야  디에이롯데동부산아울렛점         D       소매       D05   \n",
       "152898  18453880         더벤티          사하역점         Q       음식       Q12   \n",
       "152899  18458741  북구이웃사촌협동조합           NaN         F    생활서비스       F15   \n",
       "152900  18435694         에드뷰           NaN         F    생활서비스       F08   \n",
       "\n",
       "         상권업종중분류명 상권업종소분류코드     상권업종소분류명 표준산업분류코드  ...  \\\n",
       "0         건강/미용식품    D10A07          건강원   G47216  ...   \n",
       "1       취미/오락관련소매    D04A09         악기판매   G47593  ...   \n",
       "2        시계/귀금속소매    D26A01       시계/귀금속   G47830  ...   \n",
       "3       학원-보습교습입시    R01A01        학원-입시   P85501  ...   \n",
       "4              한식    Q01A01    한식/백반/한정식   I56111  ...   \n",
       "...           ...       ...          ...      ...  ...   \n",
       "152896        대행업    F08A03       고객관리대행   N75919  ...   \n",
       "152897       의복의류    D05A02    캐쥬얼/스포츠의류   G47416  ...   \n",
       "152898     커피점/카페    Q12A01  커피전문점/카페/다방   I56220  ...   \n",
       "152899       주택수리    F15A07    조립칸막이/파티션   F42499  ...   \n",
       "152900        대행업    F08A05      사무대리서비스   N75919  ...   \n",
       "\n",
       "                           건물관리번호        건물명                    도로명주소   구우편번호  \\\n",
       "0       1156010600100410002034626        NaN  서울특별시 영등포구 영중로14길 11-17  150035   \n",
       "1       1120012200101420011000227        NaN         서울특별시 성동구 용답5길 2  133849   \n",
       "2       1111015200100440000000001     금사랑투빌딩     서울특별시 종로구 서순라길 17-10  110390   \n",
       "3       1171011100101970003017195        NaN    서울특별시 송파구 위례성대로12길 31  138834   \n",
       "4       1165010100108540018009586      상랑의빌딩      서울특별시 서초구 동광로18길 82  137837   \n",
       "...                           ...        ...                      ...     ...   \n",
       "152896  2629011000101892172031935      광이골드힐        부산광역시 남구 동항로 53-6  608845   \n",
       "152897  2671025032100640000000001    롯데몰동부산점  부산광역시 기장군 기장읍 기장해안로 147  619902   \n",
       "152898  2638010100110820055039168   사하역비스타동원       부산광역시 사하구 낙동대로 280  604084   \n",
       "152899  2632010300104420001000001        NaN     부산광역시 북구 구만덕로60번길 66  616111   \n",
       "152900  2635010500114710000000001  에이스하이테크21      부산광역시 해운대구 센텀중앙로 48  612022   \n",
       "\n",
       "          신우편번호  동정보  층정보  호정보          경도         위도  \n",
       "0        7250.0  NaN    1  NaN  126.907168  37.520613  \n",
       "1        4803.0  NaN  NaN  NaN  127.049018  37.566857  \n",
       "2        3138.0  NaN  NaN  NaN  126.993530  37.571848  \n",
       "3        5640.0  NaN    2  NaN  127.121520  37.510967  \n",
       "4        6572.0  NaN    1  NaN  126.991394  37.488375  \n",
       "...         ...  ...  ...  ...         ...        ...  \n",
       "152896  48478.0    A  NaN  NaN  129.068730  35.127425  \n",
       "152897  46084.0  NaN    2  NaN  129.212806  35.192230  \n",
       "152898  49343.0  302    2  NaN  128.984281  35.100133  \n",
       "152899  46607.0    가    3  NaN  129.041703  35.214022  \n",
       "152900  48059.0  NaN  NaN  NaN  129.129881  35.173039  \n",
       "\n",
       "[499130 rows x 39 columns]"
      ]
     },
     "execution_count": 17,
     "metadata": {},
     "output_type": "execute_result"
    }
   ],
   "source": [
    "sang"
   ]
  },
  {
   "cell_type": "code",
   "execution_count": 18,
   "id": "1f43f390",
   "metadata": {},
   "outputs": [
    {
     "data": {
      "text/plain": [
       "(499130, 39)"
      ]
     },
     "execution_count": 18,
     "metadata": {},
     "output_type": "execute_result"
    }
   ],
   "source": [
    "sang.shape"
   ]
  },
  {
   "cell_type": "code",
   "execution_count": 19,
   "id": "ecfe2c42",
   "metadata": {},
   "outputs": [],
   "source": [
    "pd.options.display.max_columns = 39"
   ]
  },
  {
   "cell_type": "code",
   "execution_count": 20,
   "id": "3a8193b4",
   "metadata": {},
   "outputs": [
    {
     "data": {
      "text/html": [
       "<div>\n",
       "<style scoped>\n",
       "    .dataframe tbody tr th:only-of-type {\n",
       "        vertical-align: middle;\n",
       "    }\n",
       "\n",
       "    .dataframe tbody tr th {\n",
       "        vertical-align: top;\n",
       "    }\n",
       "\n",
       "    .dataframe thead th {\n",
       "        text-align: right;\n",
       "    }\n",
       "</style>\n",
       "<table border=\"1\" class=\"dataframe\">\n",
       "  <thead>\n",
       "    <tr style=\"text-align: right;\">\n",
       "      <th></th>\n",
       "      <th>상가업소번호</th>\n",
       "      <th>상호명</th>\n",
       "      <th>지점명</th>\n",
       "      <th>상권업종대분류코드</th>\n",
       "      <th>상권업종대분류명</th>\n",
       "      <th>상권업종중분류코드</th>\n",
       "      <th>상권업종중분류명</th>\n",
       "      <th>상권업종소분류코드</th>\n",
       "      <th>상권업종소분류명</th>\n",
       "      <th>표준산업분류코드</th>\n",
       "      <th>표준산업분류명</th>\n",
       "      <th>시도코드</th>\n",
       "      <th>시도명</th>\n",
       "      <th>시군구코드</th>\n",
       "      <th>시군구명</th>\n",
       "      <th>행정동코드</th>\n",
       "      <th>행정동명</th>\n",
       "      <th>법정동코드</th>\n",
       "      <th>법정동명</th>\n",
       "      <th>지번코드</th>\n",
       "      <th>대지구분코드</th>\n",
       "      <th>대지구분명</th>\n",
       "      <th>지번본번지</th>\n",
       "      <th>지번부번지</th>\n",
       "      <th>지번주소</th>\n",
       "      <th>도로명코드</th>\n",
       "      <th>도로명</th>\n",
       "      <th>건물본번지</th>\n",
       "      <th>건물부번지</th>\n",
       "      <th>건물관리번호</th>\n",
       "      <th>건물명</th>\n",
       "      <th>도로명주소</th>\n",
       "      <th>구우편번호</th>\n",
       "      <th>신우편번호</th>\n",
       "      <th>동정보</th>\n",
       "      <th>층정보</th>\n",
       "      <th>호정보</th>\n",
       "      <th>경도</th>\n",
       "      <th>위도</th>\n",
       "    </tr>\n",
       "  </thead>\n",
       "  <tbody>\n",
       "    <tr>\n",
       "      <th>0</th>\n",
       "      <td>23324279</td>\n",
       "      <td>제중건강원</td>\n",
       "      <td>NaN</td>\n",
       "      <td>D</td>\n",
       "      <td>소매</td>\n",
       "      <td>D10</td>\n",
       "      <td>건강/미용식품</td>\n",
       "      <td>D10A07</td>\n",
       "      <td>건강원</td>\n",
       "      <td>G47216</td>\n",
       "      <td>건강보조식품 소매업</td>\n",
       "      <td>11</td>\n",
       "      <td>서울특별시</td>\n",
       "      <td>11560</td>\n",
       "      <td>영등포구</td>\n",
       "      <td>1156053500</td>\n",
       "      <td>영등포동</td>\n",
       "      <td>1156010600</td>\n",
       "      <td>영등포동5가</td>\n",
       "      <td>1156010600100410001</td>\n",
       "      <td>1</td>\n",
       "      <td>대지</td>\n",
       "      <td>41</td>\n",
       "      <td>1.0</td>\n",
       "      <td>서울특별시 영등포구 영등포동5가 41-1</td>\n",
       "      <td>115604154799</td>\n",
       "      <td>서울특별시 영등포구 영중로14길</td>\n",
       "      <td>11</td>\n",
       "      <td>17.0</td>\n",
       "      <td>1156010600100410002034626</td>\n",
       "      <td>NaN</td>\n",
       "      <td>서울특별시 영등포구 영중로14길 11-17</td>\n",
       "      <td>150035</td>\n",
       "      <td>7250.0</td>\n",
       "      <td>NaN</td>\n",
       "      <td>1</td>\n",
       "      <td>NaN</td>\n",
       "      <td>126.907168</td>\n",
       "      <td>37.520613</td>\n",
       "    </tr>\n",
       "    <tr>\n",
       "      <th>1</th>\n",
       "      <td>24525909</td>\n",
       "      <td>민속악기사</td>\n",
       "      <td>NaN</td>\n",
       "      <td>D</td>\n",
       "      <td>소매</td>\n",
       "      <td>D04</td>\n",
       "      <td>취미/오락관련소매</td>\n",
       "      <td>D04A09</td>\n",
       "      <td>악기판매</td>\n",
       "      <td>G47593</td>\n",
       "      <td>악기 소매업</td>\n",
       "      <td>11</td>\n",
       "      <td>서울특별시</td>\n",
       "      <td>11200</td>\n",
       "      <td>성동구</td>\n",
       "      <td>1120079000</td>\n",
       "      <td>용답동</td>\n",
       "      <td>1120012200</td>\n",
       "      <td>용답동</td>\n",
       "      <td>1120012200101420011</td>\n",
       "      <td>1</td>\n",
       "      <td>대지</td>\n",
       "      <td>142</td>\n",
       "      <td>11.0</td>\n",
       "      <td>서울특별시 성동구 용답동 142-11</td>\n",
       "      <td>112004109480</td>\n",
       "      <td>서울특별시 성동구 용답5길</td>\n",
       "      <td>2</td>\n",
       "      <td>NaN</td>\n",
       "      <td>1120012200101420011000227</td>\n",
       "      <td>NaN</td>\n",
       "      <td>서울특별시 성동구 용답5길 2</td>\n",
       "      <td>133849</td>\n",
       "      <td>4803.0</td>\n",
       "      <td>NaN</td>\n",
       "      <td>NaN</td>\n",
       "      <td>NaN</td>\n",
       "      <td>127.049018</td>\n",
       "      <td>37.566857</td>\n",
       "    </tr>\n",
       "    <tr>\n",
       "      <th>2</th>\n",
       "      <td>24715368</td>\n",
       "      <td>태평양진주</td>\n",
       "      <td>NaN</td>\n",
       "      <td>D</td>\n",
       "      <td>소매</td>\n",
       "      <td>D26</td>\n",
       "      <td>시계/귀금속소매</td>\n",
       "      <td>D26A01</td>\n",
       "      <td>시계/귀금속</td>\n",
       "      <td>G47830</td>\n",
       "      <td>시계 및 귀금속 소매업</td>\n",
       "      <td>11</td>\n",
       "      <td>서울특별시</td>\n",
       "      <td>11110</td>\n",
       "      <td>종로구</td>\n",
       "      <td>1111061500</td>\n",
       "      <td>종로1.2.3.4가동</td>\n",
       "      <td>1111015200</td>\n",
       "      <td>봉익동</td>\n",
       "      <td>1111015200100430001</td>\n",
       "      <td>1</td>\n",
       "      <td>대지</td>\n",
       "      <td>43</td>\n",
       "      <td>1.0</td>\n",
       "      <td>서울특별시 종로구 봉익동 43-1</td>\n",
       "      <td>111104100163</td>\n",
       "      <td>서울특별시 종로구 서순라길</td>\n",
       "      <td>17</td>\n",
       "      <td>10.0</td>\n",
       "      <td>1111015200100440000000001</td>\n",
       "      <td>금사랑투빌딩</td>\n",
       "      <td>서울특별시 종로구 서순라길 17-10</td>\n",
       "      <td>110390</td>\n",
       "      <td>3138.0</td>\n",
       "      <td>NaN</td>\n",
       "      <td>NaN</td>\n",
       "      <td>NaN</td>\n",
       "      <td>126.993530</td>\n",
       "      <td>37.571848</td>\n",
       "    </tr>\n",
       "    <tr>\n",
       "      <th>3</th>\n",
       "      <td>15554136</td>\n",
       "      <td>김선희꼼꼼국어교습소</td>\n",
       "      <td>NaN</td>\n",
       "      <td>R</td>\n",
       "      <td>학문/교육</td>\n",
       "      <td>R01</td>\n",
       "      <td>학원-보습교습입시</td>\n",
       "      <td>R01A01</td>\n",
       "      <td>학원-입시</td>\n",
       "      <td>P85501</td>\n",
       "      <td>일반 교과 학원</td>\n",
       "      <td>11</td>\n",
       "      <td>서울특별시</td>\n",
       "      <td>11710</td>\n",
       "      <td>송파구</td>\n",
       "      <td>1171056100</td>\n",
       "      <td>방이1동</td>\n",
       "      <td>1171011100</td>\n",
       "      <td>방이동</td>\n",
       "      <td>1171011100101970003</td>\n",
       "      <td>1</td>\n",
       "      <td>대지</td>\n",
       "      <td>197</td>\n",
       "      <td>3.0</td>\n",
       "      <td>서울특별시 송파구 방이동 197-3</td>\n",
       "      <td>117104169448</td>\n",
       "      <td>서울특별시 송파구 위례성대로12길</td>\n",
       "      <td>31</td>\n",
       "      <td>NaN</td>\n",
       "      <td>1171011100101970003017195</td>\n",
       "      <td>NaN</td>\n",
       "      <td>서울특별시 송파구 위례성대로12길 31</td>\n",
       "      <td>138834</td>\n",
       "      <td>5640.0</td>\n",
       "      <td>NaN</td>\n",
       "      <td>2</td>\n",
       "      <td>NaN</td>\n",
       "      <td>127.121520</td>\n",
       "      <td>37.510967</td>\n",
       "    </tr>\n",
       "    <tr>\n",
       "      <th>4</th>\n",
       "      <td>17174175</td>\n",
       "      <td>비지트</td>\n",
       "      <td>NaN</td>\n",
       "      <td>Q</td>\n",
       "      <td>음식</td>\n",
       "      <td>Q01</td>\n",
       "      <td>한식</td>\n",
       "      <td>Q01A01</td>\n",
       "      <td>한식/백반/한정식</td>\n",
       "      <td>I56111</td>\n",
       "      <td>한식 음식점업</td>\n",
       "      <td>11</td>\n",
       "      <td>서울특별시</td>\n",
       "      <td>11650</td>\n",
       "      <td>서초구</td>\n",
       "      <td>1165062100</td>\n",
       "      <td>방배4동</td>\n",
       "      <td>1165010100</td>\n",
       "      <td>방배동</td>\n",
       "      <td>1165010100108540018</td>\n",
       "      <td>1</td>\n",
       "      <td>대지</td>\n",
       "      <td>854</td>\n",
       "      <td>18.0</td>\n",
       "      <td>서울특별시 서초구 방배동 854-18</td>\n",
       "      <td>116504163117</td>\n",
       "      <td>서울특별시 서초구 동광로18길</td>\n",
       "      <td>82</td>\n",
       "      <td>NaN</td>\n",
       "      <td>1165010100108540018009586</td>\n",
       "      <td>상랑의빌딩</td>\n",
       "      <td>서울특별시 서초구 동광로18길 82</td>\n",
       "      <td>137837</td>\n",
       "      <td>6572.0</td>\n",
       "      <td>NaN</td>\n",
       "      <td>1</td>\n",
       "      <td>NaN</td>\n",
       "      <td>126.991394</td>\n",
       "      <td>37.488375</td>\n",
       "    </tr>\n",
       "    <tr>\n",
       "      <th>5</th>\n",
       "      <td>17174119</td>\n",
       "      <td>쓰리에프</td>\n",
       "      <td>NaN</td>\n",
       "      <td>Q</td>\n",
       "      <td>음식</td>\n",
       "      <td>Q01</td>\n",
       "      <td>한식</td>\n",
       "      <td>Q01A01</td>\n",
       "      <td>한식/백반/한정식</td>\n",
       "      <td>I56111</td>\n",
       "      <td>한식 음식점업</td>\n",
       "      <td>11</td>\n",
       "      <td>서울특별시</td>\n",
       "      <td>11590</td>\n",
       "      <td>동작구</td>\n",
       "      <td>1159063000</td>\n",
       "      <td>사당2동</td>\n",
       "      <td>1159010700</td>\n",
       "      <td>사당동</td>\n",
       "      <td>1159010700101390072</td>\n",
       "      <td>1</td>\n",
       "      <td>대지</td>\n",
       "      <td>139</td>\n",
       "      <td>72.0</td>\n",
       "      <td>서울특별시 동작구 사당동 139-72</td>\n",
       "      <td>115904157119</td>\n",
       "      <td>서울특별시 동작구 동작대로27가길</td>\n",
       "      <td>12</td>\n",
       "      <td>NaN</td>\n",
       "      <td>1159010700101390073009536</td>\n",
       "      <td>NaN</td>\n",
       "      <td>서울특별시 동작구 동작대로27가길 12</td>\n",
       "      <td>156816</td>\n",
       "      <td>7008.0</td>\n",
       "      <td>NaN</td>\n",
       "      <td>NaN</td>\n",
       "      <td>NaN</td>\n",
       "      <td>126.980952</td>\n",
       "      <td>37.487105</td>\n",
       "    </tr>\n",
       "    <tr>\n",
       "      <th>6</th>\n",
       "      <td>17174040</td>\n",
       "      <td>다향</td>\n",
       "      <td>NaN</td>\n",
       "      <td>Q</td>\n",
       "      <td>음식</td>\n",
       "      <td>Q01</td>\n",
       "      <td>한식</td>\n",
       "      <td>Q01A01</td>\n",
       "      <td>한식/백반/한정식</td>\n",
       "      <td>I56111</td>\n",
       "      <td>한식 음식점업</td>\n",
       "      <td>11</td>\n",
       "      <td>서울특별시</td>\n",
       "      <td>11650</td>\n",
       "      <td>서초구</td>\n",
       "      <td>1165053000</td>\n",
       "      <td>서초3동</td>\n",
       "      <td>1165010800</td>\n",
       "      <td>서초동</td>\n",
       "      <td>1165010800114850003</td>\n",
       "      <td>1</td>\n",
       "      <td>대지</td>\n",
       "      <td>1485</td>\n",
       "      <td>3.0</td>\n",
       "      <td>서울특별시 서초구 서초동 1485-3</td>\n",
       "      <td>116503121021</td>\n",
       "      <td>서울특별시 서초구 효령로</td>\n",
       "      <td>230</td>\n",
       "      <td>NaN</td>\n",
       "      <td>1165010800114850004022127</td>\n",
       "      <td>NaN</td>\n",
       "      <td>서울특별시 서초구 효령로 230</td>\n",
       "      <td>137869</td>\n",
       "      <td>6709.0</td>\n",
       "      <td>NaN</td>\n",
       "      <td>1</td>\n",
       "      <td>NaN</td>\n",
       "      <td>127.009382</td>\n",
       "      <td>37.483436</td>\n",
       "    </tr>\n",
       "    <tr>\n",
       "      <th>7</th>\n",
       "      <td>25530299</td>\n",
       "      <td>고향생막걸리</td>\n",
       "      <td>NaN</td>\n",
       "      <td>Q</td>\n",
       "      <td>음식</td>\n",
       "      <td>Q09</td>\n",
       "      <td>유흥주점</td>\n",
       "      <td>Q09A04</td>\n",
       "      <td>민속주점</td>\n",
       "      <td>I56219</td>\n",
       "      <td>기타 주점업</td>\n",
       "      <td>11</td>\n",
       "      <td>서울특별시</td>\n",
       "      <td>11680</td>\n",
       "      <td>강남구</td>\n",
       "      <td>1168054500</td>\n",
       "      <td>압구정동</td>\n",
       "      <td>1168010700</td>\n",
       "      <td>신사동</td>\n",
       "      <td>1168010700106150001</td>\n",
       "      <td>1</td>\n",
       "      <td>대지</td>\n",
       "      <td>615</td>\n",
       "      <td>1.0</td>\n",
       "      <td>서울특별시 강남구 신사동 615-1</td>\n",
       "      <td>116803122007</td>\n",
       "      <td>서울특별시 강남구 압구정로</td>\n",
       "      <td>216</td>\n",
       "      <td>NaN</td>\n",
       "      <td>1168010700106150001009703</td>\n",
       "      <td>코끼리상가</td>\n",
       "      <td>서울특별시 강남구 압구정로 216</td>\n",
       "      <td>135894</td>\n",
       "      <td>6023.0</td>\n",
       "      <td>NaN</td>\n",
       "      <td>1</td>\n",
       "      <td>NaN</td>\n",
       "      <td>127.031012</td>\n",
       "      <td>37.528073</td>\n",
       "    </tr>\n",
       "    <tr>\n",
       "      <th>8</th>\n",
       "      <td>21938782</td>\n",
       "      <td>무비디자인</td>\n",
       "      <td>NaN</td>\n",
       "      <td>R</td>\n",
       "      <td>학문/교육</td>\n",
       "      <td>R02</td>\n",
       "      <td>학원-창업취업취미</td>\n",
       "      <td>R02A12</td>\n",
       "      <td>학원-디자인</td>\n",
       "      <td>P85659</td>\n",
       "      <td>기타 기술 및 직업훈련학원</td>\n",
       "      <td>11</td>\n",
       "      <td>서울특별시</td>\n",
       "      <td>11440</td>\n",
       "      <td>마포구</td>\n",
       "      <td>1144060000</td>\n",
       "      <td>대흥동</td>\n",
       "      <td>1144011000</td>\n",
       "      <td>노고산동</td>\n",
       "      <td>1144011000101070017</td>\n",
       "      <td>1</td>\n",
       "      <td>대지</td>\n",
       "      <td>107</td>\n",
       "      <td>17.0</td>\n",
       "      <td>서울특별시 마포구 노고산동 107-17</td>\n",
       "      <td>114403005016</td>\n",
       "      <td>서울특별시 마포구 백범로</td>\n",
       "      <td>8</td>\n",
       "      <td>NaN</td>\n",
       "      <td>1144011000101070017018922</td>\n",
       "      <td>우정마샹스오피스텔</td>\n",
       "      <td>서울특별시 마포구 백범로 8</td>\n",
       "      <td>121807</td>\n",
       "      <td>4100.0</td>\n",
       "      <td>NaN</td>\n",
       "      <td>NaN</td>\n",
       "      <td>NaN</td>\n",
       "      <td>126.936717</td>\n",
       "      <td>37.553996</td>\n",
       "    </tr>\n",
       "    <tr>\n",
       "      <th>9</th>\n",
       "      <td>24590384</td>\n",
       "      <td>우신타이어</td>\n",
       "      <td>NaN</td>\n",
       "      <td>D</td>\n",
       "      <td>소매</td>\n",
       "      <td>D23</td>\n",
       "      <td>자동차/자동차용품</td>\n",
       "      <td>D23A04</td>\n",
       "      <td>타이어판매</td>\n",
       "      <td>G45211</td>\n",
       "      <td>자동차 타이어 및 튜브 판매업</td>\n",
       "      <td>11</td>\n",
       "      <td>서울특별시</td>\n",
       "      <td>11260</td>\n",
       "      <td>중랑구</td>\n",
       "      <td>1126062000</td>\n",
       "      <td>묵1동</td>\n",
       "      <td>1126010400</td>\n",
       "      <td>묵동</td>\n",
       "      <td>1126010400101610023</td>\n",
       "      <td>1</td>\n",
       "      <td>대지</td>\n",
       "      <td>161</td>\n",
       "      <td>23.0</td>\n",
       "      <td>서울특별시 중랑구 묵동 161-23</td>\n",
       "      <td>112603106010</td>\n",
       "      <td>서울특별시 중랑구 중랑역로</td>\n",
       "      <td>275</td>\n",
       "      <td>NaN</td>\n",
       "      <td>1126010400101610023009289</td>\n",
       "      <td>NaN</td>\n",
       "      <td>서울특별시 중랑구 중랑역로 275</td>\n",
       "      <td>131140</td>\n",
       "      <td>2018.0</td>\n",
       "      <td>NaN</td>\n",
       "      <td>1</td>\n",
       "      <td>NaN</td>\n",
       "      <td>127.078492</td>\n",
       "      <td>37.616621</td>\n",
       "    </tr>\n",
       "  </tbody>\n",
       "</table>\n",
       "</div>"
      ],
      "text/plain": [
       "     상가업소번호         상호명  지점명 상권업종대분류코드 상권업종대분류명 상권업종중분류코드   상권업종중분류명  \\\n",
       "0  23324279       제중건강원  NaN         D       소매       D10    건강/미용식품   \n",
       "1  24525909       민속악기사  NaN         D       소매       D04  취미/오락관련소매   \n",
       "2  24715368       태평양진주  NaN         D       소매       D26   시계/귀금속소매   \n",
       "3  15554136  김선희꼼꼼국어교습소  NaN         R    학문/교육       R01  학원-보습교습입시   \n",
       "4  17174175         비지트  NaN         Q       음식       Q01         한식   \n",
       "5  17174119        쓰리에프  NaN         Q       음식       Q01         한식   \n",
       "6  17174040          다향  NaN         Q       음식       Q01         한식   \n",
       "7  25530299      고향생막걸리  NaN         Q       음식       Q09       유흥주점   \n",
       "8  21938782       무비디자인  NaN         R    학문/교육       R02  학원-창업취업취미   \n",
       "9  24590384       우신타이어  NaN         D       소매       D23  자동차/자동차용품   \n",
       "\n",
       "  상권업종소분류코드   상권업종소분류명 표준산업분류코드           표준산업분류명  시도코드    시도명  시군구코드  시군구명  \\\n",
       "0    D10A07        건강원   G47216        건강보조식품 소매업    11  서울특별시  11560  영등포구   \n",
       "1    D04A09       악기판매   G47593            악기 소매업    11  서울특별시  11200   성동구   \n",
       "2    D26A01     시계/귀금속   G47830      시계 및 귀금속 소매업    11  서울특별시  11110   종로구   \n",
       "3    R01A01      학원-입시   P85501          일반 교과 학원    11  서울특별시  11710   송파구   \n",
       "4    Q01A01  한식/백반/한정식   I56111           한식 음식점업    11  서울특별시  11650   서초구   \n",
       "5    Q01A01  한식/백반/한정식   I56111           한식 음식점업    11  서울특별시  11590   동작구   \n",
       "6    Q01A01  한식/백반/한정식   I56111           한식 음식점업    11  서울특별시  11650   서초구   \n",
       "7    Q09A04       민속주점   I56219            기타 주점업    11  서울특별시  11680   강남구   \n",
       "8    R02A12     학원-디자인   P85659    기타 기술 및 직업훈련학원    11  서울특별시  11440   마포구   \n",
       "9    D23A04      타이어판매   G45211  자동차 타이어 및 튜브 판매업    11  서울특별시  11260   중랑구   \n",
       "\n",
       "        행정동코드         행정동명       법정동코드    법정동명                 지번코드  대지구분코드  \\\n",
       "0  1156053500         영등포동  1156010600  영등포동5가  1156010600100410001       1   \n",
       "1  1120079000          용답동  1120012200     용답동  1120012200101420011       1   \n",
       "2  1111061500  종로1.2.3.4가동  1111015200     봉익동  1111015200100430001       1   \n",
       "3  1171056100         방이1동  1171011100     방이동  1171011100101970003       1   \n",
       "4  1165062100         방배4동  1165010100     방배동  1165010100108540018       1   \n",
       "5  1159063000         사당2동  1159010700     사당동  1159010700101390072       1   \n",
       "6  1165053000         서초3동  1165010800     서초동  1165010800114850003       1   \n",
       "7  1168054500         압구정동  1168010700     신사동  1168010700106150001       1   \n",
       "8  1144060000          대흥동  1144011000    노고산동  1144011000101070017       1   \n",
       "9  1126062000          묵1동  1126010400      묵동  1126010400101610023       1   \n",
       "\n",
       "  대지구분명  지번본번지  지번부번지                    지번주소         도로명코드  \\\n",
       "0    대지     41    1.0  서울특별시 영등포구 영등포동5가 41-1  115604154799   \n",
       "1    대지    142   11.0    서울특별시 성동구 용답동 142-11  112004109480   \n",
       "2    대지     43    1.0      서울특별시 종로구 봉익동 43-1  111104100163   \n",
       "3    대지    197    3.0     서울특별시 송파구 방이동 197-3  117104169448   \n",
       "4    대지    854   18.0    서울특별시 서초구 방배동 854-18  116504163117   \n",
       "5    대지    139   72.0    서울특별시 동작구 사당동 139-72  115904157119   \n",
       "6    대지   1485    3.0    서울특별시 서초구 서초동 1485-3  116503121021   \n",
       "7    대지    615    1.0     서울특별시 강남구 신사동 615-1  116803122007   \n",
       "8    대지    107   17.0   서울특별시 마포구 노고산동 107-17  114403005016   \n",
       "9    대지    161   23.0     서울특별시 중랑구 묵동 161-23  112603106010   \n",
       "\n",
       "                  도로명  건물본번지  건물부번지                     건물관리번호        건물명  \\\n",
       "0   서울특별시 영등포구 영중로14길     11   17.0  1156010600100410002034626        NaN   \n",
       "1      서울특별시 성동구 용답5길      2    NaN  1120012200101420011000227        NaN   \n",
       "2      서울특별시 종로구 서순라길     17   10.0  1111015200100440000000001     금사랑투빌딩   \n",
       "3  서울특별시 송파구 위례성대로12길     31    NaN  1171011100101970003017195        NaN   \n",
       "4    서울특별시 서초구 동광로18길     82    NaN  1165010100108540018009586      상랑의빌딩   \n",
       "5  서울특별시 동작구 동작대로27가길     12    NaN  1159010700101390073009536        NaN   \n",
       "6       서울특별시 서초구 효령로    230    NaN  1165010800114850004022127        NaN   \n",
       "7      서울특별시 강남구 압구정로    216    NaN  1168010700106150001009703      코끼리상가   \n",
       "8       서울특별시 마포구 백범로      8    NaN  1144011000101070017018922  우정마샹스오피스텔   \n",
       "9      서울특별시 중랑구 중랑역로    275    NaN  1126010400101610023009289        NaN   \n",
       "\n",
       "                     도로명주소   구우편번호   신우편번호  동정보  층정보  호정보          경도  \\\n",
       "0  서울특별시 영등포구 영중로14길 11-17  150035  7250.0  NaN    1  NaN  126.907168   \n",
       "1         서울특별시 성동구 용답5길 2  133849  4803.0  NaN  NaN  NaN  127.049018   \n",
       "2     서울특별시 종로구 서순라길 17-10  110390  3138.0  NaN  NaN  NaN  126.993530   \n",
       "3    서울특별시 송파구 위례성대로12길 31  138834  5640.0  NaN    2  NaN  127.121520   \n",
       "4      서울특별시 서초구 동광로18길 82  137837  6572.0  NaN    1  NaN  126.991394   \n",
       "5    서울특별시 동작구 동작대로27가길 12  156816  7008.0  NaN  NaN  NaN  126.980952   \n",
       "6        서울특별시 서초구 효령로 230  137869  6709.0  NaN    1  NaN  127.009382   \n",
       "7       서울특별시 강남구 압구정로 216  135894  6023.0  NaN    1  NaN  127.031012   \n",
       "8          서울특별시 마포구 백범로 8  121807  4100.0  NaN  NaN  NaN  126.936717   \n",
       "9       서울특별시 중랑구 중랑역로 275  131140  2018.0  NaN    1  NaN  127.078492   \n",
       "\n",
       "          위도  \n",
       "0  37.520613  \n",
       "1  37.566857  \n",
       "2  37.571848  \n",
       "3  37.510967  \n",
       "4  37.488375  \n",
       "5  37.487105  \n",
       "6  37.483436  \n",
       "7  37.528073  \n",
       "8  37.553996  \n",
       "9  37.616621  "
      ]
     },
     "execution_count": 20,
     "metadata": {},
     "output_type": "execute_result"
    }
   ],
   "source": [
    "sang.head(10)"
   ]
  },
  {
   "cell_type": "code",
   "execution_count": 21,
   "id": "9978cb32",
   "metadata": {},
   "outputs": [
    {
     "data": {
      "text/plain": [
       "Int64Index([     0,      1,      2,      3,      4,      5,      6,      7,\n",
       "                 8,      9,\n",
       "            ...\n",
       "            152891, 152892, 152893, 152894, 152895, 152896, 152897, 152898,\n",
       "            152899, 152900],\n",
       "           dtype='int64', length=499130)"
      ]
     },
     "execution_count": 21,
     "metadata": {},
     "output_type": "execute_result"
    }
   ],
   "source": [
    "sang.index"
   ]
  },
  {
   "cell_type": "code",
   "execution_count": 22,
   "id": "2cad9475",
   "metadata": {},
   "outputs": [
    {
     "data": {
      "text/plain": [
       "Index(['상가업소번호', '상호명', '지점명', '상권업종대분류코드', '상권업종대분류명', '상권업종중분류코드',\n",
       "       '상권업종중분류명', '상권업종소분류코드', '상권업종소분류명', '표준산업분류코드', '표준산업분류명', '시도코드',\n",
       "       '시도명', '시군구코드', '시군구명', '행정동코드', '행정동명', '법정동코드', '법정동명', '지번코드',\n",
       "       '대지구분코드', '대지구분명', '지번본번지', '지번부번지', '지번주소', '도로명코드', '도로명', '건물본번지',\n",
       "       '건물부번지', '건물관리번호', '건물명', '도로명주소', '구우편번호', '신우편번호', '동정보', '층정보',\n",
       "       '호정보', '경도', '위도'],\n",
       "      dtype='object')"
      ]
     },
     "execution_count": 22,
     "metadata": {},
     "output_type": "execute_result"
    }
   ],
   "source": [
    "sang.columns"
   ]
  },
  {
   "cell_type": "code",
   "execution_count": 23,
   "id": "b4ce659b",
   "metadata": {},
   "outputs": [
    {
     "name": "stdout",
     "output_type": "stream",
     "text": [
      "<class 'pandas.core.frame.DataFrame'>\n",
      "Int64Index: 499130 entries, 0 to 152900\n",
      "Data columns (total 39 columns):\n",
      " #   Column     Non-Null Count   Dtype  \n",
      "---  ------     --------------   -----  \n",
      " 0   상가업소번호     499130 non-null  int64  \n",
      " 1   상호명        499129 non-null  object \n",
      " 2   지점명        81502 non-null   object \n",
      " 3   상권업종대분류코드  499130 non-null  object \n",
      " 4   상권업종대분류명   499130 non-null  object \n",
      " 5   상권업종중분류코드  499130 non-null  object \n",
      " 6   상권업종중분류명   499130 non-null  object \n",
      " 7   상권업종소분류코드  499130 non-null  object \n",
      " 8   상권업종소분류명   499130 non-null  object \n",
      " 9   표준산업분류코드   466101 non-null  object \n",
      " 10  표준산업분류명    466101 non-null  object \n",
      " 11  시도코드       499130 non-null  int64  \n",
      " 12  시도명        499130 non-null  object \n",
      " 13  시군구코드      499130 non-null  int64  \n",
      " 14  시군구명       499130 non-null  object \n",
      " 15  행정동코드      499130 non-null  int64  \n",
      " 16  행정동명       499130 non-null  object \n",
      " 17  법정동코드      499130 non-null  int64  \n",
      " 18  법정동명       499130 non-null  object \n",
      " 19  지번코드       499130 non-null  int64  \n",
      " 20  대지구분코드     499130 non-null  int64  \n",
      " 21  대지구분명      499130 non-null  object \n",
      " 22  지번본번지      499130 non-null  int64  \n",
      " 23  지번부번지      403688 non-null  float64\n",
      " 24  지번주소       499130 non-null  object \n",
      " 25  도로명코드      499130 non-null  int64  \n",
      " 26  도로명        499130 non-null  object \n",
      " 27  건물본번지      499130 non-null  int64  \n",
      " 28  건물부번지      67965 non-null   float64\n",
      " 29  건물관리번호     499130 non-null  object \n",
      " 30  건물명        234824 non-null  object \n",
      " 31  도로명주소      499130 non-null  object \n",
      " 32  구우편번호      499130 non-null  int64  \n",
      " 33  신우편번호      499081 non-null  float64\n",
      " 34  동정보        58785 non-null   object \n",
      " 35  층정보        276241 non-null  object \n",
      " 36  호정보        0 non-null       float64\n",
      " 37  경도         499130 non-null  float64\n",
      " 38  위도         499130 non-null  float64\n",
      "dtypes: float64(6), int64(11), object(22)\n",
      "memory usage: 152.3+ MB\n"
     ]
    }
   ],
   "source": [
    "sang.info()"
   ]
  },
  {
   "cell_type": "code",
   "execution_count": 24,
   "id": "635651bf",
   "metadata": {},
   "outputs": [
    {
     "data": {
      "text/plain": [
       "상가업소번호         int64\n",
       "상호명           object\n",
       "지점명           object\n",
       "상권업종대분류코드     object\n",
       "상권업종대분류명      object\n",
       "상권업종중분류코드     object\n",
       "상권업종중분류명      object\n",
       "상권업종소분류코드     object\n",
       "상권업종소분류명      object\n",
       "표준산업분류코드      object\n",
       "표준산업분류명       object\n",
       "시도코드           int64\n",
       "시도명           object\n",
       "시군구코드          int64\n",
       "시군구명          object\n",
       "행정동코드          int64\n",
       "행정동명          object\n",
       "법정동코드          int64\n",
       "법정동명          object\n",
       "지번코드           int64\n",
       "대지구분코드         int64\n",
       "대지구분명         object\n",
       "지번본번지          int64\n",
       "지번부번지        float64\n",
       "지번주소          object\n",
       "도로명코드          int64\n",
       "도로명           object\n",
       "건물본번지          int64\n",
       "건물부번지        float64\n",
       "건물관리번호        object\n",
       "건물명           object\n",
       "도로명주소         object\n",
       "구우편번호          int64\n",
       "신우편번호        float64\n",
       "동정보           object\n",
       "층정보           object\n",
       "호정보          float64\n",
       "경도           float64\n",
       "위도           float64\n",
       "dtype: object"
      ]
     },
     "execution_count": 24,
     "metadata": {},
     "output_type": "execute_result"
    }
   ],
   "source": [
    "sang.dtypes"
   ]
  },
  {
   "cell_type": "markdown",
   "id": "40453e0b",
   "metadata": {},
   "source": [
    "# 전처리 결측치 처리"
   ]
  },
  {
   "cell_type": "code",
   "execution_count": 25,
   "id": "e294afdd",
   "metadata": {},
   "outputs": [
    {
     "data": {
      "text/plain": [
       "상가업소번호            0\n",
       "상호명               1\n",
       "지점명          417628\n",
       "상권업종대분류코드         0\n",
       "상권업종대분류명          0\n",
       "상권업종중분류코드         0\n",
       "상권업종중분류명          0\n",
       "상권업종소분류코드         0\n",
       "상권업종소분류명          0\n",
       "표준산업분류코드      33029\n",
       "표준산업분류명       33029\n",
       "시도코드              0\n",
       "시도명               0\n",
       "시군구코드             0\n",
       "시군구명              0\n",
       "행정동코드             0\n",
       "행정동명              0\n",
       "법정동코드             0\n",
       "법정동명              0\n",
       "지번코드              0\n",
       "대지구분코드            0\n",
       "대지구분명             0\n",
       "지번본번지             0\n",
       "지번부번지         95442\n",
       "지번주소              0\n",
       "도로명코드             0\n",
       "도로명               0\n",
       "건물본번지             0\n",
       "건물부번지        431165\n",
       "건물관리번호            0\n",
       "건물명          264306\n",
       "도로명주소             0\n",
       "구우편번호             0\n",
       "신우편번호            49\n",
       "동정보          440345\n",
       "층정보          222889\n",
       "호정보          499130\n",
       "경도                0\n",
       "위도                0\n",
       "dtype: int64"
      ]
     },
     "execution_count": 25,
     "metadata": {},
     "output_type": "execute_result"
    }
   ],
   "source": [
    "sang.isnull().sum()"
   ]
  },
  {
   "cell_type": "code",
   "execution_count": 26,
   "id": "8b1e3d82",
   "metadata": {},
   "outputs": [
    {
     "data": {
      "text/plain": [
       "상가업소번호            0\n",
       "상호명               1\n",
       "지점명          417628\n",
       "상권업종대분류코드         0\n",
       "상권업종대분류명          0\n",
       "상권업종중분류코드         0\n",
       "상권업종중분류명          0\n",
       "상권업종소분류코드         0\n",
       "상권업종소분류명          0\n",
       "표준산업분류코드      33029\n",
       "표준산업분류명       33029\n",
       "시도코드              0\n",
       "시도명               0\n",
       "시군구코드             0\n",
       "시군구명              0\n",
       "행정동코드             0\n",
       "행정동명              0\n",
       "법정동코드             0\n",
       "법정동명              0\n",
       "지번코드              0\n",
       "대지구분코드            0\n",
       "대지구분명             0\n",
       "지번본번지             0\n",
       "지번부번지         95442\n",
       "지번주소              0\n",
       "도로명코드             0\n",
       "도로명               0\n",
       "건물본번지             0\n",
       "건물부번지        431165\n",
       "건물관리번호            0\n",
       "건물명          264306\n",
       "도로명주소             0\n",
       "구우편번호             0\n",
       "신우편번호            49\n",
       "동정보          440345\n",
       "층정보          222889\n",
       "호정보          499130\n",
       "경도                0\n",
       "위도                0\n",
       "dtype: int64"
      ]
     },
     "execution_count": 26,
     "metadata": {},
     "output_type": "execute_result"
    }
   ],
   "source": [
    "n_su = sang.isnull().sum()\n",
    "n_su"
   ]
  },
  {
   "cell_type": "code",
   "execution_count": 27,
   "id": "07547f7b",
   "metadata": {},
   "outputs": [
    {
     "data": {
      "text/plain": [
       "<Axes: >"
      ]
     },
     "execution_count": 27,
     "metadata": {},
     "output_type": "execute_result"
    },
    {
     "data": {
      "image/png": "[encoded data removed]",
      "text/plain": [
       "<Figure size 1000x600 with 1 Axes>"
      ]
     },
     "metadata": {},
     "output_type": "display_data"
    }
   ],
   "source": [
    "n_su.plot.bar(figsize=(10,6))"
   ]
  },
  {
   "cell_type": "code",
   "execution_count": 28,
   "id": "6e7a83ef",
   "metadata": {},
   "outputs": [
    {
     "data": {
      "text/plain": [
       "<Axes: >"
      ]
     },
     "execution_count": 28,
     "metadata": {},
     "output_type": "execute_result"
    },
    {
     "data": {
      "image/png": "[encoded data removed]",
      "text/plain": [
       "<Figure size 1000x600 with 1 Axes>"
      ]
     },
     "metadata": {},
     "output_type": "display_data"
    }
   ],
   "source": [
    "n_su.sort_values().plot.bar(figsize=(10,6))"
   ]
  },
  {
   "cell_type": "markdown",
   "id": "ca9588f9",
   "metadata": {},
   "source": [
    "missingno 로 결측치 시각화 하기"
   ]
  },
  {
   "cell_type": "code",
   "execution_count": 29,
   "id": "a97e6469",
   "metadata": {},
   "outputs": [
    {
     "name": "stdout",
     "output_type": "stream",
     "text": [
      "Requirement already satisfied: missingno in c:\\users\\parkhanna\\anaconda3\\lib\\site-packages (0.5.1)\n",
      "Requirement already satisfied: seaborn in c:\\users\\parkhanna\\anaconda3\\lib\\site-packages (from missingno) (0.12.2)\n",
      "Requirement already satisfied: matplotlib in c:\\users\\parkhanna\\anaconda3\\lib\\site-packages (from missingno) (3.7.1)\n",
      "Requirement already satisfied: numpy in c:\\users\\parkhanna\\anaconda3\\lib\\site-packages (from missingno) (1.23.5)\n",
      "Requirement already satisfied: scipy in c:\\users\\parkhanna\\anaconda3\\lib\\site-packages (from missingno) (1.10.0)\n",
      "Requirement already satisfied: pyparsing>=2.3.1 in c:\\users\\parkhanna\\anaconda3\\lib\\site-packages (from matplotlib->missingno) (3.0.9)\n",
      "Requirement already satisfied: kiwisolver>=1.0.1 in c:\\users\\parkhanna\\anaconda3\\lib\\site-packages (from matplotlib->missingno) (1.4.4)\n",
      "Requirement already satisfied: fonttools>=4.22.0 in c:\\users\\parkhanna\\anaconda3\\lib\\site-packages (from matplotlib->missingno) (4.25.0)\n",
      "Requirement already satisfied: importlib-resources>=3.2.0 in c:\\users\\parkhanna\\anaconda3\\lib\\site-packages (from matplotlib->missingno) (5.2.0)\n",
      "Requirement already satisfied: contourpy>=1.0.1 in c:\\users\\parkhanna\\anaconda3\\lib\\site-packages (from matplotlib->missingno) (1.0.5)\n",
      "Requirement already satisfied: cycler>=0.10 in c:\\users\\parkhanna\\anaconda3\\lib\\site-packages (from matplotlib->missingno) (0.11.0)\n",
      "Requirement already satisfied: pillow>=6.2.0 in c:\\users\\parkhanna\\anaconda3\\lib\\site-packages (from matplotlib->missingno) (9.4.0)\n",
      "Requirement already satisfied: packaging>=20.0 in c:\\users\\parkhanna\\anaconda3\\lib\\site-packages (from matplotlib->missingno) (23.0)\n",
      "Requirement already satisfied: python-dateutil>=2.7 in c:\\users\\parkhanna\\anaconda3\\lib\\site-packages (from matplotlib->missingno) (2.8.2)\n",
      "Requirement already satisfied: pandas>=0.25 in c:\\users\\parkhanna\\anaconda3\\lib\\site-packages (from seaborn->missingno) (1.4.2)\n",
      "Requirement already satisfied: zipp>=3.1.0 in c:\\users\\parkhanna\\anaconda3\\lib\\site-packages (from importlib-resources>=3.2.0->matplotlib->missingno) (3.11.0)\n",
      "Requirement already satisfied: pytz>=2020.1 in c:\\users\\parkhanna\\anaconda3\\lib\\site-packages (from pandas>=0.25->seaborn->missingno) (2022.7)\n",
      "Requirement already satisfied: six>=1.5 in c:\\users\\parkhanna\\anaconda3\\lib\\site-packages (from python-dateutil>=2.7->matplotlib->missingno) (1.16.0)\n"
     ]
    },
    {
     "name": "stderr",
     "output_type": "stream",
     "text": [
      "Error processing line 3 of C:\\Users\\ParkHanna\\anaconda3\\lib\\site-packages\\googleapis_common_protos-1.56.4-py3.10-nspkg.pth:\n",
      "\n",
      "  Traceback (most recent call last):\n",
      "    File \"C:\\Users\\ParkHanna\\anaconda3\\lib\\site.py\", line 169, in addpackage\n",
      "      exec(line)\n",
      "    File \"<string>\", line 1, in <module>\n",
      "    File \"<frozen importlib._bootstrap>\", line 562, in module_from_spec\n",
      "  AttributeError: 'NoneType' object has no attribute 'loader'\n",
      "\n",
      "Remainder of file ignored\n"
     ]
    }
   ],
   "source": [
    "!pip install missingno"
   ]
  },
  {
   "cell_type": "code",
   "execution_count": 30,
   "id": "61dc241b",
   "metadata": {},
   "outputs": [],
   "source": [
    "import missingno as msno"
   ]
  },
  {
   "cell_type": "code",
   "execution_count": 31,
   "id": "98fcd928",
   "metadata": {},
   "outputs": [
    {
     "ename": "ValueError",
     "evalue": "keyword grid_b is not recognized; valid keywords are ['size', 'width', 'color', 'tickdir', 'pad', 'labelsize', 'labelcolor', 'zorder', 'gridOn', 'tick1On', 'tick2On', 'label1On', 'label2On', 'length', 'direction', 'left', 'bottom', 'right', 'top', 'labelleft', 'labelbottom', 'labelright', 'labeltop', 'labelrotation', 'grid_agg_filter', 'grid_alpha', 'grid_animated', 'grid_antialiased', 'grid_clip_box', 'grid_clip_on', 'grid_clip_path', 'grid_color', 'grid_dash_capstyle', 'grid_dash_joinstyle', 'grid_dashes', 'grid_data', 'grid_drawstyle', 'grid_figure', 'grid_fillstyle', 'grid_gapcolor', 'grid_gid', 'grid_in_layout', 'grid_label', 'grid_linestyle', 'grid_linewidth', 'grid_marker', 'grid_markeredgecolor', 'grid_markeredgewidth', 'grid_markerfacecolor', 'grid_markerfacecoloralt', 'grid_markersize', 'grid_markevery', 'grid_mouseover', 'grid_path_effects', 'grid_picker', 'grid_pickradius', 'grid_rasterized', 'grid_sketch_params', 'grid_snap', 'grid_solid_capstyle', 'grid_solid_joinstyle', 'grid_transform', 'grid_url', 'grid_visible', 'grid_xdata', 'grid_ydata', 'grid_zorder', 'grid_aa', 'grid_c', 'grid_ds', 'grid_ls', 'grid_lw', 'grid_mec', 'grid_mew', 'grid_mfc', 'grid_mfcalt', 'grid_ms']",
     "output_type": "error",
     "traceback": [
      "\u001b[1;31m---------------------------------------------------------------------------\u001b[0m",
      "\u001b[1;31mValueError\u001b[0m                                Traceback (most recent call last)",
      "Cell \u001b[1;32mIn[31], line 1\u001b[0m\n\u001b[1;32m----> 1\u001b[0m \u001b[43mmsno\u001b[49m\u001b[38;5;241;43m.\u001b[39;49m\u001b[43mmatrix\u001b[49m\u001b[43m(\u001b[49m\u001b[43msang\u001b[49m\u001b[43m)\u001b[49m\n",
      "File \u001b[1;32m~\\anaconda3\\lib\\site-packages\\missingno\\missingno.py:73\u001b[0m, in \u001b[0;36mmatrix\u001b[1;34m(df, filter, n, p, sort, figsize, width_ratios, color, fontsize, labels, label_rotation, sparkline, freq, ax)\u001b[0m\n\u001b[0;32m     71\u001b[0m \u001b[38;5;66;03m# Remove extraneous default visual elements.\u001b[39;00m\n\u001b[0;32m     72\u001b[0m ax0\u001b[38;5;241m.\u001b[39mset_aspect(\u001b[38;5;124m'\u001b[39m\u001b[38;5;124mauto\u001b[39m\u001b[38;5;124m'\u001b[39m)\n\u001b[1;32m---> 73\u001b[0m \u001b[43max0\u001b[49m\u001b[38;5;241;43m.\u001b[39;49m\u001b[43mgrid\u001b[49m\u001b[43m(\u001b[49m\u001b[43mb\u001b[49m\u001b[38;5;241;43m=\u001b[39;49m\u001b[38;5;28;43;01mFalse\u001b[39;49;00m\u001b[43m)\u001b[49m\n\u001b[0;32m     74\u001b[0m ax0\u001b[38;5;241m.\u001b[39mxaxis\u001b[38;5;241m.\u001b[39mtick_top()\n\u001b[0;32m     75\u001b[0m ax0\u001b[38;5;241m.\u001b[39mxaxis\u001b[38;5;241m.\u001b[39mset_ticks_position(\u001b[38;5;124m'\u001b[39m\u001b[38;5;124mnone\u001b[39m\u001b[38;5;124m'\u001b[39m)\n",
      "File \u001b[1;32m~\\anaconda3\\lib\\site-packages\\matplotlib\\axes\\_base.py:3194\u001b[0m, in \u001b[0;36m_AxesBase.grid\u001b[1;34m(self, visible, which, axis, **kwargs)\u001b[0m\n\u001b[0;32m   3192\u001b[0m _api\u001b[38;5;241m.\u001b[39mcheck_in_list([\u001b[38;5;124m'\u001b[39m\u001b[38;5;124mx\u001b[39m\u001b[38;5;124m'\u001b[39m, \u001b[38;5;124m'\u001b[39m\u001b[38;5;124my\u001b[39m\u001b[38;5;124m'\u001b[39m, \u001b[38;5;124m'\u001b[39m\u001b[38;5;124mboth\u001b[39m\u001b[38;5;124m'\u001b[39m], axis\u001b[38;5;241m=\u001b[39maxis)\n\u001b[0;32m   3193\u001b[0m \u001b[38;5;28;01mif\u001b[39;00m axis \u001b[38;5;129;01min\u001b[39;00m [\u001b[38;5;124m'\u001b[39m\u001b[38;5;124mx\u001b[39m\u001b[38;5;124m'\u001b[39m, \u001b[38;5;124m'\u001b[39m\u001b[38;5;124mboth\u001b[39m\u001b[38;5;124m'\u001b[39m]:\n\u001b[1;32m-> 3194\u001b[0m     \u001b[38;5;28mself\u001b[39m\u001b[38;5;241m.\u001b[39mxaxis\u001b[38;5;241m.\u001b[39mgrid(visible, which\u001b[38;5;241m=\u001b[39mwhich, \u001b[38;5;241m*\u001b[39m\u001b[38;5;241m*\u001b[39mkwargs)\n\u001b[0;32m   3195\u001b[0m \u001b[38;5;28;01mif\u001b[39;00m axis \u001b[38;5;129;01min\u001b[39;00m [\u001b[38;5;124m'\u001b[39m\u001b[38;5;124my\u001b[39m\u001b[38;5;124m'\u001b[39m, \u001b[38;5;124m'\u001b[39m\u001b[38;5;124mboth\u001b[39m\u001b[38;5;124m'\u001b[39m]:\n\u001b[0;32m   3196\u001b[0m     \u001b[38;5;28mself\u001b[39m\u001b[38;5;241m.\u001b[39myaxis\u001b[38;5;241m.\u001b[39mgrid(visible, which\u001b[38;5;241m=\u001b[39mwhich, \u001b[38;5;241m*\u001b[39m\u001b[38;5;241m*\u001b[39mkwargs)\n",
      "File \u001b[1;32m~\\anaconda3\\lib\\site-packages\\matplotlib\\axis.py:1660\u001b[0m, in \u001b[0;36mAxis.grid\u001b[1;34m(self, visible, which, **kwargs)\u001b[0m\n\u001b[0;32m   1657\u001b[0m \u001b[38;5;28;01mif\u001b[39;00m which \u001b[38;5;129;01min\u001b[39;00m [\u001b[38;5;124m'\u001b[39m\u001b[38;5;124mmajor\u001b[39m\u001b[38;5;124m'\u001b[39m, \u001b[38;5;124m'\u001b[39m\u001b[38;5;124mboth\u001b[39m\u001b[38;5;124m'\u001b[39m]:\n\u001b[0;32m   1658\u001b[0m     gridkw[\u001b[38;5;124m'\u001b[39m\u001b[38;5;124mgridOn\u001b[39m\u001b[38;5;124m'\u001b[39m] \u001b[38;5;241m=\u001b[39m (\u001b[38;5;129;01mnot\u001b[39;00m \u001b[38;5;28mself\u001b[39m\u001b[38;5;241m.\u001b[39m_major_tick_kw[\u001b[38;5;124m'\u001b[39m\u001b[38;5;124mgridOn\u001b[39m\u001b[38;5;124m'\u001b[39m]\n\u001b[0;32m   1659\u001b[0m                         \u001b[38;5;28;01mif\u001b[39;00m visible \u001b[38;5;129;01mis\u001b[39;00m \u001b[38;5;28;01mNone\u001b[39;00m \u001b[38;5;28;01melse\u001b[39;00m visible)\n\u001b[1;32m-> 1660\u001b[0m     \u001b[38;5;28mself\u001b[39m\u001b[38;5;241m.\u001b[39mset_tick_params(which\u001b[38;5;241m=\u001b[39m\u001b[38;5;124m'\u001b[39m\u001b[38;5;124mmajor\u001b[39m\u001b[38;5;124m'\u001b[39m, \u001b[38;5;241m*\u001b[39m\u001b[38;5;241m*\u001b[39mgridkw)\n\u001b[0;32m   1661\u001b[0m \u001b[38;5;28mself\u001b[39m\u001b[38;5;241m.\u001b[39mstale \u001b[38;5;241m=\u001b[39m \u001b[38;5;28;01mTrue\u001b[39;00m\n",
      "File \u001b[1;32m~\\anaconda3\\lib\\site-packages\\matplotlib\\axis.py:932\u001b[0m, in \u001b[0;36mAxis.set_tick_params\u001b[1;34m(self, which, reset, **kwargs)\u001b[0m\n\u001b[0;32m    919\u001b[0m \u001b[38;5;124;03m\"\"\"\u001b[39;00m\n\u001b[0;32m    920\u001b[0m \u001b[38;5;124;03mSet appearance parameters for ticks, ticklabels, and gridlines.\u001b[39;00m\n\u001b[0;32m    921\u001b[0m \n\u001b[1;32m   (...)\u001b[0m\n\u001b[0;32m    929\u001b[0m \u001b[38;5;124;03m    gridlines.\u001b[39;00m\n\u001b[0;32m    930\u001b[0m \u001b[38;5;124;03m\"\"\"\u001b[39;00m\n\u001b[0;32m    931\u001b[0m _api\u001b[38;5;241m.\u001b[39mcheck_in_list([\u001b[38;5;124m'\u001b[39m\u001b[38;5;124mmajor\u001b[39m\u001b[38;5;124m'\u001b[39m, \u001b[38;5;124m'\u001b[39m\u001b[38;5;124mminor\u001b[39m\u001b[38;5;124m'\u001b[39m, \u001b[38;5;124m'\u001b[39m\u001b[38;5;124mboth\u001b[39m\u001b[38;5;124m'\u001b[39m], which\u001b[38;5;241m=\u001b[39mwhich)\n\u001b[1;32m--> 932\u001b[0m kwtrans \u001b[38;5;241m=\u001b[39m \u001b[38;5;28;43mself\u001b[39;49m\u001b[38;5;241;43m.\u001b[39;49m\u001b[43m_translate_tick_params\u001b[49m\u001b[43m(\u001b[49m\u001b[43mkwargs\u001b[49m\u001b[43m)\u001b[49m\n\u001b[0;32m    934\u001b[0m \u001b[38;5;66;03m# the kwargs are stored in self._major/minor_tick_kw so that any\u001b[39;00m\n\u001b[0;32m    935\u001b[0m \u001b[38;5;66;03m# future new ticks will automatically get them\u001b[39;00m\n\u001b[0;32m    936\u001b[0m \u001b[38;5;28;01mif\u001b[39;00m reset:\n",
      "File \u001b[1;32m~\\anaconda3\\lib\\site-packages\\matplotlib\\axis.py:1076\u001b[0m, in \u001b[0;36mAxis._translate_tick_params\u001b[1;34m(kw, reverse)\u001b[0m\n\u001b[0;32m   1074\u001b[0m \u001b[38;5;28;01mfor\u001b[39;00m key \u001b[38;5;129;01min\u001b[39;00m kw_:\n\u001b[0;32m   1075\u001b[0m     \u001b[38;5;28;01mif\u001b[39;00m key \u001b[38;5;129;01mnot\u001b[39;00m \u001b[38;5;129;01min\u001b[39;00m allowed_keys:\n\u001b[1;32m-> 1076\u001b[0m         \u001b[38;5;28;01mraise\u001b[39;00m \u001b[38;5;167;01mValueError\u001b[39;00m(\n\u001b[0;32m   1077\u001b[0m             \u001b[38;5;124m\"\u001b[39m\u001b[38;5;124mkeyword \u001b[39m\u001b[38;5;132;01m%s\u001b[39;00m\u001b[38;5;124m is not recognized; valid keywords are \u001b[39m\u001b[38;5;132;01m%s\u001b[39;00m\u001b[38;5;124m\"\u001b[39m\n\u001b[0;32m   1078\u001b[0m             \u001b[38;5;241m%\u001b[39m (key, allowed_keys))\n\u001b[0;32m   1079\u001b[0m kwtrans\u001b[38;5;241m.\u001b[39mupdate(kw_)\n\u001b[0;32m   1080\u001b[0m \u001b[38;5;28;01mreturn\u001b[39;00m kwtrans\n",
      "\u001b[1;31mValueError\u001b[0m: keyword grid_b is not recognized; valid keywords are ['size', 'width', 'color', 'tickdir', 'pad', 'labelsize', 'labelcolor', 'zorder', 'gridOn', 'tick1On', 'tick2On', 'label1On', 'label2On', 'length', 'direction', 'left', 'bottom', 'right', 'top', 'labelleft', 'labelbottom', 'labelright', 'labeltop', 'labelrotation', 'grid_agg_filter', 'grid_alpha', 'grid_animated', 'grid_antialiased', 'grid_clip_box', 'grid_clip_on', 'grid_clip_path', 'grid_color', 'grid_dash_capstyle', 'grid_dash_joinstyle', 'grid_dashes', 'grid_data', 'grid_drawstyle', 'grid_figure', 'grid_fillstyle', 'grid_gapcolor', 'grid_gid', 'grid_in_layout', 'grid_label', 'grid_linestyle', 'grid_linewidth', 'grid_marker', 'grid_markeredgecolor', 'grid_markeredgewidth', 'grid_markerfacecolor', 'grid_markerfacecoloralt', 'grid_markersize', 'grid_markevery', 'grid_mouseover', 'grid_path_effects', 'grid_picker', 'grid_pickradius', 'grid_rasterized', 'grid_sketch_params', 'grid_snap', 'grid_solid_capstyle', 'grid_solid_joinstyle', 'grid_transform', 'grid_url', 'grid_visible', 'grid_xdata', 'grid_ydata', 'grid_zorder', 'grid_aa', 'grid_c', 'grid_ds', 'grid_ls', 'grid_lw', 'grid_mec', 'grid_mew', 'grid_mfc', 'grid_mfcalt', 'grid_ms']"
     ]
    },
    {
     "data": {
      "image/png": "[encoded data removed]",
      "text/plain": [
       "<Figure size 2500x1000 with 2 Axes>"
      ]
     },
     "metadata": {},
     "output_type": "display_data"
    }
   ],
   "source": [
    "msno.matrix(sang)"
   ]
  },
  {
   "cell_type": "code",
   "execution_count": null,
   "id": "813968db",
   "metadata": {},
   "outputs": [],
   "source": [
    "msno.heatmap(sang)"
   ]
  },
  {
   "cell_type": "code",
   "execution_count": null,
   "id": "0190d1ba",
   "metadata": {},
   "outputs": [],
   "source": [
    "msno.dendrogram(sang)"
   ]
  },
  {
   "cell_type": "markdown",
   "id": "76dfe946",
   "metadata": {},
   "source": [
    "# 전처리 사용하지 않는 컬럼 제거하기"
   ]
  },
  {
   "cell_type": "code",
   "execution_count": null,
   "id": "eec4e7d9",
   "metadata": {},
   "outputs": [],
   "source": [
    "not_use = n_su.sort_values(ascending=False).head(9)\n",
    "not_use"
   ]
  },
  {
   "cell_type": "code",
   "execution_count": null,
   "id": "a8efc763",
   "metadata": {},
   "outputs": [],
   "source": [
    "not_use.index"
   ]
  },
  {
   "cell_type": "code",
   "execution_count": null,
   "id": "a992a7ff",
   "metadata": {},
   "outputs": [],
   "source": [
    "not_use_col = not_use.index"
   ]
  },
  {
   "cell_type": "code",
   "execution_count": null,
   "id": "66a5d881",
   "metadata": {},
   "outputs": [],
   "source": [
    "not_use_col"
   ]
  },
  {
   "cell_type": "code",
   "execution_count": null,
   "id": "46a4adfc",
   "metadata": {},
   "outputs": [],
   "source": [
    "print(sang.shape)\n",
    "sang=sang.drop(not_use_col, axis=1)\n",
    "print(sang.shape)"
   ]
  },
  {
   "cell_type": "code",
   "execution_count": null,
   "id": "fbdce926",
   "metadata": {},
   "outputs": [],
   "source": [
    "sang.info()"
   ]
  },
  {
   "cell_type": "markdown",
   "id": "c33803fa",
   "metadata": {},
   "source": [
    "사용하지 않는 컬럼 제거"
   ]
  },
  {
   "cell_type": "code",
   "execution_count": null,
   "id": "abea5419",
   "metadata": {},
   "outputs": [],
   "source": [
    "cols = sang.columns\n",
    "cols"
   ]
  },
  {
   "cell_type": "code",
   "execution_count": null,
   "id": "fb91c23d",
   "metadata": {},
   "outputs": [],
   "source": [
    "cols_code = cols[cols.str.contains(\"코드|번호\")]\n",
    "cols_code"
   ]
  },
  {
   "cell_type": "code",
   "execution_count": null,
   "id": "3bf2724c",
   "metadata": {},
   "outputs": [],
   "source": [
    "print(sang.shape)"
   ]
  },
  {
   "cell_type": "code",
   "execution_count": null,
   "id": "5108bafb",
   "metadata": {},
   "outputs": [],
   "source": [
    "sang=sang.drop(cols_code, axis=1)\n",
    "print(sang.shape)"
   ]
  },
  {
   "cell_type": "code",
   "execution_count": null,
   "id": "66a07fec",
   "metadata": {},
   "outputs": [],
   "source": [
    "sang.info()"
   ]
  },
  {
   "cell_type": "markdown",
   "id": "bdf64832",
   "metadata": {},
   "source": [
    "# 행과 열을 기준으로 값 가져오기 "
   ]
  },
  {
   "cell_type": "markdown",
   "id": "4089495b",
   "metadata": {},
   "source": [
    "열 가져오기 <br>\n",
    "형식) 데이터프레임이름.[열이름] => sang[열이름] 결과가 pandas의 series 형태로 반환 <br> => df[[열목록]] : 2개 이상의 열을 가져올 때는 리스트 형태로 묶어서 지정해줘야 함. 결과가 pandas의 dataframe 형태로 반환,  1개의 열을 2차원 리스트로 지정할 때에도 dataframe 형태로 반환이 됨"
   ]
  },
  {
   "cell_type": "code",
   "execution_count": null,
   "id": "75d40fe3",
   "metadata": {},
   "outputs": [],
   "source": [
    "sang"
   ]
  },
  {
   "cell_type": "code",
   "execution_count": null,
   "id": "7b1323aa",
   "metadata": {},
   "outputs": [],
   "source": [
    "sang.상호명"
   ]
  },
  {
   "cell_type": "code",
   "execution_count": null,
   "id": "2e9b4087",
   "metadata": {},
   "outputs": [],
   "source": [
    "sang[\"상호명\"]"
   ]
  },
  {
   "cell_type": "code",
   "execution_count": null,
   "id": "a9a1a091",
   "metadata": {},
   "outputs": [],
   "source": [
    "sang[[\"상호명\", \"도로명주소\"]]"
   ]
  },
  {
   "cell_type": "markdown",
   "id": "0f601f53",
   "metadata": {},
   "source": [
    "행 기준 <br>\n",
    "df.loc[행] <br>\n",
    "df.loc[행,열]<br>\n",
    "df.loc[행이름 혹은 번호] : 결과가 pandas series 형태로 반환<br>\n",
    "df.loc[[행목록]] : 2개 이상의 행을 가져올 때는 열을 가져올 때와 마찬가지로 리스트 형태로 묶어서 지정해야함 <br>\n",
    " : 결과가 pandas의 dataframe 형태로 반환<br>\n",
    " : 1개의 행을 2차원 리스트로 지정할 때에도 dataframe 형태로 반환 됨\n"
   ]
  },
  {
   "cell_type": "code",
   "execution_count": null,
   "id": "22d10935",
   "metadata": {},
   "outputs": [],
   "source": [
    "sang.loc[0]"
   ]
  },
  {
   "cell_type": "code",
   "execution_count": null,
   "id": "d3e95bd9",
   "metadata": {},
   "outputs": [],
   "source": [
    "sang.loc[[0,1,2]]"
   ]
  },
  {
   "cell_type": "code",
   "execution_count": null,
   "id": "38f9e8eb",
   "metadata": {},
   "outputs": [],
   "source": [
    "sang.loc[0][\"상호명\"]"
   ]
  },
  {
   "cell_type": "code",
   "execution_count": null,
   "id": "eb57dc1b",
   "metadata": {},
   "outputs": [],
   "source": [
    "sang.loc[0,\"상호명\"]"
   ]
  },
  {
   "cell_type": "code",
   "execution_count": null,
   "id": "fe0b3b8a",
   "metadata": {},
   "outputs": [],
   "source": [
    "sang.loc[[0,1,2],\"상호명\"]"
   ]
  },
  {
   "cell_type": "code",
   "execution_count": null,
   "id": "6ff9b1ea",
   "metadata": {},
   "outputs": [],
   "source": [
    "sang.loc[[0,1,2],[\"상호명\",]]"
   ]
  },
  {
   "cell_type": "code",
   "execution_count": null,
   "id": "04e0ae22",
   "metadata": {},
   "outputs": [],
   "source": [
    "sang.loc[[0,1,2],[\"상호명\",\"도로명주소\"]]"
   ]
  },
  {
   "cell_type": "markdown",
   "id": "5b23d86d",
   "metadata": {},
   "source": [
    "# iloc으로 슬라이싱 "
   ]
  },
  {
   "cell_type": "markdown",
   "id": "3af1bf7d",
   "metadata": {},
   "source": [
    "df.iloc[:] 전체 데이터 가져옴 <br>\n",
    "df.iloc[행,열] 순으로 인덱스 번호 지정<br>\n",
    " : 은 전체를 의미 <br>\n",
    " \n",
    "시작인덱스:끝나는인덱스 + 1을 써줌<br>\n",
    ": 에서 앞이나 뒤 인덱스를 써주지 않으면 처음부터 혹은 끝까지를 의미한다"
   ]
  },
  {
   "cell_type": "code",
   "execution_count": null,
   "id": "9933a7ed",
   "metadata": {},
   "outputs": [],
   "source": [
    "cols"
   ]
  },
  {
   "cell_type": "code",
   "execution_count": null,
   "id": "abbe560c",
   "metadata": {},
   "outputs": [],
   "source": [
    "cols[:]"
   ]
  },
  {
   "cell_type": "code",
   "execution_count": null,
   "id": "36c16663",
   "metadata": {},
   "outputs": [],
   "source": [
    "cols[:5]"
   ]
  },
  {
   "cell_type": "code",
   "execution_count": null,
   "id": "62938e3a",
   "metadata": {},
   "outputs": [],
   "source": [
    "cols[5:]"
   ]
  },
  {
   "cell_type": "code",
   "execution_count": null,
   "id": "1f4217db",
   "metadata": {},
   "outputs": [],
   "source": [
    "cols[-5:]"
   ]
  },
  {
   "cell_type": "code",
   "execution_count": null,
   "id": "d8f369eb",
   "metadata": {},
   "outputs": [],
   "source": [
    "cols[:-5]"
   ]
  },
  {
   "cell_type": "code",
   "execution_count": null,
   "id": "9435adae",
   "metadata": {},
   "outputs": [],
   "source": [
    "sang.iloc[:5]\n",
    "sang.iloc[:5,:5]"
   ]
  },
  {
   "cell_type": "code",
   "execution_count": null,
   "id": "07f0469c",
   "metadata": {},
   "outputs": [],
   "source": [
    "sang.iloc[-5:,-5:]"
   ]
  },
  {
   "cell_type": "markdown",
   "id": "8fd0076f",
   "metadata": {},
   "source": [
    "# 기술 통계 값 보기"
   ]
  },
  {
   "cell_type": "markdown",
   "id": "317c4e52",
   "metadata": {},
   "source": [
    "describe로 요약하기 <br>\n",
    "describe 를 사용하면 데이터를 요약해 볼 수 있다<br>\n",
    "기본적으로 수치형 데이터를 요약해서 보여줌 <br>\n",
    "include, exclude 옵션으로 데이터 타입에 따른 요약 수치를 볼 수 있다 <br>\n",
    "데이터의 갯수 ,평균, 표준 편타, 최솟값, 1사분위수 25%, 2사분위 수 50%, 3사분위 수 75%, 최댓값을 볼 수 있음"
   ]
  },
  {
   "cell_type": "code",
   "execution_count": null,
   "id": "f205e7c3",
   "metadata": {},
   "outputs": [],
   "source": [
    "sang.describe()"
   ]
  },
  {
   "cell_type": "code",
   "execution_count": null,
   "id": "7c959faa",
   "metadata": {},
   "outputs": [],
   "source": [
    "sang[[\"위도\",\"경도\"]].describe()"
   ]
  },
  {
   "cell_type": "markdown",
   "id": "f13d211f",
   "metadata": {},
   "source": [
    "# 개별 기술 통계 값 구하기"
   ]
  },
  {
   "cell_type": "markdown",
   "id": "70a2a670",
   "metadata": {},
   "source": [
    "Computational tools — pandas 1.0.1 documentation\n",
    "\n",
    "count 결측치를 제외한 (NaN이 아닌) 값의 갯수를 계산\n",
    "\n",
    "min, max 최솟값, 최댓값\n",
    "\n",
    "argmin, argmax 최솟값, 최댓값이 위치한 (정수)인덱스를 반환\n",
    "\n",
    "idxmin, idxmax 인덱스 중 최솟값, 최댓값을 반환\n",
    "\n",
    "quantile 특정 사분위수에 해당하는 값을 반환 (0~1 사이)\n",
    "    0.25 : 1사분위 수\n",
    "    0.5 : 2사분위수 (quantile 의 기본 값)\n",
    "    0.75 : 3사분위수\n",
    "\n",
    "sum 수치 데이터의 합계\n",
    "\n",
    "mean 평균\n",
    "\n",
    "median 중앙값(중간값:데이터를 한 줄로 세웠을 때 가운데 위치하는 값, 중앙값이 짝수일 때는 가운데 2개 값의 평균을 구함)\n",
    "\n",
    "mad 평균값으로부터의 절대 편차(absolute deviation)의 평균\n",
    "\n",
    "std, var 표준편차, 분산을 계산\n",
    "\n",
    "cumsum 맨 첫 번째 성분부터 각 성분까지의 누적합을 계산 (0 번째 부터 계속 더해짐)\n",
    "\n",
    "cumprod 맨 첫번째 성분부터 각 성분까지의 누적곱을 계산 (1 번째 부터 계속 곱해짐)"
   ]
  },
  {
   "cell_type": "code",
   "execution_count": null,
   "id": "eaf72bbe",
   "metadata": {},
   "outputs": [],
   "source": [
    "sang[\"위도\"].count()"
   ]
  },
  {
   "cell_type": "code",
   "execution_count": null,
   "id": "f9e03ddd",
   "metadata": {},
   "outputs": [],
   "source": [
    "sang[\"위도\"].mean()"
   ]
  },
  {
   "cell_type": "code",
   "execution_count": null,
   "id": "ad989305",
   "metadata": {},
   "outputs": [],
   "source": [
    "sang[\"위도\"].max()"
   ]
  },
  {
   "cell_type": "code",
   "execution_count": null,
   "id": "9141dfab",
   "metadata": {},
   "outputs": [],
   "source": [
    "sang[\"위도\"].min()"
   ]
  },
  {
   "cell_type": "code",
   "execution_count": null,
   "id": "8ae89adc",
   "metadata": {},
   "outputs": [],
   "source": [
    "sang[\"위도\"].quantile(q=0.25)"
   ]
  },
  {
   "cell_type": "code",
   "execution_count": null,
   "id": "73a9740e",
   "metadata": {},
   "outputs": [],
   "source": [
    "sang[\"위도\"].quantile()"
   ]
  },
  {
   "cell_type": "code",
   "execution_count": null,
   "id": "cf66286d",
   "metadata": {},
   "outputs": [],
   "source": [
    "sang[\"위도\"].median()"
   ]
  },
  {
   "cell_type": "code",
   "execution_count": null,
   "id": "76b821bd",
   "metadata": {},
   "outputs": [],
   "source": [
    "sang[\"위도\"].mean()"
   ]
  },
  {
   "cell_type": "code",
   "execution_count": null,
   "id": "981deb1e",
   "metadata": {},
   "outputs": [],
   "source": [
    "sang[\"위도\"].var()"
   ]
  },
  {
   "cell_type": "markdown",
   "id": "0ae91e40",
   "metadata": {},
   "source": [
    "표준 편차(標準 偏差, 영어: standard deviation)는 자료의 산포도를 나타내는 수치로, 분산의 양의 제곱근으로 정의\n",
    "\n",
    "편차(deviation)는 관측값에서 평균 또는 중앙값을 뺀 것이다.\n",
    "\n",
    "분산(variance)은 관측값에서 평균을 뺀 값을 제곱하고, 그것을 모두 더한 후 전체 개수로 나눠서 구한다. 즉, 차이값의 제곱의 평균이다. 관측값에서 평균을 뺀 값인 편차를 모두 더하면 0이 나오므로 제곱해서 더한다.\n",
    "\n",
    "표준 편차(standard deviation)는 분산을 제곱근한 것이다. 제곱해서 값이 부풀려진 분산을 제곱근해서 다시 원래 크기로 만들어준다."
   ]
  },
  {
   "cell_type": "code",
   "execution_count": null,
   "id": "59d95f99",
   "metadata": {},
   "outputs": [],
   "source": [
    "np.sqrt(sang[\"위도\"].var())"
   ]
  },
  {
   "cell_type": "code",
   "execution_count": null,
   "id": "3d10f9cd",
   "metadata": {},
   "outputs": [],
   "source": [
    "sang[\"위도\"].std()"
   ]
  },
  {
   "cell_type": "markdown",
   "id": "35e8a439",
   "metadata": {},
   "source": [
    "# 단변량 수치형 변수 시각화"
   ]
  },
  {
   "cell_type": "code",
   "execution_count": null,
   "id": "56dd5d35",
   "metadata": {},
   "outputs": [],
   "source": [
    "sns.distplot(sang[\"위도\"])"
   ]
  },
  {
   "cell_type": "code",
   "execution_count": null,
   "id": "37c1820e",
   "metadata": {},
   "outputs": [],
   "source": [
    "plt.axvline(sang[\"위도\"].median(), linestyle=\":\", color=\"r\")\n",
    "plt.axvline(sang[\"위도\"].mean(), linestyle=\"--\", color=\"g\")\n",
    "\n",
    "sns.distplot(sang[\"위도\"])"
   ]
  },
  {
   "cell_type": "markdown",
   "id": "2d4034a3",
   "metadata": {},
   "source": [
    "# 상관계수"
   ]
  },
  {
   "cell_type": "markdown",
   "id": "b9731c91",
   "metadata": {},
   "source": [
    "###이변량 또는 다변량에 대해성 변수간의 관련성을 알아보기 필요함\n",
    "\n",
    "피어슨 상관계수= (X 와 Y가 함께 변하는 정도)/(X 와 Y가 각각 변하는 정도)"
   ]
  },
  {
   "cell_type": "code",
   "execution_count": null,
   "id": "d48b08ea",
   "metadata": {},
   "outputs": [],
   "source": [
    "sang"
   ]
  },
  {
   "cell_type": "markdown",
   "id": "2dfe494a",
   "metadata": {},
   "source": [
    "r 값은 X 와 Y 가 완전히 동일하면 +1, 전혀 다르면 0, 반대방향으로 완전히 동일 하면 –1 을 가진다.\n",
    "\n",
    "결정계수(coefficient of determination) 는 r ** 2 로 계산하며 이것은 X 로부터 Y 를 예측할 수 있는 정도를 의미한다.\n",
    "\n",
    "r이 -1.0과 -0.7 사이이면, 강한 음적 선형관계,\n",
    "\n",
    "r이 -0.7과 -0.3 사이이면, 뚜렷한 음적 선형관계,\n",
    "\n",
    "r이 -0.3과 -0.1 사이이면, 약한 음적 선형관계,\n",
    "\n",
    "r이 -0.1과 +0.1 사이이면, 거의 무시될 수 있는 선형관계,\n",
    "\n",
    "r이 +0.1과 +0.3 사이이면, 약한 양적 선형관계,\n",
    "\n",
    "r이 +0.3과 +0.7 사이이면, 뚜렷한 양적 선형관계,\n",
    "\n",
    "r이 +0.7과 +1.0 사이이면, 강한 양적 선형관계\n"
   ]
  },
  {
   "cell_type": "code",
   "execution_count": null,
   "id": "559aef19",
   "metadata": {},
   "outputs": [],
   "source": [
    "corr = sang.corr()"
   ]
  },
  {
   "cell_type": "code",
   "execution_count": null,
   "id": "ec850132",
   "metadata": {},
   "outputs": [],
   "source": [
    "corr"
   ]
  },
  {
   "cell_type": "code",
   "execution_count": null,
   "id": "5d1db7a2",
   "metadata": {},
   "outputs": [],
   "source": [
    "sns.heatmap(corr, annot=True, cmap=\"Greens\")"
   ]
  },
  {
   "cell_type": "code",
   "execution_count": null,
   "id": "19caf680",
   "metadata": {},
   "outputs": [],
   "source": [
    "sns.heatmap(corr)"
   ]
  },
  {
   "cell_type": "code",
   "execution_count": null,
   "id": "09218187",
   "metadata": {},
   "outputs": [],
   "source": [
    "sns.heatmap(corr, annot=True)"
   ]
  },
  {
   "cell_type": "code",
   "execution_count": null,
   "id": "b2fe7d4b",
   "metadata": {},
   "outputs": [],
   "source": [
    "sns.heatmap(corr,annot=True, cmap=\"Greens\")"
   ]
  },
  {
   "cell_type": "code",
   "execution_count": null,
   "id": "668c7644",
   "metadata": {},
   "outputs": [],
   "source": [
    "mask = np.triu(np.ones_like(corr, dtype=np.bool))\n",
    "sns.heatmap(corr, annot=True, cmap=\"Greens\", mask=mask)"
   ]
  },
  {
   "cell_type": "markdown",
   "id": "213f6f32",
   "metadata": {},
   "source": [
    "# 산점도로 이변량 수치형 변수 표현하기"
   ]
  },
  {
   "cell_type": "code",
   "execution_count": null,
   "id": "436ed4bc",
   "metadata": {},
   "outputs": [],
   "source": [
    "sns.scatterplot(data=sang.sample(1000), x=\"경도\", y=\"위도\")"
   ]
  },
  {
   "cell_type": "code",
   "execution_count": null,
   "id": "a90d2c87",
   "metadata": {},
   "outputs": [],
   "source": [
    "sns.regplot(data=sang.sample(1000), x=\"경도\", y=\"위도\")"
   ]
  },
  {
   "cell_type": "code",
   "execution_count": null,
   "id": "b3359f0b",
   "metadata": {},
   "outputs": [],
   "source": [
    "sns.lmplot(data=sang.sample(1000), x=\"경도\", y=\"위도\", hue=\"시도명\")"
   ]
  },
  {
   "cell_type": "markdown",
   "id": "fe4a6a02",
   "metadata": {},
   "source": [
    "# object 타입의 데이터 요약하기"
   ]
  },
  {
   "cell_type": "code",
   "execution_count": null,
   "id": "356ac669",
   "metadata": {},
   "outputs": [],
   "source": [
    "sang.describe(include=\"object\")"
   ]
  },
  {
   "cell_type": "code",
   "execution_count": null,
   "id": "188f36ce",
   "metadata": {},
   "outputs": [],
   "source": [
    "sang[\"상권업종대분류명\"].describe()"
   ]
  },
  {
   "cell_type": "code",
   "execution_count": null,
   "id": "0fdd6356",
   "metadata": {},
   "outputs": [],
   "source": [
    "sang[\"상권업종대분류명\"].unique()"
   ]
  },
  {
   "cell_type": "code",
   "execution_count": null,
   "id": "184aaa6b",
   "metadata": {},
   "outputs": [],
   "source": [
    "len(sang[\"상권업종대분류명\"].unique())"
   ]
  },
  {
   "cell_type": "code",
   "execution_count": null,
   "id": "d78714ea",
   "metadata": {},
   "outputs": [],
   "source": [
    "sang[\"상권업종대분류명\"].nunique()"
   ]
  },
  {
   "cell_type": "markdown",
   "id": "02ec806b",
   "metadata": {},
   "source": [
    "# 범주형 변수의 빈도수 구하기"
   ]
  },
  {
   "cell_type": "code",
   "execution_count": null,
   "id": "cfe67aec",
   "metadata": {},
   "outputs": [],
   "source": [
    "sang[\"상권업종대분류명\"].value_counts()"
   ]
  },
  {
   "cell_type": "code",
   "execution_count": null,
   "id": "5a881ba5",
   "metadata": {},
   "outputs": [],
   "source": [
    "sang.info()"
   ]
  },
  {
   "cell_type": "markdown",
   "id": "bd2d7b8b",
   "metadata": {},
   "source": [
    "# 인덱싱과 필터로 서브셋 만들기"
   ]
  },
  {
   "cell_type": "code",
   "execution_count": null,
   "id": "43a1f1bb",
   "metadata": {},
   "outputs": [],
   "source": [
    "sang[\"상권업종대분류명\"] == \"음식\""
   ]
  },
  {
   "cell_type": "code",
   "execution_count": null,
   "id": "8a7842bc",
   "metadata": {},
   "outputs": [],
   "source": [
    "sang[sang[\"상권업종대분류명\"]==\"음식\"]"
   ]
  },
  {
   "cell_type": "code",
   "execution_count": null,
   "id": "a9aedbcb",
   "metadata": {},
   "outputs": [],
   "source": [
    "sang_food =sang[sang[\"상권업종대분류명\"] ==\"음식]\"].copy()\n",
    "                "
   ]
  },
  {
   "cell_type": "code",
   "execution_count": null,
   "id": "d95ea30e",
   "metadata": {},
   "outputs": [],
   "source": [
    "sang_food"
   ]
  },
  {
   "cell_type": "markdown",
   "id": "ee5757cf",
   "metadata": {},
   "source": [
    "강남구의 상권업종대분류 음식만 보기"
   ]
  },
  {
   "cell_type": "code",
   "execution_count": null,
   "id": "820e2e90",
   "metadata": {},
   "outputs": [],
   "source": [
    "sang[\"시군구명\"] == \"강남구\""
   ]
  },
  {
   "cell_type": "code",
   "execution_count": null,
   "id": "4136f236",
   "metadata": {},
   "outputs": [],
   "source": [
    "sang[sang[\"시군구명\"]==\"강남구\"]"
   ]
  },
  {
   "cell_type": "code",
   "execution_count": null,
   "id": "755e67e1",
   "metadata": {},
   "outputs": [],
   "source": [
    "# 나란히 두개를 쓰면, 주피터 노트북의 실행 특성상 아래 명령만 실행결과를 보여준다. \n",
    "# 두가지에 대한 답을 얻기 위해서, 다른 방식으로 처리를 해야 한다.\n",
    "\n",
    "# 위에서 각각은 실행이 되었지만, 둘은 비교값의 타입이 서로 같지 않아 비교가 안된다.\n",
    "# 각각의 우선적으로 처리를 하고 같이 붙이면."
   ]
  },
  {
   "cell_type": "code",
   "execution_count": null,
   "id": "9e898798",
   "metadata": {},
   "outputs": [],
   "source": [
    "(sang[\"시군구명\"]==\"강남구\") & (sang[\"상권업종대분류명\"] == \"음식\")"
   ]
  },
  {
   "cell_type": "code",
   "execution_count": null,
   "id": "07417e6c",
   "metadata": {},
   "outputs": [],
   "source": [
    "# 이번에는 시군구명이 \"강남구\" 이고 \"상권업종대분류명\" 이 \"음식\"인 서브셋을 가져온다.\n",
    "\n",
    "# 데이터 프레임 형태로 가져온다."
   ]
  },
  {
   "cell_type": "code",
   "execution_count": null,
   "id": "66b876fc",
   "metadata": {},
   "outputs": [],
   "source": [
    "sang[(sang[\"시군구명\"] == \"강남구\") & (sang[\"상권업종대분류명\"] == \"음식\")]"
   ]
  },
  {
   "cell_type": "code",
   "execution_count": null,
   "id": "d2d9744d",
   "metadata": {},
   "outputs": [],
   "source": [
    "# 이번에는 시군구명이 \"강남구\" 이고 \"상권업종대분류명\" 이 \"음식\"인 서브셋을 가져온 후\n",
    "# \"상권업종중분류명\" 별로 빈도수를 구한다."
   ]
  },
  {
   "cell_type": "code",
   "execution_count": null,
   "id": "35bf907f",
   "metadata": {},
   "outputs": [],
   "source": [
    "sang[(sang[\"시군구명\"] == \"강남구\") & (sang[\"상권업종대분류명\"] == \"음식\")][\"상권업종중분류명\"].value_counts()"
   ]
  },
  {
   "cell_type": "code",
   "execution_count": null,
   "id": "9a5d3244",
   "metadata": {},
   "outputs": [],
   "source": [
    "sang.loc[(sang[\"시군구명\"] == \"강남구\") & (sang[\"상권업종대분류명\"] == \"음식\")][\"상권업종중분류명\"].value_counts()"
   ]
  },
  {
   "cell_type": "code",
   "execution_count": null,
   "id": "1bebdc73",
   "metadata": {},
   "outputs": [],
   "source": [
    "sang.loc[(sang[\"시군구명\"] == \"강남구\") & (sang[\"상권업종대분류명\"] == \"음식\"),\"상권업종중분류명\"].value_counts()"
   ]
  },
  {
   "cell_type": "markdown",
   "id": "2e74cbc0",
   "metadata": {},
   "source": [
    "구별 음식점 업종 비교하기"
   ]
  },
  {
   "cell_type": "code",
   "execution_count": null,
   "id": "3e7626cb",
   "metadata": {},
   "outputs": [],
   "source": [
    "sang_seoul_food = sang[(sang[\"시도명\"] == \"서울특별시\") & (sang[\"상권업종대분류명\"] == \"음식\")].copy()"
   ]
  },
  {
   "cell_type": "code",
   "execution_count": null,
   "id": "7de96022",
   "metadata": {},
   "outputs": [],
   "source": [
    "sang_seoul_food.shape"
   ]
  },
  {
   "cell_type": "code",
   "execution_count": null,
   "id": "d48ea530",
   "metadata": {},
   "outputs": [],
   "source": [
    "sang_seoul_food.groupby([\"시군구명\",\"상권업종중분류명\"])[\"상호명\"].count()"
   ]
  },
  {
   "cell_type": "code",
   "execution_count": null,
   "id": "d52ca05d",
   "metadata": {},
   "outputs": [],
   "source": [
    "food_gu = sang_seoul_food.groupby([\"시군구명\", \"상권업종중분류명\"])[\"상호명\"].count()"
   ]
  },
  {
   "cell_type": "code",
   "execution_count": null,
   "id": "06632845",
   "metadata": {},
   "outputs": [],
   "source": [
    "food_gu.head(10)"
   ]
  },
  {
   "cell_type": "code",
   "execution_count": null,
   "id": "d2c7acdf",
   "metadata": {},
   "outputs": [],
   "source": [
    "food_gu.plot()"
   ]
  },
  {
   "cell_type": "code",
   "execution_count": null,
   "id": "ad190a2b",
   "metadata": {},
   "outputs": [],
   "source": [
    "food_gu.unstack()"
   ]
  },
  {
   "cell_type": "code",
   "execution_count": null,
   "id": "43b17216",
   "metadata": {},
   "outputs": [],
   "source": [
    "food_gu.unstack().plot()"
   ]
  },
  {
   "cell_type": "code",
   "execution_count": null,
   "id": "43e43880",
   "metadata": {},
   "outputs": [],
   "source": [
    "food_gu.unstack().plot.bar()"
   ]
  },
  {
   "cell_type": "code",
   "execution_count": null,
   "id": "f14b8c3b",
   "metadata": {},
   "outputs": [],
   "source": [
    "food_gu.unstack().loc[\"강남구\"].plot.bar()"
   ]
  },
  {
   "cell_type": "code",
   "execution_count": null,
   "id": "40412dfc",
   "metadata": {},
   "outputs": [],
   "source": [
    "food_gu.unstack().loc[\"강남구\"].sort_values().plot.bar()"
   ]
  },
  {
   "cell_type": "markdown",
   "id": "0394e1ed",
   "metadata": {},
   "source": [
    "###판다스는 barplot을 그릴때 인덱스값을 기준으로 축을 잡아 그린다.\n",
    "\n",
    "따라서 데이터를 추출했을때, 피봇 형태로 바꿔주고 그 테이블을 기준으로 그리게 되는데,\n",
    "\n",
    "seaborn에서 bar그래프 이외의 다른 그래프를 그릴때는 데이터의 접근이 용이하지 않다.\n",
    "\n",
    "따라서 인덱스값을 unstack 해주었던 부분을 reset_index해주고 이를 이용해서 그래프를 그린다."
   ]
  },
  {
   "cell_type": "code",
   "execution_count": null,
   "id": "eecb3630",
   "metadata": {},
   "outputs": [],
   "source": [
    "food = food_gu.reset_index()"
   ]
  },
  {
   "cell_type": "code",
   "execution_count": null,
   "id": "2b11f353",
   "metadata": {},
   "outputs": [],
   "source": [
    "food=food.rename(columns={\"상호명\":\"상호수\"})\n",
    "food"
   ]
  },
  {
   "cell_type": "code",
   "execution_count": null,
   "id": "4e9a0783",
   "metadata": {},
   "outputs": [],
   "source": [
    "plt.figure(figsize=(16,9))\n",
    "sns.barplot(data=food, x=\"시군구명\", y=\"상호수\")"
   ]
  },
  {
   "cell_type": "code",
   "execution_count": null,
   "id": "69357a5a",
   "metadata": {},
   "outputs": [],
   "source": [
    "plt.figure(figsize=(16,9))\n",
    "sns.barplot(data=food, x=\"상권업종중분류명\", y=\"상호수\")"
   ]
  },
  {
   "cell_type": "code",
   "execution_count": null,
   "id": "e3d2b4dc",
   "metadata": {},
   "outputs": [],
   "source": [
    "plt.figure(figsize=(16,9))\n",
    "sns.barplot(data=food, x=\"상권업종중분류명\", y=\"상호수\", hue=\"시군구명\")"
   ]
  },
  {
   "cell_type": "code",
   "execution_count": null,
   "id": "60edd38c",
   "metadata": {},
   "outputs": [],
   "source": [
    "plt.figure(figsize=(16,9))\n",
    "sns.barplot(data=food, x=\"시군구명\", y=\"상호수\", hue=\"상권업종중분류명\")"
   ]
  },
  {
   "cell_type": "code",
   "execution_count": null,
   "id": "081bcef6",
   "metadata": {},
   "outputs": [],
   "source": [
    "sns.catplot(data=food, x=\"상권업종중분류명\", y=\"상호수\", kind=\"bar\", col=\"시군구명\")"
   ]
  },
  {
   "cell_type": "code",
   "execution_count": null,
   "id": "615dc539",
   "metadata": {},
   "outputs": [],
   "source": [
    "sns.catplot(data=food, x=\"상권업종중분류명\", y=\"상호수\", kind=\"bar\", col=\"시군구명\", col_wrap = 4)"
   ]
  },
  {
   "cell_type": "markdown",
   "id": "7ccac4b4",
   "metadata": {},
   "source": [
    "# 가성 세워 데이터 전처리, 비교분석으로 입증"
   ]
  },
  {
   "cell_type": "markdown",
   "id": "48cc7e63",
   "metadata": {},
   "source": [
    "구별 학원수 비교하기"
   ]
  },
  {
   "cell_type": "markdown",
   "id": "549b0b74",
   "metadata": {},
   "source": [
    "주거나 입지로 문화시설이나 학원, 교육 등을 고려하게 됨 따라서 사교육이 발달한 지역으로 대치동, 목동 학원 분포 정도를 알아봄"
   ]
  },
  {
   "cell_type": "code",
   "execution_count": null,
   "id": "6b676ee3",
   "metadata": {},
   "outputs": [],
   "source": [
    "sang[\"상권업종대분류명\"].unique()"
   ]
  },
  {
   "cell_type": "code",
   "execution_count": null,
   "id": "d6dc05cf",
   "metadata": {},
   "outputs": [],
   "source": [
    "sang[(sang[\"시도명\"] == \"서울특별시\") & (sang[\"상권업종대분류명\"]==\"학문/교육\")]"
   ]
  },
  {
   "cell_type": "code",
   "execution_count": null,
   "id": "6efd07d5",
   "metadata": {},
   "outputs": [],
   "source": [
    "academy=sang[(sang[\"시도명\"]==\"서울특별시\") & (sang[\"상권업종대분류명\"]==\"학문/교육\")].copy()"
   ]
  },
  {
   "cell_type": "code",
   "execution_count": null,
   "id": "fecaca62",
   "metadata": {},
   "outputs": [],
   "source": [
    "academy"
   ]
  },
  {
   "cell_type": "code",
   "execution_count": null,
   "id": "89c87ac3",
   "metadata": {},
   "outputs": [],
   "source": [
    "academy[\"상호명\"].value_counts().head(10)"
   ]
  },
  {
   "cell_type": "code",
   "execution_count": null,
   "id": "47af24a1",
   "metadata": {},
   "outputs": [],
   "source": [
    "academy[\"상호명\"]"
   ]
  },
  {
   "cell_type": "code",
   "execution_count": null,
   "id": "e8a6c9ee",
   "metadata": {},
   "outputs": [],
   "source": [
    "academy[\"시군구명\"].value_counts().head(10)"
   ]
  },
  {
   "cell_type": "code",
   "execution_count": null,
   "id": "7b2cb2f5",
   "metadata": {},
   "outputs": [],
   "source": [
    "academy_count = academy[\"상권업종소분류명\"].value_counts()."
   ]
  },
  {
   "cell_type": "code",
   "execution_count": null,
   "id": "35128b3f",
   "metadata": {},
   "outputs": [],
   "source": [
    "academy_count > 1000"
   ]
  },
  {
   "cell_type": "code",
   "execution_count": null,
   "id": "e1e7184a",
   "metadata": {},
   "outputs": [],
   "source": [
    "academy_count_thousand = academy_count[academy_count>1000]"
   ]
  },
  {
   "cell_type": "code",
   "execution_count": null,
   "id": "b1a4f1cb",
   "metadata": {},
   "outputs": [],
   "source": [
    "academy_count_thousand"
   ]
  },
  {
   "cell_type": "code",
   "execution_count": null,
   "id": "1c959ff0",
   "metadata": {},
   "outputs": [],
   "source": [
    "academy_group = academy.groupby([\"시군구명\",\"상권업종소분류명\"])[\"상호명\"].count()"
   ]
  },
  {
   "cell_type": "code",
   "execution_count": null,
   "id": "c164221e",
   "metadata": {},
   "outputs": [],
   "source": [
    "academy_group.loc[\"강남구\"]"
   ]
  },
  {
   "cell_type": "code",
   "execution_count": null,
   "id": "85be1687",
   "metadata": {},
   "outputs": [],
   "source": [
    "academy_group.loc[\"양천구\"]"
   ]
  },
  {
   "cell_type": "code",
   "execution_count": null,
   "id": "14a13d20",
   "metadata": {},
   "outputs": [],
   "source": [
    "a = academy_group.reset_index()\n",
    "a = a.rename(columns={\"상호명\":\"상호수\"})"
   ]
  },
  {
   "cell_type": "code",
   "execution_count": null,
   "id": "a5984cf4",
   "metadata": {},
   "outputs": [],
   "source": [
    "a"
   ]
  },
  {
   "cell_type": "code",
   "execution_count": null,
   "id": "5112ebcb",
   "metadata": {},
   "outputs": [],
   "source": [
    "plt.figure(figsize=(16,9))\n",
    "sns.barplot(data=a, x=\"시군구명\", y=\"상호수\")"
   ]
  },
  {
   "cell_type": "markdown",
   "id": "5b0058af",
   "metadata": {},
   "source": [
    "isin을 사용해 서브셋 만들기"
   ]
  },
  {
   "cell_type": "markdown",
   "id": "0ebfc99e",
   "metadata": {},
   "source": [
    "상권업종소분류명을 빈도수로 계산했을 때 1000개 이상인 데이터만 가져와서 봄"
   ]
  },
  {
   "cell_type": "code",
   "execution_count": null,
   "id": "0e7c5d95",
   "metadata": {},
   "outputs": [],
   "source": [
    "academy"
   ]
  },
  {
   "cell_type": "code",
   "execution_count": null,
   "id": "4c9d608f",
   "metadata": {},
   "outputs": [],
   "source": [
    "academy_count_thousand.index"
   ]
  },
  {
   "cell_type": "code",
   "execution_count": null,
   "id": "492cb01a",
   "metadata": {},
   "outputs": [],
   "source": [
    "academy[\"상권업종소분류명\"].isin(academy_count_thousand.index)"
   ]
  },
  {
   "cell_type": "code",
   "execution_count": null,
   "id": "eb75aec3",
   "metadata": {},
   "outputs": [],
   "source": [
    "academy_selected = academy[\"상권업종소분류명\"].isin(academy_count_thousand.index)"
   ]
  },
  {
   "cell_type": "code",
   "execution_count": null,
   "id": "2b05d96c",
   "metadata": {},
   "outputs": [],
   "source": [
    "academy_selected"
   ]
  },
  {
   "cell_type": "code",
   "execution_count": null,
   "id": "3cf12e0f",
   "metadata": {},
   "outputs": [],
   "source": [
    "academy_selected = academy[academy[\"상권업종소분류명\"].isin(academy_count_thousand.index)].copy()"
   ]
  },
  {
   "cell_type": "code",
   "execution_count": null,
   "id": "95f74fe9",
   "metadata": {},
   "outputs": [],
   "source": [
    "academy_selected"
   ]
  },
  {
   "cell_type": "code",
   "execution_count": null,
   "id": "7ddeaf32",
   "metadata": {},
   "outputs": [],
   "source": [
    "academy_selected[\"시군구명\"].value_counts()"
   ]
  },
  {
   "cell_type": "code",
   "execution_count": null,
   "id": "084c2595",
   "metadata": {},
   "outputs": [],
   "source": [
    "academy_selected[\"상권업종소분류명\"].value_counts()"
   ]
  },
  {
   "cell_type": "code",
   "execution_count": null,
   "id": "63778936",
   "metadata": {},
   "outputs": [],
   "source": [
    "academy_selected[\"법정동명\"]==\"대치동\""
   ]
  },
  {
   "cell_type": "code",
   "execution_count": null,
   "id": "400077b4",
   "metadata": {},
   "outputs": [],
   "source": [
    "academy_selected.loc[academy_selected[\"법정동명\"]==\"대치동\", \"상권업종소분류명\"]"
   ]
  },
  {
   "cell_type": "code",
   "execution_count": null,
   "id": "47bed69b",
   "metadata": {},
   "outputs": [],
   "source": [
    "academy_selected.loc[academy_selected[\"법정동명\"]==\"대치동\",\"상권업종소분류명\"].value_counts()"
   ]
  },
  {
   "cell_type": "code",
   "execution_count": null,
   "id": "aa4b480e",
   "metadata": {},
   "outputs": [],
   "source": [
    "academy_selected.loc[academy_selected[\"법정동명\"]==\"목동\",\"상권업종소분류명\"].value_counts()"
   ]
  },
  {
   "cell_type": "code",
   "execution_count": null,
   "id": "40729b5a",
   "metadata": {},
   "outputs": [],
   "source": [
    "academy_selected.groupby([\"상권업종소분류명\", \"시군구명\"])[\"상호명\"].count()"
   ]
  },
  {
   "cell_type": "code",
   "execution_count": null,
   "id": "58f1f575",
   "metadata": {},
   "outputs": [],
   "source": [
    "academy_selected.groupby([\"시군구명\",\"상권업종소분류명\"])[\"상호명\"].count()"
   ]
  },
  {
   "cell_type": "code",
   "execution_count": null,
   "id": "6f247abc",
   "metadata": {},
   "outputs": [],
   "source": [
    "g=academy_selected.groupby([\"상권업종소분류명\",\"시군구명\"])[\"상호명\"].count()\n",
    "g.loc[\"어린이집\"]"
   ]
  },
  {
   "cell_type": "code",
   "execution_count": null,
   "id": "0146f26f",
   "metadata": {},
   "outputs": [],
   "source": [
    "g.loc[\"학원-입시\"].plot()"
   ]
  },
  {
   "cell_type": "code",
   "execution_count": null,
   "id": "da894b83",
   "metadata": {},
   "outputs": [],
   "source": [
    "g.loc[\"학원-입시\"].plot.bar()"
   ]
  },
  {
   "cell_type": "code",
   "execution_count": null,
   "id": "8cc209a9",
   "metadata": {},
   "outputs": [],
   "source": [
    "g.loc[\"학원-입시\"].plot.barh()"
   ]
  },
  {
   "cell_type": "code",
   "execution_count": null,
   "id": "441f1209",
   "metadata": {},
   "outputs": [],
   "source": [
    "g.loc[\"학원-입시\"].sort_values().plot.barh(figsize=(16,9))"
   ]
  },
  {
   "cell_type": "markdown",
   "id": "1342a4fd",
   "metadata": {},
   "source": [
    "pandas plot으로 시각화"
   ]
  },
  {
   "cell_type": "code",
   "execution_count": null,
   "id": "56af0d08",
   "metadata": {},
   "outputs": [],
   "source": [
    "g.plot()"
   ]
  },
  {
   "cell_type": "code",
   "execution_count": null,
   "id": "1acdd0d3",
   "metadata": {},
   "outputs": [],
   "source": [
    "g.plot.bar()"
   ]
  },
  {
   "cell_type": "code",
   "execution_count": null,
   "id": "972b1de7",
   "metadata": {},
   "outputs": [],
   "source": [
    "g.unstack().iloc[:5, :5]"
   ]
  },
  {
   "cell_type": "code",
   "execution_count": null,
   "id": "f3ccf323",
   "metadata": {},
   "outputs": [],
   "source": [
    "g.unstack()"
   ]
  },
  {
   "cell_type": "code",
   "execution_count": null,
   "id": "4f1b6acd",
   "metadata": {},
   "outputs": [],
   "source": [
    "g.unstack().transpose()"
   ]
  },
  {
   "cell_type": "code",
   "execution_count": null,
   "id": "ec7e1248",
   "metadata": {},
   "outputs": [],
   "source": [
    "g.unstack().plot(figsize=(16,9))"
   ]
  },
  {
   "cell_type": "code",
   "execution_count": null,
   "id": "926400a6",
   "metadata": {},
   "outputs": [],
   "source": [
    "g.unstack().plot.bar(figsize=(16,9))"
   ]
  },
  {
   "cell_type": "code",
   "execution_count": null,
   "id": "adee5786",
   "metadata": {},
   "outputs": [],
   "source": [
    "g.unstack().loc[\"학원-입시\"].plot.barh(figsize=(16,9))"
   ]
  },
  {
   "cell_type": "code",
   "execution_count": null,
   "id": "92fe980f",
   "metadata": {},
   "outputs": [],
   "source": [
    "g.unstack().loc[\"학원-입시\"].sort_values().plot.barh(figsize=(16,9))"
   ]
  },
  {
   "cell_type": "code",
   "execution_count": null,
   "id": "29513407",
   "metadata": {},
   "outputs": [],
   "source": [
    "g.unstack().transpose()"
   ]
  },
  {
   "cell_type": "code",
   "execution_count": null,
   "id": "189f1fb1",
   "metadata": {},
   "outputs": [],
   "source": [
    "g.unstack().T.plot.barh(figsize=(16,9))"
   ]
  },
  {
   "cell_type": "code",
   "execution_count": null,
   "id": "a9403df6",
   "metadata": {},
   "outputs": [],
   "source": [
    "g.index"
   ]
  },
  {
   "cell_type": "code",
   "execution_count": null,
   "id": "6d87fe6a",
   "metadata": {},
   "outputs": [],
   "source": [
    "t = g.reset_index()"
   ]
  },
  {
   "cell_type": "code",
   "execution_count": null,
   "id": "7487c94e",
   "metadata": {},
   "outputs": [],
   "source": [
    "t"
   ]
  },
  {
   "cell_type": "code",
   "execution_count": null,
   "id": "e2cc4a6a",
   "metadata": {},
   "outputs": [],
   "source": [
    "t=t.rename(columns={\"상호명\":\"상호수\"})"
   ]
  },
  {
   "cell_type": "code",
   "execution_count": null,
   "id": "a6c53c4e",
   "metadata": {},
   "outputs": [],
   "source": [
    "t"
   ]
  },
  {
   "cell_type": "code",
   "execution_count": null,
   "id": "a9ca3057",
   "metadata": {},
   "outputs": [],
   "source": [
    "sns.barplot(data=t, x=\"시군구명\", y=\"상호수\")"
   ]
  },
  {
   "cell_type": "code",
   "execution_count": null,
   "id": "fe12fedb",
   "metadata": {},
   "outputs": [],
   "source": [
    "plt.figure(figsize=(16,9))\n",
    "sns.barplot(data=t, x=\"시군구명\", y=\"상호수\")"
   ]
  },
  {
   "cell_type": "code",
   "execution_count": null,
   "id": "f2ee6ed1",
   "metadata": {},
   "outputs": [],
   "source": [
    "plt.figure(figsize=(16,9))\n",
    "sns.barplot(data=t, x=\"시군구명\", y=\"상호수\", hue=\"상권업종소분류명\")"
   ]
  },
  {
   "cell_type": "code",
   "execution_count": null,
   "id": "5ff6d1ff",
   "metadata": {},
   "outputs": [],
   "source": [
    "plt.figure(figsize=(16,9))\n",
    "sns.barplot(data=t, x=\"상권업종소분류명\", y=\"상호수\")"
   ]
  },
  {
   "cell_type": "code",
   "execution_count": null,
   "id": "107734ec",
   "metadata": {},
   "outputs": [],
   "source": [
    "plt.figure(figsize=(16,9))\n",
    "sns.barplot(data=t, x=\"상권업종소분류명\", y=\"상호수\", hue=\"시군구명\")"
   ]
  },
  {
   "cell_type": "code",
   "execution_count": null,
   "id": "f816df00",
   "metadata": {},
   "outputs": [],
   "source": [
    "t_sub=t[t[\"상권업종소분류명\"]==\"학원-입시\"].copy()"
   ]
  },
  {
   "cell_type": "code",
   "execution_count": null,
   "id": "a9a620d9",
   "metadata": {},
   "outputs": [],
   "source": [
    "t_sub.shape"
   ]
  },
  {
   "cell_type": "code",
   "execution_count": null,
   "id": "d5481f24",
   "metadata": {},
   "outputs": [],
   "source": [
    "plt.figure(figsize=(16,9))\n",
    "sns.barplot(data=t_sub, x=\"시군구명\", y=\"상호수\")"
   ]
  },
  {
   "cell_type": "code",
   "execution_count": null,
   "id": "03fb989c",
   "metadata": {},
   "outputs": [],
   "source": [
    "sns.catplot(data=t, x=\"상권업종소분류명\", y=\"상호수\", kind=\"bar\", col=\"시군구명\", col_wrap=4)"
   ]
  },
  {
   "cell_type": "code",
   "execution_count": null,
   "id": "0767bcb9",
   "metadata": {},
   "outputs": [],
   "source": [
    "academy_selected"
   ]
  },
  {
   "cell_type": "code",
   "execution_count": null,
   "id": "ed35f91a",
   "metadata": {},
   "outputs": [],
   "source": [
    "plt.figure(figsize=(16,9))\n",
    "sns.scatterplot(data=academy_selected, x=\"경도\", y=\"위도\")"
   ]
  },
  {
   "cell_type": "code",
   "execution_count": null,
   "id": "313e91cb",
   "metadata": {},
   "outputs": [],
   "source": [
    "plt.figure(figsize=(16,9))\n",
    "sns.scatterplot(data=academy_selected, x=\"경도\", y=\"위도\", hue=\"상권업종소분류명\")"
   ]
  },
  {
   "cell_type": "code",
   "execution_count": null,
   "id": "0610119e",
   "metadata": {},
   "outputs": [],
   "source": [
    "plt.figure(figsize=(16,9))\n",
    "sns.scatterplot(data=academy_selected, x=\"경도\", y=\"위도\", hue=\"시군구명\")"
   ]
  },
  {
   "cell_type": "code",
   "execution_count": null,
   "id": "1bb325e8",
   "metadata": {},
   "outputs": [],
   "source": [
    "plt.figure(figsize=(16,9))\n",
    "sns.scatterplot(data=academy_selected[academy_selected[\"상권업종소분류명\"]==\"학원-입시\"], x=\"경도\", y=\"위도\")"
   ]
  },
  {
   "cell_type": "code",
   "execution_count": null,
   "id": "4020694b",
   "metadata": {},
   "outputs": [],
   "source": [
    "plt.figure(figsize=(16,9))\n",
    "sns.scatterplot(data=academy_selected[academy_selected[\"상권업종소분류명\"]==\"어린이집\"], x=\"경도\", y=\"위도\")"
   ]
  },
  {
   "cell_type": "code",
   "execution_count": null,
   "id": "f818e0f6",
   "metadata": {},
   "outputs": [],
   "source": [
    "plt.figure(figsize=(16,9))\n",
    "sns.scatterplot(data=academy_selected[academy_selected[\"상권업종소분류명\"].isin([\"어린이집\", \"학원-입시\"])], x=\"경도\", y=\"위도\", hue=\"상권업종소분류명\")"
   ]
  },
  {
   "cell_type": "markdown",
   "id": "3e170744",
   "metadata": {},
   "source": [
    "# Folium 으로 지도 활용"
   ]
  },
  {
   "cell_type": "code",
   "execution_count": null,
   "id": "4366db02",
   "metadata": {},
   "outputs": [],
   "source": [
    "import folium"
   ]
  },
  {
   "cell_type": "code",
   "execution_count": null,
   "id": "f1307986",
   "metadata": {},
   "outputs": [],
   "source": [
    "long = academy_selected[\"경도\"].mean()\n",
    "lat = academy_selected[\"위도\"].mean()"
   ]
  },
  {
   "cell_type": "code",
   "execution_count": null,
   "id": "598a13c1",
   "metadata": {},
   "outputs": [],
   "source": [
    "ac_m = academy_selected[academy_selected[\"상권업종소분류명\"].isin([\"어린이집\",\"학원-입시\"])]\n",
    "ac_m = ac_m.sample(1000)\n",
    "ac_m.shape"
   ]
  },
  {
   "cell_type": "code",
   "execution_count": null,
   "id": "37662006",
   "metadata": {},
   "outputs": [],
   "source": [
    "m=folium.Map(location=[lat,long], zoom_start=12)"
   ]
  }
 ],
 "metadata": {
  "kernelspec": {
   "display_name": "Python 3 (ipykernel)",
   "language": "python",
   "name": "python3"
  },
  "language_info": {
   "codemirror_mode": {
    "name": "ipython",
    "version": 3
   },
   "file_extension": ".py",
   "mimetype": "text/x-python",
   "name": "python",
   "nbconvert_exporter": "python",
   "pygments_lexer": "ipython3",
   "version": "3.9.16"
  }
 },
 "nbformat": 4,
 "nbformat_minor": 5
}
