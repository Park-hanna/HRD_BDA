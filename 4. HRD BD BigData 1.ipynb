{
 "cells": [
  {
   "cell_type": "code",
   "execution_count": 1,
   "id": "dc1f9877",
   "metadata": {},
   "outputs": [
    {
     "data": {
      "text/html": [
       "<div>\n",
       "<style scoped>\n",
       "    .dataframe tbody tr th:only-of-type {\n",
       "        vertical-align: middle;\n",
       "    }\n",
       "\n",
       "    .dataframe tbody tr th {\n",
       "        vertical-align: top;\n",
       "    }\n",
       "\n",
       "    .dataframe thead th {\n",
       "        text-align: right;\n",
       "    }\n",
       "</style>\n",
       "<table border=\"1\" class=\"dataframe\">\n",
       "  <thead>\n",
       "    <tr style=\"text-align: right;\">\n",
       "      <th></th>\n",
       "      <th>area</th>\n",
       "      <th>company</th>\n",
       "      <th>hourly_wage</th>\n",
       "      <th>area1</th>\n",
       "      <th>area2</th>\n",
       "      <th>outlier</th>\n",
       "      <th>name</th>\n",
       "    </tr>\n",
       "  </thead>\n",
       "  <tbody>\n",
       "    <tr>\n",
       "      <th>0</th>\n",
       "      <td>강남구 삼성동</td>\n",
       "      <td>gs25 오크우드점</td>\n",
       "      <td>5600</td>\n",
       "      <td>강남구</td>\n",
       "      <td>삼성동</td>\n",
       "      <td>0</td>\n",
       "      <td>gs25</td>\n",
       "    </tr>\n",
       "    <tr>\n",
       "      <th>1</th>\n",
       "      <td>강남구 삼성동</td>\n",
       "      <td>gs25 코엑스점</td>\n",
       "      <td>5700</td>\n",
       "      <td>강남구</td>\n",
       "      <td>삼성동</td>\n",
       "      <td>0</td>\n",
       "      <td>gs25</td>\n",
       "    </tr>\n",
       "    <tr>\n",
       "      <th>2</th>\n",
       "      <td>강서구 화곡동</td>\n",
       "      <td>gs25편의점</td>\n",
       "      <td>5600</td>\n",
       "      <td>강서구</td>\n",
       "      <td>화곡동</td>\n",
       "      <td>0</td>\n",
       "      <td>gs25</td>\n",
       "    </tr>\n",
       "  </tbody>\n",
       "</table>\n",
       "</div>"
      ],
      "text/plain": [
       "      area     company  hourly_wage area1 area2  outlier  name\n",
       "0  강남구 삼성동  gs25 오크우드점         5600   강남구   삼성동        0  gs25\n",
       "1  강남구 삼성동   gs25 코엑스점         5700   강남구   삼성동        0  gs25\n",
       "2  강서구 화곡동     gs25편의점         5600   강서구   화곡동        0  gs25"
      ]
     },
     "execution_count": 1,
     "metadata": {},
     "output_type": "execute_result"
    }
   ],
   "source": [
    "import numpy as np\n",
    "import pandas as pd\n",
    "\n",
    "data = pd.read_csv('C:/Users/ParkHanna/Desktop/HRD/BigData/data/convstore.csv', encoding='cp949')\n",
    "\n",
    "data.head(3)"
   ]
  },
  {
   "cell_type": "code",
   "execution_count": 2,
   "id": "59409f48",
   "metadata": {},
   "outputs": [
    {
     "data": {
      "text/plain": [
       "<bound method DataFrame.info of          area     company  hourly_wage area1 area2  outlier  name\n",
       "0     강남구 삼성동  gs25 오크우드점         5600   강남구   삼성동        0  gs25\n",
       "1     강남구 삼성동   gs25 코엑스점         5700   강남구   삼성동        0  gs25\n",
       "2     강서구 화곡동     gs25편의점         5600   강서구   화곡동        0  gs25\n",
       "3     광진구 군자동        gs25         5580   광진구   군자동        0  gs25\n",
       "4     광진구 중곡동   gs25중곡대원점         5580   광진구   중곡동        0  gs25\n",
       "..        ...         ...          ...   ...   ...      ...   ...\n",
       "172   용산구 한남동  CU 한남리첸시아점         6600   용산구   한남동        0    CU\n",
       "173  용산구 이태원동  CU 이태원프리덤점         7500   용산구  이태원동        0    CU\n",
       "174   용산구 문배동  CU 용산지오베르크         5800   용산구   문배동        0    CU\n",
       "175   은평구 대조동    큐브(CUBE)         6000   은평구   대조동        0    CU\n",
       "176   은평구 불광동    CU 불광으뜸점         5580   은평구   불광동        0    CU\n",
       "\n",
       "[177 rows x 7 columns]>"
      ]
     },
     "execution_count": 2,
     "metadata": {},
     "output_type": "execute_result"
    }
   ],
   "source": [
    "data.info"
   ]
  },
  {
   "cell_type": "code",
   "execution_count": 3,
   "id": "4da867ab",
   "metadata": {},
   "outputs": [
    {
     "data": {
      "text/plain": [
       "RangeIndex(start=0, stop=177, step=1)"
      ]
     },
     "execution_count": 3,
     "metadata": {},
     "output_type": "execute_result"
    }
   ],
   "source": [
    "data.index"
   ]
  },
  {
   "cell_type": "code",
   "execution_count": 4,
   "id": "973af20e",
   "metadata": {},
   "outputs": [
    {
     "data": {
      "text/plain": [
       "Index(['area', 'company', 'hourly_wage', 'area1', 'area2', 'outlier', 'name'], dtype='object')"
      ]
     },
     "execution_count": 4,
     "metadata": {},
     "output_type": "execute_result"
    }
   ],
   "source": [
    "data.columns"
   ]
  },
  {
   "cell_type": "code",
   "execution_count": 6,
   "id": "5b59db90",
   "metadata": {},
   "outputs": [
    {
     "data": {
      "text/plain": [
       "array([['강남구 삼성동', 'gs25 오크우드점', 5600, ..., '삼성동', 0, 'gs25'],\n",
       "       ['강남구 삼성동', 'gs25 코엑스점', 5700, ..., '삼성동', 0, 'gs25'],\n",
       "       ['강서구 화곡동', 'gs25편의점', 5600, ..., '화곡동', 0, 'gs25'],\n",
       "       ...,\n",
       "       ['용산구 문배동', 'CU 용산지오베르크', 5800, ..., '문배동', 0, 'CU'],\n",
       "       ['은평구 대조동', '큐브(CUBE)', 6000, ..., '대조동', 0, 'CU'],\n",
       "       ['은평구 불광동', 'CU 불광으뜸점', 5580, ..., '불광동', 0, 'CU']], dtype=object)"
      ]
     },
     "execution_count": 6,
     "metadata": {},
     "output_type": "execute_result"
    }
   ],
   "source": [
    "data.values"
   ]
  },
  {
   "cell_type": "code",
   "execution_count": 7,
   "id": "1b1f5f22",
   "metadata": {},
   "outputs": [
    {
     "data": {
      "text/plain": [
       "area           object\n",
       "company        object\n",
       "hourly_wage     int64\n",
       "area1          object\n",
       "area2          object\n",
       "outlier         int64\n",
       "name           object\n",
       "dtype: object"
      ]
     },
     "execution_count": 7,
     "metadata": {},
     "output_type": "execute_result"
    }
   ],
   "source": [
    "data.dtypes"
   ]
  },
  {
   "cell_type": "code",
   "execution_count": 10,
   "id": "f820b083",
   "metadata": {},
   "outputs": [
    {
     "data": {
      "text/html": [
       "<div>\n",
       "<style scoped>\n",
       "    .dataframe tbody tr th:only-of-type {\n",
       "        vertical-align: middle;\n",
       "    }\n",
       "\n",
       "    .dataframe tbody tr th {\n",
       "        vertical-align: top;\n",
       "    }\n",
       "\n",
       "    .dataframe thead th {\n",
       "        text-align: right;\n",
       "    }\n",
       "</style>\n",
       "<table border=\"1\" class=\"dataframe\">\n",
       "  <thead>\n",
       "    <tr style=\"text-align: right;\">\n",
       "      <th></th>\n",
       "      <th>hourly_wage</th>\n",
       "      <th>outlier</th>\n",
       "    </tr>\n",
       "  </thead>\n",
       "  <tbody>\n",
       "    <tr>\n",
       "      <th>count</th>\n",
       "      <td>177.000000</td>\n",
       "      <td>177.0</td>\n",
       "    </tr>\n",
       "    <tr>\n",
       "      <th>mean</th>\n",
       "      <td>5787.627119</td>\n",
       "      <td>0.0</td>\n",
       "    </tr>\n",
       "    <tr>\n",
       "      <th>std</th>\n",
       "      <td>352.318646</td>\n",
       "      <td>0.0</td>\n",
       "    </tr>\n",
       "    <tr>\n",
       "      <th>min</th>\n",
       "      <td>5580.000000</td>\n",
       "      <td>0.0</td>\n",
       "    </tr>\n",
       "    <tr>\n",
       "      <th>25%</th>\n",
       "      <td>5580.000000</td>\n",
       "      <td>0.0</td>\n",
       "    </tr>\n",
       "    <tr>\n",
       "      <th>50%</th>\n",
       "      <td>5600.000000</td>\n",
       "      <td>0.0</td>\n",
       "    </tr>\n",
       "    <tr>\n",
       "      <th>75%</th>\n",
       "      <td>6000.000000</td>\n",
       "      <td>0.0</td>\n",
       "    </tr>\n",
       "    <tr>\n",
       "      <th>max</th>\n",
       "      <td>7500.000000</td>\n",
       "      <td>0.0</td>\n",
       "    </tr>\n",
       "  </tbody>\n",
       "</table>\n",
       "</div>"
      ],
      "text/plain": [
       "       hourly_wage  outlier\n",
       "count   177.000000    177.0\n",
       "mean   5787.627119      0.0\n",
       "std     352.318646      0.0\n",
       "min    5580.000000      0.0\n",
       "25%    5580.000000      0.0\n",
       "50%    5600.000000      0.0\n",
       "75%    6000.000000      0.0\n",
       "max    7500.000000      0.0"
      ]
     },
     "execution_count": 10,
     "metadata": {},
     "output_type": "execute_result"
    }
   ],
   "source": [
    "data.describe()"
   ]
  },
  {
   "cell_type": "markdown",
   "id": "182c2012",
   "metadata": {},
   "source": [
    "시급이 6500원 이상인 지점"
   ]
  },
  {
   "cell_type": "code",
   "execution_count": 12,
   "id": "87542931",
   "metadata": {},
   "outputs": [],
   "source": [
    "highwage = data[(data.hourly_wage >= 6500)]"
   ]
  },
  {
   "cell_type": "code",
   "execution_count": 14,
   "id": "38f60ec7",
   "metadata": {},
   "outputs": [
    {
     "data": {
      "text/html": [
       "<div>\n",
       "<style scoped>\n",
       "    .dataframe tbody tr th:only-of-type {\n",
       "        vertical-align: middle;\n",
       "    }\n",
       "\n",
       "    .dataframe tbody tr th {\n",
       "        vertical-align: top;\n",
       "    }\n",
       "\n",
       "    .dataframe thead th {\n",
       "        text-align: right;\n",
       "    }\n",
       "</style>\n",
       "<table border=\"1\" class=\"dataframe\">\n",
       "  <thead>\n",
       "    <tr style=\"text-align: right;\">\n",
       "      <th></th>\n",
       "      <th>area</th>\n",
       "      <th>company</th>\n",
       "      <th>hourly_wage</th>\n",
       "      <th>area1</th>\n",
       "      <th>area2</th>\n",
       "      <th>outlier</th>\n",
       "      <th>name</th>\n",
       "    </tr>\n",
       "  </thead>\n",
       "  <tbody>\n",
       "    <tr>\n",
       "      <th>29</th>\n",
       "      <td>강남구 논현동</td>\n",
       "      <td>세븐일레븐편의점</td>\n",
       "      <td>7500</td>\n",
       "      <td>강남구</td>\n",
       "      <td>논현동</td>\n",
       "      <td>0</td>\n",
       "      <td>7/11</td>\n",
       "    </tr>\n",
       "    <tr>\n",
       "      <th>30</th>\n",
       "      <td>강남구 청담동</td>\n",
       "      <td>세븐일레븐 청담그린점</td>\n",
       "      <td>6500</td>\n",
       "      <td>강남구</td>\n",
       "      <td>청담동</td>\n",
       "      <td>0</td>\n",
       "      <td>7/11</td>\n",
       "    </tr>\n",
       "    <tr>\n",
       "      <th>37</th>\n",
       "      <td>강서구 등촌동</td>\n",
       "      <td>세븐일레븐 서울호서대점</td>\n",
       "      <td>6600</td>\n",
       "      <td>강서구</td>\n",
       "      <td>등촌동</td>\n",
       "      <td>0</td>\n",
       "      <td>7/11</td>\n",
       "    </tr>\n",
       "    <tr>\n",
       "      <th>53</th>\n",
       "      <td>구로구 구로4동</td>\n",
       "      <td>세븐일레븐 구로리공원점</td>\n",
       "      <td>6500</td>\n",
       "      <td>구로구</td>\n",
       "      <td>구로4동</td>\n",
       "      <td>0</td>\n",
       "      <td>7/11</td>\n",
       "    </tr>\n",
       "    <tr>\n",
       "      <th>60</th>\n",
       "      <td>도봉구 창동</td>\n",
       "      <td>세븐일레븐</td>\n",
       "      <td>6500</td>\n",
       "      <td>도봉구</td>\n",
       "      <td>창동</td>\n",
       "      <td>0</td>\n",
       "      <td>7/11</td>\n",
       "    </tr>\n",
       "    <tr>\n",
       "      <th>72</th>\n",
       "      <td>마포구 동교동</td>\n",
       "      <td>세븐일레븐 마포홍익점</td>\n",
       "      <td>6500</td>\n",
       "      <td>마포구</td>\n",
       "      <td>동교동</td>\n",
       "      <td>0</td>\n",
       "      <td>7/11</td>\n",
       "    </tr>\n",
       "    <tr>\n",
       "      <th>89</th>\n",
       "      <td>성동구 사근동</td>\n",
       "      <td>세븐일레븐 한양대학교병원점</td>\n",
       "      <td>6500</td>\n",
       "      <td>성동구</td>\n",
       "      <td>사근동</td>\n",
       "      <td>0</td>\n",
       "      <td>7/11</td>\n",
       "    </tr>\n",
       "    <tr>\n",
       "      <th>135</th>\n",
       "      <td>중구 명동2가</td>\n",
       "      <td>세븐일레븐</td>\n",
       "      <td>6690</td>\n",
       "      <td>중구</td>\n",
       "      <td>명동2가</td>\n",
       "      <td>0</td>\n",
       "      <td>7/11</td>\n",
       "    </tr>\n",
       "    <tr>\n",
       "      <th>137</th>\n",
       "      <td>중구 북창동</td>\n",
       "      <td>세븐일레븐 북창점</td>\n",
       "      <td>6500</td>\n",
       "      <td>중구</td>\n",
       "      <td>북창동</td>\n",
       "      <td>0</td>\n",
       "      <td>7/11</td>\n",
       "    </tr>\n",
       "    <tr>\n",
       "      <th>145</th>\n",
       "      <td>강남구 논현1동</td>\n",
       "      <td>CUBE pc방</td>\n",
       "      <td>6500</td>\n",
       "      <td>강남구</td>\n",
       "      <td>논현1동</td>\n",
       "      <td>0</td>\n",
       "      <td>CU</td>\n",
       "    </tr>\n",
       "  </tbody>\n",
       "</table>\n",
       "</div>"
      ],
      "text/plain": [
       "         area         company  hourly_wage area1 area2  outlier  name\n",
       "29    강남구 논현동        세븐일레븐편의점         7500   강남구   논현동        0  7/11\n",
       "30    강남구 청담동     세븐일레븐 청담그린점         6500   강남구   청담동        0  7/11\n",
       "37    강서구 등촌동    세븐일레븐 서울호서대점         6600   강서구   등촌동        0  7/11\n",
       "53   구로구 구로4동    세븐일레븐 구로리공원점         6500   구로구  구로4동        0  7/11\n",
       "60     도봉구 창동           세븐일레븐         6500   도봉구    창동        0  7/11\n",
       "72    마포구 동교동     세븐일레븐 마포홍익점         6500   마포구   동교동        0  7/11\n",
       "89    성동구 사근동  세븐일레븐 한양대학교병원점         6500   성동구   사근동        0  7/11\n",
       "135   중구 명동2가           세븐일레븐         6690    중구  명동2가        0  7/11\n",
       "137    중구 북창동       세븐일레븐 북창점         6500    중구   북창동        0  7/11\n",
       "145  강남구 논현1동        CUBE pc방         6500   강남구  논현1동        0    CU"
      ]
     },
     "execution_count": 14,
     "metadata": {},
     "output_type": "execute_result"
    }
   ],
   "source": [
    "highwage.head(10)"
   ]
  },
  {
   "cell_type": "markdown",
   "id": "981a27b9",
   "metadata": {},
   "source": [
    "시급이 6500원 이상인 지점 T, 아니면 F 인 highwage column 추가"
   ]
  },
  {
   "cell_type": "code",
   "execution_count": 15,
   "id": "c750319f",
   "metadata": {},
   "outputs": [
    {
     "data": {
      "text/html": [
       "<div>\n",
       "<style scoped>\n",
       "    .dataframe tbody tr th:only-of-type {\n",
       "        vertical-align: middle;\n",
       "    }\n",
       "\n",
       "    .dataframe tbody tr th {\n",
       "        vertical-align: top;\n",
       "    }\n",
       "\n",
       "    .dataframe thead th {\n",
       "        text-align: right;\n",
       "    }\n",
       "</style>\n",
       "<table border=\"1\" class=\"dataframe\">\n",
       "  <thead>\n",
       "    <tr style=\"text-align: right;\">\n",
       "      <th></th>\n",
       "      <th>area</th>\n",
       "      <th>company</th>\n",
       "      <th>hourly_wage</th>\n",
       "      <th>area1</th>\n",
       "      <th>area2</th>\n",
       "      <th>outlier</th>\n",
       "      <th>name</th>\n",
       "      <th>highwage</th>\n",
       "    </tr>\n",
       "  </thead>\n",
       "  <tbody>\n",
       "    <tr>\n",
       "      <th>167</th>\n",
       "      <td>성북구 안암동5</td>\n",
       "      <td>CU고대호랑이점</td>\n",
       "      <td>5600</td>\n",
       "      <td>성북구</td>\n",
       "      <td>안암동5</td>\n",
       "      <td>0</td>\n",
       "      <td>CU</td>\n",
       "      <td>False</td>\n",
       "    </tr>\n",
       "    <tr>\n",
       "      <th>168</th>\n",
       "      <td>송파구 신천동</td>\n",
       "      <td>CU신천포스코점</td>\n",
       "      <td>5580</td>\n",
       "      <td>송파구</td>\n",
       "      <td>신천동</td>\n",
       "      <td>0</td>\n",
       "      <td>CU</td>\n",
       "      <td>False</td>\n",
       "    </tr>\n",
       "    <tr>\n",
       "      <th>169</th>\n",
       "      <td>송파구 풍납동</td>\n",
       "      <td>CU풍납우성점</td>\n",
       "      <td>5580</td>\n",
       "      <td>송파구</td>\n",
       "      <td>풍납동</td>\n",
       "      <td>0</td>\n",
       "      <td>CU</td>\n",
       "      <td>False</td>\n",
       "    </tr>\n",
       "    <tr>\n",
       "      <th>170</th>\n",
       "      <td>영등포구 당산동</td>\n",
       "      <td>CU</td>\n",
       "      <td>5580</td>\n",
       "      <td>영등포구</td>\n",
       "      <td>당산동</td>\n",
       "      <td>0</td>\n",
       "      <td>CU</td>\n",
       "      <td>False</td>\n",
       "    </tr>\n",
       "    <tr>\n",
       "      <th>171</th>\n",
       "      <td>영등포구 당산동3</td>\n",
       "      <td>CU mart</td>\n",
       "      <td>5700</td>\n",
       "      <td>영등포구</td>\n",
       "      <td>당산동3</td>\n",
       "      <td>0</td>\n",
       "      <td>CU</td>\n",
       "      <td>False</td>\n",
       "    </tr>\n",
       "    <tr>\n",
       "      <th>172</th>\n",
       "      <td>용산구 한남동</td>\n",
       "      <td>CU 한남리첸시아점</td>\n",
       "      <td>6600</td>\n",
       "      <td>용산구</td>\n",
       "      <td>한남동</td>\n",
       "      <td>0</td>\n",
       "      <td>CU</td>\n",
       "      <td>True</td>\n",
       "    </tr>\n",
       "    <tr>\n",
       "      <th>173</th>\n",
       "      <td>용산구 이태원동</td>\n",
       "      <td>CU 이태원프리덤점</td>\n",
       "      <td>7500</td>\n",
       "      <td>용산구</td>\n",
       "      <td>이태원동</td>\n",
       "      <td>0</td>\n",
       "      <td>CU</td>\n",
       "      <td>True</td>\n",
       "    </tr>\n",
       "    <tr>\n",
       "      <th>174</th>\n",
       "      <td>용산구 문배동</td>\n",
       "      <td>CU 용산지오베르크</td>\n",
       "      <td>5800</td>\n",
       "      <td>용산구</td>\n",
       "      <td>문배동</td>\n",
       "      <td>0</td>\n",
       "      <td>CU</td>\n",
       "      <td>False</td>\n",
       "    </tr>\n",
       "    <tr>\n",
       "      <th>175</th>\n",
       "      <td>은평구 대조동</td>\n",
       "      <td>큐브(CUBE)</td>\n",
       "      <td>6000</td>\n",
       "      <td>은평구</td>\n",
       "      <td>대조동</td>\n",
       "      <td>0</td>\n",
       "      <td>CU</td>\n",
       "      <td>False</td>\n",
       "    </tr>\n",
       "    <tr>\n",
       "      <th>176</th>\n",
       "      <td>은평구 불광동</td>\n",
       "      <td>CU 불광으뜸점</td>\n",
       "      <td>5580</td>\n",
       "      <td>은평구</td>\n",
       "      <td>불광동</td>\n",
       "      <td>0</td>\n",
       "      <td>CU</td>\n",
       "      <td>False</td>\n",
       "    </tr>\n",
       "  </tbody>\n",
       "</table>\n",
       "</div>"
      ],
      "text/plain": [
       "          area     company  hourly_wage area1 area2  outlier name  highwage\n",
       "167   성북구 안암동5    CU고대호랑이점         5600   성북구  안암동5        0   CU     False\n",
       "168    송파구 신천동    CU신천포스코점         5580   송파구   신천동        0   CU     False\n",
       "169    송파구 풍납동     CU풍납우성점         5580   송파구   풍납동        0   CU     False\n",
       "170   영등포구 당산동          CU         5580  영등포구   당산동        0   CU     False\n",
       "171  영등포구 당산동3     CU mart         5700  영등포구  당산동3        0   CU     False\n",
       "172    용산구 한남동  CU 한남리첸시아점         6600   용산구   한남동        0   CU      True\n",
       "173   용산구 이태원동  CU 이태원프리덤점         7500   용산구  이태원동        0   CU      True\n",
       "174    용산구 문배동  CU 용산지오베르크         5800   용산구   문배동        0   CU     False\n",
       "175    은평구 대조동    큐브(CUBE)         6000   은평구   대조동        0   CU     False\n",
       "176    은평구 불광동    CU 불광으뜸점         5580   은평구   불광동        0   CU     False"
      ]
     },
     "execution_count": 15,
     "metadata": {},
     "output_type": "execute_result"
    }
   ],
   "source": [
    "data['highwage'] = data.hourly_wage >= 6500\n",
    "data.tail(10)"
   ]
  },
  {
   "cell_type": "markdown",
   "id": "c174d434",
   "metadata": {},
   "source": [
    "강남구에 위치한 시급 6500원 인 편의점"
   ]
  },
  {
   "cell_type": "code",
   "execution_count": 17,
   "id": "2c0808b3",
   "metadata": {},
   "outputs": [
    {
     "data": {
      "text/html": [
       "<div>\n",
       "<style scoped>\n",
       "    .dataframe tbody tr th:only-of-type {\n",
       "        vertical-align: middle;\n",
       "    }\n",
       "\n",
       "    .dataframe tbody tr th {\n",
       "        vertical-align: top;\n",
       "    }\n",
       "\n",
       "    .dataframe thead th {\n",
       "        text-align: right;\n",
       "    }\n",
       "</style>\n",
       "<table border=\"1\" class=\"dataframe\">\n",
       "  <thead>\n",
       "    <tr style=\"text-align: right;\">\n",
       "      <th></th>\n",
       "      <th>area</th>\n",
       "      <th>company</th>\n",
       "      <th>hourly_wage</th>\n",
       "      <th>area1</th>\n",
       "      <th>area2</th>\n",
       "      <th>outlier</th>\n",
       "      <th>name</th>\n",
       "      <th>highwage</th>\n",
       "    </tr>\n",
       "  </thead>\n",
       "  <tbody>\n",
       "    <tr>\n",
       "      <th>29</th>\n",
       "      <td>강남구 논현동</td>\n",
       "      <td>세븐일레븐편의점</td>\n",
       "      <td>7500</td>\n",
       "      <td>강남구</td>\n",
       "      <td>논현동</td>\n",
       "      <td>0</td>\n",
       "      <td>7/11</td>\n",
       "      <td>True</td>\n",
       "    </tr>\n",
       "    <tr>\n",
       "      <th>30</th>\n",
       "      <td>강남구 청담동</td>\n",
       "      <td>세븐일레븐 청담그린점</td>\n",
       "      <td>6500</td>\n",
       "      <td>강남구</td>\n",
       "      <td>청담동</td>\n",
       "      <td>0</td>\n",
       "      <td>7/11</td>\n",
       "      <td>True</td>\n",
       "    </tr>\n",
       "    <tr>\n",
       "      <th>145</th>\n",
       "      <td>강남구 논현1동</td>\n",
       "      <td>CUBE pc방</td>\n",
       "      <td>6500</td>\n",
       "      <td>강남구</td>\n",
       "      <td>논현1동</td>\n",
       "      <td>0</td>\n",
       "      <td>CU</td>\n",
       "      <td>True</td>\n",
       "    </tr>\n",
       "  </tbody>\n",
       "</table>\n",
       "</div>"
      ],
      "text/plain": [
       "         area      company  hourly_wage area1 area2  outlier  name  highwage\n",
       "29    강남구 논현동     세븐일레븐편의점         7500   강남구   논현동        0  7/11      True\n",
       "30    강남구 청담동  세븐일레븐 청담그린점         6500   강남구   청담동        0  7/11      True\n",
       "145  강남구 논현1동     CUBE pc방         6500   강남구  논현1동        0    CU      True"
      ]
     },
     "execution_count": 17,
     "metadata": {},
     "output_type": "execute_result"
    }
   ],
   "source": [
    "Gangnam_highwage = data[(data.hourly_wage >= 6500) & (data.area1 == '강남구')]\n",
    "Gangnam_highwage.head(10)"
   ]
  },
  {
   "cell_type": "markdown",
   "id": "c203e303",
   "metadata": {},
   "source": [
    "강남구 대치동에 위치한 시급 6500원인 편의점"
   ]
  },
  {
   "cell_type": "code",
   "execution_count": 19,
   "id": "1b8a977f",
   "metadata": {},
   "outputs": [
    {
     "data": {
      "text/html": [
       "<div>\n",
       "<style scoped>\n",
       "    .dataframe tbody tr th:only-of-type {\n",
       "        vertical-align: middle;\n",
       "    }\n",
       "\n",
       "    .dataframe tbody tr th {\n",
       "        vertical-align: top;\n",
       "    }\n",
       "\n",
       "    .dataframe thead th {\n",
       "        text-align: right;\n",
       "    }\n",
       "</style>\n",
       "<table border=\"1\" class=\"dataframe\">\n",
       "  <thead>\n",
       "    <tr style=\"text-align: right;\">\n",
       "      <th></th>\n",
       "      <th>area</th>\n",
       "      <th>company</th>\n",
       "      <th>hourly_wage</th>\n",
       "      <th>area1</th>\n",
       "      <th>area2</th>\n",
       "      <th>outlier</th>\n",
       "      <th>name</th>\n",
       "      <th>highwage</th>\n",
       "    </tr>\n",
       "  </thead>\n",
       "  <tbody>\n",
       "  </tbody>\n",
       "</table>\n",
       "</div>"
      ],
      "text/plain": [
       "Empty DataFrame\n",
       "Columns: [area, company, hourly_wage, area1, area2, outlier, name, highwage]\n",
       "Index: []"
      ]
     },
     "execution_count": 19,
     "metadata": {},
     "output_type": "execute_result"
    }
   ],
   "source": [
    "DachiD_highwage = data[(data.hourly_wage >= 6500) & (data.area1 == '강남구') & (data.area2 == '대치동')]\n",
    "DachiD_highwage.head(10)"
   ]
  },
  {
   "cell_type": "markdown",
   "id": "2b664a2c",
   "metadata": {},
   "source": [
    "시급이 6500원 이상 편의점 데이터 통계량"
   ]
  },
  {
   "cell_type": "code",
   "execution_count": 20,
   "id": "f80d1d2a",
   "metadata": {},
   "outputs": [
    {
     "data": {
      "text/html": [
       "<div>\n",
       "<style scoped>\n",
       "    .dataframe tbody tr th:only-of-type {\n",
       "        vertical-align: middle;\n",
       "    }\n",
       "\n",
       "    .dataframe tbody tr th {\n",
       "        vertical-align: top;\n",
       "    }\n",
       "\n",
       "    .dataframe thead th {\n",
       "        text-align: right;\n",
       "    }\n",
       "</style>\n",
       "<table border=\"1\" class=\"dataframe\">\n",
       "  <thead>\n",
       "    <tr style=\"text-align: right;\">\n",
       "      <th></th>\n",
       "      <th>hourly_wage</th>\n",
       "      <th>outlier</th>\n",
       "    </tr>\n",
       "  </thead>\n",
       "  <tbody>\n",
       "    <tr>\n",
       "      <th>count</th>\n",
       "      <td>14.000000</td>\n",
       "      <td>14.0</td>\n",
       "    </tr>\n",
       "    <tr>\n",
       "      <th>mean</th>\n",
       "      <td>6699.285714</td>\n",
       "      <td>0.0</td>\n",
       "    </tr>\n",
       "    <tr>\n",
       "      <th>std</th>\n",
       "      <td>357.350599</td>\n",
       "      <td>0.0</td>\n",
       "    </tr>\n",
       "    <tr>\n",
       "      <th>min</th>\n",
       "      <td>6500.000000</td>\n",
       "      <td>0.0</td>\n",
       "    </tr>\n",
       "    <tr>\n",
       "      <th>25%</th>\n",
       "      <td>6500.000000</td>\n",
       "      <td>0.0</td>\n",
       "    </tr>\n",
       "    <tr>\n",
       "      <th>50%</th>\n",
       "      <td>6500.000000</td>\n",
       "      <td>0.0</td>\n",
       "    </tr>\n",
       "    <tr>\n",
       "      <th>75%</th>\n",
       "      <td>6667.500000</td>\n",
       "      <td>0.0</td>\n",
       "    </tr>\n",
       "    <tr>\n",
       "      <th>max</th>\n",
       "      <td>7500.000000</td>\n",
       "      <td>0.0</td>\n",
       "    </tr>\n",
       "  </tbody>\n",
       "</table>\n",
       "</div>"
      ],
      "text/plain": [
       "       hourly_wage  outlier\n",
       "count    14.000000     14.0\n",
       "mean   6699.285714      0.0\n",
       "std     357.350599      0.0\n",
       "min    6500.000000      0.0\n",
       "25%    6500.000000      0.0\n",
       "50%    6500.000000      0.0\n",
       "75%    6667.500000      0.0\n",
       "max    7500.000000      0.0"
      ]
     },
     "execution_count": 20,
     "metadata": {},
     "output_type": "execute_result"
    }
   ],
   "source": [
    "data[data.highwage == True].describe()"
   ]
  },
  {
   "cell_type": "markdown",
   "id": "95809695",
   "metadata": {},
   "source": [
    "시급이 6500원 이상인 지역의 데이터 시각화 <br> <조건 1> 지역구, 시급만 오름차순으로 정렬"
   ]
  },
  {
   "cell_type": "code",
   "execution_count": 23,
   "id": "21e5ea7b",
   "metadata": {},
   "outputs": [
    {
     "data": {
      "text/html": [
       "<div>\n",
       "<style scoped>\n",
       "    .dataframe tbody tr th:only-of-type {\n",
       "        vertical-align: middle;\n",
       "    }\n",
       "\n",
       "    .dataframe tbody tr th {\n",
       "        vertical-align: top;\n",
       "    }\n",
       "\n",
       "    .dataframe thead th {\n",
       "        text-align: right;\n",
       "    }\n",
       "</style>\n",
       "<table border=\"1\" class=\"dataframe\">\n",
       "  <thead>\n",
       "    <tr style=\"text-align: right;\">\n",
       "      <th></th>\n",
       "      <th>area1</th>\n",
       "      <th>hourly_wage</th>\n",
       "    </tr>\n",
       "  </thead>\n",
       "  <tbody>\n",
       "    <tr>\n",
       "      <th>29</th>\n",
       "      <td>강남구</td>\n",
       "      <td>7500</td>\n",
       "    </tr>\n",
       "    <tr>\n",
       "      <th>173</th>\n",
       "      <td>용산구</td>\n",
       "      <td>7500</td>\n",
       "    </tr>\n",
       "    <tr>\n",
       "      <th>160</th>\n",
       "      <td>서대문구</td>\n",
       "      <td>6900</td>\n",
       "    </tr>\n",
       "    <tr>\n",
       "      <th>135</th>\n",
       "      <td>중구</td>\n",
       "      <td>6690</td>\n",
       "    </tr>\n",
       "    <tr>\n",
       "      <th>37</th>\n",
       "      <td>강서구</td>\n",
       "      <td>6600</td>\n",
       "    </tr>\n",
       "    <tr>\n",
       "      <th>172</th>\n",
       "      <td>용산구</td>\n",
       "      <td>6600</td>\n",
       "    </tr>\n",
       "    <tr>\n",
       "      <th>30</th>\n",
       "      <td>강남구</td>\n",
       "      <td>6500</td>\n",
       "    </tr>\n",
       "    <tr>\n",
       "      <th>53</th>\n",
       "      <td>구로구</td>\n",
       "      <td>6500</td>\n",
       "    </tr>\n",
       "    <tr>\n",
       "      <th>60</th>\n",
       "      <td>도봉구</td>\n",
       "      <td>6500</td>\n",
       "    </tr>\n",
       "    <tr>\n",
       "      <th>72</th>\n",
       "      <td>마포구</td>\n",
       "      <td>6500</td>\n",
       "    </tr>\n",
       "  </tbody>\n",
       "</table>\n",
       "</div>"
      ],
      "text/plain": [
       "    area1  hourly_wage\n",
       "29    강남구         7500\n",
       "173   용산구         7500\n",
       "160  서대문구         6900\n",
       "135    중구         6690\n",
       "37    강서구         6600\n",
       "172   용산구         6600\n",
       "30    강남구         6500\n",
       "53    구로구         6500\n",
       "60    도봉구         6500\n",
       "72    마포구         6500"
      ]
     },
     "execution_count": 23,
     "metadata": {},
     "output_type": "execute_result"
    }
   ],
   "source": [
    "data_area_highwage = data[data.highwage == True][['area1','hourly_wage']]\n",
    "data_area_highwage = data_area_highwage.sort_values(by='hourly_wage', ascending=0)\n",
    "\n",
    "data_area_highwage.head(10)"
   ]
  },
  {
   "cell_type": "code",
   "execution_count": 24,
   "id": "641aef17",
   "metadata": {},
   "outputs": [],
   "source": [
    "data_area_highwage.to_csv('data1.csv', index='False')"
   ]
  },
  {
   "cell_type": "code",
   "execution_count": 28,
   "id": "62dd68b6",
   "metadata": {},
   "outputs": [],
   "source": [
    "import matplotlib.pyplot as plt"
   ]
  },
  {
   "cell_type": "code",
   "execution_count": 30,
   "id": "06ad37fc",
   "metadata": {},
   "outputs": [
    {
     "data": {
      "text/plain": [
       "array([[<AxesSubplot:title={'center':'hourly_wage'}>]], dtype=object)"
      ]
     },
     "execution_count": 30,
     "metadata": {},
     "output_type": "execute_result"
    },
    {
     "data": {
      "image/png": "[encoded data removed]",
      "text/plain": [
       "<Figure size 432x288 with 1 Axes>"
      ]
     },
     "metadata": {
      "needs_background": "light"
     },
     "output_type": "display_data"
    }
   ],
   "source": [
    "data_area_highwage.hist(bins = 10)"
   ]
  },
  {
   "cell_type": "code",
   "execution_count": 31,
   "id": "023bf301",
   "metadata": {},
   "outputs": [
    {
     "data": {
      "text/plain": [
       "<AxesSubplot:title={'center':'hourly_wage'}, xlabel='name'>"
      ]
     },
     "execution_count": 31,
     "metadata": {},
     "output_type": "execute_result"
    },
    {
     "data": {
      "image/png": "[encoded data removed]",
      "text/plain": [
       "<Figure size 432x288 with 1 Axes>"
      ]
     },
     "metadata": {
      "needs_background": "light"
     },
     "output_type": "display_data"
    }
   ],
   "source": [
    "data.boxplot(column = 'hourly_wage',by='name')"
   ]
  },
  {
   "cell_type": "code",
   "execution_count": null,
   "id": "43ecfc92",
   "metadata": {},
   "outputs": [],
   "source": []
  }
 ],
 "metadata": {
  "kernelspec": {
   "display_name": "Python 3 (ipykernel)",
   "language": "python",
   "name": "python3"
  },
  "language_info": {
   "codemirror_mode": {
    "name": "ipython",
    "version": 3
   },
   "file_extension": ".py",
   "mimetype": "text/x-python",
   "name": "python",
   "nbconvert_exporter": "python",
   "pygments_lexer": "ipython3",
   "version": "3.9.12"
  }
 },
 "nbformat": 4,
 "nbformat_minor": 5
}
