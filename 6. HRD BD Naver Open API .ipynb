{
 "cells": [
  {
   "cell_type": "code",
   "execution_count": 2,
   "id": "2d852748",
   "metadata": {},
   "outputs": [],
   "source": [
    "import os\n",
    "import sys\n",
    "import urllib.request\n",
    "\n",
    "import pandas as pd\n",
    "import numpy as np"
   ]
  },
  {
   "cell_type": "code",
   "execution_count": 3,
   "id": "adec7def",
   "metadata": {},
   "outputs": [],
   "source": [
    "client_id = \"DLFaH524ayeUqA7H1woC\"\n",
    "cliend_secret = \"puqJZgKMAl\""
   ]
  },
  {
   "cell_type": "code",
   "execution_count": 4,
   "id": "16f6f8e4",
   "metadata": {},
   "outputs": [],
   "source": [
    "encText = urllib.request.quote(\"가로수길 브런치\")"
   ]
  },
  {
   "cell_type": "code",
   "execution_count": 5,
   "id": "da452891",
   "metadata": {},
   "outputs": [],
   "source": [
    "url = \"https://openapi.naver.com/v1/search/blog?query=\" + encText"
   ]
  },
  {
   "cell_type": "code",
   "execution_count": 7,
   "id": "9ebc5a17",
   "metadata": {},
   "outputs": [
    {
     "name": "stdout",
     "output_type": "stream",
     "text": [
      "{\n",
      "\t\"lastBuildDate\":\"Tue, 23 Aug 2022 15:15:59 +0900\",\n",
      "\t\"total\":57942,\n",
      "\t\"start\":1,\n",
      "\t\"display\":10,\n",
      "\t\"items\":[\n",
      "\t\t{\n",
      "\t\t\t\"title\":\"잊히지 않는 <b>가로수길 브런치<\\/b>\",\n",
      "\t\t\t\"link\":\"https:\\/\\/blog.naver.com\\/eunji4620?Redirect=Log&logNo=222840275080\",\n",
      "\t\t\t\"description\":\"알아놓은 <b>가로수길 브런치<\\/b> 먹으러 갔어요. 따사로운 햇살이 비추는 야외 테이블에서 즐긴 다채로운 브런치가 아직까지 잊히지 않아 여러분께도 소개해 드릴게요! 이번에 찾아간 식당은 가로수길 부근에서... \",\n",
      "\t\t\t\"bloggername\":\"자연과 더불어 살아가는 삼남매네 이야기\",\n",
      "\t\t\t\"bloggerlink\":\"https:\\/\\/blog.naver.com\\/eunji4620\",\n",
      "\t\t\t\"postdate\":\"20220805\"\n",
      "\t\t},\n",
      "\t\t{\n",
      "\t\t\t\"title\":\"플레이버스바이바프 @ <b>가로수길 브런치<\\/b> 카페\",\n",
      "\t\t\t\"link\":\"https:\\/\\/blog.naver.com\\/parisunset?Redirect=Log&logNo=222788757086\",\n",
      "\t\t\t\"description\":\"가로수길에 뉴욕느낌의 분위기 좋은 브런치카페가 생겨서 다녀왔어요 멀리서 보는데 외관부터 넘... 가로수길 핫플로 붐빌것 같은 느낌의 플레이버스 바이 바프! 플레이버스 바이 바프 @ <b>가로수길 브런치<\\/b> 카페... \",\n",
      "\t\t\t\"bloggername\":\"parisunset\",\n",
      "\t\t\t\"bloggerlink\":\"https:\\/\\/blog.naver.com\\/parisunset\",\n",
      "\t\t\t\"postdate\":\"20220625\"\n",
      "\t\t},\n",
      "\t\t{\n",
      "\t\t\t\"title\":\"[창원맛집\\/창원<b>브런치<\\/b>카페] 창원 <b>가로수길<\\/b> 트러플 머쉬룸... \",\n",
      "\t\t\t\"link\":\"https:\\/\\/blog.naver.com\\/dbflclsrn7?Redirect=Log&logNo=222703327908\",\n",
      "\t\t\t\"description\":\"싶.어.뇨.끼 #창원<b>가로수길브런치<\\/b> #창원브런치카페 #창원가로수길파스타 #창원뇨끼맛집 #뇨끼맛집 #오프트 #오프트브런치클럽 #창원맛집 #창원카페 #창원브런치 #브런치가게추천 #창원데이트 #데이트코스추천\",\n",
      "\t\t\t\"bloggername\":\"HaPpyDay_ღ\",\n",
      "\t\t\t\"bloggerlink\":\"https:\\/\\/blog.naver.com\\/dbflclsrn7\",\n",
      "\t\t\t\"postdate\":\"20220418\"\n",
      "\t\t},\n",
      "\t\t{\n",
      "\t\t\t\"title\":\"창원 <b>가로수길 브런치<\\/b> 카페 &quot;오프트&quot; 뇨끼와 브라운치즈 프렌치... \",\n",
      "\t\t\t\"link\":\"https:\\/\\/blog.naver.com\\/fls7488?Redirect=Log&logNo=222737738932\",\n",
      "\t\t\t\"description\":\"오늘의 브런치는 창원 가로수길에 있는 오프트 가로수길 맨 끝까지 오면 위치해있고 한 건물 통째로... 창원 <b>가로수길 브런치<\\/b> 역시 실망시키지 않아..,, 아무리 봐도 저 노란 알갱이의 정체를 알 순 없지만??... \",\n",
      "\t\t\t\"bloggername\":\"?\",\n",
      "\t\t\t\"bloggerlink\":\"https:\\/\\/blog.naver.com\\/fls7488\",\n",
      "\t\t\t\"postdate\":\"20220519\"\n",
      "\t\t},\n",
      "\t\t{\n",
      "\t\t\t\"title\":\"신사 <b>가로수길<\\/b> 에드엣 add. <b>브런치<\\/b> 후기\",\n",
      "\t\t\t\"link\":\"https:\\/\\/blog.naver.com\\/soos6413?Redirect=Log&logNo=222799582727\",\n",
      "\t\t\t\"description\":\"ㅠ^ㅠ 크게 마음에 드는 곳은 없었찌만 (누가 가로수길 맛집좀..) 그 중에서도 괜찮아보이는 곳으로 고고리~~ 신사 <b>가로수길 브런치<\\/b> 에드엣(add.) 가로수길 골목에 위치한 브런치 겸 와인바, 에드엣을 가는... \",\n",
      "\t\t\t\"bloggername\":\"뗄라공간\",\n",
      "\t\t\t\"bloggerlink\":\"https:\\/\\/blog.naver.com\\/soos6413\",\n",
      "\t\t\t\"postdate\":\"20220704\"\n",
      "\t\t},\n",
      "\t\t{\n",
      "\t\t\t\"title\":\"신사역 <b>가로수길 브런치<\\/b> : 어퍼웨스트\",\n",
      "\t\t\t\"link\":\"https:\\/\\/blog.naver.com\\/qqq86?Redirect=Log&logNo=222664803276\",\n",
      "\t\t\t\"description\":\"♡ 어퍼웨스트 메뉴입니다 신사역 <b>가로수길 브런치<\\/b> 맛집답게 브런치 메뉴부터 앞에 있었어요 * 참고로 브런치 메뉴는 15시까지만 주문이 가능해요 ! 그 외에도 샐러드, 파스타, 리조또, 스테이크도 있어서... \",\n",
      "\t\t\t\"bloggername\":\"Jyoung&apos;s Blog _ ♡\",\n",
      "\t\t\t\"bloggerlink\":\"https:\\/\\/blog.naver.com\\/qqq86\",\n",
      "\t\t\t\"postdate\":\"20220308\"\n",
      "\t\t},\n",
      "\t\t{\n",
      "\t\t\t\"title\":\"창원 <b>가로수길 브런치<\\/b> 맛집 오프트\",\n",
      "\t\t\t\"link\":\"https:\\/\\/blog.naver.com\\/jisu1058?Redirect=Log&logNo=222825491860\",\n",
      "\t\t\t\"description\":\"카페메뉴부터 브런치메뉴까지 원하는대로 즐길수 있는 오프트 아직 방문안해보신분들은 한 번 들러보세요 :) #창원<b>가로수길브런치<\\/b> #창원브런치카페 #창원가로수길파스타 #창원브런치 #창원가로수길맛집... \",\n",
      "\t\t\t\"bloggername\":\"Smile :)\",\n",
      "\t\t\t\"bloggerlink\":\"https:\\/\\/blog.naver.com\\/jisu1058\",\n",
      "\t\t\t\"postdate\":\"20220723\"\n",
      "\t\t},\n",
      "\t\t{\n",
      "\t\t\t\"title\":\"<b>가로수길 브런치<\\/b> 와인 맛집 #플레이버스바이바프 #HBAF\",\n",
      "\t\t\t\"link\":\"https:\\/\\/blog.naver.com\\/lol_awesome?Redirect=Log&logNo=222816129227\",\n",
      "\t\t\t\"description\":\"<b>가로수길 브런치<\\/b> 와인 맛집 #플레이버스바이바프 #HBAF #가로수길맛집 주말엔 가족이랑 뭐먹지가 늘 고민이라 약속이 있는걸 오히려 좋아하는데 이번주엔 시댁 식구와 급 브런치 약속을 하고 가까운 가로수길에... \",\n",
      "\t\t\t\"bloggername\":\"카레몽\",\n",
      "\t\t\t\"bloggerlink\":\"https:\\/\\/blog.naver.com\\/lol_awesome\",\n",
      "\t\t\t\"postdate\":\"20220717\"\n",
      "\t\t},\n",
      "\t\t{\n",
      "\t\t\t\"title\":\"<b>가로수길 브런치<\\/b> 프랑스가정식 궁금하다면, 봉쥬르테이블\",\n",
      "\t\t\t\"link\":\"https:\\/\\/blog.naver.com\\/didthadl?Redirect=Log&logNo=222658613301\",\n",
      "\t\t\t\"description\":\"분위기, 예쁜 인테리어로 분위기 좋은 프랑스 가정식을 드셔보시는 것은 어떨까요? 저도 다음에 또 와서 다른 종류의 키슈를 더 먹어 볼 예정이에요. #가로수길샐러드 #<b>가로수길브런치<\\/b> #봉쥬르테이블 #신사동데이트\",\n",
      "\t\t\t\"bloggername\":\"멍멍이네 일상\",\n",
      "\t\t\t\"bloggerlink\":\"https:\\/\\/blog.naver.com\\/didthadl\",\n",
      "\t\t\t\"postdate\":\"20220227\"\n",
      "\t\t},\n",
      "\t\t{\n",
      "\t\t\t\"title\":\"[창원\\/<b>가로수길<\\/b>] 투핸즈 <b>브런치<\\/b> 맛집 (ft. 3번 방문해서... \",\n",
      "\t\t\t\"link\":\"https:\\/\\/blog.naver.com\\/eggran2?Redirect=Log&logNo=222855100436\",\n",
      "\t\t\t\"description\":\"창원 <b>가로수길<\\/b>에 <b>브런치<\\/b> 하는곳이 꽤 있는데 투핸즈 오기전에 다른데서 먹고 맛대갈희 없어서.. 나의 <b>브런치<\\/b>는 소듕한데.. 나와서 <b>브런치<\\/b> 먹는데 내가 집에서 만든것 보다 맛없으면 안데자나효?? 그래서... \",\n",
      "\t\t\t\"bloggername\":\"Fiesta ❤️\",\n",
      "\t\t\t\"bloggerlink\":\"https:\\/\\/blog.naver.com\\/eggran2\",\n",
      "\t\t\t\"postdate\":\"20220822\"\n",
      "\t\t}\n",
      "\t]\n",
      "}\n"
     ]
    }
   ],
   "source": [
    "request = urllib.request.Request(url)\n",
    "request.add_header(\"X-Naver-Client-Id\", client_id)\n",
    "request.add_header(\"X-Naver-Client-Secret\", cliend_secret)\n",
    "response = urllib.request.urlopen(request)\n",
    "rescode = response.getcode()\n",
    "\n",
    "if(rescode == 200):\n",
    "    response_body = response.read()\n",
    "    print(response_body.decode('utf-8'))\n",
    "else:\n",
    "    print(\"ERROR CODE : \"+rescode)"
   ]
  },
  {
   "cell_type": "code",
   "execution_count": 8,
   "id": "82ca24dd",
   "metadata": {},
   "outputs": [],
   "source": [
    "import json \n",
    "import pprint"
   ]
  },
  {
   "cell_type": "code",
   "execution_count": 12,
   "id": "c1dd9452",
   "metadata": {},
   "outputs": [],
   "source": [
    "import requests"
   ]
  },
  {
   "cell_type": "code",
   "execution_count": 13,
   "id": "b05bcf55",
   "metadata": {},
   "outputs": [],
   "source": [
    "url = \"https://openapi.naver.com/v1/search/blog?query=\" + encText\n",
    "response = requests.get(url)"
   ]
  },
  {
   "cell_type": "code",
   "execution_count": 14,
   "id": "0d7b2948",
   "metadata": {},
   "outputs": [],
   "source": [
    "contents = response.text"
   ]
  },
  {
   "cell_type": "code",
   "execution_count": 15,
   "id": "754af966",
   "metadata": {},
   "outputs": [
    {
     "name": "stdout",
     "output_type": "stream",
     "text": [
      "{\"errorMessage\":\"Not Exist Client ID : Authentication failed. (인증에 실패했습니다.)\",\"errorCode\":\"024\"}\n"
     ]
    }
   ],
   "source": [
    "print(contents)"
   ]
  },
  {
   "cell_type": "code",
   "execution_count": null,
   "id": "dd17b1c7",
   "metadata": {},
   "outputs": [],
   "source": []
  }
 ],
 "metadata": {
  "kernelspec": {
   "display_name": "Python 3 (ipykernel)",
   "language": "python",
   "name": "python3"
  },
  "language_info": {
   "codemirror_mode": {
    "name": "ipython",
    "version": 3
   },
   "file_extension": ".py",
   "mimetype": "text/x-python",
   "name": "python",
   "nbconvert_exporter": "python",
   "pygments_lexer": "ipython3",
   "version": "3.9.12"
  }
 },
 "nbformat": 4,
 "nbformat_minor": 5
}
